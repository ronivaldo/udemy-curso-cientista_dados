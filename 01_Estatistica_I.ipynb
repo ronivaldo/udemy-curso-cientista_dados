{
  "nbformat": 4,
  "nbformat_minor": 0,
  "metadata": {
    "colab": {
      "name": "01-Estatistica_I.ipynb",
      "version": "0.3.2",
      "provenance": [],
      "collapsed_sections": []
    },
    "kernelspec": {
      "name": "python3",
      "display_name": "Python 3"
    },
    "accelerator": "GPU"
  },
  "cells": [
    {
      "metadata": {
        "id": "5jbE72IK6smG",
        "colab_type": "text"
      },
      "cell_type": "markdown",
      "source": [
        "Curso Formação Cientista de Dados\n",
        "===\n",
        "\n",
        "# O Curso\n",
        "\n",
        "Curso de Data Science você vai conhecer e aprender a aplicar todos os principais conceitos e técnicas para se qualificar e atuar como um Cientista de Dados.\n",
        "\n",
        "Link do Curso:\n",
        "https://www.udemy.com/cientista-de-dados/learn/lecture/11820720#overview\n",
        "\n",
        "# 01. Estatística\n",
        "\n",
        "Tipos:\n",
        "- Descritiva\n",
        "- Probabilidae\n",
        "- Inferência\n",
        "\n",
        "\n",
        "## Observação e Experimento\n",
        "\n",
        "Observação: elementos não são afetados (pequisa)\n",
        "\n",
        "Experimento: Condições para avaliar o resultado\n",
        "\n",
        "## Variáveis\n",
        "\n",
        "Quantitivas: numéricas:\n",
        "- Contínuas\n",
        "- Discretas\n",
        "\n",
        "Qualitativas: categóricas\n",
        "- Nominais\n",
        "- Ordinais\n",
        "\n",
        "\n",
        "## Amostra\n",
        "\n",
        "Parte de uma população, selecionada usando alguma tecnica que de changes iguais a todos os elementos da população de serem selecionados\n",
        "\n",
        "\n",
        "Conceitos\n",
        "- População: alvo do estudo\n",
        "- Amostra: subjconjunto da população\n",
        "  - caro ou impossível inferir sobre toda a população\n",
        "- Censo: pesquisa com toda a população\n",
        "\n",
        "\n",
        "### É possível inferir sobre uma amostra\n",
        "\n",
        "Correta:\n",
        "- Representa a mesmas características da população\n",
        "\n",
        "Enviesada\n",
        "- Não representa a população\n",
        "\n",
        "### Custo da Amostra\n",
        "\n",
        "Margem de erro e nível de confiança \n",
        "\n",
        "Variação: amostras diferentes podem apresentar resultados dieferentes \n",
        "\n",
        "Podemos medir a variação esperada\n",
        "\n",
        "## 01.1 Amostra\n",
        "\n",
        "Separação da amostra para teste/treino/validação\n",
        "\n",
        "Experimentos diferentes\n",
        "\n",
        "### Tipos de Amostra\n",
        "\n",
        "Aleatória Simples\n",
        "- determinado número de elementos é retirado de forma aleatória\n",
        "- mesmas chances para todos os elementos\n",
        "\n",
        "Com Reposição:\n",
        "- Após selecionado, o elemento pode voltar à população\n",
        "- Teste anti-doping\n",
        "\n",
        "Sem resposição:\n",
        "- Após reposição, não volta\n",
        "- Pesquisa de opinião\n",
        "\n",
        "### Amostra Estretificada\n",
        "\n",
        "População dvididas nos chamados estratos:\n",
        "- número representativo de cada grupo na população\n",
        "\n",
        "### Amostra Sistemática\n",
        "\n",
        "Escolhe um número aleatório, a cada N elementos um novo será selecionado\n",
        "- Não se sabe o número total da população\n",
        "\n",
        "### Amostragem por Unidade Monetária\n",
        "\n",
        "Duas colunas, uma de ordenação e outra numérica. Os registros são selecionados para a amostra toda vez que o valor for atingido.\n",
        "\n",
        "Clientes e débitos\n"
      ]
    },
    {
      "metadata": {
        "id": "1ttiPKsPMAvA",
        "colab_type": "text"
      },
      "cell_type": "markdown",
      "source": [
        "## Dados\n",
        "\n",
        "Dados localizados na pasta:\n",
        "`D:\\_SIA_\\estudo\\udemy\\cientista-de-dados\\02-estatistica-01`\n",
        "\n",
        "\n",
        "Arquivos para upload:\n",
        "- 08.Dados.zip\n",
        "- Disponível também através do link https://github.com/ronivaldo/udemy-curso-cientista_dados/raw/master/data/08.Dados.zip\n",
        "\n",
        "Conteúdo do arquivo:\n",
        "- infert.csv\n",
        "- iris.csv\n",
        "\n"
      ]
    },
    {
      "metadata": {
        "id": "kYvsofCDNfYg",
        "colab_type": "code",
        "outputId": "059a60ad-0186-4098-cd23-2b90e7aa0af1",
        "colab": {
          "base_uri": "https://localhost:8080/",
          "height": 289
        }
      },
      "cell_type": "code",
      "source": [
        "import os  \n",
        "\n",
        "# verifica se upload ja foi realizado\n",
        "if not os.path.isfile('./Dados.zip'):\n",
        "  # obtem o arquivo do Drive\n",
        "  !wget https://github.com/ronivaldo/udemy-curso-cientista_dados/raw/master/data/08.Dados.zip\n",
        "\n",
        "# verifica se upload ja foi realizado\n",
        "if not os.path.isfile('./infert.csv'):\n",
        "  # descompacta o arquivo Dados.zip\n",
        "  !unzip 08.Dados.zip"
      ],
      "execution_count": 0,
      "outputs": [
        {
          "output_type": "stream",
          "text": [
            "--2019-04-02 17:27:24--  https://github.com/ronivaldo/udemy-curso-cientista_dados/raw/master/data/08.Dados.zip\n",
            "Resolving github.com (github.com)... 192.30.253.112, 192.30.253.113\n",
            "Connecting to github.com (github.com)|192.30.253.112|:443... connected.\n",
            "HTTP request sent, awaiting response... 302 Found\n",
            "Location: https://raw.githubusercontent.com/ronivaldo/udemy-curso-cientista_dados/master/data/08.Dados.zip [following]\n",
            "--2019-04-02 17:27:24--  https://raw.githubusercontent.com/ronivaldo/udemy-curso-cientista_dados/master/data/08.Dados.zip\n",
            "Resolving raw.githubusercontent.com (raw.githubusercontent.com)... 151.101.0.133, 151.101.64.133, 151.101.128.133, ...\n",
            "Connecting to raw.githubusercontent.com (raw.githubusercontent.com)|151.101.0.133|:443... connected.\n",
            "HTTP request sent, awaiting response... 200 OK\n",
            "Length: 3150 (3.1K) [application/zip]\n",
            "Saving to: ‘08.Dados.zip.1’\n",
            "\n",
            "\r08.Dados.zip.1        0%[                    ]       0  --.-KB/s               \r08.Dados.zip.1      100%[===================>]   3.08K  --.-KB/s    in 0s      \n",
            "\n",
            "2019-04-02 17:27:24 (53.9 MB/s) - ‘08.Dados.zip.1’ saved [3150/3150]\n",
            "\n"
          ],
          "name": "stdout"
        }
      ]
    },
    {
      "metadata": {
        "id": "vStCxphO_Q_o",
        "colab_type": "code",
        "outputId": "c599ef5d-00d4-4ea1-c2a2-3eb769b2d176",
        "colab": {
          "base_uri": "https://localhost:8080/",
          "height": 51
        }
      },
      "cell_type": "code",
      "source": [
        "import numpy as np\n",
        "print('Numpy version: {}'.format(np.__version__))\n",
        "import pandas as pd\n",
        "print('Pandas version: {}'.format(pd.__version__))\n",
        "\n",
        "# import do csv com dados\n",
        "base = pd.read_csv('iris.csv')"
      ],
      "execution_count": 0,
      "outputs": [
        {
          "output_type": "stream",
          "text": [
            "Numpy version: 1.15.1\n",
            "Pandas version: 0.22.0\n"
          ],
          "name": "stdout"
        }
      ]
    },
    {
      "metadata": {
        "id": "W5ciYAs4ItPf",
        "colab_type": "code",
        "outputId": "05e32702-833a-4f4a-deed-53c4fc43cfdf",
        "colab": {
          "base_uri": "https://localhost:8080/",
          "height": 204
        }
      },
      "cell_type": "code",
      "source": [
        "# shape do dataframe\n",
        "base.shape\n",
        "\n",
        "# exibe o head\n",
        "base.head()"
      ],
      "execution_count": 0,
      "outputs": [
        {
          "output_type": "execute_result",
          "data": {
            "text/html": [
              "<div>\n",
              "<style scoped>\n",
              "    .dataframe tbody tr th:only-of-type {\n",
              "        vertical-align: middle;\n",
              "    }\n",
              "\n",
              "    .dataframe tbody tr th {\n",
              "        vertical-align: top;\n",
              "    }\n",
              "\n",
              "    .dataframe thead th {\n",
              "        text-align: right;\n",
              "    }\n",
              "</style>\n",
              "<table border=\"1\" class=\"dataframe\">\n",
              "  <thead>\n",
              "    <tr style=\"text-align: right;\">\n",
              "      <th></th>\n",
              "      <th>sepal length</th>\n",
              "      <th>sepal width</th>\n",
              "      <th>petal length</th>\n",
              "      <th>petal width</th>\n",
              "      <th>class</th>\n",
              "    </tr>\n",
              "  </thead>\n",
              "  <tbody>\n",
              "    <tr>\n",
              "      <th>0</th>\n",
              "      <td>5.1</td>\n",
              "      <td>3.5</td>\n",
              "      <td>1.4</td>\n",
              "      <td>0.2</td>\n",
              "      <td>Iris-setosa</td>\n",
              "    </tr>\n",
              "    <tr>\n",
              "      <th>1</th>\n",
              "      <td>4.9</td>\n",
              "      <td>3.0</td>\n",
              "      <td>1.4</td>\n",
              "      <td>0.2</td>\n",
              "      <td>Iris-setosa</td>\n",
              "    </tr>\n",
              "    <tr>\n",
              "      <th>2</th>\n",
              "      <td>4.7</td>\n",
              "      <td>3.2</td>\n",
              "      <td>1.3</td>\n",
              "      <td>0.2</td>\n",
              "      <td>Iris-setosa</td>\n",
              "    </tr>\n",
              "    <tr>\n",
              "      <th>3</th>\n",
              "      <td>4.6</td>\n",
              "      <td>3.1</td>\n",
              "      <td>1.5</td>\n",
              "      <td>0.2</td>\n",
              "      <td>Iris-setosa</td>\n",
              "    </tr>\n",
              "    <tr>\n",
              "      <th>4</th>\n",
              "      <td>5.0</td>\n",
              "      <td>3.6</td>\n",
              "      <td>1.4</td>\n",
              "      <td>0.2</td>\n",
              "      <td>Iris-setosa</td>\n",
              "    </tr>\n",
              "  </tbody>\n",
              "</table>\n",
              "</div>"
            ],
            "text/plain": [
              "   sepal length  sepal width  petal length  petal width        class\n",
              "0           5.1          3.5           1.4          0.2  Iris-setosa\n",
              "1           4.9          3.0           1.4          0.2  Iris-setosa\n",
              "2           4.7          3.2           1.3          0.2  Iris-setosa\n",
              "3           4.6          3.1           1.5          0.2  Iris-setosa\n",
              "4           5.0          3.6           1.4          0.2  Iris-setosa"
            ]
          },
          "metadata": {
            "tags": []
          },
          "execution_count": 3
        }
      ]
    },
    {
      "metadata": {
        "id": "iLD_9uEsbpjC",
        "colab_type": "text"
      },
      "cell_type": "markdown",
      "source": [
        "# Python: Amostragem Parte I"
      ]
    },
    {
      "metadata": {
        "id": "KvlDE5ciJCs4",
        "colab_type": "code",
        "outputId": "76f152ff-2718-4b8a-a6d9-fa8c865ba975",
        "colab": {
          "base_uri": "https://localhost:8080/",
          "height": 68
        }
      },
      "cell_type": "code",
      "source": [
        "\n",
        "# 16. Python: Amostragem Parte I\n",
        "\n",
        "# seed para o gerador de numeros aleatorios,\n",
        "# sempre a execucao dara o mesmo resultado\n",
        "np.random.seed(2345)\n",
        "\n",
        "# separar amostras\n",
        "amostra = np.random.choice(a=[0,1], size=150, replace=True, p=[0.5,0.5])\n",
        "\n",
        "amostra_length = len(amostra)\n",
        "amostra_one = len(amostra[amostra==1])\n",
        "amostra_zero = len(amostra[amostra==0])\n",
        "\n",
        "print('Amostra length: {}'.format(amostra_length))\n",
        "print('Amostra ones: {}'.format(amostra_one))\n",
        "print('Amostra zeros: {}'.format(amostra_zero))\n"
      ],
      "execution_count": 0,
      "outputs": [
        {
          "output_type": "stream",
          "text": [
            "Amostra length: 150\n",
            "Amostra ones: 80\n",
            "Amostra zeros: 70\n"
          ],
          "name": "stdout"
        }
      ]
    },
    {
      "metadata": {
        "id": "vdvnUTNUbl3o",
        "colab_type": "text"
      },
      "cell_type": "markdown",
      "source": [
        "# Python: Amostragem Parte II"
      ]
    },
    {
      "metadata": {
        "id": "O7gv_QjiN8MK",
        "colab_type": "code",
        "outputId": "5864d0ae-e4ce-40c2-995b-c6eae23927bd",
        "colab": {
          "base_uri": "https://localhost:8080/",
          "height": 204
        }
      },
      "cell_type": "code",
      "source": [
        "# 17. Python: Amostragem Parte II\n",
        "\n",
        "import pandas as pd\n",
        "from sklearn.model_selection import train_test_split\n",
        "\n",
        "iris = pd.read_csv('iris.csv')\n",
        "\n",
        "# exibe o head\n",
        "iris.head()"
      ],
      "execution_count": 0,
      "outputs": [
        {
          "output_type": "execute_result",
          "data": {
            "text/html": [
              "<div>\n",
              "<style scoped>\n",
              "    .dataframe tbody tr th:only-of-type {\n",
              "        vertical-align: middle;\n",
              "    }\n",
              "\n",
              "    .dataframe tbody tr th {\n",
              "        vertical-align: top;\n",
              "    }\n",
              "\n",
              "    .dataframe thead th {\n",
              "        text-align: right;\n",
              "    }\n",
              "</style>\n",
              "<table border=\"1\" class=\"dataframe\">\n",
              "  <thead>\n",
              "    <tr style=\"text-align: right;\">\n",
              "      <th></th>\n",
              "      <th>sepal length</th>\n",
              "      <th>sepal width</th>\n",
              "      <th>petal length</th>\n",
              "      <th>petal width</th>\n",
              "      <th>class</th>\n",
              "    </tr>\n",
              "  </thead>\n",
              "  <tbody>\n",
              "    <tr>\n",
              "      <th>0</th>\n",
              "      <td>5.1</td>\n",
              "      <td>3.5</td>\n",
              "      <td>1.4</td>\n",
              "      <td>0.2</td>\n",
              "      <td>Iris-setosa</td>\n",
              "    </tr>\n",
              "    <tr>\n",
              "      <th>1</th>\n",
              "      <td>4.9</td>\n",
              "      <td>3.0</td>\n",
              "      <td>1.4</td>\n",
              "      <td>0.2</td>\n",
              "      <td>Iris-setosa</td>\n",
              "    </tr>\n",
              "    <tr>\n",
              "      <th>2</th>\n",
              "      <td>4.7</td>\n",
              "      <td>3.2</td>\n",
              "      <td>1.3</td>\n",
              "      <td>0.2</td>\n",
              "      <td>Iris-setosa</td>\n",
              "    </tr>\n",
              "    <tr>\n",
              "      <th>3</th>\n",
              "      <td>4.6</td>\n",
              "      <td>3.1</td>\n",
              "      <td>1.5</td>\n",
              "      <td>0.2</td>\n",
              "      <td>Iris-setosa</td>\n",
              "    </tr>\n",
              "    <tr>\n",
              "      <th>4</th>\n",
              "      <td>5.0</td>\n",
              "      <td>3.6</td>\n",
              "      <td>1.4</td>\n",
              "      <td>0.2</td>\n",
              "      <td>Iris-setosa</td>\n",
              "    </tr>\n",
              "  </tbody>\n",
              "</table>\n",
              "</div>"
            ],
            "text/plain": [
              "   sepal length  sepal width  petal length  petal width        class\n",
              "0           5.1          3.5           1.4          0.2  Iris-setosa\n",
              "1           4.9          3.0           1.4          0.2  Iris-setosa\n",
              "2           4.7          3.2           1.3          0.2  Iris-setosa\n",
              "3           4.6          3.1           1.5          0.2  Iris-setosa\n",
              "4           5.0          3.6           1.4          0.2  Iris-setosa"
            ]
          },
          "metadata": {
            "tags": []
          },
          "execution_count": 5
        }
      ]
    },
    {
      "metadata": {
        "id": "APLQYuXrUD4S",
        "colab_type": "code",
        "outputId": "5e347af4-0b03-4b6a-cbf5-0a30aa6f1179",
        "colab": {
          "base_uri": "https://localhost:8080/",
          "height": 85
        }
      },
      "cell_type": "code",
      "source": [
        "# conta as classes\n",
        "iris['class'].value_counts()"
      ],
      "execution_count": 0,
      "outputs": [
        {
          "output_type": "execute_result",
          "data": {
            "text/plain": [
              "Iris-setosa        50\n",
              "Iris-versicolor    50\n",
              "Iris-virginica     50\n",
              "Name: class, dtype: int64"
            ]
          },
          "metadata": {
            "tags": []
          },
          "execution_count": 6
        }
      ]
    },
    {
      "metadata": {
        "id": "LKWc8SpzUSwa",
        "colab_type": "code",
        "outputId": "1757e091-f62f-47a9-d74c-3650000606f9",
        "colab": {
          "base_uri": "https://localhost:8080/",
          "height": 102
        }
      },
      "cell_type": "code",
      "source": [
        "# split por estratificação\n",
        "# dados: iris.iloc[:,0:4]\n",
        "# atributo que queremos usar para fazer a divisão: iris.iloc[:,4]\n",
        "# proporcao dos dados usados para o teste: test_size = test_size\n",
        "# labels para a estatificacao: stratify = iris.iloc[:,4]) \n",
        "x, _, y, _ = train_test_split(iris.iloc[:,0:4], \n",
        "                     iris.iloc[:,4],\n",
        "                     test_size = 0.5,\n",
        "                     stratify = iris.iloc[:,4]) \n",
        "\n",
        "print('Quantidade de dados para o teste Iris:\\n{}'.format(y.value_counts()))\n",
        "\n",
        "\n",
        "# show help\n",
        "# ?train_test_split"
      ],
      "execution_count": 0,
      "outputs": [
        {
          "output_type": "stream",
          "text": [
            "Quantidade de dados para o teste Iris:\n",
            "Iris-versicolor    25\n",
            "Iris-setosa        25\n",
            "Iris-virginica     25\n",
            "Name: class, dtype: int64\n"
          ],
          "name": "stdout"
        }
      ]
    },
    {
      "metadata": {
        "id": "ep7w7P2xbgyD",
        "colab_type": "code",
        "colab": {}
      },
      "cell_type": "code",
      "source": [
        "infert = pd.read_csv('infert.csv')\n",
        "infert_value_counts = infert['education'].value_counts()"
      ],
      "execution_count": 0,
      "outputs": []
    },
    {
      "metadata": {
        "id": "fSTheaKYPUSf",
        "colab_type": "code",
        "outputId": "f360d443-8ca9-473a-996c-0e9099e97c63",
        "colab": {
          "base_uri": "https://localhost:8080/",
          "height": 85
        }
      },
      "cell_type": "code",
      "source": [
        "total_infert = len(infert)\n",
        "print('total de infert={}'.format(total_infert))\n",
        "\n",
        "\n",
        "infert_value_counts\n",
        "\n",
        "education_classes = infert['education'].unique()\n",
        "\n",
        "for i in education_classes:\n",
        "  print('{}={}, {:.2f}%'.format(i, infert_value_counts[i], infert_value_counts[i]/total_infert*100))\n"
      ],
      "execution_count": 0,
      "outputs": [
        {
          "output_type": "stream",
          "text": [
            "total de infert=248\n",
            "0-5yrs=12, 4.84%\n",
            "6-11yrs=120, 48.39%\n",
            "12+ yrs=116, 46.77%\n"
          ],
          "name": "stdout"
        }
      ]
    },
    {
      "metadata": {
        "id": "1S8buypnSOwd",
        "colab_type": "code",
        "outputId": "981ad2bc-aae6-46a5-e642-83aba5664846",
        "colab": {
          "base_uri": "https://localhost:8080/",
          "height": 85
        }
      },
      "cell_type": "code",
      "source": [
        "# divisao da base de dados\n",
        "x1, _, y1, _ = train_test_split(infert.iloc[:, 2:9], infert.iloc[:, 1],\n",
        "                               test_size = 0.6, stratify = infert.iloc[:, 1])\n",
        "\n",
        "\n",
        "y1.value_counts()"
      ],
      "execution_count": 0,
      "outputs": [
        {
          "output_type": "execute_result",
          "data": {
            "text/plain": [
              "6-11yrs    48\n",
              "12+ yrs    46\n",
              "0-5yrs      5\n",
              "Name: education, dtype: int64"
            ]
          },
          "metadata": {
            "tags": []
          },
          "execution_count": 10
        }
      ]
    },
    {
      "metadata": {
        "id": "qqBDLcbvbwSJ",
        "colab_type": "text"
      },
      "cell_type": "markdown",
      "source": [
        "# Python: Amostragem Parte III"
      ]
    },
    {
      "metadata": {
        "id": "8NDxulmoWJBF",
        "colab_type": "code",
        "outputId": "a904b3e2-3273-48b0-c260-52967acd29e6",
        "colab": {
          "base_uri": "https://localhost:8080/",
          "height": 34
        }
      },
      "cell_type": "code",
      "source": [
        "# 18. Python: Amostragem Parte III\n",
        "# Obter Amostra utilizando a técnica da Amostragem Sistemática\n",
        "\n",
        "from math import ceil\n",
        "\n",
        "populacao = 150\n",
        "amostra = 15\n",
        "\n",
        "k = ceil(populacao / amostra)\n",
        "\n",
        "r = np.random.randint(low = 1, high = k + 1, size=1)\n",
        "\n",
        "print('r={}'.format(r))\n",
        "\n",
        "acumulador = r[0]\n",
        "sorteados = []\n",
        "for i in range(amostra):\n",
        "  sorteados.append(acumulador)\n",
        "  acumulador += k\n",
        "  \n",
        "\n",
        "  "
      ],
      "execution_count": 0,
      "outputs": [
        {
          "output_type": "stream",
          "text": [
            "r=[1]\n"
          ],
          "name": "stdout"
        }
      ]
    },
    {
      "metadata": {
        "id": "UvOfFrJogf0n",
        "colab_type": "code",
        "outputId": "e795f85f-0411-4abb-aa23-f8100ede36a9",
        "colab": {
          "base_uri": "https://localhost:8080/",
          "height": 323
        }
      },
      "cell_type": "code",
      "source": [
        "print('acumulador={}'.format(acumulador))\n",
        "print('sorteados={}'.format(sorteados))\n",
        "\n",
        "base = pd.read_csv('iris.csv')\n",
        "base_final = base.loc[sorteados]\n",
        "print('acumulador={}'.format(base_final))\n"
      ],
      "execution_count": 0,
      "outputs": [
        {
          "output_type": "stream",
          "text": [
            "acumulador=151\n",
            "sorteados=[1, 11, 21, 31, 41, 51, 61, 71, 81, 91, 101, 111, 121, 131, 141]\n",
            "acumulador=     sepal length  sepal width  petal length  petal width            class\n",
            "1             4.9          3.0           1.4          0.2      Iris-setosa\n",
            "11            4.8          3.4           1.6          0.2      Iris-setosa\n",
            "21            5.1          3.7           1.5          0.4      Iris-setosa\n",
            "31            5.4          3.4           1.5          0.4      Iris-setosa\n",
            "41            4.5          2.3           1.3          0.3      Iris-setosa\n",
            "51            6.4          3.2           4.5          1.5  Iris-versicolor\n",
            "61            5.9          3.0           4.2          1.5  Iris-versicolor\n",
            "71            6.1          2.8           4.0          1.3  Iris-versicolor\n",
            "81            5.5          2.4           3.7          1.0  Iris-versicolor\n",
            "91            6.1          3.0           4.6          1.4  Iris-versicolor\n",
            "101           5.8          2.7           5.1          1.9   Iris-virginica\n",
            "111           6.4          2.7           5.3          1.9   Iris-virginica\n",
            "121           5.6          2.8           4.9          2.0   Iris-virginica\n",
            "131           7.9          3.8           6.4          2.0   Iris-virginica\n",
            "141           6.9          3.1           5.1          2.3   Iris-virginica\n"
          ],
          "name": "stdout"
        }
      ]
    },
    {
      "metadata": {
        "id": "eemOOihV1X_b",
        "colab_type": "text"
      },
      "cell_type": "markdown",
      "source": [
        "# Média - Medida de Centralidade e Variabilidade\n",
        "\n",
        "\n",
        "## Centralidade\n",
        "\n",
        "Centralidade:\n",
        "- Média\n",
        "- Moda\n",
        "- Mediana\n",
        "\n",
        "\n",
        "### Média\n",
        "\n",
        "Média é a soma de todos os valores e dividido por o número da polulçação\n",
        "\n",
        "u = Sum x / N\n",
        "\n",
        "### Moda\n",
        "\n",
        "Moda é o valor mais frequênte\n",
        "\n",
        "### Mediana\n",
        "\n",
        "Mediana é o valor do meio. \n",
        "\n",
        "Ordena-se os valores em ordem crescente.\n",
        "1.  se a quantidade for par, a mediana será a média dos valores nas posições n/2 e n/2+1.\n",
        "2. se a quantidade for impar, a mediana será o valor na posição (n+1)/2\n",
        "\n",
        "\n",
        "### Media vs Mediana\n",
        "\n",
        "Dados = 10,20,30,40,10000\n",
        "\n",
        "Média: 2020\n",
        "\n",
        "Mediana: 30\n",
        "\n",
        "\n",
        "## Variabilidade\n",
        "\n",
        "Mostra a distância entre os dados.\n",
        "\n",
        "\n",
        "Variabilidade:\n",
        "- Variância\n",
        "- Desvio Padrão\n",
        "- Amplitude\n",
        "- Não Centrais: Quartis\n",
        "\n",
        "### Variância\n",
        "\n",
        "Mostra a regularidade de um conjunto de dados em relação a média.\n",
        "\n",
        "Formas diferentes:\n",
        "- População\n",
        "- Amostra\n",
        "\n",
        "### Desvio Padrão\n",
        "\n",
        "A que distância os dados estão da média.\n",
        "\n",
        "Raiz quadrada da variância.\n",
        "\n",
        "\n",
        "### Amplitude\n",
        "\n",
        "Amplitude é a diferença do maior e do menor valor dos dados.\n",
        "\n",
        "### Quartis\n",
        "\n",
        "5, 6, 7, 8, 100\n",
        "\n",
        "Quartis consegue detectar onde está a maior variação dos dados.\n",
        "\n",
        "Quartis:\n",
        "- Q1: 25% dos menores valores\n",
        "- Q2: 50% igual a mediana\n",
        "- Q3: 75% dos menores valores\n",
        " \n",
        "## Resumo\n",
        " \n",
        "Dados = 40,18,12,250,30,140,300,40,800\n",
        " \n",
        "Média: 181.111\n",
        "\n",
        "Q1: 30\n",
        " \n",
        "Q2: 40\n",
        " \n",
        "Q3: 250\n",
        " \n",
        "Desvio Padrão: 253.3079\n",
        " \n",
        " \n",
        "## Amostra <> População\n",
        " \n",
        " \n",
        " \n",
        "|Estatística|Amostra|População|\n",
        "|--|--|--|\n",
        "|Média|X|u|\n",
        "|Desvio Padrão|S|sig|\n",
        "\n",
        " "
      ]
    },
    {
      "metadata": {
        "id": "5vXNGwrp7A2M",
        "colab_type": "text"
      },
      "cell_type": "markdown",
      "source": [
        "##Fix Numpy Error\n",
        "\n",
        "# Erro\n",
        "\n",
        "`module 'numpy' has no attribute 'quantile'`\n",
        "\n",
        "\n",
        "You must execute:\n",
        "```bash\n",
        "!pip install numpy==1.15.1\n",
        "```"
      ]
    },
    {
      "metadata": {
        "id": "FSPTR4mw7tgS",
        "colab_type": "code",
        "outputId": "f496b988-9d6e-4637-9907-7a456da6ebdb",
        "colab": {
          "base_uri": "https://localhost:8080/",
          "height": 34
        }
      },
      "cell_type": "code",
      "source": [
        "# install numpy 1.15.1\n",
        "# get rid of the error AttributeError: module 'numpy' has no attribute 'quantile'\n",
        "!pip install numpy==1.15.1"
      ],
      "execution_count": 0,
      "outputs": [
        {
          "output_type": "stream",
          "text": [
            "Requirement already satisfied: numpy==1.15.1 in /usr/local/lib/python3.6/dist-packages (1.15.1)\n"
          ],
          "name": "stdout"
        }
      ]
    },
    {
      "metadata": {
        "id": "WR-cpQ7wbbzw",
        "colab_type": "text"
      },
      "cell_type": "markdown",
      "source": [
        "# Python: Centralidade e Variabilidade"
      ]
    },
    {
      "metadata": {
        "id": "4pffHuB76V1C",
        "colab_type": "code",
        "outputId": "cc7db312-c3d4-40ea-9fbc-6d4c56ef11dc",
        "colab": {
          "base_uri": "https://localhost:8080/",
          "height": 85
        }
      },
      "cell_type": "code",
      "source": [
        "# 22. Centralidade e Variabilidade\n",
        "\n",
        "import numpy as np\n",
        "from scipy import stats\n",
        "\n",
        "jogadores = [40000, 18000, 12000, 250000,\n",
        "             30000, 140000, 300000, 40000, 800000]\n",
        "\n",
        "\n",
        "media = np.mean(jogadores)\n",
        "mediana = np.median(jogadores)\n",
        "quartis = np.quantile(jogadores, [0, 0.25, 0.5, 0.75, 1])\n",
        "desvio_padrao = np.std(jogadores, ddof=1)\n",
        "\n",
        "print('media={}'.format(media))\n",
        "print('mediana={}'.format(mediana))\n",
        "print('quartis={}'.format(quartis))\n",
        "print('desvio padrao={}'.format(desvio_padrao))"
      ],
      "execution_count": 0,
      "outputs": [
        {
          "output_type": "stream",
          "text": [
            "media=181111.11111111112\n",
            "mediana=40000.0\n",
            "quartis=[ 12000.  30000.  40000. 250000. 800000.]\n",
            "desvio padrao=255307.87514511007\n"
          ],
          "name": "stdout"
        }
      ]
    },
    {
      "metadata": {
        "id": "qRmzd0BP_aml",
        "colab_type": "code",
        "outputId": "f127b132-7616-4dea-c5a4-a82c9c1bbb4a",
        "colab": {
          "base_uri": "https://localhost:8080/",
          "height": 54
        }
      },
      "cell_type": "code",
      "source": [
        "# describe statistics about jogadores\n",
        "stats.describe(jogadores)"
      ],
      "execution_count": 0,
      "outputs": [
        {
          "output_type": "execute_result",
          "data": {
            "text/plain": [
              "DescribeResult(nobs=9, minmax=(12000, 800000), mean=181111.11111111112, variance=65182111111.11111, skewness=1.758635899846188, kurtosis=1.9572075427527729)"
            ]
          },
          "metadata": {
            "tags": []
          },
          "execution_count": 15
        }
      ]
    },
    {
      "metadata": {
        "id": "bO_MQSBjABrf",
        "colab_type": "text"
      },
      "cell_type": "markdown",
      "source": [
        "## Estatisticas a seu favor\n",
        "\n",
        "Calcular a média e mediana. A média é mais afetada por *outliers*. \n",
        "\n",
        "Na sua empresa de compra e venda de carros a partir de valor de mercado, você pode usar a mediana para comprar os carros e vender com base no valor da média. Isso, no caso da mediana < média."
      ]
    },
    {
      "metadata": {
        "id": "Px2oLUkLA_sV",
        "colab_type": "text"
      },
      "cell_type": "markdown",
      "source": [
        "# Probabilidade I\n",
        "\n",
        "A probabilidade é um valor real entre 0 e 1, pode ser multiplicado por 100 para obter o valor em percentual.\n",
        "\n",
        "**P = 1** evento certo\n",
        "\n",
        "**P = 0** evento impossível\n",
        "\n",
        "## Conceitos\n",
        "\n",
        "**Experimento**: o que está sendo estudado\n",
        "\n",
        "**Estado Amostral**: todas as possibilidades de ocorrência do evento\n",
        "\n",
        "**Evento**: resultados ocorridos\n",
        "\n",
        "Exemplo:\n",
        "- Experimento: jogar moeda\n",
        "- Espaço amostral: cara ou coroa\n",
        "- Evento: coroa\n",
        "\n",
        "**Eventos Excludentes**: quando não podem ocorrer ao mesmo tempo\n",
        "\n",
        "Exemplo: jogar um dado e ser 1 e par\n",
        "\n",
        "**Eventos não excludentes**: quando podem ocorrer ao mesmo tempo\n",
        "\n",
        "Exemplo: jogar um dado e ser 2 e par\n",
        "\n",
        "**Eventos Dependentes**: A ocorrência de um evento afeta o outro. Um tem que ocorrer para depois que o outro ocorra\n",
        "\n",
        "**Eventos Independentes**: A ocorrência de um evento não afeta o outro.\n",
        "\n",
        "\n",
        "## Fórmula\n",
        "\n",
        "**P = Ocorrência esperada / Número de Eventos Possíveis**\n",
        "\n",
        "Exemplo: jogar uma moeda e dar cara: P = 1/2, P = 0,5 ou 50%\n",
        "\n",
        "Exemplo: jogar um dado e dar 6: P = 1/6, P = 0,16 ou 16%\n",
        "\n",
        "Exemplo: jogar um dado e dar 1 ou 6: P = 2/6, P = 0.33 = 33%\n",
        "\n",
        "Exemplo: jogar um dado e dar impar ou maior que 4 (1,3,5,6); P = 4/6 = 66%"
      ]
    },
    {
      "metadata": {
        "id": "ZXP6hWyvD29Y",
        "colab_type": "text"
      },
      "cell_type": "markdown",
      "source": [
        "# Probabilidade II\n",
        "\n",
        "## Eventos Excludentes\n",
        "\n",
        "Somar as probabilidades dos eventos.\n",
        "\n",
        "Exemplo: jogar um dado e ser 1 ou par: 1/6 + 3/6 = 4/6 =- 66%\n",
        "\n",
        "## Eventos Não Excludentes\n",
        "\n",
        "Somar as probabilidades dos eventos, diminuindo-se as sobreposições.\n",
        "\n",
        "Exemplo: jogar um dado e ser 2 ou par: 1/6 + 3/6 - 1/6 = 3/6 = 50%\n",
        "\n",
        "\n",
        "## Eventos Independentes\n",
        "\n",
        "Mais de um evento: Multiplicação.\n",
        "\n",
        "Qual a probabilidade de jogar dois dados, e dar 1 e 6 (dois eventos independentes): 1/6 * 1/6 = 1/36 = 0.027 = 2,7%\n",
        "\n",
        "## Evento Dependentes\n",
        "\n",
        "Multiplicação da probabilidade de cada evento.\n",
        "\n",
        "Com 6 cartas na mão, (A, 2 3, 4, 5, 6), qual a probabilidade de primeiro evento tirar A e no segundo evento tirar 4? 1/6 * 1/5 = 0,033 =3,3%\n",
        "\n",
        "## Probabilidade a longo prazo\n",
        "\n",
        "JOgando um dado justo 6 vezes, qual a média esperada?\n",
        "1+2+3+4+5+6/6 = 3,5\n",
        "\n",
        "A probabilidade é com base no longo prazo"
      ]
    },
    {
      "metadata": {
        "id": "FJdUXpGHM376",
        "colab_type": "text"
      },
      "cell_type": "markdown",
      "source": [
        "# Distriuição\n",
        "\n",
        "Usada prinipalmente na teoria da probabilidade\n",
        "\n",
        "Comportamento de dados aleatórios.\n",
        "\n",
        "Maior frequência dos dados ao redor da média.\n",
        "\n",
        "Caracterísiticas de um determinado grupo de dados, por exemplo:\n",
        "68% dos dados estão a +/- 1 Desvio Padrão da Média\n",
        "30% dos dados estão a +/- 2 Desvio Padrão da Média\n",
        "\n",
        "Estes dados com estas caracterísiticas têm x, y e z propriedades que você pode usar para fazer previsões.\n",
        "\n"
      ]
    },
    {
      "metadata": {
        "id": "c3O4cGarOYnK",
        "colab_type": "text"
      },
      "cell_type": "markdown",
      "source": [
        "# Distribuição Binomial I\n",
        "\n",
        "Distribuição de Probabilidade Discreta\n",
        "\n",
        "Permite avaliar a probabilidade de ocorrência de eventos desde que alguns pre requisitos sejam atendidos:\n",
        "- Número Fixo de Experimentos\n",
        "- Cada experimento pode ter 2 resultados esperados: **sucesso** ou **fracasso**\n",
        "- A probabilidade de sucesso deve ser a mesma em cada experimento\n",
        "- Os experimentos sao independentes\n",
        "\n",
        "Exemplo: Se eu jogar uma moeda 5 vezes. Qual a probabilidade de dar cara 3 vezes?\n",
        "- jogar moeda 5 vezes\n",
        "- cara ou coroa\n",
        "- P(cara) = P(coroa)\n",
        "- Eventos independentes\n",
        "\n",
        "Exemplo: Um cesto tem 10 frutas que pensam entre 3 e 5 quilos. Qual a probabilidade de eu retirar das frutas, uma de 54 quilos e outra de 3 quilos?\n",
        "- 1 experimento\n",
        "- duas frutas com 4 e 3 quilos apenas? nao!\n",
        "- P (4 quilos) != P(4 quillos)? Nao!\n",
        "- eventos dependentes? Nao!\n",
        "\n",
        "## Convenções\n",
        "\n",
        "X = total de sucesso esperado do experimento\n",
        "p = probabilidade de sucesso\n",
        "n = número de experimentos\n",
        "1-p = probabilidades de fracasso\n",
        "\n",
        "\\begin{equation*}\n",
        "f(x)   = {n \\choose x} p^x (1-p)^{ n-x}\n",
        "\\end{equation*}\n",
        "\n"
      ]
    },
    {
      "metadata": {
        "id": "NVBZutC2TmlY",
        "colab_type": "text"
      },
      "cell_type": "markdown",
      "source": [
        "# Distribuição Binomial II\n",
        "\n",
        "Exemplo de resolução.\n",
        "\n",
        "Exemplo: Se eu jogar uma moeda 5 vezes. Qual a probabilidade de dar cara 3 vezes?\n",
        "- jogar moeda 5 vezes\n",
        "- cara ou coroa\n",
        "- P(cara) = P(coroa)\n",
        "- Eventos independentes\n",
        "\n",
        "x = 3\n",
        "p = 0.5\n",
        "n= 5\n",
        "\n",
        "\\begin{equation*}\n",
        "f(3)   = {5 \\choose 3} p^3 (1-p)^{ 5-3}\n",
        "\\end{equation*}\n",
        "\n",
        "\\begin{equation*}\n",
        "{5 \\choose 3} = \\frac{5!}{3!(5-3)!}=\\frac{120}{12}=10\n",
        "\\end{equation*}\n",
        "\n",
        "\\begin{equation*}\n",
        "f(3)   = 10 \\cdot (0.125) \\cdot (1-0.5)^{ 5-3}\n",
        "\\end{equation*}\n",
        "\n",
        "\\begin{equation*}\n",
        "f(3)   = 0.3125\n",
        "\\end{equation*}\n",
        "\n",
        "\n",
        "Exemplo:Se eu passar 4 sinais de quatro tempos cada. Qual a probabilidade de eu pegar 0,12,3 e 4 sinais verdes?\n",
        "x = 0, 1, 2, 3, 4\n",
        "p =0.25 (sinais de 4 tempos, 1/4 para cada tempo)\n",
        "n = 4 (4 sinais)\n",
        "\n",
        "Todos os semáforos tem a mesma probabilidade.\n",
        "\n",
        "Resp:\n",
        "- Nenhum sinal vermelho: 31%\n",
        "- 1 sinal vermelho: 42%\n",
        "- 2 sinal vermelho: 21%\n",
        "- 3 sinal vermelho: 4.6%\n",
        "- 4 sinal vermelho: 0.39%\n",
        "\n",
        "Soma = 1 (testamos todas as possibilidades)\n",
        "\n",
        "Exemplo: Se você fizer a prova de um concurso com 12 questões, chutando todas as questões, qual a probabilidade de acertar 7 questões? (4 alternativas cada questão)\n",
        "\n",
        "X = 7 acertos\n",
        "p = 0.25\n",
        "n = 12\n",
        "\n",
        "R =0.01147127\n",
        "\n",
        "É possível recorrer a uma **Tabela de Distribuição Binomial** para identificar o resultado.\n",
        "\n",
        "![alt text](https://github.com/ronivaldo/udemy-curso-cientista_dados/raw/master/resources/tabela_distribuicao.png \"Tabela de Distruibição Binomial\")\n",
        "\n",
        "A probabilidade de ter 7 acertos é a mesma de ter 5 fracassos (cada fracasso a probabilidade é 0.75)\n",
        "\n",
        "Exemplo: Qual a probabilidade de passar em dois sinais de dois tempos e os dois estarem verdes?\n",
        "\n",
        "Fazendo manualmente = 1/2 * 1/2 = 0.25\n",
        "\n",
        "Executando a distribuição binomial no R `dbinomial(2,2,0.5)` = 0.25\n"
      ]
    },
    {
      "metadata": {
        "id": "Bunu16oIbXL1",
        "colab_type": "text"
      },
      "cell_type": "markdown",
      "source": [
        "# Python: Distribuição Binomial"
      ]
    },
    {
      "metadata": {
        "id": "c0XVwWybfulQ",
        "colab_type": "code",
        "outputId": "5528263a-a529-42ab-9948-0da78d11eced",
        "colab": {
          "base_uri": "https://localhost:8080/",
          "height": 445
        }
      },
      "cell_type": "code",
      "source": [
        "# 30. Python: Distribuição Binomial\n",
        "# distribuição binomial utilizando o python\n",
        "from scipy.stats import binom\n",
        "\n",
        "quest = \"\"\"\n",
        "Exemplo: Se eu jogar uma moeda 5 vezes. Qual a probabilidade de dar cara 3 vezes?\n",
        "\"\"\"\n",
        "x = 3\n",
        "p = 0.5\n",
        "n = 5\n",
        "prob = binom.pmf(x, n, p)\n",
        "\n",
        "print(quest)\n",
        "print('A probabilidade eh {}'.format(prob))\n",
        "\n",
        "quest = \"\"\"\n",
        "Exemplo:Se eu passar 4 sinais de quatro tempos cada. Qual a probabilidade de eu pegar 0,1,2,3 e 4 sinais verdes?\n",
        "\"\"\"\n",
        "x = [0, 1, 2, 3, 4]\n",
        "p = 0.25 #(sinais de 4 tempos, 1/4 para cada tempo)\n",
        "n = 4 #(4 sinais)\n",
        "\n",
        "print(quest)\n",
        "for x1 in x:\n",
        "  prob = binom.pmf(x1, n, p)\n",
        "  print('A probabilidade x ={} eh {}'.format(x1, prob))\n",
        "\n",
        "quest = \"\"\"\n",
        "Exemplo: Qual a probabilidade acumulativa de eu passar 4 sinais de quatro tempos cada e pegar 0,1,2,3 ou 4 sinais verdes?\n",
        "\"\"\"\n",
        "x = 4\n",
        "p = 0.25\n",
        "n = 4\n",
        "prob = binom.cdf(x, n, p)\n",
        "print(quest)\n",
        "print('A probabilidade eh {}'.format(prob))\n",
        "\n",
        "  \n",
        "quest = \"\"\"\n",
        "Exemplo: Qual a probabilidade de passar em dois sinais de dois tempos e os dois estarem verdes?\n",
        "\"\"\"\n",
        "x = 2\n",
        "p = 0.5\n",
        "n = 2\n",
        "prob = binom.pmf(x, n, p)\n",
        "\n",
        "print(quest)\n",
        "print('A probabilidade eh {}'.format(prob))\n",
        "  \n",
        "quest = \"\"\"\n",
        "Exemplo: Se você fizer a prova de um concurso com 12 questões, chutando todas as questões, qual a probabilidade de acertar 7 questões? (4 alternativas cada questão)\n",
        "\"\"\"\n",
        "x = 7 # acertos\n",
        "p = 0.25\n",
        "n = 12\n",
        "prob = binom.pmf(x, n, p)\n",
        "\n",
        "print(quest)\n",
        "print('A probabilidade eh {}'.format(prob))\n",
        "\n"
      ],
      "execution_count": 0,
      "outputs": [
        {
          "output_type": "stream",
          "text": [
            "\n",
            "Exemplo: Se eu jogar uma moeda 5 vezes. Qual a probabilidade de dar cara 3 vezes?\n",
            "\n",
            "A probabilidade eh 0.3125\n",
            "\n",
            "Exemplo:Se eu passar 4 sinais de quatro tempos cada. Qual a probabilidade de eu pegar 0,1,2,3 e 4 sinais verdes?\n",
            "\n",
            "A probabilidade x =0 eh 0.31640625000000006\n",
            "A probabilidade x =1 eh 0.4218750000000001\n",
            "A probabilidade x =2 eh 0.21093750000000006\n",
            "A probabilidade x =3 eh 0.046875000000000035\n",
            "A probabilidade x =4 eh 0.003906250000000001\n",
            "\n",
            "Exemplo: Qual a probabilidade acumulativa de eu passar 4 sinais de quatro tempos cada e pegar 0,1,2,3 ou 4 sinais verdes?\n",
            "\n",
            "A probabilidade eh 1.0\n",
            "\n",
            "Exemplo: Qual a probabilidade de passar em dois sinais de dois tempos e os dois estarem verdes?\n",
            "\n",
            "A probabilidade eh 0.25\n",
            "\n",
            "Exemplo: Se você fizer a prova de um concurso com 12 questões, chutando todas as questões, qual a probabilidade de acertar 7 questões? (4 alternativas cada questão)\n",
            "\n",
            "A probabilidade eh 0.011471271514892573\n"
          ],
          "name": "stdout"
        }
      ]
    },
    {
      "metadata": {
        "id": "qjPMAiWYk21B",
        "colab_type": "text"
      },
      "cell_type": "markdown",
      "source": [
        "# Distribuição Normal I\n",
        "\n",
        "Distribuição em que a média se encontra ao centro. Relativamente mesma quantidade de dados acima e abaixo à media.\n",
        "\n",
        "A maioria dos dados, 68%, está a 1 desvio padrão da média, com simetria entre os dados que estão antes e depois da média.\n",
        "\n",
        "Cerca de 27% dos dados está a 2 desvios padrão.\n",
        "\n",
        "4.2% até 3 desvios padrão e apenas 0.2% a 3 desvios padrão da média.\n",
        "\n",
        "![alt text](https://github.com/ronivaldo/udemy-curso-cientista_dados/raw/master/resources/distribuicao_normal.jpg \"Distribuição Normal\")\n",
        "\n",
        "## Teorema Central do Limite\n",
        "\n",
        "Conforme o tamanho da amostra aumenta, a distruibuição das médias amostrais se aproxima cada vez amis da distribuição normal.\n",
        "\n",
        "Independente de como os dados estão distribuídos, suas médias estarão normalmente distribuídas.\n",
        "\n",
        "\n",
        "## Distribuição Normal Padrão (Z)\n",
        "\n",
        "Mostra o número de desvios padrões que o valor está acima ou abaixo da média (score z ou valor z)\n",
        "\n",
        "Média Zero\n",
        "\n",
        "Desvio Padrão 1\n",
        "\n",
        "Usa-se a fórmula para calcular a probabilidade de seus dados com relação à tabela Z\n",
        "\n",
        "Z = (X - u) / sig\n",
        "\n",
        "Utilizado para realizar um de-para da sua distribuição para a distribuição normal padrão com o objetivo de simplificar os cálculos. Então, você padroniza seus dados para distribuição normal padrão e poderá a mesma tabela Z para o cálculo das probabilidades.\n",
        "\n",
        "## Probabilidade Cumulativa\n",
        "\n",
        "O cálculo da probabilidade vai se acumulando da esquerda para a direita.\n"
      ]
    },
    {
      "metadata": {
        "id": "of93zIf9KsBp",
        "colab_type": "text"
      },
      "cell_type": "markdown",
      "source": [
        "# Distribuição Normal II e III\n",
        "\n",
        "Exemplos de cálculo com distribuição normal.\n",
        "\n",
        "![alt text](https://github.com/ronivaldo/udemy-curso-cientista_dados/raw/master/resources/exemplo_distribuicao_normal.jpg \"Exemplo de Distribuição Normal\")\n",
        "\n",
        "Existe um conjunto de objetos em uma cesta, cujos pesos são normalemte distribuídos com média = 8 e desvio padrão igual a 2.\n",
        "\n",
        "1. Qual a chance de se tirar um objeto pesando menos de 6 quilos?\n",
        "\n",
        "x = 6\n",
        "sig = desvio padrao\n",
        "\n",
        "z = (6-8)/2\n",
        "z = -1\n",
        "\n",
        "Olhando a tabela, P = 0.1587 = 15.87%\n",
        "\n",
        "2. Qual a chance de se tirar um objeto pesando mais de 8 quilos?\n",
        "\n",
        "x >= 8\n",
        "\n",
        "média = 8\n",
        "\n",
        "P = 0.5\n",
        "\n",
        "2. Qual a chance de se tirar um objeto que tenha mais de 10 quilos?\n",
        "\n",
        "x > 10\n",
        "\n",
        "para x = 10, z = (10-8)/2 = 1, P = 0.8413\n",
        "\n",
        "P(x>10) = 1 - 0,1587 = 0.1587\n",
        "\n",
        "\n",
        "3. Qual a chance de se tirar um objeto que tenha menos de 10 quilos e mais de 8 quilos?\n",
        "\n",
        "P(x=8) = 0.5 (média)\n",
        "P(x<10) = 1 - P(x>10) = 1 - 0,1587 = 0.8413\n",
        "P = P(x<10) - P(x=8) = 0.8413 - 0.5 = 0.3413\n",
        "\n",
        "4. Qual a chance de se tirar um objeto que tenha menos de 6 quilos ou mais de 10 quilos?\n",
        "\n",
        "P = P(x<6) + P(x>10) = P(x=6) + P(x>10) = 0.1587 + 0.1587 = 0.3173\n",
        "\n",
        "ou\n",
        "\n",
        "P(x<6) = P(x>10)\n",
        "\n",
        "P = 2 * P(x<6) = 2 * 0.1587 = 0.3173\n",
        "\n",
        "5. Qual a chance de se tirar um objeto que tenha menos de 4.3 quilos?\n",
        "\n",
        "z = -1,85 = \n",
        "P = 0.0322\n",
        "\n",
        "\n"
      ]
    },
    {
      "metadata": {
        "id": "YToGDuYZTgY2",
        "colab_type": "text"
      },
      "cell_type": "markdown",
      "source": [
        "# Distribuição Normal - IV\n",
        "\n",
        "Verificando a Normalidade de uma distribuição.\n",
        "\n",
        "Eventualmente será necessário verificar se os dados ou varáveis estão normalmente distribuídos, não só para análises de probabilidade, mas também para testes estatísticos que exigem distribuição normal.\n",
        "\n",
        "## Histograma\n",
        "\n",
        "A forma mais simples e rápida é um gráfico Histograma.\n",
        "\n",
        "\n",
        "Os dados podem não estar normalmente distribuídos:\n",
        "\n",
        "\n",
        "![alt text](https://github.com/ronivaldo/udemy-curso-cientista_dados/raw/master/resources/outras_distribuicoes.jpg \"Outras Distribuições\")\n",
        "\n",
        "## Diagrama de Probabilidade Normal\n",
        "\n",
        "Outra forma de verificar se os dados estão normalmente distribuídos é gerar um gráfico de Probabilidade Normal.\n",
        "\n",
        "## Teste de Shapiro-Wilk\n",
        "\n",
        "Outra forma de verificar se os dados estão normalmente distribuídos é através do teste de Shapiro-Wilk.\n",
        "\n",
        "Hipótese Nula - Dados estão normalmente distribuídos\n",
        "Hipóstese Alternativa - Não estão\n",
        "\n",
        "Alfa = 0.05\n",
        "valor de p <= 0.05: rejeita\n",
        "valor de p> 0.05: não é possível rejeitar\n",
        "\n",
        "p-value=0.001722  (p <= 0.05) - \"não normal\"\n",
        "\n",
        "p-value=0.05969  (p > 0.05) - \"normal\"\n",
        "\n",
        "\n",
        "## Rigor ?\n",
        "\n",
        "Nem sempre os dados precisam ser rigorosamente normais. Dados aproximadamente normais são suficientes para a maioria dos casos.\n",
        "\n",
        "\n"
      ]
    },
    {
      "metadata": {
        "id": "JaGyaOnBbR8i",
        "colab_type": "text"
      },
      "cell_type": "markdown",
      "source": [
        "# Python: Distribuição Normal Parte I"
      ]
    },
    {
      "metadata": {
        "id": "L389STJcW3CO",
        "colab_type": "code",
        "outputId": "7fcc7799-4e7b-4374-8880-5389697b82f2",
        "colab": {
          "base_uri": "https://localhost:8080/",
          "height": 408
        }
      },
      "cell_type": "code",
      "source": [
        "# 37. Python: Distribuição Normal Parte I\n",
        "from scipy.stats import norm\n",
        "\n",
        "quest = \"\"\"\n",
        "Existe um conjunto de objetos em uma cesta, cujos pesos são normalemte distribuídos com média = 8 e desvio padrão igual a 2.\n",
        "\"\"\"\n",
        "\n",
        "print(quest)\n",
        "\n",
        "quest = \"\"\"\n",
        "1. Qual a chance de se tirar um objeto pesando menos de 6 quilos?\n",
        "\"\"\"\n",
        "print(quest)\n",
        "\n",
        "x = 6\n",
        "m = 8\n",
        "desvio = 2\n",
        "\n",
        "# calculo da P menor que\n",
        "p = norm.cdf(x, m, desvio)\n",
        "print('Probabilidade eh {}'.format(p))\n",
        "\n",
        "\n",
        "quest = \"\"\"\n",
        "2. Qual a chance de se tirar um objeto pesando mais pesado que 8 quilos?\n",
        "\"\"\"\n",
        "print(quest)\n",
        "\n",
        "x = 8\n",
        "\n",
        "# calculo da P maior que\n",
        "p = norm.sf(x, m, desvio)\n",
        "print('Probabilidade eh {}'.format(p))\n",
        "\n",
        "\n",
        "quest = \"\"\"\n",
        "3. Qual a chance de se tirar um objeto que tenha menos de 10 quilos e mais de 8 quilos?\n",
        "\"\"\"\n",
        "print(quest)\n",
        "\n",
        "x = 10\n",
        "p_less_10 = norm.cdf(x, m, desvio)\n",
        "\n",
        "x = 8\n",
        "p_more_8 = norm.sf(x, m, desvio)\n",
        "\n",
        "p = p_less_10 - p_more_8\n",
        "print('Probabilidade eh {}'.format(p))\n",
        "\n",
        "\n",
        "quest = \"\"\"\n",
        "4. Qual a chance de se tirar um objeto que tenha menos de 6 quilos ou mais de 10 quilos?\n",
        "\"\"\"\n",
        "print(quest)\n",
        "\n",
        "x = 6\n",
        "p_less_6 = norm.cdf(x, m, desvio)\n",
        "\n",
        "x = 10\n",
        "p_more_10 = norm.sf(x, m, desvio)\n",
        "\n",
        "p = p_less_6 + p_more_10\n",
        "print('Probabilidade eh {}'.format(p))\n",
        "\n",
        "\n",
        "\n",
        "quest = \"\"\"\n",
        "5. Qual a chance de se tirar um objeto que tenha menos de 4.3 quilos?\n",
        "\"\"\"\n",
        "print(quest)\n",
        "\n",
        "x = 4.3\n",
        "\n",
        "p = norm.cdf(x, m, desvio)\n",
        "print('Probabilidade eh {}'.format(p))"
      ],
      "execution_count": 0,
      "outputs": [
        {
          "output_type": "stream",
          "text": [
            "\n",
            "Existe um conjunto de objetos em uma cesta, cujos pesos são normalemte distribuídos com média = 8 e desvio padrão igual a 2.\n",
            "\n",
            "\n",
            "1. Qual a chance de se tirar um objeto pesando menos de 6 quilos?\n",
            "\n",
            "Probabilidade eh 0.15865525393145707\n",
            "\n",
            "2. Qual a chance de se tirar um objeto pesando mais pesado que 8 quilos?\n",
            "\n",
            "Probabilidade eh 0.5\n",
            "\n",
            "3. Qual a chance de se tirar um objeto que tenha menos de 10 quilos e mais de 8 quilos?\n",
            "\n",
            "Probabilidade eh 0.3413447460685429\n",
            "\n",
            "4. Qual a chance de se tirar um objeto que tenha menos de 6 quilos ou mais de 10 quilos?\n",
            "\n",
            "Probabilidade eh 0.31731050786291415\n",
            "\n",
            "5. Qual a chance de se tirar um objeto que tenha menos de 4.3 quilos?\n",
            "\n",
            "Probabilidade eh 0.03215677479561371\n"
          ],
          "name": "stdout"
        }
      ]
    },
    {
      "metadata": {
        "id": "aB7wgP6WcP9v",
        "colab_type": "text"
      },
      "cell_type": "markdown",
      "source": [
        "# Python: Distribuição Normal Parte II"
      ]
    },
    {
      "metadata": {
        "id": "XK2eSVCxcSKh",
        "colab_type": "code",
        "outputId": "a86fcc87-5420-4def-8522-9507a99b6947",
        "colab": {
          "base_uri": "https://localhost:8080/",
          "height": 1178
        }
      },
      "cell_type": "code",
      "source": [
        "from scipy import stats\n",
        "from scipy.stats import norm\n",
        "import matplotlib.pyplot as plt\n",
        "\n",
        "# gera dados na distribuicao normal\n",
        "dados = norm.rvs(size=100)\n",
        "\n",
        "stats.probplot(dados, plot=plt)"
      ],
      "execution_count": 0,
      "outputs": [
        {
          "output_type": "execute_result",
          "data": {
            "text/plain": [
              "((array([-2.46203784, -2.12570747, -1.93122778, -1.79044653, -1.67819304,\n",
              "         -1.58381122, -1.50174123, -1.42869743, -1.36256869, -1.30191411,\n",
              "         -1.24570419, -1.19317644, -1.14374949, -1.09696931, -1.05247413,\n",
              "         -1.00997067, -0.96921765, -0.93001393, -0.89218993, -0.85560121,\n",
              "         -0.82012357, -0.78564937, -0.75208458, -0.71934648, -0.68736185,\n",
              "         -0.65606548, -0.62539893, -0.59530962, -0.56574992, -0.53667655,\n",
              "         -0.50804994, -0.47983378, -0.45199463, -0.42450149, -0.39732558,\n",
              "         -0.37044003, -0.34381966, -0.31744076, -0.29128096, -0.26531902,\n",
              "         -0.23953472, -0.21390872, -0.18842244, -0.16305799, -0.13779803,\n",
              "         -0.1126257 , -0.08752455, -0.06247843, -0.03747145, -0.01248789,\n",
              "          0.01248789,  0.03747145,  0.06247843,  0.08752455,  0.1126257 ,\n",
              "          0.13779803,  0.16305799,  0.18842244,  0.21390872,  0.23953472,\n",
              "          0.26531902,  0.29128096,  0.31744076,  0.34381966,  0.37044003,\n",
              "          0.39732558,  0.42450149,  0.45199463,  0.47983378,  0.50804994,\n",
              "          0.53667655,  0.56574992,  0.59530962,  0.62539893,  0.65606548,\n",
              "          0.68736185,  0.71934648,  0.75208458,  0.78564937,  0.82012357,\n",
              "          0.85560121,  0.89218993,  0.93001393,  0.96921765,  1.00997067,\n",
              "          1.05247413,  1.09696931,  1.14374949,  1.19317644,  1.24570419,\n",
              "          1.30191411,  1.36256869,  1.42869743,  1.50174123,  1.58381122,\n",
              "          1.67819304,  1.79044653,  1.93122778,  2.12570747,  2.46203784]),\n",
              "  array([-2.71989903e+00, -2.10975713e+00, -2.10606021e+00, -1.74794906e+00,\n",
              "         -1.65835551e+00, -1.61796374e+00, -1.43599248e+00, -1.25753638e+00,\n",
              "         -1.14981503e+00, -1.13148518e+00, -1.11829817e+00, -1.08590189e+00,\n",
              "         -9.85701952e-01, -9.10890141e-01, -9.03895130e-01, -8.69322476e-01,\n",
              "         -8.61514556e-01, -8.44908871e-01, -7.66244044e-01, -7.54375952e-01,\n",
              "         -7.45711032e-01, -7.11999424e-01, -7.09252346e-01, -7.06742152e-01,\n",
              "         -6.92521213e-01, -6.56817238e-01, -5.95554902e-01, -5.87710389e-01,\n",
              "         -5.74837289e-01, -5.47047729e-01, -5.46629393e-01, -5.40606934e-01,\n",
              "         -4.75499735e-01, -4.54310262e-01, -4.40850626e-01, -4.08914373e-01,\n",
              "         -4.07146163e-01, -3.98875883e-01, -3.87614700e-01, -3.73629295e-01,\n",
              "         -3.25051776e-01, -3.24083075e-01, -2.55132107e-01, -2.36984452e-01,\n",
              "         -2.06403022e-01, -2.02770204e-01, -1.65156912e-01, -1.65021003e-01,\n",
              "         -1.61625874e-01, -1.45227830e-01, -1.22281796e-01, -1.11840119e-01,\n",
              "         -9.31748026e-02, -2.73719862e-02, -2.63138565e-02, -5.60314403e-04,\n",
              "          6.64402629e-03,  2.79117065e-02,  6.03562447e-02,  1.38362827e-01,\n",
              "          1.97409228e-01,  2.15965523e-01,  2.64959912e-01,  2.77403166e-01,\n",
              "          2.87058599e-01,  3.16380430e-01,  3.55509096e-01,  3.61276046e-01,\n",
              "          3.75128032e-01,  3.78610818e-01,  3.89495058e-01,  4.75560937e-01,\n",
              "          5.04916964e-01,  5.58970835e-01,  6.06274204e-01,  6.15879089e-01,\n",
              "          6.26957302e-01,  6.40754850e-01,  6.49200015e-01,  6.92290176e-01,\n",
              "          6.97079589e-01,  7.47480553e-01,  8.42005658e-01,  8.45782341e-01,\n",
              "          8.71255625e-01,  9.49719865e-01,  9.70101743e-01,  1.03358193e+00,\n",
              "          1.06533429e+00,  1.09614744e+00,  1.31168278e+00,  1.40183017e+00,\n",
              "          1.42040501e+00,  1.45919444e+00,  1.49013030e+00,  1.51550083e+00,\n",
              "          1.82179115e+00,  1.87006162e+00,  1.99480137e+00,  2.16169461e+00])),\n",
              " (0.9460709548154853, -0.04978280750656942, 0.995966066236394))"
            ]
          },
          "metadata": {
            "tags": []
          },
          "execution_count": 34
        },
        {
          "output_type": "display_data",
          "data": {
            "image/png": "[encoded data removed]",
            "text/plain": [
              "<Figure size 576x396 with 1 Axes>"
            ]
          },
          "metadata": {
            "tags": []
          }
        }
      ]
    },
    {
      "metadata": {
        "id": "xFG8owRvdNbu",
        "colab_type": "code",
        "outputId": "f3bbf37d-95ee-4953-b096-a0379bb84564",
        "colab": {
          "base_uri": "https://localhost:8080/",
          "height": 34
        }
      },
      "cell_type": "code",
      "source": [
        "# teste de shopiro\n",
        "stats.shapiro(dados)"
      ],
      "execution_count": 0,
      "outputs": [
        {
          "output_type": "execute_result",
          "data": {
            "text/plain": [
              "(0.974463164806366, 0.048985254019498825)"
            ]
          },
          "metadata": {
            "tags": []
          },
          "execution_count": 32
        }
      ]
    },
    {
      "metadata": {
        "id": "zWpVcj8adieU",
        "colab_type": "text"
      },
      "cell_type": "markdown",
      "source": [
        "# Estatística Paramétrica\n",
        "\n",
        "Requer que os dados estejam em conformidade com alguma distribuição.\n",
        "\n",
        "Pressupõe que os dados sigam um padrão.\n",
        "\n",
        "Ex: Distribuição Normal\n",
        "\n",
        "# Estatística Não-Paramétrica\n",
        "\n",
        "Usada quando os dados não estão em conformidade com alguma distribuição.\n",
        "\n",
        "Quando não se conhece a distribuição dos dados.\n",
        "\n",
        "Existem algumas técnicas para se obter resultados semelhantes à estatística paramétrica.\n",
        "\n",
        "\n",
        "## Comparação\n",
        "\n",
        "Estatística Paramétrica oferece menos riscos:\n",
        "- Por exemplo, se os dados estão normalmente distribuídos, um teste de hipotese paramétrico tende a ser mais preciso do que um teste não paramétrico.\n",
        "\n",
        "Usar a estatística não-paramétrica em exceções, em casos onde não seja possível usar a paramétrica."
      ]
    },
    {
      "metadata": {
        "id": "lUBLQiLZHtuJ",
        "colab_type": "text"
      },
      "cell_type": "markdown",
      "source": [
        "# Intervalos de Confiança - Parte I\n",
        "\n",
        "É possível inferir características de uma população a partir de uma amostra. Por que?\n",
        "- Custo\n",
        "- Viabilidade\n",
        "\n",
        "Preço: erro padrão / nível de confiança\n",
        "\n",
        "Riscos: dados ruins, enviesamento\n",
        "\n",
        "## Variação\n",
        "\n",
        "Como estamos utilizando amostra, variações são esperadas.\n",
        "\n",
        "A primeira amostra pode variar com relação a segunda, segunda em relação à terceira, etc\n",
        "\n",
        "Devemos poder medir o quanto pode ser esta variação.\n",
        "\n",
        "## Intervalo de Confiança\n",
        "\n",
        "Usado para estimar um parâmetro da população, por exemplo a média, a proporção etc.\n",
        "\n",
        "Intervalo de Confiança: o parâmetro mais ou menos a margem de ero estimada.\n",
        "\n",
        "Parâmetro: valor a ser estimado.\n",
        "\n",
        "Margem de erro: variabilidade, para mais ou para menos.\n",
        "\n",
        "Nível de Confiança: de 80 a 99%. Por exemplo, é normalmente 95% em vários casos, quer dizer que de 100 pesquisas, 95 resultados estarão dentro da intervalo de confiança.\n",
        "\n",
        "Tamanho da amostra (n).\n",
        "\n",
        "## Nível de Confiança\n",
        "\n",
        "Percentual de confiança para a variabilidade dos dados.\n",
        "\n",
        "![alt text](https://github.com/ronivaldo/udemy-curso-cientista_dados/raw/master/resources/nivel_confianca.png \"Nível de Confiança:Z*\")\n",
        "\n",
        "Exemplo:\n",
        "\n",
        "Entre 63 e 67% dos entrevistados pretendem votar em Maria, com um nível de confiança de 95%.\n",
        "\n",
        "Parâmetro: Intenção de Voto (proporção)\n",
        "\n",
        "Nível de Confiança: 95%\n",
        "\n",
        "Intervalo de Confiança: Entre 63 e 65%\n",
        "\n",
        "Erro padrão: 1,96\n",
        "\n",
        "Entrevistados (n): 1000\n",
        "\n",
        "Margem de erro: +-2%\n",
        "\n",
        "## Compensação\n",
        "\n",
        "\\+ Nível de Confiança + Erro Padrão + Tamanho da Amostra - Erro Padrão\n",
        "\n",
        "## Tipos de Intervalo de Confiança\n",
        "\n",
        "Intervalo de Confiança para a média, por exemplo a média de pessoas que usam um determinado sistema operacional.\n",
        "\n",
        "Intervalo de Confiança para a proporção, por exemplo: parte da população que tem um determinado gosto.\n"
      ]
    },
    {
      "metadata": {
        "id": "ykxKRO0CQLcS",
        "colab_type": "text"
      },
      "cell_type": "markdown",
      "source": [
        "# Intervalo de Confiança - Parte II\n",
        "\n",
        "X +/- Z * (sig / raiz de n)\n",
        "\n",
        "## Intervalo de Confiança para a Média\n",
        "\n",
        "Estimar o salário médio de um cientista de dados.\n",
        "\n",
        "100 pesquisados (n)\n",
        "\n",
        "Intervalo de Confiança: 95%\n",
        "\n",
        "O desvio padrão é 1.100,00\n",
        "\n",
        "A média é de R$ 5.800,00\n",
        "\n",
        "O Valor de Z* = 1.96\n",
        "\n",
        "X +/- 1.96 (1100 / raiz de 100)\n",
        "X +/- 215,60\n",
        "\n",
        "**Margem de erro: +/- 215,60**\n",
        "\n",
        "O salário médio de um cientista de dados é entre 5.584,40 e 6.015,60, com um nível de confiança de 95%.\n",
        "\n",
        "### Aumentando o Intervalo de Confiança\n",
        "\n",
        "Aumentando o Intervalo de Confiança para 99% (antes era 95)\n",
        "\n",
        "Nova Margem de erro: +/- 283.8 (Aumentou a variação)\n",
        "\n",
        "É mais provável que esta pesquisa esteja dentro da realidade.\n",
        "\n",
        "### Trocas\n",
        "\n",
        "Aumentando a margem de erro, é natural que as chances da minha amostra estarem dentro do intervalo, por isso tenho um intervalo de confiança maior\n",
        "\n",
        "Da mesma forma, aumentando n, reduz a chance de efeito acso, por isso minha margem de erro reduz\n",
        "\n",
        "\n",
        "### Aumentando o n\n",
        "\n",
        "Aumentando o n para 1000 (antes era 100)\n",
        "\n",
        "Nova Margem de erro: +/- 68.18 (Diminuiu a variação)\n",
        "\n",
        "É mais provável que esta pesquisa esteja dentro da realidade.\n",
        "\n",
        "\n",
        "## Intervalo de Confiança para a Proporção\n",
        "\n",
        "p +/- z * raiz de (p * (1 - p)/n)\n",
        "\n",
        "Estimar a proporção de eleitores que pretendem votar em Maria para prefeito.\n",
        "\n",
        "1000 pesquisados (n)\n",
        "\n",
        "Intervalo de Confiança: 95%\n",
        "\n",
        "650 Responde Maria, p = 650/1000 = 0,65\n",
        "\n",
        "330 Responde João, p = 330/1000 = 0,33\n",
        "\n",
        "20 Não sabem/Nenhum, p = 20/1000 = 0,02\n",
        "\n",
        "Valor de z = 1.96\n",
        "\n",
        "p +/- 1.96 * raiz de (0,65 * (1 - 0,65)/1000)\n",
        "\n",
        "p +/- 0,03\n",
        "\n",
        "Entre 62 a 68% dos entrevistdos pretendem votar em Maria, com um nível de confiança de 95%\n",
        "\n",
        "\n"
      ]
    }
  ]
}