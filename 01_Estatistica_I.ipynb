{
  "nbformat": 4,
  "nbformat_minor": 0,
  "metadata": {
    "colab": {
      "name": "01-Estatistica_I.ipynb",
      "version": "0.3.2",
      "provenance": [],
      "collapsed_sections": []
    },
    "kernelspec": {
      "name": "python3",
      "display_name": "Python 3"
    },
    "accelerator": "GPU"
  },
  "cells": [
    {
      "metadata": {
        "id": "5jbE72IK6smG",
        "colab_type": "text"
      },
      "cell_type": "markdown",
      "source": [
        "Curso Formação Cientista de Dados\n",
        "===\n",
        "\n",
        "# O Curso\n",
        "\n",
        "Curso de Data Science você vai conhecer e aprender a aplicar todos os principais conceitos e técnicas para se qualificar e atuar como um Cientista de Dados.\n",
        "\n",
        "Link do Curso:\n",
        "https://www.udemy.com/cientista-de-dados/learn/lecture/11820720#overview\n",
        "\n",
        "# 01. Estatística\n",
        "\n",
        "Tipos:\n",
        "- Descritiva\n",
        "- Probabilidae\n",
        "- Inferência\n",
        "\n",
        "\n",
        "## Observação e Experimento\n",
        "\n",
        "Observação: elementos não são afetados (pequisa)\n",
        "\n",
        "Experimento: Condições para avaliar o resultado\n",
        "\n",
        "## Variáveis\n",
        "\n",
        "Quantitivas: numéricas:\n",
        "- Contínuas\n",
        "- Discretas\n",
        "\n",
        "Qualitativas: categóricas\n",
        "- Nominais\n",
        "- Ordinais\n",
        "\n",
        "\n",
        "## Amostra\n",
        "\n",
        "Parte de uma população, selecionada usando alguma tecnica que de changes iguais a todos os elementos da população de serem selecionados\n",
        "\n",
        "\n",
        "Conceitos\n",
        "- População: alvo do estudo\n",
        "- Amostra: subjconjunto da população\n",
        "  - caro ou impossível inferir sobre toda a população\n",
        "- Censo: pesquisa com toda a população\n",
        "\n",
        "\n",
        "### É possível inferir sobre uma amostra\n",
        "\n",
        "Correta:\n",
        "- Representa a mesmas características da população\n",
        "\n",
        "Enviesada\n",
        "- Não representa a população\n",
        "\n",
        "### Custo da Amostra\n",
        "\n",
        "Margem de erro e nível de confiança \n",
        "\n",
        "Variação: amostras diferentes podem apresentar resultados dieferentes \n",
        "\n",
        "Podemos medir a variação esperada\n",
        "\n",
        "## 01.1 Amostra\n",
        "\n",
        "Separação da amostra para teste/treino/validação\n",
        "\n",
        "Experimentos diferentes\n",
        "\n",
        "### Tipos de Amostra\n",
        "\n",
        "Aleatória Simples\n",
        "- determinado número de elementos é retirado de forma aleatória\n",
        "- mesmas chances para todos os elementos\n",
        "\n",
        "Com Reposição:\n",
        "- Após selecionado, o elemento pode voltar à população\n",
        "- Teste anti-doping\n",
        "\n",
        "Sem resposição:\n",
        "- Após reposição, não volta\n",
        "- Pesquisa de opinião\n",
        "\n",
        "### Amostra Estretificada\n",
        "\n",
        "População dvididas nos chamados estratos:\n",
        "- número representativo de cada grupo na população\n",
        "\n",
        "### Amostra Sistemática\n",
        "\n",
        "Escolhe um número aleatório, a cada N elementos um novo será selecionado\n",
        "- Não se sabe o número total da população\n",
        "\n",
        "### Amostragem por Unidade Monetária\n",
        "\n",
        "Duas colunas, uma de ordenação e outra numérica. Os registros são selecionados para a amostra toda vez que o valor for atingido.\n",
        "\n",
        "Clientes e débitos\n"
      ]
    },
    {
      "metadata": {
        "id": "1ttiPKsPMAvA",
        "colab_type": "text"
      },
      "cell_type": "markdown",
      "source": [
        "## Dados\n",
        "\n",
        "Dados localizados na pasta:\n",
        "`D:\\_SIA_\\estudo\\udemy\\cientista-de-dados\\02-estatistica-01`\n",
        "\n",
        "\n",
        "Arquivos para upload:\n",
        "- 08.Dados.zip\n",
        "- Disponível também através do link https://github.com/ronivaldo/udemy-curso-cientista_dados/raw/master/data/08.Dados.zip\n",
        "\n",
        "Conteúdo do arquivo:\n",
        "- infert.csv\n",
        "- iris.csv\n",
        "\n"
      ]
    },
    {
      "metadata": {
        "id": "kYvsofCDNfYg",
        "colab_type": "code",
        "outputId": "30dceda9-1cb3-4096-e933-3df80a06f819",
        "colab": {
          "base_uri": "https://localhost:8080/",
          "height": 340
        }
      },
      "cell_type": "code",
      "source": [
        "import os  \n",
        "\n",
        "# verifica se upload ja foi realizado\n",
        "if not os.path.isfile('./Dados.zip'):\n",
        "  # obtem o arquivo do Drive\n",
        "  !wget https://github.com/ronivaldo/udemy-curso-cientista_dados/raw/master/data/08.Dados.zip\n",
        "\n",
        "# verifica se upload ja foi realizado\n",
        "if not os.path.isfile('./infert.csv'):\n",
        "  # descompacta o arquivo Dados.zip\n",
        "  !unzip 08.Dados.zip"
      ],
      "execution_count": 1,
      "outputs": [
        {
          "output_type": "stream",
          "text": [
            "--2019-04-01 23:34:25--  https://github.com/ronivaldo/udemy-curso-cientista_dados/raw/master/data/08.Dados.zip\n",
            "Resolving github.com (github.com)... 192.30.253.113, 192.30.253.112\n",
            "Connecting to github.com (github.com)|192.30.253.113|:443... connected.\n",
            "HTTP request sent, awaiting response... 302 Found\n",
            "Location: https://raw.githubusercontent.com/ronivaldo/udemy-curso-cientista_dados/master/data/08.Dados.zip [following]\n",
            "--2019-04-01 23:34:25--  https://raw.githubusercontent.com/ronivaldo/udemy-curso-cientista_dados/master/data/08.Dados.zip\n",
            "Resolving raw.githubusercontent.com (raw.githubusercontent.com)... 151.101.0.133, 151.101.64.133, 151.101.128.133, ...\n",
            "Connecting to raw.githubusercontent.com (raw.githubusercontent.com)|151.101.0.133|:443... connected.\n",
            "HTTP request sent, awaiting response... 200 OK\n",
            "Length: 3150 (3.1K) [application/zip]\n",
            "Saving to: ‘08.Dados.zip’\n",
            "\n",
            "\r08.Dados.zip          0%[                    ]       0  --.-KB/s               \r08.Dados.zip        100%[===================>]   3.08K  --.-KB/s    in 0s      \n",
            "\n",
            "2019-04-01 23:34:25 (62.1 MB/s) - ‘08.Dados.zip’ saved [3150/3150]\n",
            "\n",
            "Archive:  08.Dados.zip\n",
            "  inflating: infert.csv              \n",
            "  inflating: iris.csv                \n"
          ],
          "name": "stdout"
        }
      ]
    },
    {
      "metadata": {
        "id": "vStCxphO_Q_o",
        "colab_type": "code",
        "outputId": "2c62ef80-6173-47c1-f6f1-2663e676698b",
        "colab": {
          "base_uri": "https://localhost:8080/",
          "height": 51
        }
      },
      "cell_type": "code",
      "source": [
        "import numpy as np\n",
        "print('Numpy version: {}'.format(np.__version__))\n",
        "import pandas as pd\n",
        "print('Pandas version: {}'.format(pd.__version__))\n",
        "\n",
        "# import do csv com dados\n",
        "base = pd.read_csv('iris.csv')"
      ],
      "execution_count": 2,
      "outputs": [
        {
          "output_type": "stream",
          "text": [
            "Numpy version: 1.14.6\n",
            "Pandas version: 0.22.0\n"
          ],
          "name": "stdout"
        }
      ]
    },
    {
      "metadata": {
        "id": "W5ciYAs4ItPf",
        "colab_type": "code",
        "outputId": "7dc98805-82a6-4ea4-a0d0-e5998ee76e5c",
        "colab": {
          "base_uri": "https://localhost:8080/",
          "height": 204
        }
      },
      "cell_type": "code",
      "source": [
        "# shape do dataframe\n",
        "base.shape\n",
        "\n",
        "# exibe o head\n",
        "base.head()"
      ],
      "execution_count": 3,
      "outputs": [
        {
          "output_type": "execute_result",
          "data": {
            "text/html": [
              "<div>\n",
              "<style scoped>\n",
              "    .dataframe tbody tr th:only-of-type {\n",
              "        vertical-align: middle;\n",
              "    }\n",
              "\n",
              "    .dataframe tbody tr th {\n",
              "        vertical-align: top;\n",
              "    }\n",
              "\n",
              "    .dataframe thead th {\n",
              "        text-align: right;\n",
              "    }\n",
              "</style>\n",
              "<table border=\"1\" class=\"dataframe\">\n",
              "  <thead>\n",
              "    <tr style=\"text-align: right;\">\n",
              "      <th></th>\n",
              "      <th>sepal length</th>\n",
              "      <th>sepal width</th>\n",
              "      <th>petal length</th>\n",
              "      <th>petal width</th>\n",
              "      <th>class</th>\n",
              "    </tr>\n",
              "  </thead>\n",
              "  <tbody>\n",
              "    <tr>\n",
              "      <th>0</th>\n",
              "      <td>5.1</td>\n",
              "      <td>3.5</td>\n",
              "      <td>1.4</td>\n",
              "      <td>0.2</td>\n",
              "      <td>Iris-setosa</td>\n",
              "    </tr>\n",
              "    <tr>\n",
              "      <th>1</th>\n",
              "      <td>4.9</td>\n",
              "      <td>3.0</td>\n",
              "      <td>1.4</td>\n",
              "      <td>0.2</td>\n",
              "      <td>Iris-setosa</td>\n",
              "    </tr>\n",
              "    <tr>\n",
              "      <th>2</th>\n",
              "      <td>4.7</td>\n",
              "      <td>3.2</td>\n",
              "      <td>1.3</td>\n",
              "      <td>0.2</td>\n",
              "      <td>Iris-setosa</td>\n",
              "    </tr>\n",
              "    <tr>\n",
              "      <th>3</th>\n",
              "      <td>4.6</td>\n",
              "      <td>3.1</td>\n",
              "      <td>1.5</td>\n",
              "      <td>0.2</td>\n",
              "      <td>Iris-setosa</td>\n",
              "    </tr>\n",
              "    <tr>\n",
              "      <th>4</th>\n",
              "      <td>5.0</td>\n",
              "      <td>3.6</td>\n",
              "      <td>1.4</td>\n",
              "      <td>0.2</td>\n",
              "      <td>Iris-setosa</td>\n",
              "    </tr>\n",
              "  </tbody>\n",
              "</table>\n",
              "</div>"
            ],
            "text/plain": [
              "   sepal length  sepal width  petal length  petal width        class\n",
              "0           5.1          3.5           1.4          0.2  Iris-setosa\n",
              "1           4.9          3.0           1.4          0.2  Iris-setosa\n",
              "2           4.7          3.2           1.3          0.2  Iris-setosa\n",
              "3           4.6          3.1           1.5          0.2  Iris-setosa\n",
              "4           5.0          3.6           1.4          0.2  Iris-setosa"
            ]
          },
          "metadata": {
            "tags": []
          },
          "execution_count": 3
        }
      ]
    },
    {
      "metadata": {
        "id": "KvlDE5ciJCs4",
        "colab_type": "code",
        "outputId": "0c0ca944-07fd-44b1-cc4c-6c22a7c2117e",
        "colab": {
          "base_uri": "https://localhost:8080/",
          "height": 68
        }
      },
      "cell_type": "code",
      "source": [
        "\n",
        "# 16. Python: Amostragem Parte I\n",
        "\n",
        "# seed para o gerador de numeros aleatorios,\n",
        "# sempre a execucao dara o mesmo resultado\n",
        "np.random.seed(2345)\n",
        "\n",
        "# separar amostras\n",
        "amostra = np.random.choice(a=[0,1], size=150, replace=True, p=[0.5,0.5])\n",
        "\n",
        "amostra_length = len(amostra)\n",
        "amostra_one = len(amostra[amostra==1])\n",
        "amostra_zero = len(amostra[amostra==0])\n",
        "\n",
        "print('Amostra length: {}'.format(amostra_length))\n",
        "print('Amostra ones: {}'.format(amostra_one))\n",
        "print('Amostra zeros: {}'.format(amostra_zero))\n"
      ],
      "execution_count": 4,
      "outputs": [
        {
          "output_type": "stream",
          "text": [
            "Amostra length: 150\n",
            "Amostra ones: 80\n",
            "Amostra zeros: 70\n"
          ],
          "name": "stdout"
        }
      ]
    },
    {
      "metadata": {
        "id": "zRWRT_YhN6ry",
        "colab_type": "code",
        "colab": {}
      },
      "cell_type": "code",
      "source": [
        ""
      ],
      "execution_count": 0,
      "outputs": []
    },
    {
      "metadata": {
        "id": "dtrxei2d7NAn",
        "colab_type": "code",
        "colab": {}
      },
      "cell_type": "code",
      "source": [
        ""
      ],
      "execution_count": 0,
      "outputs": []
    },
    {
      "metadata": {
        "id": "O7gv_QjiN8MK",
        "colab_type": "code",
        "outputId": "4a5f3cf7-69a3-4929-a025-7ad1f61d415c",
        "colab": {
          "base_uri": "https://localhost:8080/",
          "height": 204
        }
      },
      "cell_type": "code",
      "source": [
        "# 17. Python: Amostragem Parte II\n",
        "\n",
        "import pandas as pd\n",
        "from sklearn.model_selection import train_test_split\n",
        "\n",
        "iris = pd.read_csv('iris.csv')\n",
        "\n",
        "# exibe o head\n",
        "iris.head()"
      ],
      "execution_count": 5,
      "outputs": [
        {
          "output_type": "execute_result",
          "data": {
            "text/html": [
              "<div>\n",
              "<style scoped>\n",
              "    .dataframe tbody tr th:only-of-type {\n",
              "        vertical-align: middle;\n",
              "    }\n",
              "\n",
              "    .dataframe tbody tr th {\n",
              "        vertical-align: top;\n",
              "    }\n",
              "\n",
              "    .dataframe thead th {\n",
              "        text-align: right;\n",
              "    }\n",
              "</style>\n",
              "<table border=\"1\" class=\"dataframe\">\n",
              "  <thead>\n",
              "    <tr style=\"text-align: right;\">\n",
              "      <th></th>\n",
              "      <th>sepal length</th>\n",
              "      <th>sepal width</th>\n",
              "      <th>petal length</th>\n",
              "      <th>petal width</th>\n",
              "      <th>class</th>\n",
              "    </tr>\n",
              "  </thead>\n",
              "  <tbody>\n",
              "    <tr>\n",
              "      <th>0</th>\n",
              "      <td>5.1</td>\n",
              "      <td>3.5</td>\n",
              "      <td>1.4</td>\n",
              "      <td>0.2</td>\n",
              "      <td>Iris-setosa</td>\n",
              "    </tr>\n",
              "    <tr>\n",
              "      <th>1</th>\n",
              "      <td>4.9</td>\n",
              "      <td>3.0</td>\n",
              "      <td>1.4</td>\n",
              "      <td>0.2</td>\n",
              "      <td>Iris-setosa</td>\n",
              "    </tr>\n",
              "    <tr>\n",
              "      <th>2</th>\n",
              "      <td>4.7</td>\n",
              "      <td>3.2</td>\n",
              "      <td>1.3</td>\n",
              "      <td>0.2</td>\n",
              "      <td>Iris-setosa</td>\n",
              "    </tr>\n",
              "    <tr>\n",
              "      <th>3</th>\n",
              "      <td>4.6</td>\n",
              "      <td>3.1</td>\n",
              "      <td>1.5</td>\n",
              "      <td>0.2</td>\n",
              "      <td>Iris-setosa</td>\n",
              "    </tr>\n",
              "    <tr>\n",
              "      <th>4</th>\n",
              "      <td>5.0</td>\n",
              "      <td>3.6</td>\n",
              "      <td>1.4</td>\n",
              "      <td>0.2</td>\n",
              "      <td>Iris-setosa</td>\n",
              "    </tr>\n",
              "  </tbody>\n",
              "</table>\n",
              "</div>"
            ],
            "text/plain": [
              "   sepal length  sepal width  petal length  petal width        class\n",
              "0           5.1          3.5           1.4          0.2  Iris-setosa\n",
              "1           4.9          3.0           1.4          0.2  Iris-setosa\n",
              "2           4.7          3.2           1.3          0.2  Iris-setosa\n",
              "3           4.6          3.1           1.5          0.2  Iris-setosa\n",
              "4           5.0          3.6           1.4          0.2  Iris-setosa"
            ]
          },
          "metadata": {
            "tags": []
          },
          "execution_count": 5
        }
      ]
    },
    {
      "metadata": {
        "id": "APLQYuXrUD4S",
        "colab_type": "code",
        "outputId": "5da5b4b8-a397-4a3b-9aac-8aa09e098782",
        "colab": {
          "base_uri": "https://localhost:8080/",
          "height": 85
        }
      },
      "cell_type": "code",
      "source": [
        "# conta as classes\n",
        "iris['class'].value_counts()"
      ],
      "execution_count": 6,
      "outputs": [
        {
          "output_type": "execute_result",
          "data": {
            "text/plain": [
              "Iris-versicolor    50\n",
              "Iris-setosa        50\n",
              "Iris-virginica     50\n",
              "Name: class, dtype: int64"
            ]
          },
          "metadata": {
            "tags": []
          },
          "execution_count": 6
        }
      ]
    },
    {
      "metadata": {
        "id": "LKWc8SpzUSwa",
        "colab_type": "code",
        "outputId": "088b10a3-2e77-46bf-9427-8c0febff0958",
        "colab": {
          "base_uri": "https://localhost:8080/",
          "height": 102
        }
      },
      "cell_type": "code",
      "source": [
        "# split por estratificação\n",
        "# dados: iris.iloc[:,0:4]\n",
        "# atributo que queremos usar para fazer a divisão: iris.iloc[:,4]\n",
        "# proporcao dos dados usados para o teste: test_size = test_size\n",
        "# labels para a estatificacao: stratify = iris.iloc[:,4]) \n",
        "x, _, y, _ = train_test_split(iris.iloc[:,0:4], \n",
        "                     iris.iloc[:,4],\n",
        "                     test_size = 0.5,\n",
        "                     stratify = iris.iloc[:,4]) \n",
        "\n",
        "print('Quantidade de dados para o teste Iris:\\n{}'.format(y.value_counts()))\n",
        "\n",
        "\n",
        "# show help\n",
        "# ?train_test_split"
      ],
      "execution_count": 7,
      "outputs": [
        {
          "output_type": "stream",
          "text": [
            "Quantidade de dados para o teste Iris:\n",
            "Iris-versicolor    25\n",
            "Iris-virginica     25\n",
            "Iris-setosa        25\n",
            "Name: class, dtype: int64\n"
          ],
          "name": "stdout"
        }
      ]
    },
    {
      "metadata": {
        "id": "ep7w7P2xbgyD",
        "colab_type": "code",
        "colab": {}
      },
      "cell_type": "code",
      "source": [
        "infert = pd.read_csv('infert.csv')\n",
        "infert_value_counts = infert['education'].value_counts()"
      ],
      "execution_count": 0,
      "outputs": []
    },
    {
      "metadata": {
        "id": "fSTheaKYPUSf",
        "colab_type": "code",
        "outputId": "e853a86b-8d79-4a11-82e7-74ae4599fb4e",
        "colab": {
          "base_uri": "https://localhost:8080/",
          "height": 85
        }
      },
      "cell_type": "code",
      "source": [
        "total_infert = len(infert)\n",
        "print('total de infert={}'.format(total_infert))\n",
        "\n",
        "\n",
        "infert_value_counts\n",
        "\n",
        "education_classes = infert['education'].unique()\n",
        "\n",
        "for i in education_classes:\n",
        "  print('{}={}, {:.2f}%'.format(i, infert_value_counts[i], infert_value_counts[i]/total_infert*100))\n"
      ],
      "execution_count": 9,
      "outputs": [
        {
          "output_type": "stream",
          "text": [
            "total de infert=248\n",
            "0-5yrs=12, 4.84%\n",
            "6-11yrs=120, 48.39%\n",
            "12+ yrs=116, 46.77%\n"
          ],
          "name": "stdout"
        }
      ]
    },
    {
      "metadata": {
        "id": "1S8buypnSOwd",
        "colab_type": "code",
        "outputId": "abe8d568-35c4-4296-8906-553548d5d4a8",
        "colab": {
          "base_uri": "https://localhost:8080/",
          "height": 85
        }
      },
      "cell_type": "code",
      "source": [
        "# divisao da base de dados\n",
        "x1, _, y1, _ = train_test_split(infert.iloc[:, 2:9], infert.iloc[:, 1],\n",
        "                               test_size = 0.6, stratify = infert.iloc[:, 1])\n",
        "\n",
        "\n",
        "y1.value_counts()"
      ],
      "execution_count": 10,
      "outputs": [
        {
          "output_type": "execute_result",
          "data": {
            "text/plain": [
              "6-11yrs    48\n",
              "12+ yrs    46\n",
              "0-5yrs      5\n",
              "Name: education, dtype: int64"
            ]
          },
          "metadata": {
            "tags": []
          },
          "execution_count": 10
        }
      ]
    },
    {
      "metadata": {
        "id": "8NDxulmoWJBF",
        "colab_type": "code",
        "outputId": "f41e7998-77d4-4b59-b975-cd4b3c90409c",
        "colab": {
          "base_uri": "https://localhost:8080/",
          "height": 34
        }
      },
      "cell_type": "code",
      "source": [
        "# 18. Python: Amostragem Parte III\n",
        "# Obter Amostra utilizando a técnica da Amostragem Sistemática\n",
        "\n",
        "from math import ceil\n",
        "\n",
        "populacao = 150\n",
        "amostra = 15\n",
        "\n",
        "k = ceil(populacao / amostra)\n",
        "\n",
        "r = np.random.randint(low = 1, high = k + 1, size=1)\n",
        "\n",
        "print('r={}'.format(r))\n",
        "\n",
        "acumulador = r[0]\n",
        "sorteados = []\n",
        "for i in range(amostra):\n",
        "  sorteados.append(acumulador)\n",
        "  acumulador += k\n",
        "  \n",
        "\n",
        "  "
      ],
      "execution_count": 11,
      "outputs": [
        {
          "output_type": "stream",
          "text": [
            "r=[1]\n"
          ],
          "name": "stdout"
        }
      ]
    },
    {
      "metadata": {
        "id": "UvOfFrJogf0n",
        "colab_type": "code",
        "outputId": "adbd9555-fe11-48bd-afe4-f5bb1f96df74",
        "colab": {
          "base_uri": "https://localhost:8080/",
          "height": 323
        }
      },
      "cell_type": "code",
      "source": [
        "print('acumulador={}'.format(acumulador))\n",
        "print('sorteados={}'.format(sorteados))\n",
        "\n",
        "base = pd.read_csv('iris.csv')\n",
        "base_final = base.loc[sorteados]\n",
        "print('acumulador={}'.format(base_final))\n"
      ],
      "execution_count": 12,
      "outputs": [
        {
          "output_type": "stream",
          "text": [
            "acumulador=151\n",
            "sorteados=[1, 11, 21, 31, 41, 51, 61, 71, 81, 91, 101, 111, 121, 131, 141]\n",
            "acumulador=     sepal length  sepal width  petal length  petal width            class\n",
            "1             4.9          3.0           1.4          0.2      Iris-setosa\n",
            "11            4.8          3.4           1.6          0.2      Iris-setosa\n",
            "21            5.1          3.7           1.5          0.4      Iris-setosa\n",
            "31            5.4          3.4           1.5          0.4      Iris-setosa\n",
            "41            4.5          2.3           1.3          0.3      Iris-setosa\n",
            "51            6.4          3.2           4.5          1.5  Iris-versicolor\n",
            "61            5.9          3.0           4.2          1.5  Iris-versicolor\n",
            "71            6.1          2.8           4.0          1.3  Iris-versicolor\n",
            "81            5.5          2.4           3.7          1.0  Iris-versicolor\n",
            "91            6.1          3.0           4.6          1.4  Iris-versicolor\n",
            "101           5.8          2.7           5.1          1.9   Iris-virginica\n",
            "111           6.4          2.7           5.3          1.9   Iris-virginica\n",
            "121           5.6          2.8           4.9          2.0   Iris-virginica\n",
            "131           7.9          3.8           6.4          2.0   Iris-virginica\n",
            "141           6.9          3.1           5.1          2.3   Iris-virginica\n"
          ],
          "name": "stdout"
        }
      ]
    },
    {
      "metadata": {
        "id": "eemOOihV1X_b",
        "colab_type": "text"
      },
      "cell_type": "markdown",
      "source": [
        "# Média - Medida de Centralidade e Variabilidade\n",
        "\n",
        "\n",
        "## Centralidade\n",
        "\n",
        "Centralidade:\n",
        "- Média\n",
        "- Moda\n",
        "- Mediana\n",
        "\n",
        "\n",
        "### Média\n",
        "\n",
        "Média é a soma de todos os valores e dividido por o número da polulçação\n",
        "\n",
        "u = Sum x / N\n",
        "\n",
        "### Moda\n",
        "\n",
        "Moda é o valor mais frequênte\n",
        "\n",
        "### Mediana\n",
        "\n",
        "Mediana é o valor do meio. \n",
        "\n",
        "Ordena-se os valores em ordem crescente.\n",
        "1.  se a quantidade for par, a mediana será a média dos valores nas posições n/2 e n/2+1.\n",
        "2. se a quantidade for impar, a mediana será o valor na posição (n+1)/2\n",
        "\n",
        "\n",
        "### Media vs Mediana\n",
        "\n",
        "Dados = 10,20,30,40,10000\n",
        "\n",
        "Média: 2020\n",
        "\n",
        "Mediana: 30\n",
        "\n",
        "\n",
        "## Variabilidade\n",
        "\n",
        "Mostra a distância entre os dados.\n",
        "\n",
        "\n",
        "Variabilidade:\n",
        "- Variância\n",
        "- Desvio Padrão\n",
        "- Amplitude\n",
        "- Não Centrais: Quartis\n",
        "\n",
        "### Variância\n",
        "\n",
        "Mostra a regularidade de um conjunto de dados em relação a média.\n",
        "\n",
        "Formas diferentes:\n",
        "- População\n",
        "- Amostra\n",
        "\n",
        "### Desvio Padrão\n",
        "\n",
        "A que distância os dados estão da média.\n",
        "\n",
        "Raiz quadrada da variância.\n",
        "\n",
        "\n",
        "### Amplitude\n",
        "\n",
        "Amplitude é a diferença do maior e do menor valor dos dados.\n",
        "\n",
        "### Quartis\n",
        "\n",
        "5, 6, 7, 8, 100\n",
        "\n",
        "Quartis consegue detectar onde está a maior variação dos dados.\n",
        "\n",
        "Quartis:\n",
        "- Q1: 25% dos menores valores\n",
        "- Q2: 50% igual a mediana\n",
        "- Q3: 75% dos menores valores\n",
        " \n",
        "## Resumo\n",
        " \n",
        "Dados = 40,18,12,250,30,140,300,40,800\n",
        " \n",
        "Média: 181.111\n",
        "\n",
        "Q1: 30\n",
        " \n",
        "Q2: 40\n",
        " \n",
        "Q3: 250\n",
        " \n",
        "Desvio Padrão: 253.3079\n",
        " \n",
        " \n",
        "## Amostra <> População\n",
        " \n",
        " \n",
        " \n",
        "|Estatística|Amostra|População|\n",
        "|--|--|--|\n",
        "|Média|X|u|\n",
        "|Desvio Padrão|S|sig|\n",
        "\n",
        " "
      ]
    },
    {
      "metadata": {
        "id": "5vXNGwrp7A2M",
        "colab_type": "text"
      },
      "cell_type": "markdown",
      "source": [
        "##Fix Numpy Error\n",
        "\n",
        "# Erro\n",
        "\n",
        "`module 'numpy' has no attribute 'quantile'`\n",
        "\n",
        "\n",
        "You must execute:\n",
        "```bash\n",
        "!pip install numpy==1.15.1\n",
        "```"
      ]
    },
    {
      "metadata": {
        "id": "FSPTR4mw7tgS",
        "colab_type": "code",
        "outputId": "7cf2fb1d-3642-4812-cb69-c1d160e3da7a",
        "colab": {
          "base_uri": "https://localhost:8080/",
          "height": 290
        }
      },
      "cell_type": "code",
      "source": [
        "# install numpy 1.15.1\n",
        "# get rid of the error AttributeError: module 'numpy' has no attribute 'quantile'\n",
        "!pip install numpy==1.15.1"
      ],
      "execution_count": 13,
      "outputs": [
        {
          "output_type": "stream",
          "text": [
            "Collecting numpy==1.15.1\n",
            "\u001b[?25l  Downloading https://files.pythonhosted.org/packages/fe/94/7049fed8373c52839c8cde619acaf2c9b83082b935e5aa8c0fa27a4a8bcc/numpy-1.15.1-cp36-cp36m-manylinux1_x86_64.whl (13.9MB)\n",
            "\u001b[K    100% |████████████████████████████████| 13.9MB 2.8MB/s \n",
            "\u001b[31mfeaturetools 0.4.1 has requirement pandas>=0.23.0, but you'll have pandas 0.22.0 which is incompatible.\u001b[0m\n",
            "\u001b[31mdatascience 0.10.6 has requirement folium==0.2.1, but you'll have folium 0.8.3 which is incompatible.\u001b[0m\n",
            "\u001b[31malbumentations 0.1.12 has requirement imgaug<0.2.7,>=0.2.5, but you'll have imgaug 0.2.8 which is incompatible.\u001b[0m\n",
            "\u001b[?25hInstalling collected packages: numpy\n",
            "  Found existing installation: numpy 1.14.6\n",
            "    Uninstalling numpy-1.14.6:\n",
            "      Successfully uninstalled numpy-1.14.6\n",
            "Successfully installed numpy-1.15.1\n"
          ],
          "name": "stdout"
        },
        {
          "output_type": "display_data",
          "data": {
            "application/vnd.colab-display-data+json": {
              "pip_warning": {
                "packages": [
                  "numpy"
                ]
              }
            }
          },
          "metadata": {
            "tags": []
          }
        }
      ]
    },
    {
      "metadata": {
        "id": "4pffHuB76V1C",
        "colab_type": "code",
        "outputId": "5ca5be79-ed32-4391-c083-e234672df3d0",
        "colab": {
          "base_uri": "https://localhost:8080/",
          "height": 232
        }
      },
      "cell_type": "code",
      "source": [
        "# 22. Centralidade e Variabilidade\n",
        "\n",
        "import numpy as np\n",
        "from scipy import stats\n",
        "\n",
        "jogadores = [40000, 18000, 12000, 250000,\n",
        "             30000, 140000, 300000, 40000, 800000]\n",
        "\n",
        "\n",
        "media = np.mean(jogadores)\n",
        "mediana = np.median(jogadores)\n",
        "quartis = np.quantile(jogadores, [0, 0.25, 0.5, 0.75, 1])\n",
        "desvio_padrao = np.std(jogadores, ddof=1)\n",
        "\n",
        "print('media={}'.format(media))\n",
        "print('mediana={}'.format(mediana))\n",
        "print('quartis={}'.format(quartis))\n",
        "print('desvio padrao={}'.format(desvio_padrao))"
      ],
      "execution_count": 14,
      "outputs": [
        {
          "output_type": "error",
          "ename": "AttributeError",
          "evalue": "ignored",
          "traceback": [
            "\u001b[0;31m---------------------------------------------------------------------------\u001b[0m",
            "\u001b[0;31mAttributeError\u001b[0m                            Traceback (most recent call last)",
            "\u001b[0;32m<ipython-input-14-6104b14b21dd>\u001b[0m in \u001b[0;36m<module>\u001b[0;34m()\u001b[0m\n\u001b[1;32m      9\u001b[0m \u001b[0mmedia\u001b[0m \u001b[0;34m=\u001b[0m \u001b[0mnp\u001b[0m\u001b[0;34m.\u001b[0m\u001b[0mmean\u001b[0m\u001b[0;34m(\u001b[0m\u001b[0mjogadores\u001b[0m\u001b[0;34m)\u001b[0m\u001b[0;34m\u001b[0m\u001b[0;34m\u001b[0m\u001b[0m\n\u001b[1;32m     10\u001b[0m \u001b[0mmediana\u001b[0m \u001b[0;34m=\u001b[0m \u001b[0mnp\u001b[0m\u001b[0;34m.\u001b[0m\u001b[0mmedian\u001b[0m\u001b[0;34m(\u001b[0m\u001b[0mjogadores\u001b[0m\u001b[0;34m)\u001b[0m\u001b[0;34m\u001b[0m\u001b[0;34m\u001b[0m\u001b[0m\n\u001b[0;32m---> 11\u001b[0;31m \u001b[0mquartis\u001b[0m \u001b[0;34m=\u001b[0m \u001b[0mnp\u001b[0m\u001b[0;34m.\u001b[0m\u001b[0mquantile\u001b[0m\u001b[0;34m(\u001b[0m\u001b[0mjogadores\u001b[0m\u001b[0;34m,\u001b[0m \u001b[0;34m[\u001b[0m\u001b[0;36m0\u001b[0m\u001b[0;34m,\u001b[0m \u001b[0;36m0.25\u001b[0m\u001b[0;34m,\u001b[0m \u001b[0;36m0.5\u001b[0m\u001b[0;34m,\u001b[0m \u001b[0;36m0.75\u001b[0m\u001b[0;34m,\u001b[0m \u001b[0;36m1\u001b[0m\u001b[0;34m]\u001b[0m\u001b[0;34m)\u001b[0m\u001b[0;34m\u001b[0m\u001b[0;34m\u001b[0m\u001b[0m\n\u001b[0m\u001b[1;32m     12\u001b[0m \u001b[0mdesvio_padrao\u001b[0m \u001b[0;34m=\u001b[0m \u001b[0mnp\u001b[0m\u001b[0;34m.\u001b[0m\u001b[0mstd\u001b[0m\u001b[0;34m(\u001b[0m\u001b[0mjogadores\u001b[0m\u001b[0;34m,\u001b[0m \u001b[0mddof\u001b[0m\u001b[0;34m=\u001b[0m\u001b[0;36m1\u001b[0m\u001b[0;34m)\u001b[0m\u001b[0;34m\u001b[0m\u001b[0;34m\u001b[0m\u001b[0m\n\u001b[1;32m     13\u001b[0m \u001b[0;34m\u001b[0m\u001b[0m\n",
            "\u001b[0;31mAttributeError\u001b[0m: module 'numpy' has no attribute 'quantile'"
          ]
        }
      ]
    },
    {
      "metadata": {
        "id": "qRmzd0BP_aml",
        "colab_type": "code",
        "colab": {}
      },
      "cell_type": "code",
      "source": [
        "# describe statistics about jogadores\n",
        "stats.describe(jogadores)"
      ],
      "execution_count": 0,
      "outputs": []
    },
    {
      "metadata": {
        "id": "bO_MQSBjABrf",
        "colab_type": "text"
      },
      "cell_type": "markdown",
      "source": [
        "## Estatisticas a seu favor\n",
        "\n",
        "Calcular a média e mediana. A média é mais afetada por *outliers*. \n",
        "\n",
        "Na sua empresa de compra e venda de carros a partir de valor de mercado, você pode usar a mediana para comprar os carros e vender com base no valor da média. Isso, no caso da mediana < média."
      ]
    },
    {
      "metadata": {
        "id": "Px2oLUkLA_sV",
        "colab_type": "text"
      },
      "cell_type": "markdown",
      "source": [
        "# Probabilidade I\n",
        "\n",
        "A probabilidade é um valor real entre 0 e 1, pode ser multiplicado por 100 para obter o valor em percentual.\n",
        "\n",
        "**P = 1** evento certo\n",
        "\n",
        "**P = 0** evento impossível\n",
        "\n",
        "## Conceitos\n",
        "\n",
        "**Experimento**: o que está sendo estudado\n",
        "\n",
        "**Estado Amostral**: todas as possibilidades de ocorrência do evento\n",
        "\n",
        "**Evento**: resultados ocorridos\n",
        "\n",
        "Exemplo:\n",
        "- Experimento: jogar moeda\n",
        "- Espaço amostral: cara ou coroa\n",
        "- Evento: coroa\n",
        "\n",
        "**Eventos Excludentes**: quando não podem ocorrer ao mesmo tempo\n",
        "\n",
        "Exemplo: jogar um dado e ser 1 e par\n",
        "\n",
        "**Eventos não excludentes**: quando podem ocorrer ao mesmo tempo\n",
        "\n",
        "Exemplo: jogar um dado e ser 2 e par\n",
        "\n",
        "**Eventos Dependentes**: A ocorrência de um evento afeta o outro. Um tem que ocorrer para depois que o outro ocorra\n",
        "\n",
        "**Eventos Independentes**: A ocorrência de um evento não afeta o outro.\n",
        "\n",
        "\n",
        "## Fórmula\n",
        "\n",
        "**P = Ocorrência esperada / Número de Eventos Possíveis**\n",
        "\n",
        "Exemplo: jogar uma moeda e dar cara: P = 1/2, P = 0,5 ou 50%\n",
        "\n",
        "Exemplo: jogar um dado e dar 6: P = 1/6, P = 0,16 ou 16%\n",
        "\n",
        "Exemplo: jogar um dado e dar 1 ou 6: P = 2/6, P = 0.33 = 33%\n",
        "\n",
        "Exemplo: jogar um dado e dar impar ou maior que 4 (1,3,5,6); P = 4/6 = 66%"
      ]
    },
    {
      "metadata": {
        "id": "ZXP6hWyvD29Y",
        "colab_type": "text"
      },
      "cell_type": "markdown",
      "source": [
        "# Probabilidade II\n",
        "\n",
        "## Eventos Excludentes\n",
        "\n",
        "Somar as probabilidades dos eventos.\n",
        "\n",
        "Exemplo: jogar um dado e ser 1 ou par: 1/6 + 3/6 = 4/6 =- 66%\n",
        "\n",
        "## Eventos Não Excludentes\n",
        "\n",
        "Somar as probabilidades dos eventos, diminuindo-se as sobreposições.\n",
        "\n",
        "Exemplo: jogar um dado e ser 2 ou par: 1/6 + 3/6 - 1/6 = 3/6 = 50%\n",
        "\n",
        "\n",
        "## Eventos Independentes\n",
        "\n",
        "Mais de um evento: Multiplicação.\n",
        "\n",
        "Qual a probabilidade de jogar dois dados, e dar 1 e 6 (dois eventos independentes): 1/6 * 1/6 = 1/36 = 0.027 = 2,7%\n",
        "\n",
        "## Evento Dependentes\n",
        "\n",
        "Multiplicação da probabilidade de cada evento.\n",
        "\n",
        "Com 6 cartas na mão, (A, 2 3, 4, 5, 6), qual a probabilidade de primeiro evento tirar A e no segundo evento tirar 4? 1/6 * 1/5 = 0,033 =3,3%\n",
        "\n",
        "## Probabilidade a longo prazo\n",
        "\n",
        "JOgando um dado justo 6 vezes, qual a média esperada?\n",
        "1+2+3+4+5+6/6 = 3,5\n",
        "\n",
        "A probabilidade é com base no longo prazo"
      ]
    },
    {
      "metadata": {
        "id": "FJdUXpGHM376",
        "colab_type": "text"
      },
      "cell_type": "markdown",
      "source": [
        "# Distriuição\n",
        "\n",
        "Usada prinipalmente na teoria da probabilidade\n",
        "\n",
        "Comportamento de dados aleatórios.\n",
        "\n",
        "Maior frequência dos dados ao redor da média.\n",
        "\n",
        "Caracterísiticas de um determinado grupo de dados, por exemplo:\n",
        "68% dos dados estão a +/- 1 Desvio Padrão da Média\n",
        "30% dos dados estão a +/- 2 Desvio Padrão da Média\n",
        "\n",
        "Estes dados com estas caracterísiticas têm x, y e z propriedades que você pode usar para fazer previsões.\n",
        "\n"
      ]
    },
    {
      "metadata": {
        "id": "c3O4cGarOYnK",
        "colab_type": "text"
      },
      "cell_type": "markdown",
      "source": [
        "# Distribuição Binomial I\n",
        "\n",
        "Distribuição de Probabilidade Discreta\n",
        "\n",
        "Permite avaliar a probabilidade de ocorrência de eventos desde que alguns pre requisitos sejam atendidos:\n",
        "- Número Fixo de Experimentos\n",
        "- Cada experimento pode ter 2 resultados esperados: **sucesso** ou **fracasso**\n",
        "- A probabilidade de sucesso deve ser a mesma em cada experimento\n",
        "- Os experimentos sao independentes\n",
        "\n",
        "Exemplo: Se eu jogar uma moeda 5 vezes. Qual a probabilidade de dar cara 3 vezes?\n",
        "- jogar moeda 5 vezes\n",
        "- cara ou coroa\n",
        "- P(cara) = P(coroa)\n",
        "- Eventos independentes\n",
        "\n",
        "Exemplo: Um cesto tem 10 frutas que pensam entre 3 e 5 quilos. Qual a probabilidade de eu retirar das frutas, uma de 54 quilos e outra de 3 quilos?\n",
        "- 1 experimento\n",
        "- duas frutas com 4 e 3 quilos apenas? nao!\n",
        "- P (4 quilos) != P(4 quillos)? Nao!\n",
        "- eventos dependentes? Nao!\n",
        "\n",
        "## Convenções\n",
        "\n",
        "X = total de sucesso esperado do experimento\n",
        "p = probabilidade de sucesso\n",
        "n = número de experimentos\n",
        "1-p = probabilidades de fracasso\n",
        "\n",
        "\\begin{equation*}\n",
        "f(x)   = {n \\choose x} p^x (1-p)^{ n-x}\n",
        "\\end{equation*}\n",
        "\n"
      ]
    },
    {
      "metadata": {
        "id": "NVBZutC2TmlY",
        "colab_type": "text"
      },
      "cell_type": "markdown",
      "source": [
        "# Distribuição Binomial II\n",
        "\n",
        "Exemplo de resolução.\n",
        "\n",
        "Exemplo: Se eu jogar uma moeda 5 vezes. Qual a probabilidade de dar cara 3 vezes?\n",
        "- jogar moeda 5 vezes\n",
        "- cara ou coroa\n",
        "- P(cara) = P(coroa)\n",
        "- Eventos independentes\n",
        "\n",
        "x = 3\n",
        "p = 0.5\n",
        "n= 5\n",
        "\n",
        "\\begin{equation*}\n",
        "f(3)   = {5 \\choose 3} p^3 (1-p)^{ 5-3}\n",
        "\\end{equation*}\n",
        "\n",
        "\\begin{equation*}\n",
        "{5 \\choose 3} = \\frac{5!}{3!(5-3)!}=\\frac{120}{12}=10\n",
        "\\end{equation*}\n",
        "\n",
        "\\begin{equation*}\n",
        "f(3)   = 10 \\cdot (0.125) \\cdot (1-0.5)^{ 5-3}\n",
        "\\end{equation*}\n",
        "\n",
        "\\begin{equation*}\n",
        "f(3)   = 0.3125\n",
        "\\end{equation*}\n",
        "\n",
        "\n",
        "Exemplo:Se eu passar 4 sinais de quatro tempos cada. Qual a probabilidade de eu pegar 0,12,3 e 4 sinais verdes?\n",
        "x = 0, 1, 2, 3, 4\n",
        "p =0.25 (sinais de 4 tempos, 1/4 para cada tempo)\n",
        "n = 4 (4 sinais)\n",
        "\n",
        "Todos os semáforos tem a mesma probabilidade.\n",
        "\n",
        "Resp:\n",
        "- Nenhum sinal vermelho: 31%\n",
        "- 1 sinal vermelho: 42%\n",
        "- 2 sinal vermelho: 21%\n",
        "- 3 sinal vermelho: 4.6%\n",
        "- 4 sinal vermelho: 0.39%\n",
        "\n",
        "Soma = 1 (testamos todas as possibilidades)\n",
        "\n",
        "Exemplo: Se você fizer a prova de um concurso com 12 questões, chutando todas as questões, qual a probabilidade de acertar 7 questões? (4 alternativas cada questão)\n",
        "\n",
        "X = 7 acertos\n",
        "p = 0.25\n",
        "n = 12\n",
        "\n",
        "R =0.01147127\n",
        "\n",
        "É possível recorrer a uma **Tabela de Distribuição Binomial** para identificar o resultado.\n",
        "\n",
        "![alt text](https://github.com/ronivaldo/udemy-curso-cientista_dados/raw/master/resources/tabela_distribuicao.png \"Tabela de Distruibição Binomial\")\n",
        "\n",
        "A probabilidade de ter 7 acertos é a mesma de ter 5 fracassos (cada fracasso a probabilidade é 0.75)\n",
        "\n",
        "Exemplo: Qual a probabilidade de passar em dois sinais de dois tempos e os dois estarem verdes?\n",
        "\n",
        "Fazendo manualmente = 1/2 * 1/2 = 0.25\n",
        "\n",
        "Executando a distribuição binomial no R `dbinomial(2,2,0.5)` = 0.25\n"
      ]
    },
    {
      "metadata": {
        "id": "c0XVwWybfulQ",
        "colab_type": "code",
        "colab": {}
      },
      "cell_type": "code",
      "source": [
        "# 30. Python: Distribuição Binomial\n",
        "# distribuição binomial utilizando o python\n",
        "from scipy.stats import binom\n",
        "\n",
        "quest = \"\"\"\n",
        "Exemplo: Se eu jogar uma moeda 5 vezes. Qual a probabilidade de dar cara 3 vezes?\n",
        "\"\"\"\n",
        "x = 3\n",
        "p = 0.5\n",
        "n = 5\n",
        "prob = binom.pmf(x, n, p)\n",
        "\n",
        "print(quest)\n",
        "print('A probabilidade eh {}'.format(prob))\n",
        "\n",
        "quest = \"\"\"\n",
        "Exemplo:Se eu passar 4 sinais de quatro tempos cada. Qual a probabilidade de eu pegar 0,1,2,3 e 4 sinais verdes?\n",
        "\"\"\"\n",
        "x = [0, 1, 2, 3, 4]\n",
        "p = 0.25 #(sinais de 4 tempos, 1/4 para cada tempo)\n",
        "n = 4 #(4 sinais)\n",
        "\n",
        "print(quest)\n",
        "for x1 in x:\n",
        "  prob = binom.pmf(x1, n, p)\n",
        "  print('A probabilidade x ={} eh {}'.format(x1, prob))\n",
        "\n",
        "quest = \"\"\"\n",
        "Exemplo: Qual a probabilidade acumulativa de eu passar 4 sinais de quatro tempos cada e pegar 0,1,2,3 ou 4 sinais verdes?\n",
        "\"\"\"\n",
        "x = 4\n",
        "p = 0.25\n",
        "n = 4\n",
        "prob = binom.cdf(x, n, p)\n",
        "print(quest)\n",
        "print('A probabilidade eh {}'.format(prob))\n",
        "\n",
        "  \n",
        "quest = \"\"\"\n",
        "Exemplo: Qual a probabilidade de passar em dois sinais de dois tempos e os dois estarem verdes?\n",
        "\"\"\"\n",
        "x = 2\n",
        "p = 0.5\n",
        "n = 2\n",
        "prob = binom.pmf(x, n, p)\n",
        "\n",
        "print(quest)\n",
        "print('A probabilidade eh {}'.format(prob))\n",
        "  \n",
        "quest = \"\"\"\n",
        "Exemplo: Se você fizer a prova de um concurso com 12 questões, chutando todas as questões, qual a probabilidade de acertar 7 questões? (4 alternativas cada questão)\n",
        "\"\"\"\n",
        "x = 7 # acertos\n",
        "p = 0.25\n",
        "n = 12\n",
        "prob = binom.pmf(x, n, p)\n",
        "\n",
        "print(quest)\n",
        "print('A probabilidade eh {}'.format(prob))\n",
        "\n"
      ],
      "execution_count": 0,
      "outputs": []
    },
    {
      "metadata": {
        "id": "qjPMAiWYk21B",
        "colab_type": "text"
      },
      "cell_type": "markdown",
      "source": [
        "# Distribuição Normal I\n",
        "\n"
      ]
    }
  ]
}