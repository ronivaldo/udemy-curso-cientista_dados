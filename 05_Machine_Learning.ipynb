{
  "nbformat": 4,
  "nbformat_minor": 0,
  "metadata": {
    "colab": {
      "name": "05_Machine_Learning.ipynb",
      "version": "0.3.2",
      "provenance": [],
      "collapsed_sections": [],
      "toc_visible": true
    },
    "kernelspec": {
      "name": "python3",
      "display_name": "Python 3"
    }
  },
  "cells": [
    {
      "metadata": {
        "id": "XlnSylMxdHlZ",
        "colab_type": "text"
      },
      "cell_type": "markdown",
      "source": [
        "# Machine Learning\n",
        "\n",
        "## Dados\n",
        "\n",
        "Dados localizados na pasta: D:SIA\\estudo\\udemy\\cientista-de-dados\\02-estatistica-05\n",
        "\n",
        "Arquivos para upload:\n",
        "- 92.Dados.zip\n",
        "\n",
        "Disponível também através do link https://github.com/ronivaldo/udemy-curso-cientista_dados/raw/master/data/92.Dados.zip\n",
        "\n",
        "Conteúdo do arquivo:\n",
        "- clima.csv               \n",
        "- Credit.csv              \n",
        "- Diarias.rdata           \n",
        "- Eleicao.csv             \n",
        "- Faturas.csv             \n",
        "- fraude.csv              \n",
        "- NovoCredit.csv          \n",
        "- NovosCandidatos.csv     \n",
        "- transacoes.txt          \n",
        "- transacoes2.txt         \n",
        "- tree.dot                \n",
        "- weatherpt.csv "
      ]
    },
    {
      "metadata": {
        "id": "K0npMaOAdFf1",
        "colab_type": "code",
        "colab": {}
      },
      "cell_type": "code",
      "source": [
        "import os  \n",
        "\n",
        "# verifica se upload ja foi realizado\n",
        "if not os.path.isfile('./92.Dados.zip'):\n",
        "  # obtem o arquivo do Github\n",
        "  !wget https://github.com/ronivaldo/udemy-curso-cientista_dados/raw/master/data/92.Dados.zip\n",
        "\n",
        "# verifica se upload ja foi realizado\n",
        "if not os.path.isfile('./clima.csv'):\n",
        "  # descompacta o arquivo\n",
        "  !unzip -o 92.Dados.zip"
      ],
      "execution_count": 0,
      "outputs": []
    },
    {
      "metadata": {
        "id": "wKkQU7O9eKxm",
        "colab_type": "text"
      },
      "cell_type": "markdown",
      "source": [
        "# Machine Learning - Introdução - Parte I\n",
        "\n",
        "## O que é Machine Learning\n",
        "\n",
        "Tradução: Aprendizado de Máquina\n",
        "\n",
        "Capacidade da máquina (computador) aprender\n",
        "\n",
        "## Aprendizagem\n",
        "\n",
        "Processo de aquirir conhecimento.\n",
        "\n",
        "Por que o processo:\n",
        "- Porque é contínuo (toda vida) e evolutivo (mais informação a cada dia)\n",
        "\n",
        "Como ocorre?\n",
        "- Através de relação do indivíduo com o ambiente\n",
        "\n",
        "## Máquina também é capaz de aprender\n",
        "\n",
        "Interagem com o ambiente\n",
        "- Através dos dados\n",
        "\n",
        "Dados são usados para a máquina aprender\n",
        "\n",
        "O aprendizado pode ser persistido através de um \"modelo\"\n",
        "\n",
        "O aprendizado deve evoluir\n",
        "\n",
        "O aprendizador pode ser medido\n",
        "\n",
        "## Como a máquina aprende\n",
        "\n",
        "A partir da observação dos dados disponíveis, a máquina utiliza algum modelo para aprender.\n",
        "\n"
      ]
    },
    {
      "metadata": {
        "id": "ZLX1CdX8g5T_",
        "colab_type": "text"
      },
      "cell_type": "markdown",
      "source": [
        "# Machine Learning - Introdução - Parte II\n",
        "\n",
        "## Aprendizado\n",
        "\n",
        "Contínuo:\n",
        "- Com mais dados, o computador pode melhorar seu modelo, ou seja, aprender mais sobre as condições do tempo\n",
        "\n",
        "Mensurável:\n",
        "- Podemos medir o quanto o computador aprendeu\n",
        "- Por exemplo, em 100 previsões, acertou 83 e  errou 17\n",
        "\n",
        "## Até onde o computador pode aprender?\n",
        "\n",
        "\n",
        "Limitações:\n",
        "- Limites físicos\n",
        "  - Memória, processamento, armazenamento\n",
        "- Limites lógicos\n",
        "  - depende do algoritmo utilizado\n",
        "- Limites do ambiente\n",
        "  - dados\n",
        "  \n",
        "## Limites do ambiente: Dados\n",
        "  \n",
        "Dados que temos:\n",
        "- temperatura\n",
        "- umidade\n",
        "- aparência\n",
        "- vento\n",
        "\n",
        "O que causa a chuva?\n",
        "- temperatura, umidade, ventos\n",
        "- posição e deslocamento das massas de ar\n",
        "\n",
        "## Definição\n",
        "\n",
        "Mineração de dados são processos de explorar e nalisar grandes volumes de dados em busca de padrões, previsões, erros, associações entre outros.\n",
        "\n"
      ]
    },
    {
      "metadata": {
        "id": "LDVR440QjkjN",
        "colab_type": "text"
      },
      "cell_type": "markdown",
      "source": [
        "# Aplicações\n",
        "\n",
        "## Áreas\n",
        "\n",
        "Áreas de atuação:\n",
        "- Medicina\n",
        "- educação\n",
        "- processmento de linguagem natural\n",
        "- detecção de fraude\n",
        "- conhecimento de fala\n",
        "- finanças\n",
        "- robótica\n",
        "- sistemas de recomendação\n",
        "- mineração de texto\n",
        "- etc\n",
        "\n",
        "## Marketing\n",
        "\n",
        "Umas das áreas mais antigas que já utilizam Machine Learning:\n",
        "- quais clientes irão reponder a quais promoções?\n",
        "- qual a combinação de produtos que mais vende?\n",
        "- quais clientes irão comprar mesmo sem ofertas?\n",
        "- identificação de consumidores alfa\n",
        "- Churn Analysis: quais clientes tendem a abandonar a empresa?\n",
        "\n",
        "## Educação\n",
        "\n",
        "Atuação:\n",
        "- quais alunos irão abandonar o curso e por que?\n",
        "- quais alunos são mais feis?\n",
        "- quais alunos tem maior probabilidade de voltar a fazer novos cursos?\n",
        "- quais cursos serão mais rentáveis?\n",
        "- quais cursos, com quais características, atraem mais alunos?\n",
        "\n",
        "## Recursos Humanos\n",
        "\n",
        "Atuação:\n",
        "- qual o perfil de talentos é o mais adequado para quais vagas?\n",
        "- qual o perfil de funcionários que abandonarão o emprego e quando?\n",
        "- quais ações são efetivas na produtividade?\n",
        "- quais funcionários serão mais bem sucedidos?\n",
        "\n",
        "## Finanças e Contabilidade\n",
        "\n",
        "Atuação:\n",
        "- prever a perfonrmance financiera da organização\n",
        "- mitigação de riscos futuros\n",
        "- apoio na escolha de investimentos e parceiros\n",
        "\n",
        "\n"
      ]
    },
    {
      "metadata": {
        "id": "LLlRiZMdlP0t",
        "colab_type": "text"
      },
      "cell_type": "markdown",
      "source": [
        "# Conceitos - Parte I\n",
        "\n",
        "## Estrutura de Dados\n",
        "\n",
        "Atributos ou dimensões:\n",
        "- Características do fato que você quer usar\n",
        "- analogia com colunas\n",
        "\n",
        "Classificação\n",
        "- Atributo especial que se chama **classe*\n",
        "- Normalmente como o último atributo\n",
        "\n",
        "Instâncias\n",
        "- eventos que tiveram dados coletados\n",
        "- por exemplo, cada dia de dados coletados é uma instância\n",
        "- analogia com linhas\n",
        "\n",
        "Relação\n",
        "- conjunto de instâncias com sua relação\n",
        "- analogia com tabela\n",
        "\n",
        "## Tipos de Dados\n",
        "\n",
        "Nominais:\n",
        "- qualitativo\n",
        "- sunny, rainy\n",
        "- relacionado a classificação\n",
        "\n",
        "Numéricos:\n",
        "- quantitativo\n",
        "- relacionado a regressão\n",
        "\n",
        "\n",
        "## Tarefas\n",
        "\n",
        "As principais função da mineração de dados:\n",
        "- Classificação\n",
        "  - prever se vai chover ou não\n",
        "  - a mais importante\n",
        "- Regressão\n",
        "  - prever a temperatura\n",
        "- Agrupamentos\n",
        "  - quando não tem classe\n",
        "  - algoritmo agrupa os dados a partir de alguma semelhança matemática\n",
        "  - pode ser usado para classificar uma espécie de flor\n",
        "  - não sabemos previamente as classes\n",
        "- Regras de Associação\n",
        "  - busca semelhana entre os elementos\n",
        "  - recomendações de produtos para compra"
      ]
    },
    {
      "metadata": {
        "id": "ztExuiaonk2E",
        "colab_type": "text"
      },
      "cell_type": "markdown",
      "source": [
        "## Conceitos - Parte II\n",
        "\n",
        "## Classificação\n",
        "\n",
        "O algoritmo vai atribuir uma classe para cada instância\n",
        "\n",
        "![alt text](https://github.com/ronivaldo/udemy-curso-cientista_dados/raw/master/resources/machine_learning_classificacao.png \"Classificação\")\n",
        "\n",
        "Descreve ou preve um atribuito especial, chamado classe\n",
        "\n",
        "Usamos classificação para prever:\n",
        "- uma fraude\n",
        "- descobrir a qual espécie um animal pertence \n",
        "- prever uma doença\n",
        "- classificar um tipo de fungo\n",
        "\n",
        "## Regressão\n",
        "\n",
        "Um tipo de classificação, porém, enquanto na classificação a classe é um tipo de dado nominal ou categórico, na regressão a classe é numérica\n",
        "\n",
        "Prever a altura de uma pessoa partir do peso\n",
        "\n",
        "## Agrupamentos\n",
        "\n",
        "Agrupar os dados em um ou vários grupos\n",
        "\n",
        "Diferentes tipos de algorítimos com diferentes funções\n",
        "\n",
        "Não existe classe\n",
        "\n",
        "O objetivo é criar grupos e atribuir às instâncias dos dados nestes grupos a partir das características ou atributos\n",
        "\n",
        "Exemplos:\n",
        "- identificar grupos de clientes e direcionar campanhas de marketing específicas\n",
        "- identificar tentativas de acesso à rede\n",
        "- categorizar uma nova espécie\n",
        "\n",
        "## Regras de associação\n",
        "\n",
        "Uma pessoa anteiormente comprou um produto A e um B, quando uma nova pessoa compra o produto A, é sugerido que ele compre também o produto B\n",
        "\n",
        "![alt text](https://github.com/ronivaldo/udemy-curso-cientista_dados/raw/master/resources/machine_learning_associacoes.png \"Associações\")\n",
        "\n",
        "Busca a relação entre items.\n",
        "\n",
        "A aplicação clássica é em cestas de compras:\n",
        "- quem comprou o produto A e também comprou o produto B\n",
        "- tem ampla aplicação em diagnóticos de medicina, sensos etc\n",
        "\n",
        "## Supervisionando vs Não Supervisionado\n",
        "\n",
        "As tarefas de mineraçãoi de dados são ditas supervisionadas quando existe uma classe, ou um atributo especial com o qual se pode comparar e validar o resultado.\n",
        " \n",
        " Agrupamentos:\n",
        " - são não supervisionados\n",
        " \n",
        " \n",
        " ## Tarefa vs Algoritmo\n",
        " \n",
        " Tarefa não é algoritmo, cada tarefa pode ter centenas de algoritmos de performance distinta para cada caso específico.\n",
        " \n",
        " ![alt text](https://github.com/ronivaldo/udemy-curso-cientista_dados/raw/master/resources/machine_learning_tarefa_algoritmo.png \"Tarefas vs Algotirmos\")\n",
        " \n",
        " "
      ]
    },
    {
      "metadata": {
        "id": "RX9j94Tu0UKG",
        "colab_type": "text"
      },
      "cell_type": "markdown",
      "source": [
        "# Classificação - Parte I\n",
        "\n",
        "Queremos descobrir ou descrever a classe de um fato\n",
        "\n",
        "Normalmente a classe em uma relação está representada em um atributo especial, posicionado como último atributo da relação.\n",
        "\n",
        "Por exemplo, relação Iris.csv:\n",
        "- 150 instância\n",
        "- 5 atributos\n",
        "- 4 atributos numéricos\n",
        "- 1 atributo nominal, species, que é a classe:\n",
        "  - setosa\n",
        "  - versicolor\n",
        "  - virginica\n",
        "- Porderíamos treinar um algoritmo para aprender a classificar a classe da flor, e prever a partir de dados de uma nova flor coletada\n",
        "\n",
        "### Outros exemplos:\n",
        "\n",
        "![alt text](https://github.com/ronivaldo/udemy-curso-cientista_dados/raw/master/resources/machine_learning_classificacao_exemplos.png \"Outros Exemplos\")\n",
        " \n",
        "## Modelo\n",
        "\n",
        "Dados históricos para construir o modelo\n",
        "\n",
        "Objetivo é sempre criar modelos genéricos, evitando overfitting (superajustados)\n",
        "\n",
        "## Avaliando o que foi aprendido\n",
        "\n",
        "Usando o mesmo conjunto de dados:\n",
        "- modelos superajustados\n",
        "\n",
        "Hold-out:\n",
        "- aprendizado\n",
        "- teste\n",
        "\n",
        "Validação Cruzada:\n",
        "- Folds (partições)\n",
        "- uma das partições será utilizada para teste\n"
      ]
    },
    {
      "metadata": {
        "id": "At9Os_nY4OOG",
        "colab_type": "text"
      },
      "cell_type": "markdown",
      "source": [
        "# Classificação - Parte II\n",
        "\n",
        "## Matriz de Confusão\n",
        "\n",
        "Tabela que mostra o quanto o modelo acertou em relação aos dados históricos\n",
        "\n",
        "| | |\n",
        "|--|--|\n",
        "|**Verdadeiros Positivos** | Falsos Negativos|\n",
        "|Falsos Positivos |**Verdadeiros Negativos**|\n",
        "\n",
        "## Generalização vs Super Ajuste\n",
        "\n",
        "O objetivo de todo classificador é criar modelos genéricos\n",
        "\n",
        "O modelo super ajustado funciona bem com dados de treino, mas tem o desempenho pobre em dados de teste ou de produção\n",
        "\n",
        "## Causas de Super Ajuste\n",
        "\n",
        "Causas:\n",
        "- Dados não representativos\n",
        "- Dados não significativos (poucos)\n",
        "- Forma de Treinamentos\n",
        "- Classe rara\n",
        "- Modelo incorreto\n",
        "\n",
        "Conseguimos medir a performance do modelo e aplicar técnicas para evitar o super ajuste.\n",
        "\n",
        "## Problema da Classe Rara\n",
        "\n",
        "Transação de Fraude:\n",
        "- A fraude é uma classe rara\n",
        "- O modelo pode ter dificuldade de aprender uma classe rara\n",
        "- solução: estratificação\n",
        "\n",
        "## Problema de Atributos Desconhecidos\n",
        "\n",
        "No treino:\n",
        "- Regiões: Sul, Sudeste, Centro-Oeste e Norte\n",
        "\n",
        "Na Produção:\n",
        "- Região Nordeste\n",
        "\n",
        "Como Classificar?\n",
        "\n",
        "\n",
        "\n"
      ]
    },
    {
      "metadata": {
        "id": "bPbxDkRq69th",
        "colab_type": "text"
      },
      "cell_type": "markdown",
      "source": [
        "# Classificação - Parte III\n",
        "\n",
        "No caso das fraudes de conceção de créditos, nos casos de falso positivo e falso negativo a empresa perde negócio.\n",
        "\n",
        "Taxa de acerto: 70%.\n",
        "\n",
        "![alt text](https://github.com/ronivaldo/udemy-curso-cientista_dados/raw/master/resources/machine_learning_classificacao_custo.png \"Custos\")\n",
        "\n",
        "Imagine que dentro de um sistema de classificação você possa ajustar as taxas, uma alterando as outras taxas.\n",
        "\n",
        "![alt text](https://github.com/ronivaldo/udemy-curso-cientista_dados/raw/master/resources/machine_learning_classificacao_custo_ajuste.png \"Ajustes\")\n",
        "\n",
        "## Custo\n",
        "\n",
        "Forma de balancear os falso positivos/falso negativos, ajustando a taxa de acertos.\n",
        "\n",
        "O objetivo é ajustar o algoritmo para acertar o que é mais importante para o negócio, mesmo que a taxa de acerto caia.\n",
        "\n",
        "![alt text](https://github.com/ronivaldo/udemy-curso-cientista_dados/raw/master/resources/machine_learning_classificacao_custo_perda.png \"Custo vs Perdas\")\n",
        "\n",
        "O modelo não pode ser medido apenas pela taxa de acertos.\n",
        "\n",
        "## Como melhorar o modelo?\n",
        "\n",
        "Melhorias:\n",
        "- Testando diferentes algorítmos\n",
        "- Parametrizando algoritmos\n",
        "- Selecionando e Tratando dados\n",
        "- Seleção de Atributos\n",
        "\n",
        "## Métricas\n",
        "\n",
        "Diversas métricas podem ser utilizadas para validar o modelo.\n",
        "\n",
        "![alt text](https://github.com/ronivaldo/udemy-curso-cientista_dados/raw/master/resources/machine_learning_classificacao_metricas.png \"Métricas\")\n",
        "\n"
      ]
    },
    {
      "metadata": {
        "id": "nMvjPKz4t1IS",
        "colab_type": "text"
      },
      "cell_type": "markdown",
      "source": [
        "## Classificação - Parte IV\n",
        "\n",
        "## Tipos de Algorítmos\n",
        "\n",
        "Tipos:\n",
        "- Árvore de Decisão\n",
        "- Regras\n",
        "- Naive Bayes\n",
        "- Redes Bayesianas\n",
        "- Redes neurais artificiais e aprendizado profundo (Deep Learning)\n",
        "- Máquina de Vetor de Suporte\n",
        "- Métodos de Grupos\n",
        "- Aprendizado baseado em instância\n",
        "\n",
        "## Árvore de decisão\n",
        "\n",
        "A partir dos dados, o algorítmos criar uma árvore de decisão.\n",
        "\n",
        "Conteúdo:\n",
        "- Nodo raiz\n",
        "- Nodos internos\n",
        "- Nodos terminais\n",
        "- Algorítmo de partição\n",
        "  - grau de pureza (se o dado permite inferir o resultado)\n",
        "  \n",
        "## Regras\n",
        "\n",
        "Estruturas do tipo if-then-else.\n",
        "\n",
        "## Naives Bayes\n",
        "\n",
        "Baseado na Teoria das Probabilidades, e que supõe que os atributos vão influenciar a classe de forma independente.\n",
        "\n",
        "\n",
        "## Redes Bayesianas\n",
        "\n",
        "Uma rede bayesiana pode mostrar eventual dependência através de probabilidade condicional.\n",
        "\n",
        "\n",
        "## Máquina de Vetor de Suporte\n",
        "\n",
        "A máquina de vetor de suporte maximiza os vetores de forma que a classificação do elemento tem a melhor classificação, do ponto de vista matemática.\n",
        "\n",
        "## Métodos de Grupos\n",
        "\n",
        "Tipos:\n",
        "- Florestas Aleatórias\n",
        "- Booting\n",
        "\n",
        "Roda várias configurações de algotímos sobre conjuntos de dados e através de um processo de votação irá criar o modelo a partir do elemento mais votado (com melhor desempenho)\n",
        "\n",
        "\n",
        "## Aprendizado baseado em Instância\n",
        "\n",
        "Os algorítmos de Aprendizado baseado em Instância não trabalham com Modelos, eles utilizam para classificação os dados históricos, fazem a classificação em tempo real.\n",
        "\n",
        "Carregam os dados históricos em memória, quando recebe uma nova instância para classificar, o algorítmo vai buscar dentro dos dados históricos quais se aproximam mais.\n",
        "\n",
        "Exemplo: o Vizinho mais Próximo (Nearest-neightbor)\n",
        "\n",
        "\n",
        "\n",
        "\n"
      ]
    },
    {
      "metadata": {
        "id": "nI7f9gsZyMJf",
        "colab_type": "text"
      },
      "cell_type": "markdown",
      "source": [
        "# Técnica de Classificação\n",
        "\n",
        "Quantos atributos um bom modelo deve ter?\n",
        "\n",
        "Quanto mais melhor?\n",
        "- Fraude: modelo com 10 atributos tem taxa de acerto de 75%.\n",
        "- Fraude: modelo com 50 atributos tem taxa de acerto de 68%.\n",
        "- Maldição Dimensionalidade\n",
        "\n",
        "\n",
        "## Maldição Dimensionalidade\n",
        "\n",
        "A inclusão de muitos (ou mais) atributos em um modelo degradam a sua performance.\n",
        "\n",
        "Se existem muitos atributos, como saber quais são os mais relevantes para o modelo?\n",
        "\n",
        "Seleção de atributos diz quais tem mais influência na performance do modelo, podem ser encontrados:\n",
        "- manualmente\n",
        "- de forma automática (alguns algorítmos)\n",
        "\n"
      ]
    },
    {
      "metadata": {
        "id": "dRR2J25IBO7o",
        "colab_type": "text"
      },
      "cell_type": "markdown",
      "source": [
        "# Python: Classificação na Prática com Naive Bayes - Parte I"
      ]
    },
    {
      "metadata": {
        "id": "1WaQQuyMBTd1",
        "colab_type": "code",
        "colab": {
          "base_uri": "https://localhost:8080/",
          "height": 321
        },
        "outputId": "a8499a88-6e18-41e9-a884-e4370e00eb2f"
      },
      "cell_type": "code",
      "source": [
        "# 109. Python: Classificação na Prática com Naive Bayes - Parte I\n",
        "\n",
        "import pandas as pd\n",
        "from sklearn.model_selection import train_test_split\n",
        "from sklearn.naive_bayes import GaussianNB\n",
        "\n",
        "credito = pd.read_csv('Credit.csv')\n",
        "credito.tail()"
      ],
      "execution_count": 178,
      "outputs": [
        {
          "output_type": "execute_result",
          "data": {
            "text/html": [
              "<div>\n",
              "<style scoped>\n",
              "    .dataframe tbody tr th:only-of-type {\n",
              "        vertical-align: middle;\n",
              "    }\n",
              "\n",
              "    .dataframe tbody tr th {\n",
              "        vertical-align: top;\n",
              "    }\n",
              "\n",
              "    .dataframe thead th {\n",
              "        text-align: right;\n",
              "    }\n",
              "</style>\n",
              "<table border=\"1\" class=\"dataframe\">\n",
              "  <thead>\n",
              "    <tr style=\"text-align: right;\">\n",
              "      <th></th>\n",
              "      <th>checking_status</th>\n",
              "      <th>duration</th>\n",
              "      <th>credit_history</th>\n",
              "      <th>purpose</th>\n",
              "      <th>credit_amount</th>\n",
              "      <th>savings_status</th>\n",
              "      <th>employment</th>\n",
              "      <th>installment_commitment</th>\n",
              "      <th>personal_status</th>\n",
              "      <th>other_parties</th>\n",
              "      <th>...</th>\n",
              "      <th>property_magnitude</th>\n",
              "      <th>age</th>\n",
              "      <th>other_payment_plans</th>\n",
              "      <th>housing</th>\n",
              "      <th>existing_credits</th>\n",
              "      <th>job</th>\n",
              "      <th>num_dependents</th>\n",
              "      <th>own_telephone</th>\n",
              "      <th>foreign_worker</th>\n",
              "      <th>class</th>\n",
              "    </tr>\n",
              "  </thead>\n",
              "  <tbody>\n",
              "    <tr>\n",
              "      <th>995</th>\n",
              "      <td>'no checking'</td>\n",
              "      <td>12</td>\n",
              "      <td>'existing paid'</td>\n",
              "      <td>furniture/equipment</td>\n",
              "      <td>1736</td>\n",
              "      <td>&lt;100</td>\n",
              "      <td>4&lt;=X&lt;7</td>\n",
              "      <td>3</td>\n",
              "      <td>'female div/dep/mar'</td>\n",
              "      <td>none</td>\n",
              "      <td>...</td>\n",
              "      <td>'real estate'</td>\n",
              "      <td>31</td>\n",
              "      <td>none</td>\n",
              "      <td>own</td>\n",
              "      <td>1</td>\n",
              "      <td>'unskilled resident'</td>\n",
              "      <td>1</td>\n",
              "      <td>none</td>\n",
              "      <td>yes</td>\n",
              "      <td>good</td>\n",
              "    </tr>\n",
              "    <tr>\n",
              "      <th>996</th>\n",
              "      <td>&lt;0</td>\n",
              "      <td>30</td>\n",
              "      <td>'existing paid'</td>\n",
              "      <td>'used car'</td>\n",
              "      <td>3857</td>\n",
              "      <td>&lt;100</td>\n",
              "      <td>1&lt;=X&lt;4</td>\n",
              "      <td>4</td>\n",
              "      <td>'male div/sep'</td>\n",
              "      <td>none</td>\n",
              "      <td>...</td>\n",
              "      <td>'life insurance'</td>\n",
              "      <td>40</td>\n",
              "      <td>none</td>\n",
              "      <td>own</td>\n",
              "      <td>1</td>\n",
              "      <td>'high qualif/self emp/mgmt'</td>\n",
              "      <td>1</td>\n",
              "      <td>yes</td>\n",
              "      <td>yes</td>\n",
              "      <td>good</td>\n",
              "    </tr>\n",
              "    <tr>\n",
              "      <th>997</th>\n",
              "      <td>'no checking'</td>\n",
              "      <td>12</td>\n",
              "      <td>'existing paid'</td>\n",
              "      <td>radio/tv</td>\n",
              "      <td>804</td>\n",
              "      <td>&lt;100</td>\n",
              "      <td>&gt;=7</td>\n",
              "      <td>4</td>\n",
              "      <td>'male single'</td>\n",
              "      <td>none</td>\n",
              "      <td>...</td>\n",
              "      <td>car</td>\n",
              "      <td>38</td>\n",
              "      <td>none</td>\n",
              "      <td>own</td>\n",
              "      <td>1</td>\n",
              "      <td>skilled</td>\n",
              "      <td>1</td>\n",
              "      <td>none</td>\n",
              "      <td>yes</td>\n",
              "      <td>good</td>\n",
              "    </tr>\n",
              "    <tr>\n",
              "      <th>998</th>\n",
              "      <td>&lt;0</td>\n",
              "      <td>45</td>\n",
              "      <td>'existing paid'</td>\n",
              "      <td>radio/tv</td>\n",
              "      <td>1845</td>\n",
              "      <td>&lt;100</td>\n",
              "      <td>1&lt;=X&lt;4</td>\n",
              "      <td>4</td>\n",
              "      <td>'male single'</td>\n",
              "      <td>none</td>\n",
              "      <td>...</td>\n",
              "      <td>'no known property'</td>\n",
              "      <td>23</td>\n",
              "      <td>none</td>\n",
              "      <td>'for free'</td>\n",
              "      <td>1</td>\n",
              "      <td>skilled</td>\n",
              "      <td>1</td>\n",
              "      <td>yes</td>\n",
              "      <td>yes</td>\n",
              "      <td>bad</td>\n",
              "    </tr>\n",
              "    <tr>\n",
              "      <th>999</th>\n",
              "      <td>0&lt;=X&lt;200</td>\n",
              "      <td>45</td>\n",
              "      <td>'critical/other existing credit'</td>\n",
              "      <td>'used car'</td>\n",
              "      <td>4576</td>\n",
              "      <td>100&lt;=X&lt;500</td>\n",
              "      <td>unemployed</td>\n",
              "      <td>3</td>\n",
              "      <td>'male single'</td>\n",
              "      <td>none</td>\n",
              "      <td>...</td>\n",
              "      <td>car</td>\n",
              "      <td>27</td>\n",
              "      <td>none</td>\n",
              "      <td>own</td>\n",
              "      <td>1</td>\n",
              "      <td>skilled</td>\n",
              "      <td>1</td>\n",
              "      <td>none</td>\n",
              "      <td>yes</td>\n",
              "      <td>good</td>\n",
              "    </tr>\n",
              "  </tbody>\n",
              "</table>\n",
              "<p>5 rows × 21 columns</p>\n",
              "</div>"
            ],
            "text/plain": [
              "    checking_status  duration                    credit_history  \\\n",
              "995   'no checking'        12                   'existing paid'   \n",
              "996              <0        30                   'existing paid'   \n",
              "997   'no checking'        12                   'existing paid'   \n",
              "998              <0        45                   'existing paid'   \n",
              "999        0<=X<200        45  'critical/other existing credit'   \n",
              "\n",
              "                 purpose  credit_amount savings_status  employment  \\\n",
              "995  furniture/equipment           1736           <100      4<=X<7   \n",
              "996           'used car'           3857           <100      1<=X<4   \n",
              "997             radio/tv            804           <100         >=7   \n",
              "998             radio/tv           1845           <100      1<=X<4   \n",
              "999           'used car'           4576     100<=X<500  unemployed   \n",
              "\n",
              "     installment_commitment       personal_status other_parties  ...   \\\n",
              "995                       3  'female div/dep/mar'          none  ...    \n",
              "996                       4        'male div/sep'          none  ...    \n",
              "997                       4         'male single'          none  ...    \n",
              "998                       4         'male single'          none  ...    \n",
              "999                       3         'male single'          none  ...    \n",
              "\n",
              "      property_magnitude age  other_payment_plans     housing  \\\n",
              "995        'real estate'  31                 none         own   \n",
              "996     'life insurance'  40                 none         own   \n",
              "997                  car  38                 none         own   \n",
              "998  'no known property'  23                 none  'for free'   \n",
              "999                  car  27                 none         own   \n",
              "\n",
              "    existing_credits                          job num_dependents  \\\n",
              "995                1         'unskilled resident'              1   \n",
              "996                1  'high qualif/self emp/mgmt'              1   \n",
              "997                1                      skilled              1   \n",
              "998                1                      skilled              1   \n",
              "999                1                      skilled              1   \n",
              "\n",
              "     own_telephone foreign_worker class  \n",
              "995           none            yes  good  \n",
              "996            yes            yes  good  \n",
              "997           none            yes  good  \n",
              "998            yes            yes   bad  \n",
              "999           none            yes  good  \n",
              "\n",
              "[5 rows x 21 columns]"
            ]
          },
          "metadata": {
            "tags": []
          },
          "execution_count": 178
        }
      ]
    },
    {
      "metadata": {
        "id": "yZDIvXhYBxk5",
        "colab_type": "code",
        "colab": {
          "base_uri": "https://localhost:8080/",
          "height": 340
        },
        "outputId": "7c1274f5-82f7-4322-d437-fffba0c389bf"
      },
      "cell_type": "code",
      "source": [
        "# atributo: class\n",
        "# - good\n",
        "# - bad\n",
        "\n",
        "previsores = credito.iloc[:, 0:20].values\n",
        "print('previsores=')\n",
        "previsores[:5]"
      ],
      "execution_count": 179,
      "outputs": [
        {
          "output_type": "stream",
          "text": [
            "previsores=\n"
          ],
          "name": "stdout"
        },
        {
          "output_type": "execute_result",
          "data": {
            "text/plain": [
              "array([['<0', 6, \"'critical/other existing credit'\", 'radio/tv', 1169,\n",
              "        \"'no known savings'\", '>=7', 4, \"'male single'\", 'none', 4,\n",
              "        \"'real estate'\", 67, 'none', 'own', 2, 'skilled', 1, 'yes',\n",
              "        'yes'],\n",
              "       ['0<=X<200', 48, \"'existing paid'\", 'radio/tv', 5951, '<100',\n",
              "        '1<=X<4', 2, \"'female div/dep/mar'\", 'none', 2, \"'real estate'\",\n",
              "        22, 'none', 'own', 1, 'skilled', 1, 'none', 'yes'],\n",
              "       [\"'no checking'\", 12, \"'critical/other existing credit'\",\n",
              "        'education', 2096, '<100', '4<=X<7', 2, \"'male single'\", 'none',\n",
              "        3, \"'real estate'\", 49, 'none', 'own', 1, \"'unskilled resident'\",\n",
              "        2, 'none', 'yes'],\n",
              "       ['<0', 42, \"'existing paid'\", 'furniture/equipment', 7882, '<100',\n",
              "        '4<=X<7', 2, \"'male single'\", 'guarantor', 4, \"'life insurance'\",\n",
              "        45, 'none', \"'for free'\", 1, 'skilled', 2, 'none', 'yes'],\n",
              "       ['<0', 24, \"'delayed previously'\", \"'new car'\", 4870, '<100',\n",
              "        '1<=X<4', 3, \"'male single'\", 'none', 4, \"'no known property'\",\n",
              "        53, 'none', \"'for free'\", 2, 'skilled', 2, 'none', 'yes']],\n",
              "      dtype=object)"
            ]
          },
          "metadata": {
            "tags": []
          },
          "execution_count": 179
        }
      ]
    },
    {
      "metadata": {
        "id": "DYu8ORipCPNg",
        "colab_type": "code",
        "colab": {
          "base_uri": "https://localhost:8080/",
          "height": 51
        },
        "outputId": "6b86c260-e50c-46b4-91c1-2aabfc2ee9b2"
      },
      "cell_type": "code",
      "source": [
        "classe = credito.iloc[:, 20].values\n",
        "print('classes=')\n",
        "classe[:5]"
      ],
      "execution_count": 180,
      "outputs": [
        {
          "output_type": "stream",
          "text": [
            "classes=\n"
          ],
          "name": "stdout"
        },
        {
          "output_type": "execute_result",
          "data": {
            "text/plain": [
              "array(['good', 'bad', 'good', 'good', 'bad'], dtype=object)"
            ]
          },
          "metadata": {
            "tags": []
          },
          "execution_count": 180
        }
      ]
    },
    {
      "metadata": {
        "id": "odsS2OMqDGYP",
        "colab_type": "code",
        "colab": {
          "base_uri": "https://localhost:8080/",
          "height": 85
        },
        "outputId": "b16ee386-2784-4b70-afb1-20d171e8c264"
      },
      "cell_type": "code",
      "source": [
        "print('previsores[:, 0]=')\n",
        "previsores[:10, 0]"
      ],
      "execution_count": 181,
      "outputs": [
        {
          "output_type": "stream",
          "text": [
            "previsores[:, 0]=\n"
          ],
          "name": "stdout"
        },
        {
          "output_type": "execute_result",
          "data": {
            "text/plain": [
              "array(['<0', '0<=X<200', \"'no checking'\", '<0', '<0', \"'no checking'\",\n",
              "       \"'no checking'\", '0<=X<200', \"'no checking'\", '0<=X<200'],\n",
              "      dtype=object)"
            ]
          },
          "metadata": {
            "tags": []
          },
          "execution_count": 181
        }
      ]
    },
    {
      "metadata": {
        "id": "MNbBgSQbCexn",
        "colab_type": "code",
        "colab": {
          "base_uri": "https://localhost:8080/",
          "height": 51
        },
        "outputId": "60ca1eff-cd7c-4ade-f135-10a9ce865b3b"
      },
      "cell_type": "code",
      "source": [
        "# algoritmo GaussianNB só trabalha com valores numericos\n",
        "# transformar os atributos categoricos em valores numericos\n",
        "from sklearn.preprocessing import LabelEncoder\n",
        "\n",
        "labelencoder = LabelEncoder()\n",
        "previsores[:,0] = labelencoder.fit_transform(previsores[:,0])\n",
        "print('previsores[:, 0]=')\n",
        "previsores[:10, 0]"
      ],
      "execution_count": 182,
      "outputs": [
        {
          "output_type": "stream",
          "text": [
            "previsores[:, 0]=\n"
          ],
          "name": "stdout"
        },
        {
          "output_type": "execute_result",
          "data": {
            "text/plain": [
              "array([2, 1, 0, 2, 2, 0, 0, 1, 0, 1], dtype=object)"
            ]
          },
          "metadata": {
            "tags": []
          },
          "execution_count": 182
        }
      ]
    },
    {
      "metadata": {
        "id": "a-SQGNGrDcon",
        "colab_type": "code",
        "colab": {
          "base_uri": "https://localhost:8080/",
          "height": 68
        },
        "outputId": "49dc984d-6934-4bac-fcb2-aaabe1b34b31"
      },
      "cell_type": "code",
      "source": [
        "# transforma os outros atributos categoricos\n",
        "previsores[:,2] = labelencoder.fit_transform(previsores[:,2])\n",
        "previsores[:,3] = labelencoder.fit_transform(previsores[:,3])\n",
        "previsores[:,5] = labelencoder.fit_transform(previsores[:,5])\n",
        "previsores[:,6] = labelencoder.fit_transform(previsores[:,6])\n",
        "previsores[:,8] = labelencoder.fit_transform(previsores[:,8])\n",
        "previsores[:,9] = labelencoder.fit_transform(previsores[:,9])\n",
        "previsores[:,11] = labelencoder.fit_transform(previsores[:,11])\n",
        "previsores[:,13] = labelencoder.fit_transform(previsores[:,13])\n",
        "previsores[:,14] = labelencoder.fit_transform(previsores[:,14])\n",
        "previsores[:,16] = labelencoder.fit_transform(previsores[:,16])\n",
        "previsores[:,18] = labelencoder.fit_transform(previsores[:,18])\n",
        "previsores[:,19] = labelencoder.fit_transform(previsores[:,19])\n",
        "print('previsores[0]=')\n",
        "previsores[0]"
      ],
      "execution_count": 183,
      "outputs": [
        {
          "output_type": "stream",
          "text": [
            "previsores[0]=\n"
          ],
          "name": "stdout"
        },
        {
          "output_type": "execute_result",
          "data": {
            "text/plain": [
              "array([2, 6, 1, 7, 1169, 0, 3, 4, 3, 2, 4, 2, 67, 1, 1, 2, 3, 1, 1, 1],\n",
              "      dtype=object)"
            ]
          },
          "metadata": {
            "tags": []
          },
          "execution_count": 183
        }
      ]
    },
    {
      "metadata": {
        "id": "AtmHvLBeEOcL",
        "colab_type": "code",
        "colab": {}
      },
      "cell_type": "code",
      "source": [
        "X_treinamento, X_teste, y_treinamento, y_teste = train_test_split(\n",
        "    previsores,\n",
        "    classe,\n",
        "    test_size = 0.3,\n",
        "    random_state = 0\n",
        ")"
      ],
      "execution_count": 0,
      "outputs": []
    },
    {
      "metadata": {
        "id": "FptQK4h-Eg9T",
        "colab_type": "code",
        "colab": {
          "base_uri": "https://localhost:8080/",
          "height": 85
        },
        "outputId": "35e80a12-9d4d-4d35-e258-41570fb510ae"
      },
      "cell_type": "code",
      "source": [
        "print('X_treinamento size = {}'.format(len(X_treinamento)))\n",
        "print('X_teste size = {}'.format(len(X_teste)))\n",
        "print('y_treinamento size = {}'.format(len(y_treinamento)))\n",
        "print('y_teste size = {}'.format(len(y_teste)))"
      ],
      "execution_count": 185,
      "outputs": [
        {
          "output_type": "stream",
          "text": [
            "X_treinamento size = 700\n",
            "X_teste size = 300\n",
            "y_treinamento size = 700\n",
            "y_teste size = 300\n"
          ],
          "name": "stdout"
        }
      ]
    },
    {
      "metadata": {
        "id": "TF7iRHPTFEdH",
        "colab_type": "text"
      },
      "cell_type": "markdown",
      "source": [
        "# Python: Classificação na Prática com Naive Bayes - Parte II"
      ]
    },
    {
      "metadata": {
        "id": "aVYAUxH_FGRk",
        "colab_type": "code",
        "colab": {}
      },
      "cell_type": "code",
      "source": [
        "# 110. Python: Classificação na Prática com Naive Bayes - Parte I\n",
        "\n",
        "naive_bayes = GaussianNB()\n",
        "naive_bayes.fit(X_treinamento, y_treinamento)\n",
        "\n",
        "previsoes = naive_bayes.predict(X_teste)"
      ],
      "execution_count": 0,
      "outputs": []
    },
    {
      "metadata": {
        "id": "loBKvhl1GAUu",
        "colab_type": "code",
        "colab": {
          "base_uri": "https://localhost:8080/",
          "height": 85
        },
        "outputId": "686a6605-a391-420a-e3d2-ef7803d2014b"
      },
      "cell_type": "code",
      "source": [
        "print('previsoes=')\n",
        "print(previsoes[:10])\n",
        "print('y_teste=')\n",
        "print(y_teste[:10])"
      ],
      "execution_count": 187,
      "outputs": [
        {
          "output_type": "stream",
          "text": [
            "previsoes=\n",
            "['bad' 'good' 'good' 'good' 'bad' 'good' 'good' 'good' 'good' 'bad']\n",
            "y_teste=\n",
            "['good' 'good' 'good' 'good' 'good' 'good' 'good' 'good' 'good' 'bad']\n"
          ],
          "name": "stdout"
        }
      ]
    },
    {
      "metadata": {
        "id": "WrUxsDD3G6Gu",
        "colab_type": "code",
        "colab": {}
      },
      "cell_type": "code",
      "source": [
        "from sklearn.metrics import confusion_matrix, accuracy_score\n",
        "\n",
        "confusao = confusion_matrix(y_teste, previsoes)"
      ],
      "execution_count": 0,
      "outputs": []
    },
    {
      "metadata": {
        "id": "7b9jVSG5HKIN",
        "colab_type": "code",
        "colab": {
          "base_uri": "https://localhost:8080/",
          "height": 68
        },
        "outputId": "b7cd2498-e431-4e12-dd0b-00d4da5630f2"
      },
      "cell_type": "code",
      "source": [
        "print('confusao=')\n",
        "print(confusao)"
      ],
      "execution_count": 189,
      "outputs": [
        {
          "output_type": "stream",
          "text": [
            "confusao=\n",
            "[[ 41  45]\n",
            " [ 42 172]]\n"
          ],
          "name": "stdout"
        }
      ]
    },
    {
      "metadata": {
        "id": "Fc4QHFi5HSIX",
        "colab_type": "code",
        "colab": {
          "base_uri": "https://localhost:8080/",
          "height": 51
        },
        "outputId": "7dd77d02-da44-4664-8f5d-73fafcea1ece"
      },
      "cell_type": "code",
      "source": [
        "taxa_acerto = accuracy_score(y_teste, previsoes)\n",
        "print('taxa de acerto = {}'.format(taxa_acerto))\n",
        "taxa_erro = 1 - taxa_acerto\n",
        "print('taxa de erro = {}'.format(taxa_erro))"
      ],
      "execution_count": 190,
      "outputs": [
        {
          "output_type": "stream",
          "text": [
            "taxa de acerto = 0.71\n",
            "taxa de erro = 0.29000000000000004\n"
          ],
          "name": "stdout"
        }
      ]
    },
    {
      "metadata": {
        "id": "ecTOGHe2HlNg",
        "colab_type": "code",
        "colab": {
          "base_uri": "https://localhost:8080/",
          "height": 392
        },
        "outputId": "383dd41c-4959-4ddd-99ad-f5776a58cf6b"
      },
      "cell_type": "code",
      "source": [
        "from yellowbrick.classifier import ConfusionMatrix\n",
        "v = ConfusionMatrix(GaussianNB())\n",
        "v.fit(X_treinamento, y_treinamento)\n",
        "v.score(X_teste, y_teste)\n",
        "# Draw/show/poof the data\n",
        "v.poof()"
      ],
      "execution_count": 191,
      "outputs": [
        {
          "output_type": "display_data",
          "data": {
            "image/png": "[encoded data removed]",
            "text/plain": [
              "<Figure size 576x396 with 1 Axes>"
            ]
          },
          "metadata": {
            "tags": []
          }
        }
      ]
    },
    {
      "metadata": {
        "id": "Ba8Om3pLKQ0G",
        "colab_type": "text"
      },
      "cell_type": "markdown",
      "source": [
        "# Python: Simulando o Modelo em Produção"
      ]
    },
    {
      "metadata": {
        "id": "0Dt0N_NnKSqU",
        "colab_type": "code",
        "colab": {
          "base_uri": "https://localhost:8080/",
          "height": 100
        },
        "outputId": "02d21382-76f4-4555-c350-b374c648b13b"
      },
      "cell_type": "code",
      "source": [
        "# 111. Python: Simulando o Modelo em Produção\n",
        "novo_credito = pd.read_csv('NovoCredit.csv')\n",
        "novo_credito.tail()"
      ],
      "execution_count": 192,
      "outputs": [
        {
          "output_type": "execute_result",
          "data": {
            "text/html": [
              "<div>\n",
              "<style scoped>\n",
              "    .dataframe tbody tr th:only-of-type {\n",
              "        vertical-align: middle;\n",
              "    }\n",
              "\n",
              "    .dataframe tbody tr th {\n",
              "        vertical-align: top;\n",
              "    }\n",
              "\n",
              "    .dataframe thead th {\n",
              "        text-align: right;\n",
              "    }\n",
              "</style>\n",
              "<table border=\"1\" class=\"dataframe\">\n",
              "  <thead>\n",
              "    <tr style=\"text-align: right;\">\n",
              "      <th></th>\n",
              "      <th>checking_status</th>\n",
              "      <th>duration</th>\n",
              "      <th>credit_history</th>\n",
              "      <th>purpose</th>\n",
              "      <th>credit_amount</th>\n",
              "      <th>savings_status</th>\n",
              "      <th>employment</th>\n",
              "      <th>installment_commitment</th>\n",
              "      <th>personal_status</th>\n",
              "      <th>other_parties</th>\n",
              "      <th>residence_since</th>\n",
              "      <th>property_magnitude</th>\n",
              "      <th>age</th>\n",
              "      <th>other_payment_plans</th>\n",
              "      <th>housing</th>\n",
              "      <th>existing_credits</th>\n",
              "      <th>job</th>\n",
              "      <th>num_dependents</th>\n",
              "      <th>own_telephone</th>\n",
              "      <th>foreign_worker</th>\n",
              "    </tr>\n",
              "  </thead>\n",
              "  <tbody>\n",
              "    <tr>\n",
              "      <th>0</th>\n",
              "      <td>'no checking'</td>\n",
              "      <td>12</td>\n",
              "      <td>'existing paid'</td>\n",
              "      <td>radio/tv</td>\n",
              "      <td>804</td>\n",
              "      <td>&lt;100</td>\n",
              "      <td>&gt;=7</td>\n",
              "      <td>4</td>\n",
              "      <td>'male single'</td>\n",
              "      <td>none</td>\n",
              "      <td>4</td>\n",
              "      <td>car</td>\n",
              "      <td>38</td>\n",
              "      <td>none</td>\n",
              "      <td>own</td>\n",
              "      <td>1</td>\n",
              "      <td>skilled</td>\n",
              "      <td>1</td>\n",
              "      <td>none</td>\n",
              "      <td>yes</td>\n",
              "    </tr>\n",
              "  </tbody>\n",
              "</table>\n",
              "</div>"
            ],
            "text/plain": [
              "  checking_status  duration   credit_history   purpose  credit_amount  \\\n",
              "0   'no checking'        12  'existing paid'  radio/tv            804   \n",
              "\n",
              "  savings_status employment  installment_commitment personal_status  \\\n",
              "0           <100        >=7                       4   'male single'   \n",
              "\n",
              "  other_parties  residence_since property_magnitude  age other_payment_plans  \\\n",
              "0          none                4                car   38                none   \n",
              "\n",
              "  housing  existing_credits      job  num_dependents own_telephone  \\\n",
              "0     own                 1  skilled               1          none   \n",
              "\n",
              "  foreign_worker  \n",
              "0            yes  "
            ]
          },
          "metadata": {
            "tags": []
          },
          "execution_count": 192
        }
      ]
    },
    {
      "metadata": {
        "id": "1_v8gf2EKfN1",
        "colab_type": "code",
        "colab": {
          "base_uri": "https://localhost:8080/",
          "height": 102
        },
        "outputId": "0f3c4a29-f39b-4759-953d-0ee102cf138d"
      },
      "cell_type": "code",
      "source": [
        "# dados\n",
        "novo_credito = novo_credito.iloc[:, 0:20].values\n",
        "print('novo_credito=')\n",
        "novo_credito[:5]\n",
        "print('novo_credito[0]=')\n",
        "novo_credito[0]"
      ],
      "execution_count": 193,
      "outputs": [
        {
          "output_type": "stream",
          "text": [
            "novo_credito=\n",
            "novo_credito[0]=\n"
          ],
          "name": "stdout"
        },
        {
          "output_type": "execute_result",
          "data": {
            "text/plain": [
              "array([\"'no checking'\", 12, \"'existing paid'\", 'radio/tv', 804, '<100',\n",
              "       '>=7', 4, \"'male single'\", 'none', 4, 'car', 38, 'none', 'own', 1,\n",
              "       'skilled', 1, 'none', 'yes'], dtype=object)"
            ]
          },
          "metadata": {
            "tags": []
          },
          "execution_count": 193
        }
      ]
    },
    {
      "metadata": {
        "id": "rSO4FLwyK8lR",
        "colab_type": "code",
        "colab": {
          "base_uri": "https://localhost:8080/",
          "height": 68
        },
        "outputId": "90e053a2-d63c-49f1-efed-d2254a2801f5"
      },
      "cell_type": "code",
      "source": [
        "# ajusta os labels\n",
        "# usar a mesma instancia do objeto label que fez o encoder\n",
        "novo_credito[:,0] = labelencoder.fit_transform(novo_credito[:,0])\n",
        "novo_credito[:,2] = labelencoder.fit_transform(novo_credito[:,2])\n",
        "novo_credito[:,3] = labelencoder.fit_transform(novo_credito[:,3])\n",
        "novo_credito[:,5] = labelencoder.fit_transform(novo_credito[:,5])\n",
        "novo_credito[:,6] = labelencoder.fit_transform(novo_credito[:,6])\n",
        "novo_credito[:,8] = labelencoder.fit_transform(novo_credito[:,8])\n",
        "novo_credito[:,9] = labelencoder.fit_transform(novo_credito[:,9])\n",
        "novo_credito[:,11] = labelencoder.fit_transform(novo_credito[:,11])\n",
        "novo_credito[:,13] = labelencoder.fit_transform(novo_credito[:,13])\n",
        "novo_credito[:,14] = labelencoder.fit_transform(novo_credito[:,14])\n",
        "novo_credito[:,16] = labelencoder.fit_transform(novo_credito[:,16])\n",
        "novo_credito[:,18] = labelencoder.fit_transform(novo_credito[:,18])\n",
        "novo_credito[:,19] = labelencoder.fit_transform(novo_credito[:,19])\n",
        "print('novo_credito[0]=')\n",
        "novo_credito[0]"
      ],
      "execution_count": 194,
      "outputs": [
        {
          "output_type": "stream",
          "text": [
            "novo_credito[0]=\n"
          ],
          "name": "stdout"
        },
        {
          "output_type": "execute_result",
          "data": {
            "text/plain": [
              "array([0, 12, 0, 0, 804, 0, 0, 4, 0, 0, 4, 0, 38, 0, 0, 1, 0, 1, 0, 0],\n",
              "      dtype=object)"
            ]
          },
          "metadata": {
            "tags": []
          },
          "execution_count": 194
        }
      ]
    },
    {
      "metadata": {
        "id": "DtQRR_KbLf2O",
        "colab_type": "code",
        "colab": {
          "base_uri": "https://localhost:8080/",
          "height": 51
        },
        "outputId": "188688b8-2370-45fb-be89-2ec54f9215ba"
      },
      "cell_type": "code",
      "source": [
        "previsoes = naive_bayes.predict(novo_credito)\n",
        "print('previsoes=')\n",
        "print(previsoes)"
      ],
      "execution_count": 195,
      "outputs": [
        {
          "output_type": "stream",
          "text": [
            "previsoes=\n",
            "['good']\n"
          ],
          "name": "stdout"
        }
      ]
    },
    {
      "metadata": {
        "id": "WOZksD8JLwNH",
        "colab_type": "text"
      },
      "cell_type": "markdown",
      "source": [
        "# Python: Árvore de Decisão"
      ]
    },
    {
      "metadata": {
        "id": "4Hp8YTERLy4H",
        "colab_type": "code",
        "colab": {}
      },
      "cell_type": "code",
      "source": [
        "# 112. Python: Árvore de Decisão\n",
        "\n",
        "import pandas as pd\n",
        "from sklearn.model_selection import train_test_split\n",
        "from sklearn.metrics import confusion_matrix, accuracy_score\n",
        "from sklearn.preprocessing import LabelEncoder\n",
        "from sklearn.tree import DecisionTreeClassifier\n",
        "\n",
        "credito = pd.read_csv('Credit.csv')\n",
        "\n",
        "previsores = credito.iloc[:, 0:20].values\n",
        "classe = credito.iloc[:, 20].values\n",
        "\n",
        "\n",
        "labelencoder = LabelEncoder()\n",
        "previsores[:,0] = labelencoder.fit_transform(previsores[:,0])\n",
        "previsores[:,2] = labelencoder.fit_transform(previsores[:,2])\n",
        "previsores[:,3] = labelencoder.fit_transform(previsores[:,3])\n",
        "previsores[:,5] = labelencoder.fit_transform(previsores[:,5])\n",
        "previsores[:,6] = labelencoder.fit_transform(previsores[:,6])\n",
        "previsores[:,8] = labelencoder.fit_transform(previsores[:,8])\n",
        "previsores[:,9] = labelencoder.fit_transform(previsores[:,9])\n",
        "previsores[:,11] = labelencoder.fit_transform(previsores[:,11])\n",
        "previsores[:,13] = labelencoder.fit_transform(previsores[:,13])\n",
        "previsores[:,14] = labelencoder.fit_transform(previsores[:,14])\n",
        "previsores[:,16] = labelencoder.fit_transform(previsores[:,16])\n",
        "previsores[:,18] = labelencoder.fit_transform(previsores[:,18])\n",
        "previsores[:,19] = labelencoder.fit_transform(previsores[:,19])\n",
        "\n",
        "X_treinamento, X_teste, y_treinamento, y_teste = train_test_split(\n",
        "    previsores,\n",
        "    classe,\n",
        "    test_size = 0.3,\n",
        "    random_state = 0\n",
        ")\n"
      ],
      "execution_count": 0,
      "outputs": []
    },
    {
      "metadata": {
        "id": "DRa_1yI-NEI6",
        "colab_type": "code",
        "colab": {
          "base_uri": "https://localhost:8080/",
          "height": 68
        },
        "outputId": "a7c54cff-4d84-47b8-bbd1-d7f13941a64c"
      },
      "cell_type": "code",
      "source": [
        "print('previsores[0]=')\n",
        "previsores[0]"
      ],
      "execution_count": 197,
      "outputs": [
        {
          "output_type": "stream",
          "text": [
            "previsores[0]=\n"
          ],
          "name": "stdout"
        },
        {
          "output_type": "execute_result",
          "data": {
            "text/plain": [
              "array([2, 6, 1, 7, 1169, 0, 3, 4, 3, 2, 4, 2, 67, 1, 1, 2, 3, 1, 1, 1],\n",
              "      dtype=object)"
            ]
          },
          "metadata": {
            "tags": []
          },
          "execution_count": 197
        }
      ]
    },
    {
      "metadata": {
        "id": "UDQchV6vNIDZ",
        "colab_type": "code",
        "colab": {
          "base_uri": "https://localhost:8080/",
          "height": 119
        },
        "outputId": "ab2089a3-7e87-426b-c47e-898d1c84684d"
      },
      "cell_type": "code",
      "source": [
        "arvore = DecisionTreeClassifier()\n",
        "arvore.fit(X_treinamento, y_treinamento)"
      ],
      "execution_count": 198,
      "outputs": [
        {
          "output_type": "execute_result",
          "data": {
            "text/plain": [
              "DecisionTreeClassifier(class_weight=None, criterion='gini', max_depth=None,\n",
              "            max_features=None, max_leaf_nodes=None,\n",
              "            min_impurity_decrease=0.0, min_impurity_split=None,\n",
              "            min_samples_leaf=1, min_samples_split=2,\n",
              "            min_weight_fraction_leaf=0.0, presort=False, random_state=None,\n",
              "            splitter='best')"
            ]
          },
          "metadata": {
            "tags": []
          },
          "execution_count": 198
        }
      ]
    },
    {
      "metadata": {
        "id": "EsUcIRnhNPhX",
        "colab_type": "code",
        "colab": {}
      },
      "cell_type": "code",
      "source": [
        "# graph visualization software\n",
        "import graphviz\n",
        "from sklearn.tree import export_graphviz\n",
        "\n",
        "export_graphviz(arvore, out_file='tree.dot')"
      ],
      "execution_count": 0,
      "outputs": []
    },
    {
      "metadata": {
        "id": "QRcPVfNJrWAA",
        "colab_type": "text"
      },
      "cell_type": "markdown",
      "source": [
        "# WebGraphviz is Graphviz in the Browser\n",
        "\n",
        "Graph visualization is a way of representing structural information as diagrams of abstract graphs and networks.\n",
        "\n",
        "link:\n",
        "http://www.webgraphviz.com/\n",
        "\n",
        "Abra o arquivo `tree.dot`, cole o conteúdo no textare e clique no botão `gerar gráfico`.\n",
        "\n",
        "![alt text](https://github.com/ronivaldo/udemy-curso-cientista_dados/raw/master/resources/machine_learning_classificacao_webgraphviz.png \"Árvore de Decisão\")"
      ]
    },
    {
      "metadata": {
        "id": "La81uTlrrMaX",
        "colab_type": "code",
        "colab": {}
      },
      "cell_type": "code",
      "source": [
        "previsoes = arvore.predict(X_teste)"
      ],
      "execution_count": 0,
      "outputs": []
    },
    {
      "metadata": {
        "id": "Rfol_AKSspI-",
        "colab_type": "code",
        "colab": {
          "base_uri": "https://localhost:8080/",
          "height": 51
        },
        "outputId": "e8ec9436-dec6-42f3-9989-954afdd474c6"
      },
      "cell_type": "code",
      "source": [
        "confusao = confusion_matrix(y_teste, previsoes)\n",
        "taxa_acerto = accuracy_score(y_teste, previsoes)\n",
        "print('taxa de acerto = {}'.format(taxa_acerto))\n",
        "taxa_erro = 1 - taxa_acerto\n",
        "print('taxa de erro = {}'.format(taxa_erro))"
      ],
      "execution_count": 201,
      "outputs": [
        {
          "output_type": "stream",
          "text": [
            "taxa de acerto = 0.71\n",
            "taxa de erro = 0.29000000000000004\n"
          ],
          "name": "stdout"
        }
      ]
    },
    {
      "metadata": {
        "id": "SmxAZtkPtDY-",
        "colab_type": "code",
        "colab": {
          "base_uri": "https://localhost:8080/",
          "height": 392
        },
        "outputId": "5522c4d1-26ca-4aa2-ca1e-749118ea5be0"
      },
      "cell_type": "code",
      "source": [
        "from yellowbrick.classifier import ConfusionMatrix\n",
        "v = ConfusionMatrix(DecisionTreeClassifier())\n",
        "v.fit(X_treinamento, y_treinamento)\n",
        "v.score(X_teste, y_teste)\n",
        "# Draw/show/poof the data\n",
        "v.poof()"
      ],
      "execution_count": 202,
      "outputs": [
        {
          "output_type": "display_data",
          "data": {
            "image/png": "[encoded data removed]",
            "text/plain": [
              "<Figure size 576x396 with 1 Axes>"
            ]
          },
          "metadata": {
            "tags": []
          }
        }
      ]
    },
    {
      "metadata": {
        "id": "GHoRhdZ3tutR",
        "colab_type": "text"
      },
      "cell_type": "markdown",
      "source": [
        "# Python: Seleção de Atributos"
      ]
    },
    {
      "metadata": {
        "id": "Wm8rY8IMtw7J",
        "colab_type": "code",
        "colab": {}
      },
      "cell_type": "code",
      "source": [
        "# 113. Python: Seleção de Atributos\n",
        "\n",
        "import pandas as pd\n",
        "from sklearn.model_selection import train_test_split\n",
        "from sklearn.metrics import confusion_matrix, accuracy_score\n",
        "from sklearn.preprocessing import LabelEncoder\n",
        "from sklearn.svm import SVC\n",
        "\n",
        "credito = pd.read_csv('Credit.csv')\n",
        "\n",
        "previsores = credito.iloc[:, 0:20].values\n",
        "classe = credito.iloc[:, 20].values\n",
        "\n",
        "labelencoder = LabelEncoder()\n",
        "previsores[:,0] = labelencoder.fit_transform(previsores[:,0])\n",
        "previsores[:,2] = labelencoder.fit_transform(previsores[:,2])\n",
        "previsores[:,3] = labelencoder.fit_transform(previsores[:,3])\n",
        "previsores[:,5] = labelencoder.fit_transform(previsores[:,5])\n",
        "previsores[:,6] = labelencoder.fit_transform(previsores[:,6])\n",
        "previsores[:,8] = labelencoder.fit_transform(previsores[:,8])\n",
        "previsores[:,9] = labelencoder.fit_transform(previsores[:,9])\n",
        "previsores[:,11] = labelencoder.fit_transform(previsores[:,11])\n",
        "previsores[:,13] = labelencoder.fit_transform(previsores[:,13])\n",
        "previsores[:,14] = labelencoder.fit_transform(previsores[:,14])\n",
        "previsores[:,16] = labelencoder.fit_transform(previsores[:,16])\n",
        "previsores[:,18] = labelencoder.fit_transform(previsores[:,18])\n",
        "previsores[:,19] = labelencoder.fit_transform(previsores[:,19])\n",
        "\n",
        "X_treinamento, X_teste, y_treinamento, y_teste = train_test_split(\n",
        "    previsores,\n",
        "    classe,\n",
        "    test_size = 0.3,\n",
        "    random_state = 0\n",
        ")\n"
      ],
      "execution_count": 0,
      "outputs": []
    },
    {
      "metadata": {
        "id": "sqjzOZHSuGPY",
        "colab_type": "code",
        "colab": {
          "base_uri": "https://localhost:8080/",
          "height": 68
        },
        "outputId": "8787b584-927c-47e5-e63f-81e40410726d"
      },
      "cell_type": "code",
      "source": [
        "print('previsores[0]=')\n",
        "previsores[0]"
      ],
      "execution_count": 204,
      "outputs": [
        {
          "output_type": "stream",
          "text": [
            "previsores[0]=\n"
          ],
          "name": "stdout"
        },
        {
          "output_type": "execute_result",
          "data": {
            "text/plain": [
              "array([2, 6, 1, 7, 1169, 0, 3, 4, 3, 2, 4, 2, 67, 1, 1, 2, 3, 1, 1, 1],\n",
              "      dtype=object)"
            ]
          },
          "metadata": {
            "tags": []
          },
          "execution_count": 204
        }
      ]
    },
    {
      "metadata": {
        "id": "HFDALBEbuLDv",
        "colab_type": "code",
        "colab": {
          "base_uri": "https://localhost:8080/",
          "height": 139
        },
        "outputId": "03030dcb-212d-4f03-c0e1-578f51eeda8e"
      },
      "cell_type": "code",
      "source": [
        "svm = SVC()\n",
        "svm.fit(X_treinamento, y_treinamento)"
      ],
      "execution_count": 205,
      "outputs": [
        {
          "output_type": "stream",
          "text": [
            "/usr/local/lib/python3.6/dist-packages/sklearn/svm/base.py:196: FutureWarning: The default value of gamma will change from 'auto' to 'scale' in version 0.22 to account better for unscaled features. Set gamma explicitly to 'auto' or 'scale' to avoid this warning.\n",
            "  \"avoid this warning.\", FutureWarning)\n"
          ],
          "name": "stderr"
        },
        {
          "output_type": "execute_result",
          "data": {
            "text/plain": [
              "SVC(C=1.0, cache_size=200, class_weight=None, coef0=0.0,\n",
              "  decision_function_shape='ovr', degree=3, gamma='auto_deprecated',\n",
              "  kernel='rbf', max_iter=-1, probability=False, random_state=None,\n",
              "  shrinking=True, tol=0.001, verbose=False)"
            ]
          },
          "metadata": {
            "tags": []
          },
          "execution_count": 205
        }
      ]
    },
    {
      "metadata": {
        "id": "uNp5xBCQucru",
        "colab_type": "code",
        "colab": {}
      },
      "cell_type": "code",
      "source": [
        "previsoes = svm.predict(X_teste)"
      ],
      "execution_count": 0,
      "outputs": []
    },
    {
      "metadata": {
        "id": "9R3uBbNkuhy_",
        "colab_type": "code",
        "colab": {
          "base_uri": "https://localhost:8080/",
          "height": 51
        },
        "outputId": "3d47b795-d654-433b-b21c-2d2d272a48e9"
      },
      "cell_type": "code",
      "source": [
        "confusao = confusion_matrix(y_teste, previsoes)\n",
        "taxa_acerto = accuracy_score(y_teste, previsoes)\n",
        "print('taxa de acerto = {}'.format(taxa_acerto))\n",
        "taxa_erro = 1 - taxa_acerto\n",
        "print('taxa de erro = {}'.format(taxa_erro))"
      ],
      "execution_count": 207,
      "outputs": [
        {
          "output_type": "stream",
          "text": [
            "taxa de acerto = 0.7133333333333334\n",
            "taxa de erro = 0.2866666666666666\n"
          ],
          "name": "stdout"
        }
      ]
    },
    {
      "metadata": {
        "id": "UuhbAEyIulH-",
        "colab_type": "code",
        "colab": {
          "base_uri": "https://localhost:8080/",
          "height": 446
        },
        "outputId": "a41bae34-b0b1-4df3-cf16-5adc64734453"
      },
      "cell_type": "code",
      "source": [
        "from yellowbrick.classifier import ConfusionMatrix\n",
        "v = ConfusionMatrix(SVC())\n",
        "v.fit(X_treinamento, y_treinamento)\n",
        "v.score(X_teste, y_teste)\n",
        "# Draw/show/poof the data\n",
        "v.poof()"
      ],
      "execution_count": 208,
      "outputs": [
        {
          "output_type": "stream",
          "text": [
            "/usr/local/lib/python3.6/dist-packages/sklearn/svm/base.py:196: FutureWarning: The default value of gamma will change from 'auto' to 'scale' in version 0.22 to account better for unscaled features. Set gamma explicitly to 'auto' or 'scale' to avoid this warning.\n",
            "  \"avoid this warning.\", FutureWarning)\n"
          ],
          "name": "stderr"
        },
        {
          "output_type": "display_data",
          "data": {
            "image/png": "[encoded data removed]",
            "text/plain": [
              "<Figure size 576x396 with 1 Axes>"
            ]
          },
          "metadata": {
            "tags": []
          }
        }
      ]
    },
    {
      "metadata": {
        "id": "GnsR17flu7Vy",
        "colab_type": "code",
        "colab": {
          "base_uri": "https://localhost:8080/",
          "height": 71
        },
        "outputId": "bd46281f-b6ee-40da-e4b0-e8bff5e706f8"
      },
      "cell_type": "code",
      "source": [
        "import pandas as pd\n",
        "from sklearn.model_selection import train_test_split\n",
        "from sklearn.metrics import confusion_matrix, accuracy_score\n",
        "from sklearn.preprocessing import LabelEncoder\n",
        "from sklearn.svm import SVC\n",
        "from sklearn.ensemble import ExtraTreesClassifier\n",
        "\n",
        "credito = pd.read_csv('Credit.csv')\n",
        "\n",
        "previsores = credito.iloc[:, 0:20].values\n",
        "classe = credito.iloc[:, 20].values\n",
        "\n",
        "labelencoder = LabelEncoder()\n",
        "previsores[:,0] = labelencoder.fit_transform(previsores[:,0])\n",
        "previsores[:,2] = labelencoder.fit_transform(previsores[:,2])\n",
        "previsores[:,3] = labelencoder.fit_transform(previsores[:,3])\n",
        "previsores[:,5] = labelencoder.fit_transform(previsores[:,5])\n",
        "previsores[:,6] = labelencoder.fit_transform(previsores[:,6])\n",
        "previsores[:,8] = labelencoder.fit_transform(previsores[:,8])\n",
        "previsores[:,9] = labelencoder.fit_transform(previsores[:,9])\n",
        "previsores[:,11] = labelencoder.fit_transform(previsores[:,11])\n",
        "previsores[:,13] = labelencoder.fit_transform(previsores[:,13])\n",
        "previsores[:,14] = labelencoder.fit_transform(previsores[:,14])\n",
        "previsores[:,16] = labelencoder.fit_transform(previsores[:,16])\n",
        "previsores[:,18] = labelencoder.fit_transform(previsores[:,18])\n",
        "previsores[:,19] = labelencoder.fit_transform(previsores[:,19])\n",
        "\n",
        "X_treinamento, X_teste, y_treinamento, y_teste = train_test_split(\n",
        "    previsores,\n",
        "    classe,\n",
        "    test_size = 0.3,\n",
        "    random_state = 0\n",
        ")\n",
        "\n",
        "forest = ExtraTreesClassifier()\n",
        "forest.fit(X_treinamento, y_treinamento)\n",
        "importancias = forest.feature_importances_\n",
        "\n",
        "previsoes = forest.predict(X_teste)"
      ],
      "execution_count": 209,
      "outputs": [
        {
          "output_type": "stream",
          "text": [
            "/usr/local/lib/python3.6/dist-packages/sklearn/ensemble/forest.py:246: FutureWarning: The default value of n_estimators will change from 10 in version 0.20 to 100 in 0.22.\n",
            "  \"10 in version 0.20 to 100 in 0.22.\", FutureWarning)\n"
          ],
          "name": "stderr"
        }
      ]
    },
    {
      "metadata": {
        "id": "xktFjTt6vXAL",
        "colab_type": "code",
        "colab": {
          "base_uri": "https://localhost:8080/",
          "height": 51
        },
        "outputId": "bd169554-ef50-48ce-d5cc-dbf98654445c"
      },
      "cell_type": "code",
      "source": [
        "confusao = confusion_matrix(y_teste, previsoes)\n",
        "taxa_acerto = accuracy_score(y_teste, previsoes)\n",
        "print('taxa de acerto = {}'.format(taxa_acerto))\n",
        "taxa_erro = 1 - taxa_acerto\n",
        "print('taxa de erro = {}'.format(taxa_erro))"
      ],
      "execution_count": 210,
      "outputs": [
        {
          "output_type": "stream",
          "text": [
            "taxa de acerto = 0.74\n",
            "taxa de erro = 0.26\n"
          ],
          "name": "stdout"
        }
      ]
    },
    {
      "metadata": {
        "id": "KW9ySBL5vhpq",
        "colab_type": "code",
        "colab": {
          "base_uri": "https://localhost:8080/",
          "height": 392
        },
        "outputId": "23190990-43c1-420b-82d5-bb5f26fce182"
      },
      "cell_type": "code",
      "source": [
        "from yellowbrick.classifier import ConfusionMatrix\n",
        "v = ConfusionMatrix(DecisionTreeClassifier())\n",
        "v.fit(X_treinamento, y_treinamento)\n",
        "v.score(X_teste, y_teste)\n",
        "# Draw/show/poof the data\n",
        "v.poof()"
      ],
      "execution_count": 211,
      "outputs": [
        {
          "output_type": "display_data",
          "data": {
            "image/png": "[encoded data removed]",
            "text/plain": [
              "<Figure size 576x396 with 1 Axes>"
            ]
          },
          "metadata": {
            "tags": []
          }
        }
      ]
    },
    {
      "metadata": {
        "id": "rae2ReYgvyM2",
        "colab_type": "code",
        "colab": {
          "base_uri": "https://localhost:8080/",
          "height": 102
        },
        "outputId": "27d15234-8773-404f-82cc-01b3c31498a3"
      },
      "cell_type": "code",
      "source": [
        "print('importancia de cada atributo=')\n",
        "importancias"
      ],
      "execution_count": 212,
      "outputs": [
        {
          "output_type": "stream",
          "text": [
            "importancia de cada atributo=\n"
          ],
          "name": "stdout"
        },
        {
          "output_type": "execute_result",
          "data": {
            "text/plain": [
              "array([0.10619791, 0.08549711, 0.07141969, 0.05976283, 0.08209684,\n",
              "       0.05468961, 0.04429365, 0.05146863, 0.0450377 , 0.02805008,\n",
              "       0.05059006, 0.05066073, 0.06059205, 0.03154197, 0.03503133,\n",
              "       0.03297192, 0.04404984, 0.02696957, 0.02894422, 0.01013424])"
            ]
          },
          "metadata": {
            "tags": []
          },
          "execution_count": 212
        }
      ]
    },
    {
      "metadata": {
        "id": "IJE9yaSSwB47",
        "colab_type": "code",
        "colab": {}
      },
      "cell_type": "code",
      "source": [
        "# selecionar os melhores atributos 0,1,2,3\n",
        "X_treinamento2 = X_treinamento[:, [0,1,2,3]]\n",
        "X_teste2 = X_teste[:, [0,1,2,3]]"
      ],
      "execution_count": 0,
      "outputs": []
    },
    {
      "metadata": {
        "id": "ZpwSKSjUwdLa",
        "colab_type": "code",
        "colab": {
          "base_uri": "https://localhost:8080/",
          "height": 139
        },
        "outputId": "21d96abc-2946-4ccc-f67e-605fc679c449"
      },
      "cell_type": "code",
      "source": [
        "svm2 = SVC()\n",
        "svm2.fit(X_treinamento2, y_treinamento)"
      ],
      "execution_count": 214,
      "outputs": [
        {
          "output_type": "stream",
          "text": [
            "/usr/local/lib/python3.6/dist-packages/sklearn/svm/base.py:196: FutureWarning: The default value of gamma will change from 'auto' to 'scale' in version 0.22 to account better for unscaled features. Set gamma explicitly to 'auto' or 'scale' to avoid this warning.\n",
            "  \"avoid this warning.\", FutureWarning)\n"
          ],
          "name": "stderr"
        },
        {
          "output_type": "execute_result",
          "data": {
            "text/plain": [
              "SVC(C=1.0, cache_size=200, class_weight=None, coef0=0.0,\n",
              "  decision_function_shape='ovr', degree=3, gamma='auto_deprecated',\n",
              "  kernel='rbf', max_iter=-1, probability=False, random_state=None,\n",
              "  shrinking=True, tol=0.001, verbose=False)"
            ]
          },
          "metadata": {
            "tags": []
          },
          "execution_count": 214
        }
      ]
    },
    {
      "metadata": {
        "id": "YhqGrUV2wyl0",
        "colab_type": "code",
        "colab": {}
      },
      "cell_type": "code",
      "source": [
        "previsoes2 = svm2.predict(X_teste2)"
      ],
      "execution_count": 0,
      "outputs": []
    },
    {
      "metadata": {
        "id": "MkqHHKatw3Zh",
        "colab_type": "code",
        "colab": {
          "base_uri": "https://localhost:8080/",
          "height": 51
        },
        "outputId": "2e96403c-ccd7-43c8-b645-c81616e0a740"
      },
      "cell_type": "code",
      "source": [
        "confusao = confusion_matrix(y_teste, previsoes2)\n",
        "taxa_acerto = accuracy_score(y_teste, previsoes2)\n",
        "print('taxa de acerto = {}'.format(taxa_acerto))\n",
        "taxa_erro = 1 - taxa_acerto\n",
        "print('taxa de erro = {}'.format(taxa_erro))"
      ],
      "execution_count": 217,
      "outputs": [
        {
          "output_type": "stream",
          "text": [
            "taxa de acerto = 0.7266666666666667\n",
            "taxa de erro = 0.2733333333333333\n"
          ],
          "name": "stdout"
        }
      ]
    },
    {
      "metadata": {
        "id": "8kBiQcg1xCNW",
        "colab_type": "code",
        "colab": {
          "base_uri": "https://localhost:8080/",
          "height": 446
        },
        "outputId": "07a2845d-bacc-4606-eb8a-d27b0fd8a9f0"
      },
      "cell_type": "code",
      "source": [
        "from yellowbrick.classifier import ConfusionMatrix\n",
        "v = ConfusionMatrix(SVC())\n",
        "v.fit(X_treinamento2, y_treinamento)\n",
        "v.score(X_teste2, y_teste)\n",
        "# Draw/show/poof the data\n",
        "v.poof()"
      ],
      "execution_count": 219,
      "outputs": [
        {
          "output_type": "stream",
          "text": [
            "/usr/local/lib/python3.6/dist-packages/sklearn/svm/base.py:196: FutureWarning: The default value of gamma will change from 'auto' to 'scale' in version 0.22 to account better for unscaled features. Set gamma explicitly to 'auto' or 'scale' to avoid this warning.\n",
            "  \"avoid this warning.\", FutureWarning)\n"
          ],
          "name": "stderr"
        },
        {
          "output_type": "display_data",
          "data": {
            "image/png": "[encoded data removed]",
            "text/plain": [
              "<Figure size 576x396 with 1 Axes>"
            ]
          },
          "metadata": {
            "tags": []
          }
        }
      ]
    },
    {
      "metadata": {
        "id": "xk5cJdY5xWW_",
        "colab_type": "text"
      },
      "cell_type": "markdown",
      "source": [
        "# Python: Aprendizado Baseado em Instância"
      ]
    },
    {
      "metadata": {
        "id": "xWz9LggIxakH",
        "colab_type": "code",
        "colab": {}
      },
      "cell_type": "code",
      "source": [
        "# 114. Python: Aprendizado Baseado em Instância\n",
        "\n",
        "from sklearn.model_selection import train_test_split\n",
        "from sklearn.metrics import confusion_matrix, accuracy_score\n",
        "from sklearn.neighbors import KNeighborsClassifier\n",
        "from sklearn import datasets\n",
        "from scipy import stats\n",
        "\n",
        "iris = datasets.load_iris()"
      ],
      "execution_count": 0,
      "outputs": []
    },
    {
      "metadata": {
        "id": "Bnz1_mESyHwC",
        "colab_type": "code",
        "colab": {
          "base_uri": "https://localhost:8080/",
          "height": 1088
        },
        "outputId": "c7631843-1e0f-4d2e-d640-100c15027e84"
      },
      "cell_type": "code",
      "source": [
        "print(iris.DESCR)"
      ],
      "execution_count": 228,
      "outputs": [
        {
          "output_type": "stream",
          "text": [
            ".. _iris_dataset:\n",
            "\n",
            "Iris plants dataset\n",
            "--------------------\n",
            "\n",
            "**Data Set Characteristics:**\n",
            "\n",
            "    :Number of Instances: 150 (50 in each of three classes)\n",
            "    :Number of Attributes: 4 numeric, predictive attributes and the class\n",
            "    :Attribute Information:\n",
            "        - sepal length in cm\n",
            "        - sepal width in cm\n",
            "        - petal length in cm\n",
            "        - petal width in cm\n",
            "        - class:\n",
            "                - Iris-Setosa\n",
            "                - Iris-Versicolour\n",
            "                - Iris-Virginica\n",
            "                \n",
            "    :Summary Statistics:\n",
            "\n",
            "    ============== ==== ==== ======= ===== ====================\n",
            "                    Min  Max   Mean    SD   Class Correlation\n",
            "    ============== ==== ==== ======= ===== ====================\n",
            "    sepal length:   4.3  7.9   5.84   0.83    0.7826\n",
            "    sepal width:    2.0  4.4   3.05   0.43   -0.4194\n",
            "    petal length:   1.0  6.9   3.76   1.76    0.9490  (high!)\n",
            "    petal width:    0.1  2.5   1.20   0.76    0.9565  (high!)\n",
            "    ============== ==== ==== ======= ===== ====================\n",
            "\n",
            "    :Missing Attribute Values: None\n",
            "    :Class Distribution: 33.3% for each of 3 classes.\n",
            "    :Creator: R.A. Fisher\n",
            "    :Donor: Michael Marshall (MARSHALL%PLU@io.arc.nasa.gov)\n",
            "    :Date: July, 1988\n",
            "\n",
            "The famous Iris database, first used by Sir R.A. Fisher. The dataset is taken\n",
            "from Fisher's paper. Note that it's the same as in R, but not as in the UCI\n",
            "Machine Learning Repository, which has two wrong data points.\n",
            "\n",
            "This is perhaps the best known database to be found in the\n",
            "pattern recognition literature.  Fisher's paper is a classic in the field and\n",
            "is referenced frequently to this day.  (See Duda & Hart, for example.)  The\n",
            "data set contains 3 classes of 50 instances each, where each class refers to a\n",
            "type of iris plant.  One class is linearly separable from the other 2; the\n",
            "latter are NOT linearly separable from each other.\n",
            "\n",
            ".. topic:: References\n",
            "\n",
            "   - Fisher, R.A. \"The use of multiple measurements in taxonomic problems\"\n",
            "     Annual Eugenics, 7, Part II, 179-188 (1936); also in \"Contributions to\n",
            "     Mathematical Statistics\" (John Wiley, NY, 1950).\n",
            "   - Duda, R.O., & Hart, P.E. (1973) Pattern Classification and Scene Analysis.\n",
            "     (Q327.D83) John Wiley & Sons.  ISBN 0-471-22361-1.  See page 218.\n",
            "   - Dasarathy, B.V. (1980) \"Nosing Around the Neighborhood: A New System\n",
            "     Structure and Classification Rule for Recognition in Partially Exposed\n",
            "     Environments\".  IEEE Transactions on Pattern Analysis and Machine\n",
            "     Intelligence, Vol. PAMI-2, No. 1, 67-71.\n",
            "   - Gates, G.W. (1972) \"The Reduced Nearest Neighbor Rule\".  IEEE Transactions\n",
            "     on Information Theory, May 1972, 431-433.\n",
            "   - See also: 1988 MLC Proceedings, 54-64.  Cheeseman et al\"s AUTOCLASS II\n",
            "     conceptual clustering system finds 3 classes in the data.\n",
            "   - Many, many more ...\n"
          ],
          "name": "stdout"
        }
      ]
    },
    {
      "metadata": {
        "id": "uXrmmmfsyJ3G",
        "colab_type": "code",
        "colab": {
          "base_uri": "https://localhost:8080/",
          "height": 102
        },
        "outputId": "34750189-e704-4f40-daaf-65d6524c6010"
      },
      "cell_type": "code",
      "source": [
        "iris.data[:5]"
      ],
      "execution_count": 231,
      "outputs": [
        {
          "output_type": "execute_result",
          "data": {
            "text/plain": [
              "array([[5.1, 3.5, 1.4, 0.2],\n",
              "       [4.9, 3. , 1.4, 0.2],\n",
              "       [4.7, 3.2, 1.3, 0.2],\n",
              "       [4.6, 3.1, 1.5, 0.2],\n",
              "       [5. , 3.6, 1.4, 0.2]])"
            ]
          },
          "metadata": {
            "tags": []
          },
          "execution_count": 231
        }
      ]
    },
    {
      "metadata": {
        "id": "9eZtvcmwyX6k",
        "colab_type": "code",
        "colab": {
          "base_uri": "https://localhost:8080/",
          "height": 85
        },
        "outputId": "2b112e2e-5911-48a7-bf6f-02b1e0f22c12"
      },
      "cell_type": "code",
      "source": [
        "iris.feature_names"
      ],
      "execution_count": 234,
      "outputs": [
        {
          "output_type": "execute_result",
          "data": {
            "text/plain": [
              "['sepal length (cm)',\n",
              " 'sepal width (cm)',\n",
              " 'petal length (cm)',\n",
              " 'petal width (cm)']"
            ]
          },
          "metadata": {
            "tags": []
          },
          "execution_count": 234
        }
      ]
    },
    {
      "metadata": {
        "id": "7wcleNPhyh7Z",
        "colab_type": "code",
        "colab": {
          "base_uri": "https://localhost:8080/",
          "height": 136
        },
        "outputId": "5cff78e9-7cce-4d33-b92d-f8f8d4351dc7"
      },
      "cell_type": "code",
      "source": [
        "iris.target"
      ],
      "execution_count": 238,
      "outputs": [
        {
          "output_type": "execute_result",
          "data": {
            "text/plain": [
              "array([0, 0, 0, 0, 0, 0, 0, 0, 0, 0, 0, 0, 0, 0, 0, 0, 0, 0, 0, 0, 0, 0,\n",
              "       0, 0, 0, 0, 0, 0, 0, 0, 0, 0, 0, 0, 0, 0, 0, 0, 0, 0, 0, 0, 0, 0,\n",
              "       0, 0, 0, 0, 0, 0, 1, 1, 1, 1, 1, 1, 1, 1, 1, 1, 1, 1, 1, 1, 1, 1,\n",
              "       1, 1, 1, 1, 1, 1, 1, 1, 1, 1, 1, 1, 1, 1, 1, 1, 1, 1, 1, 1, 1, 1,\n",
              "       1, 1, 1, 1, 1, 1, 1, 1, 1, 1, 1, 1, 2, 2, 2, 2, 2, 2, 2, 2, 2, 2,\n",
              "       2, 2, 2, 2, 2, 2, 2, 2, 2, 2, 2, 2, 2, 2, 2, 2, 2, 2, 2, 2, 2, 2,\n",
              "       2, 2, 2, 2, 2, 2, 2, 2, 2, 2, 2, 2, 2, 2, 2, 2, 2, 2])"
            ]
          },
          "metadata": {
            "tags": []
          },
          "execution_count": 238
        }
      ]
    },
    {
      "metadata": {
        "id": "XEOu0OQMytRZ",
        "colab_type": "code",
        "colab": {
          "base_uri": "https://localhost:8080/",
          "height": 34
        },
        "outputId": "20af3625-3223-43fc-d198-6bc465cc7195"
      },
      "cell_type": "code",
      "source": [
        "iris.target_names"
      ],
      "execution_count": 239,
      "outputs": [
        {
          "output_type": "execute_result",
          "data": {
            "text/plain": [
              "array(['setosa', 'versicolor', 'virginica'], dtype='<U10')"
            ]
          },
          "metadata": {
            "tags": []
          },
          "execution_count": 239
        }
      ]
    },
    {
      "metadata": {
        "id": "yZ6zGYYcy3ga",
        "colab_type": "code",
        "colab": {
          "base_uri": "https://localhost:8080/",
          "height": 54
        },
        "outputId": "a4282f4c-d559-4594-c26f-430ab8c4f3d9"
      },
      "cell_type": "code",
      "source": [
        "iris_desc = stats.describe(iris.data)\n",
        "print(iris_desc)"
      ],
      "execution_count": 248,
      "outputs": [
        {
          "output_type": "stream",
          "text": [
            "DescribeResult(nobs=150, minmax=(array([4.3, 2. , 1. , 0.1]), array([7.9, 4.4, 6.9, 2.5])), mean=array([5.84333333, 3.05733333, 3.758     , 1.19933333]), variance=array([0.68569351, 0.18997942, 3.11627785, 0.58100626]), skewness=array([ 0.31175306,  0.31576711, -0.27212767, -0.10193421]), kurtosis=array([-0.57356795,  0.18097632, -1.39553589, -1.33606741]))\n"
          ],
          "name": "stdout"
        }
      ]
    },
    {
      "metadata": {
        "id": "jhVnkx_UzwEH",
        "colab_type": "code",
        "colab": {}
      },
      "cell_type": "code",
      "source": [
        "previsores = iris.data\n",
        "classe = iris.target"
      ],
      "execution_count": 0,
      "outputs": []
    },
    {
      "metadata": {
        "id": "b4nixZhhzz_z",
        "colab_type": "code",
        "colab": {}
      },
      "cell_type": "code",
      "source": [
        "X_treinamento, X_teste, y_treinamento, y_teste = train_test_split(\n",
        "    previsores,\n",
        "    classe,\n",
        "    test_size = 0.3,\n",
        "    random_state = 0\n",
        ")"
      ],
      "execution_count": 0,
      "outputs": []
    },
    {
      "metadata": {
        "id": "PCeGefMp0NYz",
        "colab_type": "code",
        "colab": {
          "base_uri": "https://localhost:8080/",
          "height": 85
        },
        "outputId": "3e0ea69d-a13b-40f2-f798-23d06cf8237e"
      },
      "cell_type": "code",
      "source": [
        "print('X_treinamento size = {}'.format(len(X_treinamento)))\n",
        "print('X_teste size = {}'.format(len(X_teste)))\n",
        "print('y_treinamento size = {}'.format(len(y_treinamento)))\n",
        "print('y_teste size = {}'.format(len(y_teste)))"
      ],
      "execution_count": 251,
      "outputs": [
        {
          "output_type": "stream",
          "text": [
            "X_treinamento size = 105\n",
            "X_teste size = 45\n",
            "y_treinamento size = 105\n",
            "y_teste size = 45\n"
          ],
          "name": "stdout"
        }
      ]
    },
    {
      "metadata": {
        "id": "KJEbk53C0QlM",
        "colab_type": "code",
        "colab": {
          "base_uri": "https://localhost:8080/",
          "height": 68
        },
        "outputId": "f80d20c4-0bfd-4ee4-d022-dae40ae8e01c"
      },
      "cell_type": "code",
      "source": [
        "# o treinamento desse algoritmo knn eh diferente\n",
        "# pois nao gera um modelo\n",
        "# este knn ira guardar os valores memoria\n",
        "# e calcular a distancia do registro com os \n",
        "# que ja estao armazenados\n",
        "\n",
        "knn = KNeighborsClassifier(n_neighbors = 3)\n",
        "knn.fit(X_treinamento, y_treinamento)"
      ],
      "execution_count": 253,
      "outputs": [
        {
          "output_type": "execute_result",
          "data": {
            "text/plain": [
              "KNeighborsClassifier(algorithm='auto', leaf_size=30, metric='minkowski',\n",
              "           metric_params=None, n_jobs=None, n_neighbors=3, p=2,\n",
              "           weights='uniform')"
            ]
          },
          "metadata": {
            "tags": []
          },
          "execution_count": 253
        }
      ]
    },
    {
      "metadata": {
        "id": "W8xuWvTy1GB-",
        "colab_type": "code",
        "colab": {
          "base_uri": "https://localhost:8080/",
          "height": 85
        },
        "outputId": "248fcd7c-ec15-4b95-ff6a-e86378afab81"
      },
      "cell_type": "code",
      "source": [
        "previsoes = knn.predict(X_teste)\n",
        "print('previsoes=')\n",
        "previsoes"
      ],
      "execution_count": 257,
      "outputs": [
        {
          "output_type": "stream",
          "text": [
            "previsoes=\n"
          ],
          "name": "stdout"
        },
        {
          "output_type": "execute_result",
          "data": {
            "text/plain": [
              "array([2, 1, 0, 2, 0, 2, 0, 1, 1, 1, 2, 1, 1, 1, 1, 0, 1, 1, 0, 0, 2, 1,\n",
              "       0, 0, 2, 0, 0, 1, 1, 0, 2, 1, 0, 2, 2, 1, 0, 2, 1, 1, 2, 0, 2, 0,\n",
              "       0])"
            ]
          },
          "metadata": {
            "tags": []
          },
          "execution_count": 257
        }
      ]
    },
    {
      "metadata": {
        "id": "1VfhYdH-1RHE",
        "colab_type": "code",
        "colab": {
          "base_uri": "https://localhost:8080/",
          "height": 85
        },
        "outputId": "b72613e5-ee78-482b-9e65-0975ce416a66"
      },
      "cell_type": "code",
      "source": [
        "print('classes=')\n",
        "y_teste"
      ],
      "execution_count": 258,
      "outputs": [
        {
          "output_type": "stream",
          "text": [
            "classes=\n"
          ],
          "name": "stdout"
        },
        {
          "output_type": "execute_result",
          "data": {
            "text/plain": [
              "array([2, 1, 0, 2, 0, 2, 0, 1, 1, 1, 2, 1, 1, 1, 1, 0, 1, 1, 0, 0, 2, 1,\n",
              "       0, 0, 2, 0, 0, 1, 1, 0, 2, 1, 0, 2, 2, 1, 0, 1, 1, 1, 2, 0, 2, 0,\n",
              "       0])"
            ]
          },
          "metadata": {
            "tags": []
          },
          "execution_count": 258
        }
      ]
    },
    {
      "metadata": {
        "id": "x9WzEsqg1ebs",
        "colab_type": "code",
        "colab": {
          "base_uri": "https://localhost:8080/",
          "height": 51
        },
        "outputId": "80f68995-4d1d-4e80-cd33-93b81b20182e"
      },
      "cell_type": "code",
      "source": [
        "confusao = confusion_matrix(y_teste, previsoes)\n",
        "taxa_acerto = accuracy_score(y_teste, previsoes)\n",
        "print('taxa de acerto = {}'.format(taxa_acerto))\n",
        "taxa_erro = 1 - taxa_acerto\n",
        "print('taxa de erro = {}'.format(taxa_erro))"
      ],
      "execution_count": 259,
      "outputs": [
        {
          "output_type": "stream",
          "text": [
            "taxa de acerto = 0.9777777777777777\n",
            "taxa de erro = 0.022222222222222254\n"
          ],
          "name": "stdout"
        }
      ]
    },
    {
      "metadata": {
        "id": "T-Yonsjc1oH7",
        "colab_type": "code",
        "colab": {
          "base_uri": "https://localhost:8080/",
          "height": 373
        },
        "outputId": "c6e6a31b-27b1-4333-ad5c-2e6cadfd0ce3"
      },
      "cell_type": "code",
      "source": [
        "knn_confusion = KNeighborsClassifier(n_neighbors = 3)\n",
        "from yellowbrick.classifier import ConfusionMatrix\n",
        "v = ConfusionMatrix(knn_confusion)\n",
        "v.fit(X_treinamento, y_treinamento)\n",
        "v.score(X_teste, y_teste)\n",
        "# Draw/show/poof the data\n",
        "v.poof()"
      ],
      "execution_count": 261,
      "outputs": [
        {
          "output_type": "display_data",
          "data": {
            "image/png": "[encoded data removed]",
            "text/plain": [
              "<Figure size 576x396 with 1 Axes>"
            ]
          },
          "metadata": {
            "tags": []
          }
        }
      ]
    },
    {
      "metadata": {
        "id": "FR7grLMI2TeW",
        "colab_type": "text"
      },
      "cell_type": "markdown",
      "source": [
        "# Python: Ensamble Learning"
      ]
    },
    {
      "metadata": {
        "id": "g9lEvf622WrK",
        "colab_type": "code",
        "colab": {}
      },
      "cell_type": "code",
      "source": [
        "# 115. Python: Ensamble Learning\n",
        "\n",
        "import pandas as pd\n",
        "from sklearn.model_selection import train_test_split\n",
        "from sklearn.metrics import confusion_matrix, accuracy_score\n",
        "from sklearn.preprocessing import LabelEncoder\n",
        "from sklearn.ensemble import RandomForestClassifier\n",
        "\n",
        "credito = pd.read_csv('Credit.csv')\n",
        "\n",
        "previsores = credito.iloc[:, 0:20].values\n",
        "classe = credito.iloc[:, 20].values\n",
        "\n",
        "labelencoder = LabelEncoder()\n",
        "previsores[:,0] = labelencoder.fit_transform(previsores[:,0])\n",
        "previsores[:,2] = labelencoder.fit_transform(previsores[:,2])\n",
        "previsores[:,3] = labelencoder.fit_transform(previsores[:,3])\n",
        "previsores[:,5] = labelencoder.fit_transform(previsores[:,5])\n",
        "previsores[:,6] = labelencoder.fit_transform(previsores[:,6])\n",
        "previsores[:,8] = labelencoder.fit_transform(previsores[:,8])\n",
        "previsores[:,9] = labelencoder.fit_transform(previsores[:,9])\n",
        "previsores[:,11] = labelencoder.fit_transform(previsores[:,11])\n",
        "previsores[:,13] = labelencoder.fit_transform(previsores[:,13])\n",
        "previsores[:,14] = labelencoder.fit_transform(previsores[:,14])\n",
        "previsores[:,16] = labelencoder.fit_transform(previsores[:,16])\n",
        "previsores[:,18] = labelencoder.fit_transform(previsores[:,18])\n",
        "previsores[:,19] = labelencoder.fit_transform(previsores[:,19])\n",
        "\n",
        "X_treinamento, X_teste, y_treinamento, y_teste = train_test_split(\n",
        "    previsores,\n",
        "    classe,\n",
        "    test_size = 0.3,\n",
        "    random_state = 0\n",
        ")\n",
        "\n",
        "# numero de arvores de decisao\n",
        "# cada arvore tomara uma decisao sobre a classe final\n",
        "n_estimators = 100\n",
        "floresta = RandomForestClassifier(n_estimators = n_estimators)\n",
        "floresta.fit(X_treinamento, y_treinamento)\n",
        "importancias = floresta.feature_importances_\n",
        "\n",
        "previsoes = floresta.predict(X_teste)"
      ],
      "execution_count": 0,
      "outputs": []
    },
    {
      "metadata": {
        "id": "FCQgTP6P3aEV",
        "colab_type": "code",
        "colab": {
          "base_uri": "https://localhost:8080/",
          "height": 51
        },
        "outputId": "a8ae2085-02b1-4f89-b854-689c7f6799d3"
      },
      "cell_type": "code",
      "source": [
        "confusao = confusion_matrix(y_teste, previsoes)\n",
        "taxa_acerto = accuracy_score(y_teste, previsoes)\n",
        "print('taxa de acerto = {}'.format(taxa_acerto))\n",
        "taxa_erro = 1 - taxa_acerto\n",
        "print('taxa de erro = {}'.format(taxa_erro))"
      ],
      "execution_count": 272,
      "outputs": [
        {
          "output_type": "stream",
          "text": [
            "taxa de acerto = 0.7833333333333333\n",
            "taxa de erro = 0.21666666666666667\n"
          ],
          "name": "stdout"
        }
      ]
    },
    {
      "metadata": {
        "id": "yvo0lXE54Cbz",
        "colab_type": "code",
        "colab": {
          "base_uri": "https://localhost:8080/",
          "height": 68
        },
        "outputId": "d88d9cc0-aa7e-46df-952b-1e41101c5086"
      },
      "cell_type": "code",
      "source": [
        "print('confusao=')\n",
        "confusao"
      ],
      "execution_count": 273,
      "outputs": [
        {
          "output_type": "stream",
          "text": [
            "confusao=\n"
          ],
          "name": "stdout"
        },
        {
          "output_type": "execute_result",
          "data": {
            "text/plain": [
              "array([[ 40,  46],\n",
              "       [ 19, 195]])"
            ]
          },
          "metadata": {
            "tags": []
          },
          "execution_count": 273
        }
      ]
    },
    {
      "metadata": {
        "id": "k7Xq-yLE3d4r",
        "colab_type": "code",
        "colab": {
          "base_uri": "https://localhost:8080/",
          "height": 102
        },
        "outputId": "caf8d42e-b970-4903-fa2c-8972af2fa54f"
      },
      "cell_type": "code",
      "source": [
        "print('importancia de cada atributo=')\n",
        "importancias"
      ],
      "execution_count": 274,
      "outputs": [
        {
          "output_type": "stream",
          "text": [
            "importancia de cada atributo=\n"
          ],
          "name": "stdout"
        },
        {
          "output_type": "execute_result",
          "data": {
            "text/plain": [
              "array([0.10790601, 0.1006192 , 0.06816418, 0.06239876, 0.14287194,\n",
              "       0.04005988, 0.045921  , 0.04291702, 0.03122923, 0.02147837,\n",
              "       0.04178922, 0.04323902, 0.10072505, 0.02835629, 0.02979262,\n",
              "       0.02442091, 0.02721013, 0.01434   , 0.02226214, 0.00429905])"
            ]
          },
          "metadata": {
            "tags": []
          },
          "execution_count": 274
        }
      ]
    },
    {
      "metadata": {
        "id": "vMo47JKN3p8b",
        "colab_type": "code",
        "colab": {
          "base_uri": "https://localhost:8080/",
          "height": 392
        },
        "outputId": "278251e7-5c0b-4a58-d9cc-d8aafc3b0a5c"
      },
      "cell_type": "code",
      "source": [
        "floresta_confusion = RandomForestClassifier(n_estimators = n_estimators)\n",
        "from yellowbrick.classifier import ConfusionMatrix\n",
        "v = ConfusionMatrix(floresta_confusion)\n",
        "v.fit(X_treinamento, y_treinamento)\n",
        "v.score(X_teste, y_teste)\n",
        "# Draw/show/poof the data\n",
        "v.poof()"
      ],
      "execution_count": 275,
      "outputs": [
        {
          "output_type": "display_data",
          "data": {
            "image/png": "[encoded data removed]",
            "text/plain": [
              "<Figure size 576x396 with 1 Axes>"
            ]
          },
          "metadata": {
            "tags": []
          }
        }
      ]
    },
    {
      "metadata": {
        "id": "jZ2jVu_14bIK",
        "colab_type": "code",
        "colab": {
          "base_uri": "https://localhost:8080/",
          "height": 51
        },
        "outputId": "4bbcccfe-9813-4093-f9dc-541d7c557604"
      },
      "cell_type": "code",
      "source": [
        "# mostra as arvores de decisoes que foram criadas\n",
        "print('qtde de arvores=')\n",
        "len(floresta.estimators_)"
      ],
      "execution_count": 277,
      "outputs": [
        {
          "output_type": "stream",
          "text": [
            "qtde de arvores=\n"
          ],
          "name": "stdout"
        },
        {
          "output_type": "execute_result",
          "data": {
            "text/plain": [
              "100"
            ]
          },
          "metadata": {
            "tags": []
          },
          "execution_count": 277
        }
      ]
    },
    {
      "metadata": {
        "id": "xLNZZ7Ys4mtq",
        "colab_type": "code",
        "colab": {
          "base_uri": "https://localhost:8080/",
          "height": 238
        },
        "outputId": "32fcd743-a678-41bf-c87b-887784764847"
      },
      "cell_type": "code",
      "source": [
        "# mostra as arvores de decisoes que foram criadas\n",
        "print('arvores=')\n",
        "floresta.estimators_[:2]"
      ],
      "execution_count": 283,
      "outputs": [
        {
          "output_type": "stream",
          "text": [
            "arvores=\n"
          ],
          "name": "stdout"
        },
        {
          "output_type": "execute_result",
          "data": {
            "text/plain": [
              "[DecisionTreeClassifier(class_weight=None, criterion='gini', max_depth=None,\n",
              "             max_features='auto', max_leaf_nodes=None,\n",
              "             min_impurity_decrease=0.0, min_impurity_split=None,\n",
              "             min_samples_leaf=1, min_samples_split=2,\n",
              "             min_weight_fraction_leaf=0.0, presort=False,\n",
              "             random_state=1580244393, splitter='best'),\n",
              " DecisionTreeClassifier(class_weight=None, criterion='gini', max_depth=None,\n",
              "             max_features='auto', max_leaf_nodes=None,\n",
              "             min_impurity_decrease=0.0, min_impurity_split=None,\n",
              "             min_samples_leaf=1, min_samples_split=2,\n",
              "             min_weight_fraction_leaf=0.0, presort=False,\n",
              "             random_state=294076496, splitter='best')]"
            ]
          },
          "metadata": {
            "tags": []
          },
          "execution_count": 283
        }
      ]
    },
    {
      "metadata": {
        "id": "p3EjNvBD5Gbv",
        "colab_type": "text"
      },
      "cell_type": "markdown",
      "source": [
        "# 116. Métricas de Erros ME MAE RMSE MPE MAPE"
      ]
    }
  ]
}