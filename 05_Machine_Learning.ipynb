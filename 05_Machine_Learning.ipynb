{
  "nbformat": 4,
  "nbformat_minor": 0,
  "metadata": {
    "colab": {
      "name": "05_Machine_Learning.ipynb",
      "version": "0.3.2",
      "provenance": [],
      "collapsed_sections": [],
      "toc_visible": true
    },
    "kernelspec": {
      "name": "python3",
      "display_name": "Python 3"
    }
  },
  "cells": [
    {
      "metadata": {
        "id": "XlnSylMxdHlZ",
        "colab_type": "text"
      },
      "cell_type": "markdown",
      "source": [
        "# Machine Learning\n",
        "\n",
        "## Dados\n",
        "\n",
        "Dados localizados na pasta: D:SIA\\estudo\\udemy\\cientista-de-dados\\02-estatistica-05\n",
        "\n",
        "Arquivos para upload:\n",
        "- 92.Dados.zip\n",
        "\n",
        "Disponível também através do link https://github.com/ronivaldo/udemy-curso-cientista_dados/raw/master/data/92.Dados.zip\n",
        "\n",
        "Conteúdo do arquivo:\n",
        "- clima.csv               \n",
        "- Credit.csv              \n",
        "- Diarias.rdata           \n",
        "- Eleicao.csv             \n",
        "- Faturas.csv             \n",
        "- fraude.csv              \n",
        "- NovoCredit.csv          \n",
        "- NovosCandidatos.csv     \n",
        "- transacoes.txt          \n",
        "- transacoes2.txt         \n",
        "- tree.dot                \n",
        "- weatherpt.csv "
      ]
    },
    {
      "metadata": {
        "id": "K0npMaOAdFf1",
        "colab_type": "code",
        "colab": {
          "base_uri": "https://localhost:8080/",
          "height": 530
        },
        "outputId": "7a52c715-4a19-4ee3-f84e-19c525c568cf"
      },
      "cell_type": "code",
      "source": [
        "import os  \n",
        "\n",
        "# verifica se upload ja foi realizado\n",
        "if not os.path.isfile('./92.Dados.zip'):\n",
        "  # obtem o arquivo do Github\n",
        "  !wget https://github.com/ronivaldo/udemy-curso-cientista_dados/raw/master/data/92.Dados.zip\n",
        "\n",
        "# verifica se upload ja foi realizado\n",
        "if not os.path.isfile('./clima.csv'):\n",
        "  # descompacta o arquivo\n",
        "  !unzip -o 92.Dados.zip"
      ],
      "execution_count": 4,
      "outputs": [
        {
          "output_type": "stream",
          "text": [
            "--2019-04-10 18:17:02--  https://github.com/ronivaldo/udemy-curso-cientista_dados/raw/master/data/92.Dados.zip\n",
            "Resolving github.com (github.com)... 192.30.253.113, 192.30.253.112\n",
            "Connecting to github.com (github.com)|192.30.253.113|:443... connected.\n",
            "HTTP request sent, awaiting response... 302 Found\n",
            "Location: https://raw.githubusercontent.com/ronivaldo/udemy-curso-cientista_dados/master/data/92.Dados.zip [following]\n",
            "--2019-04-10 18:17:02--  https://raw.githubusercontent.com/ronivaldo/udemy-curso-cientista_dados/master/data/92.Dados.zip\n",
            "Resolving raw.githubusercontent.com (raw.githubusercontent.com)... 151.101.0.133, 151.101.64.133, 151.101.128.133, ...\n",
            "Connecting to raw.githubusercontent.com (raw.githubusercontent.com)|151.101.0.133|:443... connected.\n",
            "HTTP request sent, awaiting response... 200 OK\n",
            "Length: 56621 (55K) [application/zip]\n",
            "Saving to: ‘92.Dados.zip’\n",
            "\n",
            "\r92.Dados.zip          0%[                    ]       0  --.-KB/s               \r92.Dados.zip        100%[===================>]  55.29K  --.-KB/s    in 0.02s   \n",
            "\n",
            "2019-04-10 18:17:03 (2.22 MB/s) - ‘92.Dados.zip’ saved [56621/56621]\n",
            "\n",
            "Archive:  92.Dados.zip\n",
            "  inflating: clima.csv               \n",
            "  inflating: Credit.csv              \n",
            " extracting: Diarias.rdata           \n",
            "  inflating: Eleicao.csv             \n",
            "  inflating: Faturas.csv             \n",
            "  inflating: fraude.csv              \n",
            "  inflating: NovoCredit.csv          \n",
            "  inflating: NovosCandidatos.csv     \n",
            "  inflating: transacoes.txt          \n",
            "  inflating: transacoes2.txt         \n",
            "  inflating: tree.dot                \n",
            "  inflating: weatherpt.csv           \n"
          ],
          "name": "stdout"
        }
      ]
    },
    {
      "metadata": {
        "id": "wKkQU7O9eKxm",
        "colab_type": "text"
      },
      "cell_type": "markdown",
      "source": [
        "# Machine Learning - Introdução - Parte I\n",
        "\n"
      ]
    }
  ]
}