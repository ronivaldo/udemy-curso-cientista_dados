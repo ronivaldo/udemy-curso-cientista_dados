{
  "nbformat": 4,
  "nbformat_minor": 0,
  "metadata": {
    "colab": {
      "name": "Identificacao_Produto.ipynb",
      "version": "0.3.2",
      "provenance": [],
      "collapsed_sections": [],
      "toc_visible": true
    },
    "kernelspec": {
      "name": "python3",
      "display_name": "Python 3"
    }
  },
  "cells": [
    {
      "cell_type": "markdown",
      "metadata": {
        "id": "-Hcz5tYGgUFx",
        "colab_type": "text"
      },
      "source": [
        "# Identificação de Refrigerantes\n",
        "\n",
        "O objetivo é construir um modelo preditivo capaz de identificar um refrigerante a partir das suas características.\n",
        "\n",
        "Exemplo com base em:\n",
        "https://github.com/apache/incubator-marvin/blob/develop/public-engines/product-classifier-engine/notebooks/Product_classifier.ipynb"
      ]
    },
    {
      "cell_type": "markdown",
      "metadata": {
        "id": "OMfu1PC1giX4",
        "colab_type": "text"
      },
      "source": [
        "## Configuração"
      ]
    },
    {
      "cell_type": "code",
      "metadata": {
        "id": "9798JR3Hg09R",
        "colab_type": "code",
        "colab": {}
      },
      "source": [
        "# play settings\n",
        "INSTALAR_DEPENDENCIAS = True\n",
        "TREINAMENTO = True\n",
        "GERAR_DADOS_VISUALIZACAO = True\n",
        "\n",
        "# to save data as pickle format\n",
        "CLASSIFIER_FILENAME = 'clf.pkl'\n",
        "WORDS_FILENAME = 'words.pkl'\n",
        "COUNT_VECTORIZER_FILENAME = 'vect.pkl'"
      ],
      "execution_count": 0,
      "outputs": []
    },
    {
      "cell_type": "code",
      "metadata": {
        "id": "pbH_rXB8g5bV",
        "colab_type": "code",
        "outputId": "a00132e1-5f62-4692-dc50-6257dad46251",
        "colab": {
          "base_uri": "https://localhost:8080/",
          "height": 425
        }
      },
      "source": [
        "\n",
        "if INSTALAR_DEPENDENCIAS:  \n",
        "  # dependencias\n",
        "  !pip install joblib\n",
        "  !pip install nltk\n",
        "  !pip install yellowbrick\n",
        "  !pip install wordcloud\n",
        "\n",
        "  # dados\n",
        "  import nltk\n",
        "  nltk.download('punkt')\n",
        "  nltk.download(\"stopwords\")"
      ],
      "execution_count": 2,
      "outputs": [
        {
          "output_type": "stream",
          "text": [
            "Requirement already satisfied: joblib in /usr/local/lib/python3.6/dist-packages (0.13.2)\n",
            "Requirement already satisfied: nltk in /usr/local/lib/python3.6/dist-packages (3.2.5)\n",
            "Requirement already satisfied: six in /usr/local/lib/python3.6/dist-packages (from nltk) (1.12.0)\n",
            "Requirement already satisfied: yellowbrick in /usr/local/lib/python3.6/dist-packages (0.9.1)\n",
            "Requirement already satisfied: scikit-learn>=0.20 in /usr/local/lib/python3.6/dist-packages (from yellowbrick) (0.21.2)\n",
            "Requirement already satisfied: numpy>=1.13.0 in /usr/local/lib/python3.6/dist-packages (from yellowbrick) (1.16.4)\n",
            "Requirement already satisfied: matplotlib!=3.0.0,>=1.5.1 in /usr/local/lib/python3.6/dist-packages (from yellowbrick) (3.0.3)\n",
            "Requirement already satisfied: scipy>=1.0.0 in /usr/local/lib/python3.6/dist-packages (from yellowbrick) (1.3.0)\n",
            "Requirement already satisfied: cycler>=0.10.0 in /usr/local/lib/python3.6/dist-packages (from yellowbrick) (0.10.0)\n",
            "Requirement already satisfied: joblib>=0.11 in /usr/local/lib/python3.6/dist-packages (from scikit-learn>=0.20->yellowbrick) (0.13.2)\n",
            "Requirement already satisfied: pyparsing!=2.0.4,!=2.1.2,!=2.1.6,>=2.0.1 in /usr/local/lib/python3.6/dist-packages (from matplotlib!=3.0.0,>=1.5.1->yellowbrick) (2.4.0)\n",
            "Requirement already satisfied: kiwisolver>=1.0.1 in /usr/local/lib/python3.6/dist-packages (from matplotlib!=3.0.0,>=1.5.1->yellowbrick) (1.1.0)\n",
            "Requirement already satisfied: python-dateutil>=2.1 in /usr/local/lib/python3.6/dist-packages (from matplotlib!=3.0.0,>=1.5.1->yellowbrick) (2.5.3)\n",
            "Requirement already satisfied: six in /usr/local/lib/python3.6/dist-packages (from cycler>=0.10.0->yellowbrick) (1.12.0)\n",
            "Requirement already satisfied: setuptools in /usr/local/lib/python3.6/dist-packages (from kiwisolver>=1.0.1->matplotlib!=3.0.0,>=1.5.1->yellowbrick) (41.0.1)\n",
            "Requirement already satisfied: wordcloud in /usr/local/lib/python3.6/dist-packages (1.5.0)\n",
            "Requirement already satisfied: numpy>=1.6.1 in /usr/local/lib/python3.6/dist-packages (from wordcloud) (1.16.4)\n",
            "Requirement already satisfied: pillow in /usr/local/lib/python3.6/dist-packages (from wordcloud) (4.3.0)\n",
            "Requirement already satisfied: olefile in /usr/local/lib/python3.6/dist-packages (from pillow->wordcloud) (0.46)\n",
            "[nltk_data] Downloading package punkt to /root/nltk_data...\n",
            "[nltk_data]   Package punkt is already up-to-date!\n",
            "[nltk_data] Downloading package stopwords to /root/nltk_data...\n",
            "[nltk_data]   Package stopwords is already up-to-date!\n"
          ],
          "name": "stdout"
        }
      ]
    },
    {
      "cell_type": "markdown",
      "metadata": {
        "id": "Yf296DkthBb8",
        "colab_type": "text"
      },
      "source": [
        "## Aquisição e Limpeza"
      ]
    },
    {
      "cell_type": "code",
      "metadata": {
        "id": "cPlfZHotheNL",
        "colab_type": "code",
        "outputId": "b73835f7-27b2-4c5d-8148-be7e91bbcb17",
        "colab": {
          "base_uri": "https://localhost:8080/",
          "height": 52
        }
      },
      "source": [
        "!unzip -P cofip -o train_dataset.zip"
      ],
      "execution_count": 3,
      "outputs": [
        {
          "output_type": "stream",
          "text": [
            "Archive:  train_dataset.zip\n",
            "  inflating: train_dataset.csv       \n"
          ],
          "name": "stdout"
        }
      ]
    },
    {
      "cell_type": "code",
      "metadata": {
        "id": "RuE63mSmhG4A",
        "colab_type": "code",
        "outputId": "5822d7f5-ef93-49b0-9dbe-ecbc5bfdc9f9",
        "colab": {
          "base_uri": "https://localhost:8080/",
          "height": 384
        }
      },
      "source": [
        "import pandas as pd\n",
        "\n",
        "# arquivo\n",
        "initial_dataset_raw = pd.read_csv(\"train_dataset.csv\", delimiter=\";\", encoding='utf-8')\n",
        "initial_dataset_raw.head()"
      ],
      "execution_count": 4,
      "outputs": [
        {
          "output_type": "execute_result",
          "data": {
            "text/html": [
              "<div>\n",
              "<style scoped>\n",
              "    .dataframe tbody tr th:only-of-type {\n",
              "        vertical-align: middle;\n",
              "    }\n",
              "\n",
              "    .dataframe tbody tr th {\n",
              "        vertical-align: top;\n",
              "    }\n",
              "\n",
              "    .dataframe thead th {\n",
              "        text-align: right;\n",
              "    }\n",
              "</style>\n",
              "<table border=\"1\" class=\"dataframe\">\n",
              "  <thead>\n",
              "    <tr style=\"text-align: right;\">\n",
              "      <th></th>\n",
              "      <th>id</th>\n",
              "      <th>descricao</th>\n",
              "      <th>ano_referencia</th>\n",
              "      <th>cod_cfop</th>\n",
              "      <th>cod_cnae</th>\n",
              "      <th>cod_destinatario</th>\n",
              "      <th>cod_emitente</th>\n",
              "      <th>cod_produto_contribuinte</th>\n",
              "      <th>cod_uf_destinatario</th>\n",
              "      <th>desconto</th>\n",
              "      <th>preco</th>\n",
              "      <th>quantidade</th>\n",
              "      <th>segmento_economico</th>\n",
              "      <th>valor_bruto</th>\n",
              "      <th>valor_unitario</th>\n",
              "      <th>unidade_medida</th>\n",
              "      <th>valor_icms</th>\n",
              "      <th>valor_ipi_trib</th>\n",
              "      <th>cod_st</th>\n",
              "      <th>cod_orig</th>\n",
              "      <th>vlr_unit_com</th>\n",
              "      <th>vlr_frete</th>\n",
              "      <th>vlr_ipi_trib</th>\n",
              "      <th>vlr_seguro</th>\n",
              "      <th>vlr_outro</th>\n",
              "      <th>vlr_ii</th>\n",
              "      <th>vlr_desp_adu_ii</th>\n",
              "      <th>vlr_iof_ii</th>\n",
              "      <th>vlr_aliquota_icms</th>\n",
              "      <th>vlr_aliquota_ipi</th>\n",
              "      <th>cod_cest</th>\n",
              "      <th>produto_id</th>\n",
              "    </tr>\n",
              "  </thead>\n",
              "  <tbody>\n",
              "    <tr>\n",
              "      <th>0</th>\n",
              "      <td>593036227</td>\n",
              "      <td>REFRIGERANTE COCA COLA PET 2 LITROS</td>\n",
              "      <td>2015</td>\n",
              "      <td>5929</td>\n",
              "      <td>4711302.0</td>\n",
              "      <td>1</td>\n",
              "      <td>2</td>\n",
              "      <td>00000000002359</td>\n",
              "      <td>23</td>\n",
              "      <td>0.0</td>\n",
              "      <td>4061.841756</td>\n",
              "      <td>1.0</td>\n",
              "      <td>8</td>\n",
              "      <td>4061.841756</td>\n",
              "      <td>4061.841756</td>\n",
              "      <td>UN</td>\n",
              "      <td>0.0</td>\n",
              "      <td>0.0</td>\n",
              "      <td>41.0</td>\n",
              "      <td>0.0</td>\n",
              "      <td>0.0</td>\n",
              "      <td>0.0</td>\n",
              "      <td>0.0</td>\n",
              "      <td>0.0</td>\n",
              "      <td>0.0</td>\n",
              "      <td>0.0</td>\n",
              "      <td>0.0</td>\n",
              "      <td>0.0</td>\n",
              "      <td>NaN</td>\n",
              "      <td>NaN</td>\n",
              "      <td>NaN</td>\n",
              "      <td>64484</td>\n",
              "    </tr>\n",
              "    <tr>\n",
              "      <th>1</th>\n",
              "      <td>593036228</td>\n",
              "      <td>REFRIGERANTE COCA COLA PET 2 LITROS</td>\n",
              "      <td>2014</td>\n",
              "      <td>5929</td>\n",
              "      <td>4711302.0</td>\n",
              "      <td>1</td>\n",
              "      <td>2</td>\n",
              "      <td>00000000002359</td>\n",
              "      <td>23</td>\n",
              "      <td>0.0</td>\n",
              "      <td>4431.100097</td>\n",
              "      <td>2.0</td>\n",
              "      <td>8</td>\n",
              "      <td>8862.200195</td>\n",
              "      <td>4431.100097</td>\n",
              "      <td>UN</td>\n",
              "      <td>0.0</td>\n",
              "      <td>0.0</td>\n",
              "      <td>60.0</td>\n",
              "      <td>0.0</td>\n",
              "      <td>0.0</td>\n",
              "      <td>0.0</td>\n",
              "      <td>0.0</td>\n",
              "      <td>0.0</td>\n",
              "      <td>0.0</td>\n",
              "      <td>0.0</td>\n",
              "      <td>0.0</td>\n",
              "      <td>0.0</td>\n",
              "      <td>NaN</td>\n",
              "      <td>NaN</td>\n",
              "      <td>NaN</td>\n",
              "      <td>64484</td>\n",
              "    </tr>\n",
              "    <tr>\n",
              "      <th>2</th>\n",
              "      <td>593036229</td>\n",
              "      <td>REFRIGERANTE COCA COLA PET 2 LITROS</td>\n",
              "      <td>2015</td>\n",
              "      <td>5929</td>\n",
              "      <td>4711302.0</td>\n",
              "      <td>1</td>\n",
              "      <td>2</td>\n",
              "      <td>00000000002359</td>\n",
              "      <td>23</td>\n",
              "      <td>0.0</td>\n",
              "      <td>4061.841756</td>\n",
              "      <td>1.0</td>\n",
              "      <td>8</td>\n",
              "      <td>4061.841756</td>\n",
              "      <td>4061.841756</td>\n",
              "      <td>UN</td>\n",
              "      <td>0.0</td>\n",
              "      <td>0.0</td>\n",
              "      <td>41.0</td>\n",
              "      <td>0.0</td>\n",
              "      <td>0.0</td>\n",
              "      <td>0.0</td>\n",
              "      <td>0.0</td>\n",
              "      <td>0.0</td>\n",
              "      <td>0.0</td>\n",
              "      <td>0.0</td>\n",
              "      <td>0.0</td>\n",
              "      <td>0.0</td>\n",
              "      <td>NaN</td>\n",
              "      <td>NaN</td>\n",
              "      <td>NaN</td>\n",
              "      <td>64484</td>\n",
              "    </tr>\n",
              "    <tr>\n",
              "      <th>3</th>\n",
              "      <td>593036230</td>\n",
              "      <td>REFRIGERANTE COCA COLA PET 2 LITROS</td>\n",
              "      <td>2014</td>\n",
              "      <td>5929</td>\n",
              "      <td>4711302.0</td>\n",
              "      <td>1</td>\n",
              "      <td>2</td>\n",
              "      <td>00000000002359</td>\n",
              "      <td>23</td>\n",
              "      <td>0.0</td>\n",
              "      <td>4431.100097</td>\n",
              "      <td>2.0</td>\n",
              "      <td>8</td>\n",
              "      <td>8862.200195</td>\n",
              "      <td>4431.100097</td>\n",
              "      <td>UN</td>\n",
              "      <td>0.0</td>\n",
              "      <td>0.0</td>\n",
              "      <td>41.0</td>\n",
              "      <td>0.0</td>\n",
              "      <td>0.0</td>\n",
              "      <td>0.0</td>\n",
              "      <td>0.0</td>\n",
              "      <td>0.0</td>\n",
              "      <td>0.0</td>\n",
              "      <td>0.0</td>\n",
              "      <td>0.0</td>\n",
              "      <td>0.0</td>\n",
              "      <td>NaN</td>\n",
              "      <td>NaN</td>\n",
              "      <td>NaN</td>\n",
              "      <td>64484</td>\n",
              "    </tr>\n",
              "    <tr>\n",
              "      <th>4</th>\n",
              "      <td>593036231</td>\n",
              "      <td>REFRIGERANTE COCA COLA PET 2 LITROS</td>\n",
              "      <td>2015</td>\n",
              "      <td>5929</td>\n",
              "      <td>4711302.0</td>\n",
              "      <td>1</td>\n",
              "      <td>2</td>\n",
              "      <td>00000000002359</td>\n",
              "      <td>23</td>\n",
              "      <td>0.0</td>\n",
              "      <td>4523.414683</td>\n",
              "      <td>1.0</td>\n",
              "      <td>8</td>\n",
              "      <td>4523.414683</td>\n",
              "      <td>4523.414683</td>\n",
              "      <td>UN</td>\n",
              "      <td>0.0</td>\n",
              "      <td>0.0</td>\n",
              "      <td>41.0</td>\n",
              "      <td>0.0</td>\n",
              "      <td>0.0</td>\n",
              "      <td>0.0</td>\n",
              "      <td>0.0</td>\n",
              "      <td>0.0</td>\n",
              "      <td>0.0</td>\n",
              "      <td>0.0</td>\n",
              "      <td>0.0</td>\n",
              "      <td>0.0</td>\n",
              "      <td>NaN</td>\n",
              "      <td>NaN</td>\n",
              "      <td>NaN</td>\n",
              "      <td>64484</td>\n",
              "    </tr>\n",
              "  </tbody>\n",
              "</table>\n",
              "</div>"
            ],
            "text/plain": [
              "          id                            descricao  ...  cod_cest  produto_id\n",
              "0  593036227  REFRIGERANTE COCA COLA PET 2 LITROS  ...       NaN       64484\n",
              "1  593036228  REFRIGERANTE COCA COLA PET 2 LITROS  ...       NaN       64484\n",
              "2  593036229  REFRIGERANTE COCA COLA PET 2 LITROS  ...       NaN       64484\n",
              "3  593036230  REFRIGERANTE COCA COLA PET 2 LITROS  ...       NaN       64484\n",
              "4  593036231  REFRIGERANTE COCA COLA PET 2 LITROS  ...       NaN       64484\n",
              "\n",
              "[5 rows x 32 columns]"
            ]
          },
          "metadata": {
            "tags": []
          },
          "execution_count": 4
        }
      ]
    },
    {
      "cell_type": "code",
      "metadata": {
        "id": "bz4rfkZrhxi5",
        "colab_type": "code",
        "outputId": "2dd5a346-020f-4fe8-b749-6ebd137f3ec1",
        "colab": {
          "base_uri": "https://localhost:8080/",
          "height": 197
        }
      },
      "source": [
        "initial_dataset = initial_dataset_raw[[\"descricao\", \"produto_id\"]]\n",
        "initial_dataset.head()"
      ],
      "execution_count": 5,
      "outputs": [
        {
          "output_type": "execute_result",
          "data": {
            "text/html": [
              "<div>\n",
              "<style scoped>\n",
              "    .dataframe tbody tr th:only-of-type {\n",
              "        vertical-align: middle;\n",
              "    }\n",
              "\n",
              "    .dataframe tbody tr th {\n",
              "        vertical-align: top;\n",
              "    }\n",
              "\n",
              "    .dataframe thead th {\n",
              "        text-align: right;\n",
              "    }\n",
              "</style>\n",
              "<table border=\"1\" class=\"dataframe\">\n",
              "  <thead>\n",
              "    <tr style=\"text-align: right;\">\n",
              "      <th></th>\n",
              "      <th>descricao</th>\n",
              "      <th>produto_id</th>\n",
              "    </tr>\n",
              "  </thead>\n",
              "  <tbody>\n",
              "    <tr>\n",
              "      <th>0</th>\n",
              "      <td>REFRIGERANTE COCA COLA PET 2 LITROS</td>\n",
              "      <td>64484</td>\n",
              "    </tr>\n",
              "    <tr>\n",
              "      <th>1</th>\n",
              "      <td>REFRIGERANTE COCA COLA PET 2 LITROS</td>\n",
              "      <td>64484</td>\n",
              "    </tr>\n",
              "    <tr>\n",
              "      <th>2</th>\n",
              "      <td>REFRIGERANTE COCA COLA PET 2 LITROS</td>\n",
              "      <td>64484</td>\n",
              "    </tr>\n",
              "    <tr>\n",
              "      <th>3</th>\n",
              "      <td>REFRIGERANTE COCA COLA PET 2 LITROS</td>\n",
              "      <td>64484</td>\n",
              "    </tr>\n",
              "    <tr>\n",
              "      <th>4</th>\n",
              "      <td>REFRIGERANTE COCA COLA PET 2 LITROS</td>\n",
              "      <td>64484</td>\n",
              "    </tr>\n",
              "  </tbody>\n",
              "</table>\n",
              "</div>"
            ],
            "text/plain": [
              "                             descricao  produto_id\n",
              "0  REFRIGERANTE COCA COLA PET 2 LITROS       64484\n",
              "1  REFRIGERANTE COCA COLA PET 2 LITROS       64484\n",
              "2  REFRIGERANTE COCA COLA PET 2 LITROS       64484\n",
              "3  REFRIGERANTE COCA COLA PET 2 LITROS       64484\n",
              "4  REFRIGERANTE COCA COLA PET 2 LITROS       64484"
            ]
          },
          "metadata": {
            "tags": []
          },
          "execution_count": 5
        }
      ]
    },
    {
      "cell_type": "code",
      "metadata": {
        "id": "a1efEwuivGAW",
        "colab_type": "code",
        "outputId": "c0a0d147-fde5-4ca2-ba2f-9e450208415c",
        "colab": {
          "base_uri": "https://localhost:8080/",
          "height": 197
        }
      },
      "source": [
        "initial_dataset.tail()"
      ],
      "execution_count": 6,
      "outputs": [
        {
          "output_type": "execute_result",
          "data": {
            "text/html": [
              "<div>\n",
              "<style scoped>\n",
              "    .dataframe tbody tr th:only-of-type {\n",
              "        vertical-align: middle;\n",
              "    }\n",
              "\n",
              "    .dataframe tbody tr th {\n",
              "        vertical-align: top;\n",
              "    }\n",
              "\n",
              "    .dataframe thead th {\n",
              "        text-align: right;\n",
              "    }\n",
              "</style>\n",
              "<table border=\"1\" class=\"dataframe\">\n",
              "  <thead>\n",
              "    <tr style=\"text-align: right;\">\n",
              "      <th></th>\n",
              "      <th>descricao</th>\n",
              "      <th>produto_id</th>\n",
              "    </tr>\n",
              "  </thead>\n",
              "  <tbody>\n",
              "    <tr>\n",
              "      <th>169755</th>\n",
              "      <td>GASOLINA DT CLEAN L</td>\n",
              "      <td>312612</td>\n",
              "    </tr>\n",
              "    <tr>\n",
              "      <th>169756</th>\n",
              "      <td>GASOLINA DT CLEAN L</td>\n",
              "      <td>312612</td>\n",
              "    </tr>\n",
              "    <tr>\n",
              "      <th>169757</th>\n",
              "      <td>GASOLINA DT CLEAN L</td>\n",
              "      <td>312612</td>\n",
              "    </tr>\n",
              "    <tr>\n",
              "      <th>169758</th>\n",
              "      <td>GASOLINA DT CLEAN L</td>\n",
              "      <td>312612</td>\n",
              "    </tr>\n",
              "    <tr>\n",
              "      <th>169759</th>\n",
              "      <td>GASOLINA DT CLEAN L</td>\n",
              "      <td>312612</td>\n",
              "    </tr>\n",
              "  </tbody>\n",
              "</table>\n",
              "</div>"
            ],
            "text/plain": [
              "                  descricao  produto_id\n",
              "169755  GASOLINA DT CLEAN L      312612\n",
              "169756  GASOLINA DT CLEAN L      312612\n",
              "169757  GASOLINA DT CLEAN L      312612\n",
              "169758  GASOLINA DT CLEAN L      312612\n",
              "169759  GASOLINA DT CLEAN L      312612"
            ]
          },
          "metadata": {
            "tags": []
          },
          "execution_count": 6
        }
      ]
    },
    {
      "cell_type": "markdown",
      "metadata": {
        "id": "O4b9PO1euuNb",
        "colab_type": "text"
      },
      "source": [
        "### Apenas Refrigerantes"
      ]
    },
    {
      "cell_type": "code",
      "metadata": {
        "id": "vlHBONwwuxIn",
        "colab_type": "code",
        "outputId": "bd1f3345-2390-4b7f-91c7-458ec3a41ceb",
        "colab": {
          "base_uri": "https://localhost:8080/",
          "height": 197
        }
      },
      "source": [
        "refri = initial_dataset[initial_dataset['descricao'].str.contains(\"REFRI\")]\n",
        "refri.head()"
      ],
      "execution_count": 7,
      "outputs": [
        {
          "output_type": "execute_result",
          "data": {
            "text/html": [
              "<div>\n",
              "<style scoped>\n",
              "    .dataframe tbody tr th:only-of-type {\n",
              "        vertical-align: middle;\n",
              "    }\n",
              "\n",
              "    .dataframe tbody tr th {\n",
              "        vertical-align: top;\n",
              "    }\n",
              "\n",
              "    .dataframe thead th {\n",
              "        text-align: right;\n",
              "    }\n",
              "</style>\n",
              "<table border=\"1\" class=\"dataframe\">\n",
              "  <thead>\n",
              "    <tr style=\"text-align: right;\">\n",
              "      <th></th>\n",
              "      <th>descricao</th>\n",
              "      <th>produto_id</th>\n",
              "    </tr>\n",
              "  </thead>\n",
              "  <tbody>\n",
              "    <tr>\n",
              "      <th>0</th>\n",
              "      <td>REFRIGERANTE COCA COLA PET 2 LITROS</td>\n",
              "      <td>64484</td>\n",
              "    </tr>\n",
              "    <tr>\n",
              "      <th>1</th>\n",
              "      <td>REFRIGERANTE COCA COLA PET 2 LITROS</td>\n",
              "      <td>64484</td>\n",
              "    </tr>\n",
              "    <tr>\n",
              "      <th>2</th>\n",
              "      <td>REFRIGERANTE COCA COLA PET 2 LITROS</td>\n",
              "      <td>64484</td>\n",
              "    </tr>\n",
              "    <tr>\n",
              "      <th>3</th>\n",
              "      <td>REFRIGERANTE COCA COLA PET 2 LITROS</td>\n",
              "      <td>64484</td>\n",
              "    </tr>\n",
              "    <tr>\n",
              "      <th>4</th>\n",
              "      <td>REFRIGERANTE COCA COLA PET 2 LITROS</td>\n",
              "      <td>64484</td>\n",
              "    </tr>\n",
              "  </tbody>\n",
              "</table>\n",
              "</div>"
            ],
            "text/plain": [
              "                             descricao  produto_id\n",
              "0  REFRIGERANTE COCA COLA PET 2 LITROS       64484\n",
              "1  REFRIGERANTE COCA COLA PET 2 LITROS       64484\n",
              "2  REFRIGERANTE COCA COLA PET 2 LITROS       64484\n",
              "3  REFRIGERANTE COCA COLA PET 2 LITROS       64484\n",
              "4  REFRIGERANTE COCA COLA PET 2 LITROS       64484"
            ]
          },
          "metadata": {
            "tags": []
          },
          "execution_count": 7
        }
      ]
    },
    {
      "cell_type": "code",
      "metadata": {
        "id": "R2GSIcDju7x1",
        "colab_type": "code",
        "colab": {}
      },
      "source": [
        "initial_dataset = refri"
      ],
      "execution_count": 0,
      "outputs": []
    },
    {
      "cell_type": "code",
      "metadata": {
        "id": "9q9UpU0XivDw",
        "colab_type": "code",
        "outputId": "e3a85875-b93c-42d3-8fc6-4075a8c92885",
        "colab": {
          "base_uri": "https://localhost:8080/",
          "height": 141
        }
      },
      "source": [
        "initial_dataset.info()"
      ],
      "execution_count": 9,
      "outputs": [
        {
          "output_type": "stream",
          "text": [
            "<class 'pandas.core.frame.DataFrame'>\n",
            "Int64Index: 3916 entries, 0 to 12979\n",
            "Data columns (total 2 columns):\n",
            "descricao     3916 non-null object\n",
            "produto_id    3916 non-null int64\n",
            "dtypes: int64(1), object(1)\n",
            "memory usage: 91.8+ KB\n"
          ],
          "name": "stdout"
        }
      ]
    },
    {
      "cell_type": "code",
      "metadata": {
        "id": "EaaTIPghixPx",
        "colab_type": "code",
        "outputId": "c26f9b3e-b93b-4d83-876c-bb159967d673",
        "colab": {
          "base_uri": "https://localhost:8080/",
          "height": 1000
        }
      },
      "source": [
        "initial_dataset.produto_id.value_counts()"
      ],
      "execution_count": 10,
      "outputs": [
        {
          "output_type": "execute_result",
          "data": {
            "text/plain": [
              "64484     100\n",
              "18097      90\n",
              "64772      80\n",
              "138686     80\n",
              "64435      70\n",
              "64480      70\n",
              "263735     60\n",
              "64440      60\n",
              "82781      60\n",
              "64787      50\n",
              "258978     50\n",
              "64487      50\n",
              "263958     50\n",
              "55769      40\n",
              "141983     40\n",
              "258997     40\n",
              "17725      40\n",
              "17331      40\n",
              "82865      40\n",
              "82706      40\n",
              "73108      40\n",
              "259040     40\n",
              "16107      40\n",
              "159343     40\n",
              "64954      30\n",
              "16211      30\n",
              "25949      30\n",
              "16178      30\n",
              "195553     30\n",
              "198049     30\n",
              "         ... \n",
              "81731      10\n",
              "31398      10\n",
              "81673      10\n",
              "81667      10\n",
              "16123      10\n",
              "20728      10\n",
              "81593      10\n",
              "82319      10\n",
              "20891      10\n",
              "64970      10\n",
              "49633      10\n",
              "222155     10\n",
              "64456      10\n",
              "64450      10\n",
              "82857      10\n",
              "64394      10\n",
              "64388      10\n",
              "64364      10\n",
              "64342      10\n",
              "111433     10\n",
              "82751      10\n",
              "82737      10\n",
              "84712      10\n",
              "84666      10\n",
              "17525      10\n",
              "84584      10\n",
              "49707      10\n",
              "266789     10\n",
              "258974     10\n",
              "81561       1\n",
              "Name: produto_id, Length: 224, dtype: int64"
            ]
          },
          "metadata": {
            "tags": []
          },
          "execution_count": 10
        }
      ]
    },
    {
      "cell_type": "markdown",
      "metadata": {
        "id": "2_JrQ3HQi2KQ",
        "colab_type": "text"
      },
      "source": [
        "## Visualização"
      ]
    },
    {
      "cell_type": "code",
      "metadata": {
        "id": "fhE3sYMOi8RI",
        "colab_type": "code",
        "outputId": "4f34fe0e-6969-4552-a6e3-8536dade3f15",
        "colab": {
          "base_uri": "https://localhost:8080/",
          "height": 197
        }
      },
      "source": [
        "refrigerante_coca_cola_pet_2l = initial_dataset[initial_dataset.produto_id == 64484]\n",
        "refrigerante_coca_cola_pet_2l.head()"
      ],
      "execution_count": 11,
      "outputs": [
        {
          "output_type": "execute_result",
          "data": {
            "text/html": [
              "<div>\n",
              "<style scoped>\n",
              "    .dataframe tbody tr th:only-of-type {\n",
              "        vertical-align: middle;\n",
              "    }\n",
              "\n",
              "    .dataframe tbody tr th {\n",
              "        vertical-align: top;\n",
              "    }\n",
              "\n",
              "    .dataframe thead th {\n",
              "        text-align: right;\n",
              "    }\n",
              "</style>\n",
              "<table border=\"1\" class=\"dataframe\">\n",
              "  <thead>\n",
              "    <tr style=\"text-align: right;\">\n",
              "      <th></th>\n",
              "      <th>descricao</th>\n",
              "      <th>produto_id</th>\n",
              "    </tr>\n",
              "  </thead>\n",
              "  <tbody>\n",
              "    <tr>\n",
              "      <th>0</th>\n",
              "      <td>REFRIGERANTE COCA COLA PET 2 LITROS</td>\n",
              "      <td>64484</td>\n",
              "    </tr>\n",
              "    <tr>\n",
              "      <th>1</th>\n",
              "      <td>REFRIGERANTE COCA COLA PET 2 LITROS</td>\n",
              "      <td>64484</td>\n",
              "    </tr>\n",
              "    <tr>\n",
              "      <th>2</th>\n",
              "      <td>REFRIGERANTE COCA COLA PET 2 LITROS</td>\n",
              "      <td>64484</td>\n",
              "    </tr>\n",
              "    <tr>\n",
              "      <th>3</th>\n",
              "      <td>REFRIGERANTE COCA COLA PET 2 LITROS</td>\n",
              "      <td>64484</td>\n",
              "    </tr>\n",
              "    <tr>\n",
              "      <th>4</th>\n",
              "      <td>REFRIGERANTE COCA COLA PET 2 LITROS</td>\n",
              "      <td>64484</td>\n",
              "    </tr>\n",
              "  </tbody>\n",
              "</table>\n",
              "</div>"
            ],
            "text/plain": [
              "                             descricao  produto_id\n",
              "0  REFRIGERANTE COCA COLA PET 2 LITROS       64484\n",
              "1  REFRIGERANTE COCA COLA PET 2 LITROS       64484\n",
              "2  REFRIGERANTE COCA COLA PET 2 LITROS       64484\n",
              "3  REFRIGERANTE COCA COLA PET 2 LITROS       64484\n",
              "4  REFRIGERANTE COCA COLA PET 2 LITROS       64484"
            ]
          },
          "metadata": {
            "tags": []
          },
          "execution_count": 11
        }
      ]
    },
    {
      "cell_type": "code",
      "metadata": {
        "id": "gqnmVsZ3jYCZ",
        "colab_type": "code",
        "outputId": "22d4821d-34fe-4ac2-8b90-816d7a16f4cc",
        "colab": {
          "base_uri": "https://localhost:8080/",
          "height": 70
        }
      },
      "source": [
        "\n",
        "from nltk.corpus import stopwords\n",
        "from wordcloud import WordCloud\n",
        "import joblib\n",
        "\n",
        "refrigerante_coca_cola_pet_2l_words = ''\n",
        "\n",
        "if GERAR_DADOS_VISUALIZACAO:\n",
        "  for i, val in enumerate(refrigerante_coca_cola_pet_2l.descricao):\n",
        "    print('.', end='')\n",
        "    if (i + 1) % 40 == 0 or i == len(refrigerante_coca_cola_pet_2l.descricao) - 1:\n",
        "      print('{:.2f} %'.format(i/(len(refrigerante_coca_cola_pet_2l.descricao)-1)*100))\n",
        "    text = val.lower()\n",
        "    tokens = nltk.word_tokenize(text)\n",
        "    tokens = [word for word in tokens if word not in stopwords.words('portuguese')]\n",
        "    for words in tokens:\n",
        "      refrigerante_coca_cola_pet_2l_words = refrigerante_coca_cola_pet_2l_words + words + ' '\n",
        "\n",
        "  joblib.dump(refrigerante_coca_cola_pet_2l_words, WORDS_FILENAME)\n",
        "\n",
        "else:\n",
        "  refrigerante_coca_cola_pet_2l_words = joblib.load(WORDS_FILENAME) \n",
        "       \n",
        "        \n",
        "refrigerante_coca_cola_pet_2l_wordcloud = WordCloud(width=600, height=400).generate(refrigerante_coca_cola_pet_2l_words)"
      ],
      "execution_count": 12,
      "outputs": [
        {
          "output_type": "stream",
          "text": [
            "........................................39.39 %\n",
            "........................................79.80 %\n",
            "....................100.00 %\n"
          ],
          "name": "stdout"
        }
      ]
    },
    {
      "cell_type": "code",
      "metadata": {
        "id": "5xcyPkK7kwKI",
        "colab_type": "code",
        "outputId": "aca21ee6-8e50-45e8-fbbe-1752bb97649d",
        "colab": {
          "base_uri": "https://localhost:8080/",
          "height": 54
        }
      },
      "source": [
        "refrigerante_coca_cola_pet_2l_words[:200]"
      ],
      "execution_count": 13,
      "outputs": [
        {
          "output_type": "execute_result",
          "data": {
            "text/plain": [
              "'refrigerante coca cola pet 2 litros refrigerante coca cola pet 2 litros refrigerante coca cola pet 2 litros refrigerante coca cola pet 2 litros refrigerante coca cola pet 2 litros refrigerante coca co'"
            ]
          },
          "metadata": {
            "tags": []
          },
          "execution_count": 13
        }
      ]
    },
    {
      "cell_type": "code",
      "metadata": {
        "id": "qYpTps4ok2Ao",
        "colab_type": "code",
        "outputId": "4e19ef67-b99b-4608-ef9b-e30142d2109f",
        "colab": {
          "base_uri": "https://localhost:8080/",
          "height": 506
        }
      },
      "source": [
        "import matplotlib.pyplot as plt\n",
        "\n",
        "# Word cloud\n",
        "plt.figure( figsize=(10,8), facecolor='k')\n",
        "plt.imshow(refrigerante_coca_cola_pet_2l_wordcloud)\n",
        "plt.axis(\"off\")\n",
        "plt.tight_layout(pad=0)\n",
        "plt.show()"
      ],
      "execution_count": 14,
      "outputs": [
        {
          "output_type": "display_data",
          "data": {
            "image/png": "[encoded data removed]",
            "text/plain": [
              "<Figure size 720x576 with 1 Axes>"
            ]
          },
          "metadata": {
            "tags": []
          }
        }
      ]
    },
    {
      "cell_type": "markdown",
      "metadata": {
        "id": "ijprH0JVk-rD",
        "colab_type": "text"
      },
      "source": [
        "## Treinamento"
      ]
    },
    {
      "cell_type": "code",
      "metadata": {
        "id": "yh4js5UclDJG",
        "colab_type": "code",
        "colab": {}
      },
      "source": [
        "from sklearn.feature_extraction.text import CountVectorizer\n",
        "from sklearn.model_selection import train_test_split"
      ],
      "execution_count": 0,
      "outputs": []
    },
    {
      "cell_type": "code",
      "metadata": {
        "id": "aQ96Cd1SlFBB",
        "colab_type": "code",
        "colab": {}
      },
      "source": [
        "X_train,X_test,y_train,y_test = train_test_split(\n",
        "    initial_dataset[\"descricao\"], \n",
        "    initial_dataset[\"produto_id\"], \n",
        "    test_size = 0.2, \n",
        "    random_state = 10\n",
        ")"
      ],
      "execution_count": 0,
      "outputs": []
    },
    {
      "cell_type": "code",
      "metadata": {
        "id": "Ha28425MlN7R",
        "colab_type": "code",
        "outputId": "6dfb6e60-f8b0-4261-fc9a-d781982f85c9",
        "colab": {
          "base_uri": "https://localhost:8080/",
          "height": 123
        }
      },
      "source": [
        "X_train[:5]"
      ],
      "execution_count": 17,
      "outputs": [
        {
          "output_type": "execute_result",
          "data": {
            "text/plain": [
              "4770        REFRIGERANTE SODA ANTARCTICA 350ML\n",
              "2128          REFRI. COCA COLA ZERO LATA 350ML\n",
              "81                      REFRI COCA COLA PET 2L\n",
              "9891    REFRIG DE CAJU SAO GERALDO 250ML FD 12\n",
              "9822                    REFRIG KUAT EKO PET 2L\n",
              "Name: descricao, dtype: object"
            ]
          },
          "metadata": {
            "tags": []
          },
          "execution_count": 17
        }
      ]
    },
    {
      "cell_type": "code",
      "metadata": {
        "id": "ikvxLxNplQJY",
        "colab_type": "code",
        "outputId": "30fe1f00-e9ce-4215-e921-a998321fb9bf",
        "colab": {
          "base_uri": "https://localhost:8080/",
          "height": 123
        }
      },
      "source": [
        "X_test[:5]"
      ],
      "execution_count": 18,
      "outputs": [
        {
          "output_type": "execute_result",
          "data": {
            "text/plain": [
              "6258            REFRIGERA DE CAJU SAO GERALDO 250ML\n",
              "8750                       REFRIG FREVO 2L COLA FD6\n",
              "9549                  REFRIG INDAIA LARANJA 2L FD 6\n",
              "10123                REFRIGERANTE COLA 250ML INDAIA\n",
              "9245     REFRIG. PITCHULA FREVO GUAR. 12 X 250ML FD\n",
              "Name: descricao, dtype: object"
            ]
          },
          "metadata": {
            "tags": []
          },
          "execution_count": 18
        }
      ]
    },
    {
      "cell_type": "code",
      "metadata": {
        "id": "XIyEAbhNli6Y",
        "colab_type": "code",
        "outputId": "38ec25ab-91f8-4d4f-b943-b473bd535416",
        "colab": {
          "base_uri": "https://localhost:8080/",
          "height": 123
        }
      },
      "source": [
        "y_train[:5]"
      ],
      "execution_count": 19,
      "outputs": [
        {
          "output_type": "execute_result",
          "data": {
            "text/plain": [
              "4770    83402\n",
              "2128    64487\n",
              "81      64484\n",
              "9891    64554\n",
              "9822    29598\n",
              "Name: produto_id, dtype: int64"
            ]
          },
          "metadata": {
            "tags": []
          },
          "execution_count": 19
        }
      ]
    },
    {
      "cell_type": "code",
      "metadata": {
        "id": "luJYIfIwlksY",
        "colab_type": "code",
        "outputId": "5b08f8d9-86de-4867-8342-1d519aac8026",
        "colab": {
          "base_uri": "https://localhost:8080/",
          "height": 123
        }
      },
      "source": [
        "y_test[:5]"
      ],
      "execution_count": 20,
      "outputs": [
        {
          "output_type": "execute_result",
          "data": {
            "text/plain": [
              "6258      64954\n",
              "8750      65078\n",
              "9549      64495\n",
              "10123     40524\n",
              "9245     203301\n",
              "Name: produto_id, dtype: int64"
            ]
          },
          "metadata": {
            "tags": []
          },
          "execution_count": 20
        }
      ]
    },
    {
      "cell_type": "code",
      "metadata": {
        "id": "hedgxgeFlnGC",
        "colab_type": "code",
        "colab": {}
      },
      "source": [
        "vect = CountVectorizer()\n",
        "\n",
        "if TREINAMENTO:\n",
        "  vect.fit(initial_dataset[\"descricao\"])\n",
        "  joblib.dump(vect, COUNT_VECTORIZER_FILENAME)  \n",
        "\n",
        "vect = joblib.load(COUNT_VECTORIZER_FILENAME)"
      ],
      "execution_count": 0,
      "outputs": []
    },
    {
      "cell_type": "code",
      "metadata": {
        "id": "LCiJOVGdlsqw",
        "colab_type": "code",
        "colab": {}
      },
      "source": [
        "final_dataset = {\n",
        "    \"X_train\": vect.transform(X_train),\n",
        "    \"X_test\": vect.transform(X_test),\n",
        "    \"y_train\": y_train,\n",
        "    \"y_test\" : y_test,\n",
        "    \"vect\": vect\n",
        "}"
      ],
      "execution_count": 0,
      "outputs": []
    },
    {
      "cell_type": "code",
      "metadata": {
        "id": "SVgFvz3olvQQ",
        "colab_type": "code",
        "colab": {}
      },
      "source": [
        "from sklearn.naive_bayes import MultinomialNB"
      ],
      "execution_count": 0,
      "outputs": []
    },
    {
      "cell_type": "code",
      "metadata": {
        "id": "YeU77OZSlw3w",
        "colab_type": "code",
        "colab": {}
      },
      "source": [
        "clf = MultinomialNB()\n",
        "\n",
        "if TREINAMENTO:\n",
        "  clf.fit(final_dataset[\"X_train\"], final_dataset[\"y_train\"])\n",
        "  joblib.dump(clf, CLASSIFIER_FILENAME)  \n",
        "\n",
        "clf = joblib.load(CLASSIFIER_FILENAME)\n",
        "  \n",
        "model = {\n",
        "    \"clf\" : clf,\n",
        "    \"vect\": final_dataset[\"vect\"]\n",
        "}"
      ],
      "execution_count": 0,
      "outputs": []
    },
    {
      "cell_type": "markdown",
      "metadata": {
        "id": "76-yK1ByvfsH",
        "colab_type": "text"
      },
      "source": [
        "## Métricas"
      ]
    },
    {
      "cell_type": "code",
      "metadata": {
        "id": "oB3EpvlsvhSG",
        "colab_type": "code",
        "colab": {}
      },
      "source": [
        "from sklearn.metrics import accuracy_score"
      ],
      "execution_count": 0,
      "outputs": []
    },
    {
      "cell_type": "code",
      "metadata": {
        "id": "ss_hMrosvlDw",
        "colab_type": "code",
        "outputId": "317a09a6-7313-4e21-b55e-fd716376a6d3",
        "colab": {
          "base_uri": "https://localhost:8080/",
          "height": 34
        }
      },
      "source": [
        "y_prediction = model[\"clf\"].predict(final_dataset[\"X_test\"])\n",
        "\n",
        "accuracy = accuracy_score(y_prediction, final_dataset[\"y_test\"])\n",
        "accuracy"
      ],
      "execution_count": 26,
      "outputs": [
        {
          "output_type": "execute_result",
          "data": {
            "text/plain": [
              "0.7806122448979592"
            ]
          },
          "metadata": {
            "tags": []
          },
          "execution_count": 26
        }
      ]
    },
    {
      "cell_type": "code",
      "metadata": {
        "id": "xhlvVBTKwnox",
        "colab_type": "code",
        "colab": {}
      },
      "source": [
        "from sklearn.metrics import classification_report"
      ],
      "execution_count": 0,
      "outputs": []
    },
    {
      "cell_type": "code",
      "metadata": {
        "id": "UQhhLINuwkRf",
        "colab_type": "code",
        "outputId": "33a85d18-04d9-48b1-fead-5edf4a2a7f2a",
        "colab": {
          "base_uri": "https://localhost:8080/",
          "height": 1000
        }
      },
      "source": [
        "report = classification_report(final_dataset[\"y_test\"], y_prediction)\n",
        "print(report)"
      ],
      "execution_count": 28,
      "outputs": [
        {
          "output_type": "stream",
          "text": [
            "              precision    recall  f1-score   support\n",
            "\n",
            "       15656       1.00      1.00      1.00         1\n",
            "       15809       1.00      1.00      1.00         1\n",
            "       16107       0.78      1.00      0.88         7\n",
            "       16123       0.00      0.00      0.00         2\n",
            "       16178       1.00      1.00      1.00         7\n",
            "       16211       0.33      1.00      0.50         4\n",
            "       17254       0.00      0.00      0.00         2\n",
            "       17331       1.00      1.00      1.00        12\n",
            "       17525       1.00      1.00      1.00         3\n",
            "       17725       0.75      1.00      0.86         6\n",
            "       17907       1.00      1.00      1.00         2\n",
            "       17916       1.00      1.00      1.00         1\n",
            "       18097       0.59      1.00      0.75        22\n",
            "       18490       1.00      1.00      1.00         2\n",
            "       18830       1.00      1.00      1.00         2\n",
            "       18866       1.00      1.00      1.00         2\n",
            "       19103       0.00      0.00      0.00         5\n",
            "       19724       0.00      0.00      0.00         4\n",
            "       20616       1.00      1.00      1.00         2\n",
            "       20728       1.00      1.00      1.00         4\n",
            "       20757       1.00      1.00      1.00         2\n",
            "       20891       1.00      1.00      1.00         3\n",
            "       21271       1.00      1.00      1.00         2\n",
            "       21812       1.00      1.00      1.00         2\n",
            "       24010       1.00      0.62      0.77         8\n",
            "       24011       0.00      0.00      0.00         3\n",
            "       24012       0.00      0.00      0.00         2\n",
            "       24812       0.00      0.00      0.00         4\n",
            "       25949       0.17      0.25      0.20         4\n",
            "       28706       0.25      1.00      0.40         1\n",
            "       28806       0.00      0.00      0.00         1\n",
            "       28838       1.00      1.00      1.00         2\n",
            "       28839       1.00      1.00      1.00         2\n",
            "       28920       1.00      1.00      1.00         2\n",
            "       28986       1.00      1.00      1.00         1\n",
            "       29120       0.00      0.00      0.00         1\n",
            "       29182       1.00      1.00      1.00         1\n",
            "       29331       1.00      1.00      1.00         3\n",
            "       29598       0.00      0.00      0.00         2\n",
            "       30075       1.00      1.00      1.00         2\n",
            "       31398       0.00      0.00      0.00         3\n",
            "       35732       1.00      0.60      0.75         5\n",
            "       38190       0.00      0.00      0.00         1\n",
            "       39993       1.00      1.00      1.00         2\n",
            "       40159       0.00      0.00      0.00         4\n",
            "       40161       1.00      1.00      1.00         1\n",
            "       40371       1.00      1.00      1.00         3\n",
            "       40396       1.00      1.00      1.00         3\n",
            "       40397       1.00      1.00      1.00         4\n",
            "       40398       1.00      1.00      1.00         4\n",
            "       40524       1.00      1.00      1.00         7\n",
            "       44734       0.00      0.00      0.00         2\n",
            "       49633       0.00      0.00      0.00         2\n",
            "       49706       1.00      1.00      1.00         2\n",
            "       49707       1.00      1.00      1.00         1\n",
            "       51091       0.00      0.00      0.00         2\n",
            "       55065       0.00      0.00      0.00         3\n",
            "       55769       1.00      1.00      1.00         9\n",
            "       55795       1.00      1.00      1.00         6\n",
            "       55796       1.00      1.00      1.00         5\n",
            "       55797       1.00      1.00      1.00         4\n",
            "       64342       1.00      1.00      1.00         1\n",
            "       64347       1.00      1.00      1.00         2\n",
            "       64364       0.40      1.00      0.57         2\n",
            "       64389       1.00      1.00      1.00         1\n",
            "       64394       0.00      0.00      0.00         2\n",
            "       64425       1.00      1.00      1.00         5\n",
            "       64435       0.36      1.00      0.53         9\n",
            "       64440       0.71      1.00      0.83        12\n",
            "       64450       0.00      0.00      0.00         2\n",
            "       64456       1.00      1.00      1.00         1\n",
            "       64464       1.00      1.00      1.00         1\n",
            "       64471       1.00      1.00      1.00         2\n",
            "       64474       1.00      1.00      1.00         1\n",
            "       64480       0.32      1.00      0.49         9\n",
            "       64483       1.00      1.00      1.00         2\n",
            "       64484       0.77      1.00      0.87        24\n",
            "       64487       0.84      1.00      0.91        16\n",
            "       64490       1.00      1.00      1.00         2\n",
            "       64491       1.00      1.00      1.00         1\n",
            "       64492       1.00      1.00      1.00         3\n",
            "       64493       1.00      1.00      1.00         2\n",
            "       64494       1.00      1.00      1.00         2\n",
            "       64495       0.00      0.00      0.00         3\n",
            "       64497       1.00      1.00      1.00         1\n",
            "       64498       1.00      1.00      1.00         3\n",
            "       64499       1.00      1.00      1.00         3\n",
            "       64500       1.00      1.00      1.00         3\n",
            "       64502       1.00      1.00      1.00         2\n",
            "       64503       0.00      0.00      0.00         5\n",
            "       64519       1.00      1.00      1.00         1\n",
            "       64539       1.00      1.00      1.00         1\n",
            "       64541       1.00      1.00      1.00         3\n",
            "       64554       1.00      1.00      1.00         1\n",
            "       64563       1.00      1.00      1.00         3\n",
            "       64772       0.58      0.93      0.72        15\n",
            "       64777       0.00      0.00      0.00         4\n",
            "       64787       0.47      1.00      0.64         8\n",
            "       64948       1.00      1.00      1.00         4\n",
            "       64949       1.00      1.00      1.00         1\n",
            "       64951       0.00      0.00      0.00         1\n",
            "       64954       1.00      1.00      1.00         8\n",
            "       64960       1.00      1.00      1.00         1\n",
            "       64965       1.00      1.00      1.00         1\n",
            "       64970       1.00      1.00      1.00         3\n",
            "       64975       1.00      1.00      1.00         1\n",
            "       65012       1.00      1.00      1.00         1\n",
            "       65078       1.00      1.00      1.00         2\n",
            "       73108       1.00      1.00      1.00         9\n",
            "       73148       1.00      1.00      1.00         1\n",
            "       81380       0.00      0.00      0.00         2\n",
            "       81436       1.00      1.00      1.00         1\n",
            "       81440       0.00      0.00      0.00         3\n",
            "       81472       1.00      1.00      1.00         4\n",
            "       81474       0.00      0.00      0.00         2\n",
            "       81548       1.00      1.00      1.00         2\n",
            "       81561       0.00      0.00      0.00         1\n",
            "       81568       0.00      0.00      0.00         4\n",
            "       81592       1.00      1.00      1.00         2\n",
            "       81593       0.00      0.00      0.00         1\n",
            "       81654       1.00      1.00      1.00         5\n",
            "       81659       1.00      1.00      1.00         2\n",
            "       81667       0.00      0.00      0.00         2\n",
            "       81673       1.00      1.00      1.00         3\n",
            "       81684       1.00      1.00      1.00         3\n",
            "       81716       1.00      1.00      1.00         2\n",
            "       81731       1.00      1.00      1.00         2\n",
            "       82264       1.00      0.60      0.75         5\n",
            "       82278       0.43      1.00      0.60         3\n",
            "       82319       1.00      1.00      1.00         1\n",
            "       82342       1.00      1.00      1.00         1\n",
            "       82606       0.00      0.00      0.00         6\n",
            "       82706       1.00      1.00      1.00        12\n",
            "       82737       0.00      0.00      0.00         2\n",
            "       82751       0.00      0.00      0.00         1\n",
            "       82781       0.52      1.00      0.69        11\n",
            "       82865       1.00      1.00      1.00         9\n",
            "       82890       1.00      1.00      1.00         1\n",
            "       82895       0.00      0.00      0.00         3\n",
            "       82922       0.00      0.00      0.00         8\n",
            "       83018       1.00      1.00      1.00         2\n",
            "       83061       0.71      1.00      0.83        10\n",
            "       83247       1.00      1.00      1.00         1\n",
            "       83402       0.57      1.00      0.73         4\n",
            "       83434       0.00      0.00      0.00         1\n",
            "       83601       1.00      0.33      0.50         3\n",
            "       83809       1.00      1.00      1.00         2\n",
            "       83861       1.00      1.00      1.00         1\n",
            "       84149       1.00      1.00      1.00         3\n",
            "       84160       1.00      1.00      1.00         6\n",
            "       84584       0.00      0.00      0.00         4\n",
            "       84666       1.00      1.00      1.00         2\n",
            "       84676       1.00      1.00      1.00         8\n",
            "       84695       1.00      1.00      1.00         2\n",
            "       84712       0.00      0.00      0.00         5\n",
            "       84795       0.00      0.00      0.00        10\n",
            "       88416       1.00      1.00      1.00         1\n",
            "       88539       0.00      0.00      0.00         2\n",
            "      111322       0.00      0.00      0.00         1\n",
            "      111433       1.00      1.00      1.00         3\n",
            "      138686       0.75      1.00      0.86        12\n",
            "      141983       1.00      1.00      1.00         9\n",
            "      150182       0.00      0.00      0.00         6\n",
            "      159343       0.60      1.00      0.75         3\n",
            "      194910       0.00      0.00      0.00         3\n",
            "      195553       1.00      1.00      1.00         7\n",
            "      196937       1.00      1.00      1.00         2\n",
            "      198049       1.00      0.25      0.40         4\n",
            "      203301       1.00      1.00      1.00         4\n",
            "      203647       0.67      1.00      0.80         2\n",
            "      203862       1.00      1.00      1.00         1\n",
            "      203907       1.00      1.00      1.00         4\n",
            "      215081       1.00      1.00      1.00         4\n",
            "      222155       1.00      1.00      1.00         1\n",
            "      234645       1.00      1.00      1.00         2\n",
            "      244754       1.00      1.00      1.00         2\n",
            "      248941       1.00      1.00      1.00         3\n",
            "      258974       0.00      0.00      0.00         3\n",
            "      258978       1.00      1.00      1.00         8\n",
            "      258997       1.00      1.00      1.00         9\n",
            "      259040       0.80      1.00      0.89         8\n",
            "      259061       0.00      0.00      0.00         2\n",
            "      259064       1.00      1.00      1.00         5\n",
            "      259094       0.00      0.00      0.00         2\n",
            "      259149       1.00      1.00      1.00         5\n",
            "      259200       1.00      1.00      1.00         1\n",
            "      259289       1.00      1.00      1.00         3\n",
            "      260187       0.00      0.00      0.00         2\n",
            "      260211       1.00      1.00      1.00         3\n",
            "      263735       0.55      1.00      0.71        11\n",
            "      263958       0.47      1.00      0.64         8\n",
            "      264009       0.00      0.00      0.00         3\n",
            "      266789       1.00      1.00      1.00         3\n",
            "      266809       1.00      1.00      1.00         5\n",
            "      288190       0.67      1.00      0.80         2\n",
            "      288192       0.00      0.00      0.00         2\n",
            "      288193       0.00      0.00      0.00         2\n",
            "      288195       1.00      1.00      1.00         2\n",
            "      288208       1.00      1.00      1.00         1\n",
            "      288231       1.00      1.00      1.00         4\n",
            "      288232       1.00      0.67      0.80         3\n",
            "      288233       1.00      1.00      1.00         4\n",
            "      288234       0.00      0.00      0.00         3\n",
            "      292820       0.00      0.00      0.00         3\n",
            "      320084       0.27      1.00      0.43         3\n",
            "      320493       0.00      0.00      0.00         5\n",
            "      320507       1.00      1.00      1.00         5\n",
            "      320538       0.00      0.00      0.00         1\n",
            "      320900       0.44      1.00      0.62         4\n",
            "      321576       1.00      1.00      1.00         1\n",
            "      321802       0.25      1.00      0.40         1\n",
            "      325766       1.00      1.00      1.00         3\n",
            "      326558       1.00      1.00      1.00         5\n",
            "      327164       1.00      1.00      1.00         2\n",
            "\n",
            "    accuracy                           0.78       784\n",
            "   macro avg       0.69      0.73      0.70       784\n",
            "weighted avg       0.69      0.78      0.72       784\n",
            "\n"
          ],
          "name": "stdout"
        },
        {
          "output_type": "stream",
          "text": [
            "/usr/local/lib/python3.6/dist-packages/sklearn/metrics/classification.py:1437: UndefinedMetricWarning: Precision and F-score are ill-defined and being set to 0.0 in labels with no predicted samples.\n",
            "  'precision', 'predicted', average, warn_for)\n"
          ],
          "name": "stderr"
        }
      ]
    },
    {
      "cell_type": "markdown",
      "metadata": {
        "id": "l7XCSF73yHYf",
        "colab_type": "text"
      },
      "source": [
        "## Predição"
      ]
    },
    {
      "cell_type": "code",
      "metadata": {
        "id": "63qLj8h10eae",
        "colab_type": "code",
        "outputId": "9661ac8c-43a2-49db-ef34-82152b333071",
        "colab": {
          "base_uri": "https://localhost:8080/",
          "height": 137
        }
      },
      "source": [
        "produto_predicao = [('REFRIG SPRITE 350ML LA1', 16107),\n",
        "                    ('REFRIG COCA COLA 2 5L', 25949),\n",
        "                    ('REFRI SUKITA LARANJA LT 350ML', 18866)]\n",
        "labels = ['descricao', 'produto_id']\n",
        "df_predicao = pd.DataFrame.from_records(produto_predicao, columns=labels)\n",
        "df_predicao.head()"
      ],
      "execution_count": 29,
      "outputs": [
        {
          "output_type": "execute_result",
          "data": {
            "text/html": [
              "<div>\n",
              "<style scoped>\n",
              "    .dataframe tbody tr th:only-of-type {\n",
              "        vertical-align: middle;\n",
              "    }\n",
              "\n",
              "    .dataframe tbody tr th {\n",
              "        vertical-align: top;\n",
              "    }\n",
              "\n",
              "    .dataframe thead th {\n",
              "        text-align: right;\n",
              "    }\n",
              "</style>\n",
              "<table border=\"1\" class=\"dataframe\">\n",
              "  <thead>\n",
              "    <tr style=\"text-align: right;\">\n",
              "      <th></th>\n",
              "      <th>descricao</th>\n",
              "      <th>produto_id</th>\n",
              "    </tr>\n",
              "  </thead>\n",
              "  <tbody>\n",
              "    <tr>\n",
              "      <th>0</th>\n",
              "      <td>REFRIG SPRITE 350ML LA1</td>\n",
              "      <td>16107</td>\n",
              "    </tr>\n",
              "    <tr>\n",
              "      <th>1</th>\n",
              "      <td>REFRIG COCA COLA 2 5L</td>\n",
              "      <td>25949</td>\n",
              "    </tr>\n",
              "    <tr>\n",
              "      <th>2</th>\n",
              "      <td>REFRI SUKITA LARANJA LT 350ML</td>\n",
              "      <td>18866</td>\n",
              "    </tr>\n",
              "  </tbody>\n",
              "</table>\n",
              "</div>"
            ],
            "text/plain": [
              "                       descricao  produto_id\n",
              "0        REFRIG SPRITE 350ML LA1       16107\n",
              "1          REFRIG COCA COLA 2 5L       25949\n",
              "2  REFRI SUKITA LARANJA LT 350ML       18866"
            ]
          },
          "metadata": {
            "tags": []
          },
          "execution_count": 29
        }
      ]
    },
    {
      "cell_type": "code",
      "metadata": {
        "id": "vzXt5dFw3Snl",
        "colab_type": "code",
        "outputId": "c860182d-5494-4a4a-aa34-b0bc112e177f",
        "colab": {
          "base_uri": "https://localhost:8080/",
          "height": 34
        }
      },
      "source": [
        "input_message = model[\"vect\"].transform(df_predicao[\"descricao\"].values)\n",
        "\n",
        "final_prediction = model[\"clf\"].predict(input_message)                                                  \n",
        "final_prediction\n"
      ],
      "execution_count": 30,
      "outputs": [
        {
          "output_type": "execute_result",
          "data": {
            "text/plain": [
              "array([138686,  25949,  18866])"
            ]
          },
          "metadata": {
            "tags": []
          },
          "execution_count": 30
        }
      ]
    },
    {
      "cell_type": "code",
      "metadata": {
        "id": "OlfZblhcVJiZ",
        "colab_type": "code",
        "outputId": "b713682f-399c-4d16-a7e0-e2e5fba3edc9",
        "colab": {
          "base_uri": "https://localhost:8080/",
          "height": 303
        }
      },
      "source": [
        "report = classification_report(df_predicao[\"produto_id\"].values, final_prediction)\n",
        "\n",
        "print(report)"
      ],
      "execution_count": 31,
      "outputs": [
        {
          "output_type": "stream",
          "text": [
            "              precision    recall  f1-score   support\n",
            "\n",
            "       16107       0.00      0.00      0.00         1\n",
            "       18866       1.00      1.00      1.00         1\n",
            "       25949       1.00      1.00      1.00         1\n",
            "      138686       0.00      0.00      0.00         0\n",
            "\n",
            "    accuracy                           0.67         3\n",
            "   macro avg       0.50      0.50      0.50         3\n",
            "weighted avg       0.67      0.67      0.67         3\n",
            "\n"
          ],
          "name": "stdout"
        },
        {
          "output_type": "stream",
          "text": [
            "/usr/local/lib/python3.6/dist-packages/sklearn/metrics/classification.py:1437: UndefinedMetricWarning: Precision and F-score are ill-defined and being set to 0.0 in labels with no predicted samples.\n",
            "  'precision', 'predicted', average, warn_for)\n",
            "/usr/local/lib/python3.6/dist-packages/sklearn/metrics/classification.py:1439: UndefinedMetricWarning: Recall and F-score are ill-defined and being set to 0.0 in labels with no true samples.\n",
            "  'recall', 'true', average, warn_for)\n"
          ],
          "name": "stderr"
        }
      ]
    }
  ]
}