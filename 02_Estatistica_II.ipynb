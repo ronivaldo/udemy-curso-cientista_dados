{
  "nbformat": 4,
  "nbformat_minor": 0,
  "metadata": {
    "colab": {
      "name": "02_Estatistica_II.ipynb",
      "version": "0.3.2",
      "provenance": [],
      "collapsed_sections": [],
      "toc_visible": true
    },
    "kernelspec": {
      "name": "python3",
      "display_name": "Python 3"
    }
  },
  "cells": [
    {
      "metadata": {
        "id": "SXCZTYhFp4xT",
        "colab_type": "text"
      },
      "cell_type": "markdown",
      "source": [
        "# Estatística II\n",
        "\n",
        "## Introdução a Correlação e Regressão Linear\n",
        "\n",
        "Introdução a Correlação e Regressão Linear\n",
        "\n",
        "## Variáveis\n",
        "\n",
        "Custos de um cliente para um plano de saúde.\n",
        "\n",
        "|Idade|Custo|\n",
        "|--|--|\n",
        "|18|871|\n",
        "|23|1132|\n",
        "|28|1242|\n",
        "|33|1356|\n",
        "\n",
        "Existe uma relação matemática entre estas duas variáveis?\n",
        "\n",
        "Se existe, como posso medir sua força?\n",
        "\n",
        "Poderia usar essa relação para fazer previsões?\n",
        "\n",
        "# Gráfico de Dispersão\n",
        "\n",
        "Gráfico com representação das variáveis no plano cartesiano.\n",
        "\n",
        "Eixo Y - Variável de Resposta ou Dependente\n",
        "- Na regressão é que queremos prever\n",
        "\n",
        "Eixo X - Variável Explanatória ou Independente\n",
        "- Na regressão é o que explica, ou usamos para prever\n",
        "\n",
        "# Regressão Linear\n",
        "\n",
        "Suponha que exista uma certa linearidade na districuição dos dados. Desta forma, matematicamente é possível gerar uma linha de regressão, ou de melhor ajuste, pode ser usada para fazer previsões.\n",
        "\n",
        "![alt text](https://github.com/ronivaldo/udemy-curso-cientista_dados/raw/master/resources/regressao_linear.jpg \"Regressão Linear\")\n",
        "\n",
        "\n",
        "\n",
        "\n"
      ]
    },
    {
      "metadata": {
        "id": "eTjt47Vvv06g",
        "colab_type": "text"
      },
      "cell_type": "markdown",
      "source": [
        " # Correlação - Parte I\n",
        " \n",
        " Medir a força e a direção da relação entre variáveis. \n",
        " \n",
        " Por exemplo, em um estude de plano de saúde, aumentando a idade, o custo também aumenta. (Na mesma Direção, correlação positiva)\n",
        " \n",
        " Outro exemplo, diminui a temperatura e aumentam as vendas de casacos. (Direção Inversa, correlação negativa)\n",
        " \n",
        " Pode ser um valor entre -1 e 1.\n",
        " \n",
        " A correlação de A~B é a mesma que B~A.\n",
        " \n",
        "## Força e Direção \n",
        "\n",
        "A força pode ser:\n",
        "- 1 - Perfeita\n",
        "- 0.7 - Forte\n",
        "- 0.5 - Moderada\n",
        "- 0.25 - Fraca\n",
        "- 0 - Inexistente\n",
        "- -0.25 - Fraca\n",
        "- -0.5 - Moderada\n",
        "- -0.7 - Forte\n",
        "- -1 - Perfeita\n",
        "\n"
      ]
    },
    {
      "metadata": {
        "id": "dOD7civEVBU7",
        "colab_type": "text"
      },
      "cell_type": "markdown",
      "source": [
        " # Correlação - Parte II\n",
        " \n",
        " Do ponto de vista gráfico, em um gráfico de dispersão:\n",
        " - Correção forte: pontos próximos a uma linha de correlação e concentrados\n",
        " - Correlação fraca: a relação matemática entre os pontos é muito fraca e não é evidente uma linha de linearidade\n",
        " \n",
        " Tipo de Correlação:\n",
        " - Positiva: a inclinação é para cima\n",
        " - Negativa: a inclinação é para baixo\n",
        " - Inexistente: sem inclinação, linha reta\n",
        " \n",
        " ## Coeficiente de Determinação R^2\n",
        " \n",
        " Mostra o quanto o modelo consegue explicar os valores:\n",
        " - Quanto maior, mais explicativo ele é.\n",
        " \n",
        " O restante da variabilidade está em variáveis não incluídas no modelo.\n",
        " \n",
        " Varia de 0 a 1, ou seja, sempre positivo.\n",
        " \n",
        " Calcula-se com o quadrado do coeficiente de correlação R.\n",
        " \n",
        " \n",
        " Por exemplo, R = 0.93. R^2 = 0.86. Quer dizer que, 86% da variável dependente consegue ser explicada pelas variáveis explanatórias presentes no modelo.\n",
        " \n",
        " \n",
        " \n",
        " \n",
        " "
      ]
    },
    {
      "metadata": {
        "id": "zM5Kr51DX_qE",
        "colab_type": "text"
      },
      "cell_type": "markdown",
      "source": [
        "# Regressão Linear - Previsão\n",
        "\n",
        "Como usar a regressão linear para fazer previsões.\n",
        "\n",
        "Supondo que você não tenha um determinado dado, mas dados históricos podem ser utilizados para obter uma previsão. É preciso existir uma correlação e uma linearidade nos dados.\n",
        "\n",
        "![alt text](https://github.com/ronivaldo/udemy-curso-cientista_dados/raw/master/resources/previsao_regressao_linear.png \"Previsão Regressão Linear\")\n",
        "\n",
        "Dados necessários:\n",
        "- Intersecção: onde encontra o eixo Y para X=0\n",
        "- Inclinação: inclinação da linha\n",
        "\n",
        "\n",
        "\n",
        "\n"
      ]
    },
    {
      "metadata": {
        "id": "1aWpx6IXbQVD",
        "colab_type": "text"
      },
      "cell_type": "markdown",
      "source": [
        "# Regressão Linear - Residuais\n",
        "\n",
        "A linha de regressão pode usada para fazer previsões.\n",
        "\n",
        "Uma linha pode ser identiificada, mas sem coincidir diretamente com nenhum ponto dos dados. A diferença entre os pontos e a linha é chamada de resíduo ou residuais.\n",
        "\n",
        "Valores:\n",
        "- Positivo: ponto acima da linha de regressão\n",
        "- Zero: ponto coincide com a linha\n",
        "- Negativo: ponto abaixo da linha\n",
        "\n",
        "O somatório dos residuais pode ser usado para avaliar o erro do modelo.\n",
        "\n",
        "\n"
      ]
    },
    {
      "metadata": {
        "id": "u5fehDXJcd39",
        "colab_type": "text"
      },
      "cell_type": "markdown",
      "source": [
        "# 53. Regressão Linear - Outliers, Extrapolação, Correlação não é Causa\n",
        "\n",
        "## Oultlier\n",
        "\n",
        "Ouliers são valores que fogem do padrão. Os modelos podem ser influenciados de forma negativa pelos outliers.\n",
        "\n",
        "## Extrapolação\n",
        "\n",
        "Não temos dados para determinar como é o comportamento previsto para dados que estão foram do conjunto de dados conhecidos.\n",
        "\n",
        "## Correlação não é causa\n",
        "\n",
        "Nem sempre uma correlação entre variáveis indica que uma é causa da outra.\n",
        "\n",
        "Por exemplo, candidatos vistos como carismáticos obtém mais votos ou será que candidatos mais votados são vistos como carismáticos?\n",
        "\n",
        "\n",
        "\n"
      ]
    },
    {
      "metadata": {
        "id": "1-J0BU65j2N4",
        "colab_type": "text"
      },
      "cell_type": "markdown",
      "source": [
        "# Dados\n",
        "\n",
        "Dados localizados na pasta: D:\\_SIA_\\estudo\\udemy\\cientista-de-dados\\02-estatistica-02\n",
        "\n",
        "Arquivos para upload:\n",
        "- 48.Dados.zip\n",
        "- Disponível também através do link https://github.com/ronivaldo/udemy-curso-cientista_dados/raw/master/data/48.Dados.zip\n",
        "\n",
        "Conteúdo do arquivo:\n",
        "- cars.csv                \n",
        "- Eleicao.csv             \n",
        "- mt_cars.csv             \n",
        "- NovosCandidatos.csv "
      ]
    },
    {
      "metadata": {
        "id": "pNcufHtajZfb",
        "colab_type": "code",
        "colab": {
          "base_uri": "https://localhost:8080/",
          "height": 394
        },
        "outputId": "581e1b59-ef9b-46d7-f52c-8c66bcf61351"
      },
      "cell_type": "code",
      "source": [
        "import os  \n",
        "\n",
        "# verifica se upload ja foi realizado\n",
        "if not os.path.isfile('./48.Dados.zip'):\n",
        "  # obtem o arquivo do Github\n",
        "  !wget https://github.com/ronivaldo/udemy-curso-cientista_dados/raw/master/data/48.Dados.zip\n",
        "\n",
        "# verifica se upload ja foi realizado\n",
        "if not os.path.isfile('./cars.csv'):\n",
        "  # descompacta o arquivo 48.Dados.zip\n",
        "  !unzip -o 48.Dados.zip"
      ],
      "execution_count": 28,
      "outputs": [
        {
          "output_type": "stream",
          "text": [
            "--2019-04-04 19:09:13--  https://github.com/ronivaldo/udemy-curso-cientista_dados/raw/master/data/48.Dados.zip\n",
            "Resolving github.com (github.com)... 192.30.253.112, 192.30.253.113\n",
            "Connecting to github.com (github.com)|192.30.253.112|:443... connected.\n",
            "HTTP request sent, awaiting response... 302 Found\n",
            "Location: https://raw.githubusercontent.com/ronivaldo/udemy-curso-cientista_dados/master/data/48.Dados.zip [following]\n",
            "--2019-04-04 19:09:14--  https://raw.githubusercontent.com/ronivaldo/udemy-curso-cientista_dados/master/data/48.Dados.zip\n",
            "Resolving raw.githubusercontent.com (raw.githubusercontent.com)... 151.101.0.133, 151.101.64.133, 151.101.128.133, ...\n",
            "Connecting to raw.githubusercontent.com (raw.githubusercontent.com)|151.101.0.133|:443... connected.\n",
            "HTTP request sent, awaiting response... 200 OK\n",
            "Length: 2159 (2.1K) [application/zip]\n",
            "Saving to: ‘48.Dados.zip’\n",
            "\n",
            "48.Dados.zip        100%[===================>]   2.11K  --.-KB/s    in 0s      \n",
            "\n",
            "2019-04-04 19:09:14 (31.9 MB/s) - ‘48.Dados.zip’ saved [2159/2159]\n",
            "\n",
            "Archive:  48.Dados.zip\n",
            "  inflating: cars.csv                \n",
            "  inflating: Eleicao.csv             \n",
            "  inflating: mt_cars.csv             \n",
            "  inflating: NovosCandidatos.csv     \n"
          ],
          "name": "stdout"
        }
      ]
    },
    {
      "metadata": {
        "id": "TGjPFoXcg5qA",
        "colab_type": "code",
        "colab": {
          "base_uri": "https://localhost:8080/",
          "height": 204
        },
        "outputId": "5bdf5505-ae91-47df-faff-fd239a985502"
      },
      "cell_type": "code",
      "source": [
        "# 56. Python: Regressão Linear Simples - Parte I\n",
        "\n",
        "import pandas as pd\n",
        "import numpy as np\n",
        "import matplotlib.pyplot as plt\n",
        "from sklearn.linear_model import LinearRegression\n",
        "\n",
        "base = pd.read_csv('cars.csv')\n",
        "\n",
        "base.head()\n"
      ],
      "execution_count": 29,
      "outputs": [
        {
          "output_type": "execute_result",
          "data": {
            "text/html": [
              "<div>\n",
              "<style scoped>\n",
              "    .dataframe tbody tr th:only-of-type {\n",
              "        vertical-align: middle;\n",
              "    }\n",
              "\n",
              "    .dataframe tbody tr th {\n",
              "        vertical-align: top;\n",
              "    }\n",
              "\n",
              "    .dataframe thead th {\n",
              "        text-align: right;\n",
              "    }\n",
              "</style>\n",
              "<table border=\"1\" class=\"dataframe\">\n",
              "  <thead>\n",
              "    <tr style=\"text-align: right;\">\n",
              "      <th></th>\n",
              "      <th>Unnamed: 0</th>\n",
              "      <th>speed</th>\n",
              "      <th>dist</th>\n",
              "    </tr>\n",
              "  </thead>\n",
              "  <tbody>\n",
              "    <tr>\n",
              "      <th>0</th>\n",
              "      <td>1</td>\n",
              "      <td>4</td>\n",
              "      <td>2</td>\n",
              "    </tr>\n",
              "    <tr>\n",
              "      <th>1</th>\n",
              "      <td>2</td>\n",
              "      <td>4</td>\n",
              "      <td>10</td>\n",
              "    </tr>\n",
              "    <tr>\n",
              "      <th>2</th>\n",
              "      <td>3</td>\n",
              "      <td>7</td>\n",
              "      <td>4</td>\n",
              "    </tr>\n",
              "    <tr>\n",
              "      <th>3</th>\n",
              "      <td>4</td>\n",
              "      <td>7</td>\n",
              "      <td>22</td>\n",
              "    </tr>\n",
              "    <tr>\n",
              "      <th>4</th>\n",
              "      <td>5</td>\n",
              "      <td>8</td>\n",
              "      <td>16</td>\n",
              "    </tr>\n",
              "  </tbody>\n",
              "</table>\n",
              "</div>"
            ],
            "text/plain": [
              "   Unnamed: 0  speed  dist\n",
              "0           1      4     2\n",
              "1           2      4    10\n",
              "2           3      7     4\n",
              "3           4      7    22\n",
              "4           5      8    16"
            ]
          },
          "metadata": {
            "tags": []
          },
          "execution_count": 29
        }
      ]
    },
    {
      "metadata": {
        "id": "qMRW4Pqak_2E",
        "colab_type": "code",
        "colab": {
          "base_uri": "https://localhost:8080/",
          "height": 204
        },
        "outputId": "858a5b39-3580-4c2d-d4ff-9d2c04b14a0c"
      },
      "cell_type": "code",
      "source": [
        "# remove a coluna Unnamed: 0, pois nao precisamos\n",
        "base = base.drop(['Unnamed: 0'], axis = 1)\n",
        "\n",
        "base.tail()"
      ],
      "execution_count": 30,
      "outputs": [
        {
          "output_type": "execute_result",
          "data": {
            "text/html": [
              "<div>\n",
              "<style scoped>\n",
              "    .dataframe tbody tr th:only-of-type {\n",
              "        vertical-align: middle;\n",
              "    }\n",
              "\n",
              "    .dataframe tbody tr th {\n",
              "        vertical-align: top;\n",
              "    }\n",
              "\n",
              "    .dataframe thead th {\n",
              "        text-align: right;\n",
              "    }\n",
              "</style>\n",
              "<table border=\"1\" class=\"dataframe\">\n",
              "  <thead>\n",
              "    <tr style=\"text-align: right;\">\n",
              "      <th></th>\n",
              "      <th>speed</th>\n",
              "      <th>dist</th>\n",
              "    </tr>\n",
              "  </thead>\n",
              "  <tbody>\n",
              "    <tr>\n",
              "      <th>45</th>\n",
              "      <td>24</td>\n",
              "      <td>70</td>\n",
              "    </tr>\n",
              "    <tr>\n",
              "      <th>46</th>\n",
              "      <td>24</td>\n",
              "      <td>92</td>\n",
              "    </tr>\n",
              "    <tr>\n",
              "      <th>47</th>\n",
              "      <td>24</td>\n",
              "      <td>93</td>\n",
              "    </tr>\n",
              "    <tr>\n",
              "      <th>48</th>\n",
              "      <td>24</td>\n",
              "      <td>120</td>\n",
              "    </tr>\n",
              "    <tr>\n",
              "      <th>49</th>\n",
              "      <td>25</td>\n",
              "      <td>85</td>\n",
              "    </tr>\n",
              "  </tbody>\n",
              "</table>\n",
              "</div>"
            ],
            "text/plain": [
              "    speed  dist\n",
              "45     24    70\n",
              "46     24    92\n",
              "47     24    93\n",
              "48     24   120\n",
              "49     25    85"
            ]
          },
          "metadata": {
            "tags": []
          },
          "execution_count": 30
        }
      ]
    },
    {
      "metadata": {
        "id": "BIUvUsgLljQi",
        "colab_type": "code",
        "colab": {
          "base_uri": "https://localhost:8080/",
          "height": 153
        },
        "outputId": "e3e988e3-49ad-425d-8c3d-0a61703c36c2"
      },
      "cell_type": "code",
      "source": [
        "X = base.iloc[:, 1].values\n",
        "y = base.iloc[:, 0].values\n",
        "\n",
        "print('X=')\n",
        "print(X[:5])\n",
        "print('y=')\n",
        "print(y[:5])\n",
        "\n",
        "correlacao = np.corrcoef(X, y)\n",
        "print('correlacao:')\n",
        "print(correlacao)\n",
        "print('correlacao do X com o Y={}'.format(correlacao[0,1]))\n"
      ],
      "execution_count": 31,
      "outputs": [
        {
          "output_type": "stream",
          "text": [
            "X=\n",
            "[ 2 10  4 22 16]\n",
            "y=\n",
            "[4 4 7 7 8]\n",
            "correlacao:\n",
            "[[1.        0.8068949]\n",
            " [0.8068949 1.       ]]\n",
            "correlacao do X com o Y=0.8068949006892103\n"
          ],
          "name": "stdout"
        }
      ]
    },
    {
      "metadata": {
        "id": "Q5ckobzumfuJ",
        "colab_type": "code",
        "colab": {
          "base_uri": "https://localhost:8080/",
          "height": 51
        },
        "outputId": "db142fb3-e305-4dab-f2a1-6eb67778408c"
      },
      "cell_type": "code",
      "source": [
        "# modelo utilizado para o treinmento\n",
        "modelo = LinearRegression()\n",
        "\n",
        "# Reshape your data either using array.reshape(-1, 1) \n",
        "# if your data has a single feature \n",
        "# or array.reshape(1, -1) if it contains a single sample.\n",
        "# apenas uma feature -> reshape(-1, 1)\n",
        "X_reshaped = X.reshape(-1, 1)\n",
        "modelo.fit(X_reshaped, y)"
      ],
      "execution_count": 32,
      "outputs": [
        {
          "output_type": "execute_result",
          "data": {
            "text/plain": [
              "LinearRegression(copy_X=True, fit_intercept=True, n_jobs=None,\n",
              "         normalize=False)"
            ]
          },
          "metadata": {
            "tags": []
          },
          "execution_count": 32
        }
      ]
    },
    {
      "metadata": {
        "id": "BpiwGDKKuIzq",
        "colab_type": "code",
        "colab": {
          "base_uri": "https://localhost:8080/",
          "height": 364
        },
        "outputId": "d6aae7ec-2d81-4a33-c510-3f8b8f9fda69"
      },
      "cell_type": "code",
      "source": [
        "# visualizar algumas informacoes da linha\n",
        "b = modelo.intercept_\n",
        "m = modelo.coef_\n",
        "\n",
        "# plota os pontos (X, y) em um grafico\n",
        "plt.scatter(X, y)\n",
        "# acrescenta o grafico de predicao do modelo a partir de X\n",
        "plt.plot(X, modelo.predict(X_reshaped), color = 'red')"
      ],
      "execution_count": 33,
      "outputs": [
        {
          "output_type": "execute_result",
          "data": {
            "text/plain": [
              "[<matplotlib.lines.Line2D at 0x7f7e09457400>]"
            ]
          },
          "metadata": {
            "tags": []
          },
          "execution_count": 33
        },
        {
          "output_type": "display_data",
          "data": {
            "image/png": "[encoded data removed]",
            "text/plain": [
              "<Figure size 576x396 with 1 Axes>"
            ]
          },
          "metadata": {
            "tags": []
          }
        }
      ]
    },
    {
      "metadata": {
        "id": "ANXNiN2mvCTx",
        "colab_type": "code",
        "colab": {
          "base_uri": "https://localhost:8080/",
          "height": 156
        },
        "outputId": "2db0b1d0-a8bf-4ad5-eeaf-c69f928e8107"
      },
      "cell_type": "code",
      "source": [
        "quest = \"\"\"\n",
        "A distância de parada de um carro foi de 22 pés, qual foi a velocidade do carro?\n",
        "\"\"\"\n",
        "\n",
        "# modo 1\n",
        "x_quest = 22\n",
        "y_predicted = b + m * x_quest\n",
        "\n",
        "print(quest)\n",
        "print('modo 1 - utilizando os parametros do modelo')\n",
        "print('A velocidade foi de {}'.format(y_predicted))\n",
        "\n",
        "y_predicted = modelo.predict([[22]])\n",
        "print('modo 2 - utilizando o modelo')\n",
        "print('A velocidade foi de {}'.format(y_predicted))\n",
        "\n"
      ],
      "execution_count": 34,
      "outputs": [
        {
          "output_type": "stream",
          "text": [
            "\n",
            "A distância de parada de um carro foi de 22 pés, qual foi a velocidade do carro?\n",
            "\n",
            "modo 1 - utilizando os parametros do modelo\n",
            "A velocidade foi de [11.92639228]\n",
            "modo 2 - utilizando o modelo\n",
            "A velocidade foi de [11.92639228]\n"
          ],
          "name": "stdout"
        }
      ]
    }
  ]
}