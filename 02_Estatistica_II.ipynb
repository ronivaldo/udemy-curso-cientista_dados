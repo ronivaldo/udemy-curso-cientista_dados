{
  "nbformat": 4,
  "nbformat_minor": 0,
  "metadata": {
    "colab": {
      "name": "02_Estatistica_II.ipynb",
      "version": "0.3.2",
      "provenance": [],
      "collapsed_sections": []
    },
    "kernelspec": {
      "name": "python3",
      "display_name": "Python 3"
    }
  },
  "cells": [
    {
      "metadata": {
        "id": "SXCZTYhFp4xT",
        "colab_type": "text"
      },
      "cell_type": "markdown",
      "source": [
        "# Estatística II\n",
        "\n",
        "## Introdução a Correlação e Regressão Linear\n",
        "\n",
        "Introdução a Correlação e Regressão Linear\n",
        "\n",
        "## Variáveis\n",
        "\n",
        "Custos de um cliente para um plano de saúde.\n",
        "\n",
        "|Idade|Custo|\n",
        "|--|--|\n",
        "|18|871|\n",
        "|23|1132|\n",
        "|28|1242|\n",
        "|33|1356|\n",
        "\n",
        "Existe uma relação matemática entre estas duas variáveis?\n",
        "\n",
        "Se existe, como posso medir sua força?\n",
        "\n",
        "Poderia usar essa relação para fazer previsões?\n",
        "\n",
        "# Gráfico de Dispersão\n",
        "\n",
        "Gráfico com representação das variáveis no plano cartesiano.\n",
        "\n",
        "Eixo Y - Variável de Resposta ou Dependente\n",
        "- Na regressão é que queremos prever\n",
        "\n",
        "Eixo X - Variável Explanatória ou Independente\n",
        "- Na regressão é o que explica, ou usamos para prever\n",
        "\n",
        "# Regressão Linear\n",
        "\n",
        "Suponha que exista uma certa linearidade na districuição dos dados. Desta forma, matematicamente é possível gerar uma linha de regressão, ou de melhor ajuste, pode ser usada para fazer previsões.\n",
        "\n",
        "![alt text](https://github.com/ronivaldo/udemy-curso-cientista_dados/raw/master/resources/regressao_linear.jpg \"Regressão Linear\")\n",
        "\n",
        "\n",
        "\n",
        "\n"
      ]
    },
    {
      "metadata": {
        "id": "eTjt47Vvv06g",
        "colab_type": "text"
      },
      "cell_type": "markdown",
      "source": [
        " # Correlação - Parte I\n",
        " \n",
        " Medir a força e a direção da relação entre variáveis. \n",
        " \n",
        " Por exemplo, em um estude de plano de saúde, aumentando a idade, o custo também aumenta. (Na mesma Direção, correlação positiva)\n",
        " \n",
        " Outro exemplo, diminui a temperatura e aumentam as vendas de casacos. (Direção Inversa, correlação negativa)\n",
        " \n",
        " Pode ser um valor entre -1 e 1.\n",
        " \n",
        " A correlação de A~B é a mesma que B~A.\n",
        " \n",
        "## Força e Direção \n",
        "\n",
        "A força pode ser:\n",
        "- 1 - Perfeita\n",
        "- 0.7 - Forte\n",
        "- 0.5 - Moderada\n",
        "- 0.25 - Fraca\n",
        "- 0 - Inexistente\n",
        "- -0.25 - Fraca\n",
        "- -0.5 - Moderada\n",
        "- -0.7 - Forte\n",
        "- -1 - Perfeita\n",
        "\n"
      ]
    },
    {
      "metadata": {
        "id": "dOD7civEVBU7",
        "colab_type": "text"
      },
      "cell_type": "markdown",
      "source": [
        " # Correlação - Parte II\n",
        " \n",
        " Do ponto de vista gráfico, em um gráfico de dispersão:\n",
        " - Correção forte: pontos próximos a uma linha de correlação e concentrados\n",
        " - Correlação fraca: a relação matemática entre os pontos é muito fraca e não é evidente uma linha de linearidade\n",
        " \n",
        " Tipo de Correlação:\n",
        " - Positiva: a inclinação é para cima\n",
        " - Negativa: a inclinação é para baixo\n",
        " - Inexistente: sem inclinação, linha reta\n",
        " \n",
        " \n",
        " ## Coeficiente de Determinação R^2\n",
        " \n",
        " Mostra o quanto o modelo consegue explicar os valores:\n",
        " - Quanto maior, mais explicativo ele é.\n",
        " \n",
        " \n",
        " O restante da variabilidade está em variáveis não incluídas no modelo.\n",
        " \n",
        " Varia de 0 a 1, ou seja, sempre positivo.\n",
        " \n",
        " Calcula-se com o quadrado do coeficiente de correlação R.\n",
        " \n",
        " \n",
        " Por exemplo, R = 0.93. R^2 = 0.86. Quer dizer que, 86% da variável dependente consegue ser explicada pelas variáveis explanatórias presentes no modelo.\n",
        " \n",
        " \n",
        " \n",
        " \n",
        " "
      ]
    },
    {
      "metadata": {
        "id": "zM5Kr51DX_qE",
        "colab_type": "text"
      },
      "cell_type": "markdown",
      "source": [
        "# Regressão Linear - Previsão\n",
        "\n",
        "Como usar a regressão linear para fazer previsões.\n",
        "\n",
        "Supondo que você não tenha um determinado dado, mas dados históricos podem ser utilizados para obter uma previsão. É preciso existir uma correlação e uma linearidade nos dados.\n",
        "\n",
        "![alt text](https://github.com/ronivaldo/udemy-curso-cientista_dados/raw/master/resources/previsao_regressao_linear.png \"Previsão Regressão Linear\")\n",
        "\n",
        "Dados necessários:\n",
        "- Intersecção: onde encontra o eixo Y para X=0\n",
        "- Inclinação: inclinação da linha\n",
        "\n",
        "\n",
        "\n",
        "\n"
      ]
    },
    {
      "metadata": {
        "id": "1aWpx6IXbQVD",
        "colab_type": "text"
      },
      "cell_type": "markdown",
      "source": [
        "# Regressão Linear - Residuais\n",
        "\n",
        "A linha de regressão pode usada para fazer previsões.\n",
        "\n",
        "Uma linha pode ser identiificada, mas sem coincidir diretamente com nenhum ponto dos dados. A diferença entre os pontos e a linha é chamada de resíduo ou residuais.\n",
        "\n",
        "Valores:\n",
        "- Positivo: ponto acima da linha de regressão\n",
        "- Zero: ponto coincide com a linha\n",
        "- Negativo: ponto abaixo da linha\n",
        "\n",
        "O somatório dos residuais pode ser usado para avaliar o erro do modelo.\n",
        "\n",
        "\n"
      ]
    },
    {
      "metadata": {
        "id": "u5fehDXJcd39",
        "colab_type": "text"
      },
      "cell_type": "markdown",
      "source": [
        "# 53. Regressão Linear - Outliers, Extrapolação, Correlação não é Causa\n",
        "\n",
        "## Oultlier\n",
        "\n",
        "Ouliers são valores que fogem do padrão. Os modelos podem ser influenciados de forma negativa pelos outliers.\n",
        "\n",
        "## Extrapolação\n",
        "\n",
        "Não temos dados para determinar como é o comportamento previsto para dados que estão foram do conjunto de dados conhecidos.\n",
        "\n",
        "## Correlação não é causa\n",
        "\n",
        "Nem sempre uma correlação entre variáveis indica que uma é causa da outra.\n",
        "\n",
        "Por exemplo, candidatos vistos como carismáticos obtém mais votos ou será que candidatos mais votados são vistos como carismáticos?\n",
        "\n",
        "\n",
        "\n"
      ]
    },
    {
      "metadata": {
        "id": "1-J0BU65j2N4",
        "colab_type": "text"
      },
      "cell_type": "markdown",
      "source": [
        "# Dados\n",
        "\n",
        "Dados localizados na pasta: D:\\_SIA_\\estudo\\udemy\\cientista-de-dados\\02-estatistica-02\n",
        "\n",
        "Arquivos para upload:\n",
        "- 48.Dados.zip\n",
        "- Disponível também através do link https://github.com/ronivaldo/udemy-curso-cientista_dados/raw/master/data/48.Dados.zip\n",
        "\n",
        "Conteúdo do arquivo:\n",
        "- cars.csv                \n",
        "- Eleicao.csv             \n",
        "- mt_cars.csv             \n",
        "- NovosCandidatos.csv "
      ]
    },
    {
      "metadata": {
        "id": "pNcufHtajZfb",
        "colab_type": "code",
        "colab": {}
      },
      "cell_type": "code",
      "source": [
        "import os  \n",
        "\n",
        "# verifica se upload ja foi realizado\n",
        "if not os.path.isfile('./48.Dados.zip'):\n",
        "  # obtem o arquivo do Github\n",
        "  !wget https://github.com/ronivaldo/udemy-curso-cientista_dados/raw/master/data/48.Dados.zip\n",
        "\n",
        "# verifica se upload ja foi realizado\n",
        "if not os.path.isfile('./cars.csv'):\n",
        "  # descompacta o arquivo 48.Dados.zip\n",
        "  !unzip -o 48.Dados.zip"
      ],
      "execution_count": 0,
      "outputs": []
    },
    {
      "metadata": {
        "id": "GslmJ1b8xIGL",
        "colab_type": "text"
      },
      "cell_type": "markdown",
      "source": [
        "# Python: Regressão Linear Simples - Parte I"
      ]
    },
    {
      "metadata": {
        "id": "TGjPFoXcg5qA",
        "colab_type": "code",
        "outputId": "d8b0cc6c-8510-437b-d133-8c6a626cab71",
        "colab": {
          "base_uri": "https://localhost:8080/",
          "height": 204
        }
      },
      "cell_type": "code",
      "source": [
        "# 56. Python: Regressão Linear Simples - Parte I\n",
        "\n",
        "import pandas as pd\n",
        "import numpy as np\n",
        "import matplotlib.pyplot as plt\n",
        "from sklearn.linear_model import LinearRegression\n",
        "\n",
        "base = pd.read_csv('cars.csv')\n",
        "\n",
        "base.head()\n"
      ],
      "execution_count": 59,
      "outputs": [
        {
          "output_type": "execute_result",
          "data": {
            "text/html": [
              "<div>\n",
              "<style scoped>\n",
              "    .dataframe tbody tr th:only-of-type {\n",
              "        vertical-align: middle;\n",
              "    }\n",
              "\n",
              "    .dataframe tbody tr th {\n",
              "        vertical-align: top;\n",
              "    }\n",
              "\n",
              "    .dataframe thead th {\n",
              "        text-align: right;\n",
              "    }\n",
              "</style>\n",
              "<table border=\"1\" class=\"dataframe\">\n",
              "  <thead>\n",
              "    <tr style=\"text-align: right;\">\n",
              "      <th></th>\n",
              "      <th>Unnamed: 0</th>\n",
              "      <th>speed</th>\n",
              "      <th>dist</th>\n",
              "    </tr>\n",
              "  </thead>\n",
              "  <tbody>\n",
              "    <tr>\n",
              "      <th>0</th>\n",
              "      <td>1</td>\n",
              "      <td>4</td>\n",
              "      <td>2</td>\n",
              "    </tr>\n",
              "    <tr>\n",
              "      <th>1</th>\n",
              "      <td>2</td>\n",
              "      <td>4</td>\n",
              "      <td>10</td>\n",
              "    </tr>\n",
              "    <tr>\n",
              "      <th>2</th>\n",
              "      <td>3</td>\n",
              "      <td>7</td>\n",
              "      <td>4</td>\n",
              "    </tr>\n",
              "    <tr>\n",
              "      <th>3</th>\n",
              "      <td>4</td>\n",
              "      <td>7</td>\n",
              "      <td>22</td>\n",
              "    </tr>\n",
              "    <tr>\n",
              "      <th>4</th>\n",
              "      <td>5</td>\n",
              "      <td>8</td>\n",
              "      <td>16</td>\n",
              "    </tr>\n",
              "  </tbody>\n",
              "</table>\n",
              "</div>"
            ],
            "text/plain": [
              "   Unnamed: 0  speed  dist\n",
              "0           1      4     2\n",
              "1           2      4    10\n",
              "2           3      7     4\n",
              "3           4      7    22\n",
              "4           5      8    16"
            ]
          },
          "metadata": {
            "tags": []
          },
          "execution_count": 59
        }
      ]
    },
    {
      "metadata": {
        "id": "qMRW4Pqak_2E",
        "colab_type": "code",
        "outputId": "baf3f76b-4313-4186-f2df-dd634295933f",
        "colab": {
          "base_uri": "https://localhost:8080/",
          "height": 204
        }
      },
      "cell_type": "code",
      "source": [
        "# remove a coluna Unnamed: 0, pois nao precisamos\n",
        "base = base.drop(['Unnamed: 0'], axis = 1)\n",
        "\n",
        "base.tail()"
      ],
      "execution_count": 60,
      "outputs": [
        {
          "output_type": "execute_result",
          "data": {
            "text/html": [
              "<div>\n",
              "<style scoped>\n",
              "    .dataframe tbody tr th:only-of-type {\n",
              "        vertical-align: middle;\n",
              "    }\n",
              "\n",
              "    .dataframe tbody tr th {\n",
              "        vertical-align: top;\n",
              "    }\n",
              "\n",
              "    .dataframe thead th {\n",
              "        text-align: right;\n",
              "    }\n",
              "</style>\n",
              "<table border=\"1\" class=\"dataframe\">\n",
              "  <thead>\n",
              "    <tr style=\"text-align: right;\">\n",
              "      <th></th>\n",
              "      <th>speed</th>\n",
              "      <th>dist</th>\n",
              "    </tr>\n",
              "  </thead>\n",
              "  <tbody>\n",
              "    <tr>\n",
              "      <th>45</th>\n",
              "      <td>24</td>\n",
              "      <td>70</td>\n",
              "    </tr>\n",
              "    <tr>\n",
              "      <th>46</th>\n",
              "      <td>24</td>\n",
              "      <td>92</td>\n",
              "    </tr>\n",
              "    <tr>\n",
              "      <th>47</th>\n",
              "      <td>24</td>\n",
              "      <td>93</td>\n",
              "    </tr>\n",
              "    <tr>\n",
              "      <th>48</th>\n",
              "      <td>24</td>\n",
              "      <td>120</td>\n",
              "    </tr>\n",
              "    <tr>\n",
              "      <th>49</th>\n",
              "      <td>25</td>\n",
              "      <td>85</td>\n",
              "    </tr>\n",
              "  </tbody>\n",
              "</table>\n",
              "</div>"
            ],
            "text/plain": [
              "    speed  dist\n",
              "45     24    70\n",
              "46     24    92\n",
              "47     24    93\n",
              "48     24   120\n",
              "49     25    85"
            ]
          },
          "metadata": {
            "tags": []
          },
          "execution_count": 60
        }
      ]
    },
    {
      "metadata": {
        "id": "BIUvUsgLljQi",
        "colab_type": "code",
        "outputId": "ac83f6ba-1690-4c35-ebc9-3ea623aac6e7",
        "colab": {
          "base_uri": "https://localhost:8080/",
          "height": 153
        }
      },
      "cell_type": "code",
      "source": [
        "X = base.iloc[:, 1].values\n",
        "y = base.iloc[:, 0].values\n",
        "\n",
        "print('X=')\n",
        "print(X[:5])\n",
        "print('y=')\n",
        "print(y[:5])\n",
        "\n",
        "correlacao = np.corrcoef(X, y)\n",
        "print('correlacao:')\n",
        "print(correlacao)\n",
        "print('correlacao do X com o Y={}'.format(correlacao[0,1]))\n"
      ],
      "execution_count": 61,
      "outputs": [
        {
          "output_type": "stream",
          "text": [
            "X=\n",
            "[ 2 10  4 22 16]\n",
            "y=\n",
            "[4 4 7 7 8]\n",
            "correlacao:\n",
            "[[1.        0.8068949]\n",
            " [0.8068949 1.       ]]\n",
            "correlacao do X com o Y=0.8068949006892103\n"
          ],
          "name": "stdout"
        }
      ]
    },
    {
      "metadata": {
        "id": "Q5ckobzumfuJ",
        "colab_type": "code",
        "outputId": "926040f1-70cf-4af0-8350-fcc8d41dbc85",
        "colab": {
          "base_uri": "https://localhost:8080/",
          "height": 51
        }
      },
      "cell_type": "code",
      "source": [
        "# modelo utilizado para o treinmento\n",
        "modelo = LinearRegression()\n",
        "\n",
        "# Reshape your data either using array.reshape(-1, 1) \n",
        "# if your data has a single feature \n",
        "# or array.reshape(1, -1) if it contains a single sample.\n",
        "# apenas uma feature -> reshape(-1, 1)\n",
        "X_reshaped = X.reshape(-1, 1)\n",
        "modelo.fit(X_reshaped, y)"
      ],
      "execution_count": 62,
      "outputs": [
        {
          "output_type": "execute_result",
          "data": {
            "text/plain": [
              "LinearRegression(copy_X=True, fit_intercept=True, n_jobs=None,\n",
              "         normalize=False)"
            ]
          },
          "metadata": {
            "tags": []
          },
          "execution_count": 62
        }
      ]
    },
    {
      "metadata": {
        "id": "BpiwGDKKuIzq",
        "colab_type": "code",
        "outputId": "93154ca3-1294-4756-a26a-445c8c299b3a",
        "colab": {
          "base_uri": "https://localhost:8080/",
          "height": 364
        }
      },
      "cell_type": "code",
      "source": [
        "# visualizar algumas informacoes da linha\n",
        "b = modelo.intercept_\n",
        "m = modelo.coef_\n",
        "\n",
        "# plota os pontos (X, y) em um grafico\n",
        "plt.scatter(X, y)\n",
        "# acrescenta o grafico de predicao do modelo a partir de X\n",
        "# linha de regressao\n",
        "plt.plot(X, modelo.predict(X_reshaped), color = 'red')"
      ],
      "execution_count": 63,
      "outputs": [
        {
          "output_type": "execute_result",
          "data": {
            "text/plain": [
              "[<matplotlib.lines.Line2D at 0x7fb337e04a20>]"
            ]
          },
          "metadata": {
            "tags": []
          },
          "execution_count": 63
        },
        {
          "output_type": "display_data",
          "data": {
            "image/png": "[encoded data removed]",
            "text/plain": [
              "<Figure size 576x396 with 1 Axes>"
            ]
          },
          "metadata": {
            "tags": []
          }
        }
      ]
    },
    {
      "metadata": {
        "id": "ANXNiN2mvCTx",
        "colab_type": "code",
        "outputId": "edef3502-df0a-466e-ad25-fe862e01916b",
        "colab": {
          "base_uri": "https://localhost:8080/",
          "height": 156
        }
      },
      "cell_type": "code",
      "source": [
        "quest = \"\"\"\n",
        "A distância de parada de um carro foi de 22 pés, qual foi a velocidade do carro?\n",
        "\"\"\"\n",
        "\n",
        "# modo 1\n",
        "x_quest = 22\n",
        "y_predicted = b + m * x_quest\n",
        "\n",
        "print(quest)\n",
        "print('modo 1 - utilizando os parametros do modelo')\n",
        "print('A velocidade foi de {}'.format(y_predicted))\n",
        "\n",
        "y_predicted = modelo.predict([[22]])\n",
        "print('modo 2 - utilizando o modelo')\n",
        "print('A velocidade foi de {}'.format(y_predicted))\n",
        "\n"
      ],
      "execution_count": 64,
      "outputs": [
        {
          "output_type": "stream",
          "text": [
            "\n",
            "A distância de parada de um carro foi de 22 pés, qual foi a velocidade do carro?\n",
            "\n",
            "modo 1 - utilizando os parametros do modelo\n",
            "A velocidade foi de [11.92639228]\n",
            "modo 2 - utilizando o modelo\n",
            "A velocidade foi de [11.92639228]\n"
          ],
          "name": "stdout"
        }
      ]
    },
    {
      "metadata": {
        "id": "Qv4Iln3KxK20",
        "colab_type": "text"
      },
      "cell_type": "markdown",
      "source": [
        "# Python: Regressão Linear Simples - Parte II"
      ]
    },
    {
      "metadata": {
        "id": "nSPe-ooDw-nc",
        "colab_type": "code",
        "outputId": "0549e814-9c15-4c63-c383-4967f6205182",
        "colab": {
          "base_uri": "https://localhost:8080/",
          "height": 34
        }
      },
      "cell_type": "code",
      "source": [
        "# 57. Python: Regressão Linear Simples - Parte II\n",
        "\n",
        "residuais = modelo._residues\n",
        "print('Valor dos residuais do modelo={}'.format(residuais))"
      ],
      "execution_count": 65,
      "outputs": [
        {
          "output_type": "stream",
          "text": [
            "Valor dos residuais do modelo=478.02124836119646\n"
          ],
          "name": "stdout"
        }
      ]
    },
    {
      "metadata": {
        "id": "6KXf-_zTyEko",
        "colab_type": "text"
      },
      "cell_type": "markdown",
      "source": [
        "# YellowBrick\n",
        "\n",
        "Biblioteca específica para visualização de modelos de Machine Learning.\n",
        "\n",
        "Já vem instalada no Colab, caso utilize um outro ambiente: `pip install yellowbrick`.\n",
        "\n",
        "Mais detalhes: \n",
        "https://www.scikit-yb.org/en/latest/api/regressor/residuals.html"
      ]
    },
    {
      "metadata": {
        "id": "dQqBsLHoxtwJ",
        "colab_type": "code",
        "outputId": "94452ecf-c090-469e-bb58-cfed8bc9e6b3",
        "colab": {
          "base_uri": "https://localhost:8080/",
          "height": 376
        }
      },
      "cell_type": "code",
      "source": [
        "from yellowbrick.regressor import ResidualsPlot\n",
        "\n",
        "visualizador = ResidualsPlot(modelo)\n",
        "visualizador.fit(X_reshaped, y)\n",
        "# visualizar o grafico\n",
        "visualizador.poof()"
      ],
      "execution_count": 66,
      "outputs": [
        {
          "output_type": "display_data",
          "data": {
            "image/png": "[encoded data removed]",
            "text/plain": [
              "<Figure size 576x396 with 2 Axes>"
            ]
          },
          "metadata": {
            "tags": []
          }
        }
      ]
    },
    {
      "metadata": {
        "id": "dZ4oPMJnzjzK",
        "colab_type": "text"
      },
      "cell_type": "markdown",
      "source": [
        "# Regressão Linear: Condições\n",
        "\n",
        "Algumas condições que devem ser observadas para fazer previsões com a utilização de Regressão Linear.\n",
        "\n",
        "## Moderada ou Forte\n",
        "\n",
        "Espera-se uma Correlação Coderada ou Forte, não importa o sinal.\n",
        "\n",
        "## Coeficiente de Determinação R^2\n",
        "\n",
        "R^2 é o quadrado da correlação.\n",
        "\n",
        "Condições:\n",
        "- \\> 0.7 - ótimo\n",
        "- entre eles: avaliar cada caso\n",
        "- 0 e 0.3: ruins\n",
        "\n",
        "## Residuais Padronizados\n",
        "\n",
        "Residuais padronizados devem estar próximos de uma distribuição normal.\n",
        "\n"
      ]
    },
    {
      "metadata": {
        "id": "wr4TLacO0tV7",
        "colab_type": "text"
      },
      "cell_type": "markdown",
      "source": [
        "# Regressão Linear Múltipla\n",
        "\n",
        "## Simples\n",
        "\n",
        "Uma variável explanatória para prever uma variável dependente: Y ~ X.\n",
        "\n",
        "Por exemplo, no caso do plano de saúde, uma variável idade para prever a outra variável custo.\n",
        "\n",
        "## Múltipla\n",
        "\n",
        "Duas ou mais variáveis explanatórias para prever uma variável dependente: Y ~ X1 + X2 + Xn.\n",
        "\n",
        "## Analisar cada X com Y\n",
        "\n",
        "Analisar cada variável independente com o Y individualmente.\n",
        "\n",
        "Gerar gráficos de dispersão individuais.\n",
        "\n",
        "Buscar redundâncias (mesmos efeitos de X sobre Y), com o objetivo de éncontrar variáveis independentes que expliquem a variável dependente, mas que estas variáveis sejam independentes entre si.\n",
        "\n",
        "## Coeficiente de Determinação R^2\n",
        "\n",
        "R^2 é o percentual de variação da variável de resposta que é explicada pelo modelo.\n",
        "\n",
        "Quando se colocam mais variáveis no modelo, a tendência é que R^2 aumente, mesmo que a adição da variável não aumente a precisão do modelo. Gera um efeito falso, de achar que a adição de novas variáveis explicam melhor.\n",
        "\n",
        "Para isso, utiliza-se R^2 ajustado, que ajusta a variação do modelo de acordo com o número de variáveis independentes que é incluída no modelo.\n",
        "\n",
        "R^2 ajustado vai ser sempre menor que R^2.\n",
        "\n",
        "## Colinearidade e Parcimônia\n",
        "\n",
        "Colinearidade é quando duas variáveis independentes são correlacionadas.\n",
        "\n",
        "Incluir variáveis independentes colineares pode prejudicar o modelo, criando previsões não confiáveis.\n",
        "\n",
        "Parcimônica: não colocar variáveis que não melhorem o modelo em nada, criar modelos parcimoniosos.\n",
        "\n",
        "## Requisitos\n",
        "\n",
        "Requisitos para Regressão Linear Múltipla:\n",
        "1. Linearidade entre a variável dependente e as variáveis independentes\n",
        "2. Que as variáveis sejam normalmente distribuídas\n",
        "3. Pouca ou nenhuma colinearidade\n",
        "\n",
        "\n",
        "### Residuais\n",
        "\n",
        "Requisitos:\n",
        "1. Próximos a distribuição normal\n",
        "  - gráficos ajudam a identificar\n",
        "2. Variância constante em relação a linha de melhor ajuste\n",
        "3. Independentes (sem padrão)\n",
        "\n"
      ]
    },
    {
      "metadata": {
        "id": "HBXPzDd1U4f8",
        "colab_type": "text"
      },
      "cell_type": "markdown",
      "source": [
        "# Python: Regressão Linear Múltipla"
      ]
    },
    {
      "metadata": {
        "id": "dZEUccXkU6mk",
        "colab_type": "code",
        "outputId": "3e1b0a09-6683-4bb7-8ee9-db2a84fa8599",
        "colab": {
          "base_uri": "https://localhost:8080/",
          "height": 326
        }
      },
      "cell_type": "code",
      "source": [
        "# 61. Python: Regressão Linear Múltipla\n",
        "import pandas as pd\n",
        "import numpy as np\n",
        "import matplotlib.pyplot as plt\n",
        "from sklearn.linear_model import LinearRegression\n",
        "\n",
        "base = pd.read_csv('mt_cars.csv')\n",
        "base.head()\n",
        "\n",
        "# disp equivalente a cilindradas\n",
        "# mpg milhas por galao"
      ],
      "execution_count": 67,
      "outputs": [
        {
          "output_type": "execute_result",
          "data": {
            "text/html": [
              "<div>\n",
              "<style scoped>\n",
              "    .dataframe tbody tr th:only-of-type {\n",
              "        vertical-align: middle;\n",
              "    }\n",
              "\n",
              "    .dataframe tbody tr th {\n",
              "        vertical-align: top;\n",
              "    }\n",
              "\n",
              "    .dataframe thead th {\n",
              "        text-align: right;\n",
              "    }\n",
              "</style>\n",
              "<table border=\"1\" class=\"dataframe\">\n",
              "  <thead>\n",
              "    <tr style=\"text-align: right;\">\n",
              "      <th></th>\n",
              "      <th>Unnamed: 0</th>\n",
              "      <th>mpg</th>\n",
              "      <th>cyl</th>\n",
              "      <th>disp</th>\n",
              "      <th>hp</th>\n",
              "      <th>drat</th>\n",
              "      <th>wt</th>\n",
              "      <th>qsec</th>\n",
              "      <th>vs</th>\n",
              "      <th>am</th>\n",
              "      <th>gear</th>\n",
              "      <th>carb</th>\n",
              "    </tr>\n",
              "  </thead>\n",
              "  <tbody>\n",
              "    <tr>\n",
              "      <th>0</th>\n",
              "      <td>Mazda RX4</td>\n",
              "      <td>21.0</td>\n",
              "      <td>6</td>\n",
              "      <td>160.0</td>\n",
              "      <td>110</td>\n",
              "      <td>3.90</td>\n",
              "      <td>2.620</td>\n",
              "      <td>16.46</td>\n",
              "      <td>0</td>\n",
              "      <td>1</td>\n",
              "      <td>4</td>\n",
              "      <td>4</td>\n",
              "    </tr>\n",
              "    <tr>\n",
              "      <th>1</th>\n",
              "      <td>Mazda RX4 Wag</td>\n",
              "      <td>21.0</td>\n",
              "      <td>6</td>\n",
              "      <td>160.0</td>\n",
              "      <td>110</td>\n",
              "      <td>3.90</td>\n",
              "      <td>2.875</td>\n",
              "      <td>17.02</td>\n",
              "      <td>0</td>\n",
              "      <td>1</td>\n",
              "      <td>4</td>\n",
              "      <td>4</td>\n",
              "    </tr>\n",
              "    <tr>\n",
              "      <th>2</th>\n",
              "      <td>Datsun 710</td>\n",
              "      <td>22.8</td>\n",
              "      <td>4</td>\n",
              "      <td>108.0</td>\n",
              "      <td>93</td>\n",
              "      <td>3.85</td>\n",
              "      <td>2.320</td>\n",
              "      <td>18.61</td>\n",
              "      <td>1</td>\n",
              "      <td>1</td>\n",
              "      <td>4</td>\n",
              "      <td>1</td>\n",
              "    </tr>\n",
              "    <tr>\n",
              "      <th>3</th>\n",
              "      <td>Hornet 4 Drive</td>\n",
              "      <td>21.4</td>\n",
              "      <td>6</td>\n",
              "      <td>258.0</td>\n",
              "      <td>110</td>\n",
              "      <td>3.08</td>\n",
              "      <td>3.215</td>\n",
              "      <td>19.44</td>\n",
              "      <td>1</td>\n",
              "      <td>0</td>\n",
              "      <td>3</td>\n",
              "      <td>1</td>\n",
              "    </tr>\n",
              "    <tr>\n",
              "      <th>4</th>\n",
              "      <td>Hornet Sportabout</td>\n",
              "      <td>18.7</td>\n",
              "      <td>8</td>\n",
              "      <td>360.0</td>\n",
              "      <td>175</td>\n",
              "      <td>3.15</td>\n",
              "      <td>3.440</td>\n",
              "      <td>17.02</td>\n",
              "      <td>0</td>\n",
              "      <td>0</td>\n",
              "      <td>3</td>\n",
              "      <td>2</td>\n",
              "    </tr>\n",
              "  </tbody>\n",
              "</table>\n",
              "</div>"
            ],
            "text/plain": [
              "          Unnamed: 0   mpg  cyl   disp   hp  drat     wt   qsec  vs  am  gear  \\\n",
              "0          Mazda RX4  21.0    6  160.0  110  3.90  2.620  16.46   0   1     4   \n",
              "1      Mazda RX4 Wag  21.0    6  160.0  110  3.90  2.875  17.02   0   1     4   \n",
              "2         Datsun 710  22.8    4  108.0   93  3.85  2.320  18.61   1   1     4   \n",
              "3     Hornet 4 Drive  21.4    6  258.0  110  3.08  3.215  19.44   1   0     3   \n",
              "4  Hornet Sportabout  18.7    8  360.0  175  3.15  3.440  17.02   0   0     3   \n",
              "\n",
              "   carb  \n",
              "0     4  \n",
              "1     4  \n",
              "2     1  \n",
              "3     1  \n",
              "4     2  "
            ]
          },
          "metadata": {
            "tags": []
          },
          "execution_count": 67
        }
      ]
    },
    {
      "metadata": {
        "id": "TS9DfKHJVasQ",
        "colab_type": "code",
        "outputId": "fac34065-76fa-4982-e611-0c8a16816a52",
        "colab": {
          "base_uri": "https://localhost:8080/",
          "height": 204
        }
      },
      "cell_type": "code",
      "source": [
        "# axis = 1, remover toda a coluna\n",
        "base = base.drop(['Unnamed: 0'], axis = 1)\n",
        "base.tail()"
      ],
      "execution_count": 68,
      "outputs": [
        {
          "output_type": "execute_result",
          "data": {
            "text/html": [
              "<div>\n",
              "<style scoped>\n",
              "    .dataframe tbody tr th:only-of-type {\n",
              "        vertical-align: middle;\n",
              "    }\n",
              "\n",
              "    .dataframe tbody tr th {\n",
              "        vertical-align: top;\n",
              "    }\n",
              "\n",
              "    .dataframe thead th {\n",
              "        text-align: right;\n",
              "    }\n",
              "</style>\n",
              "<table border=\"1\" class=\"dataframe\">\n",
              "  <thead>\n",
              "    <tr style=\"text-align: right;\">\n",
              "      <th></th>\n",
              "      <th>mpg</th>\n",
              "      <th>cyl</th>\n",
              "      <th>disp</th>\n",
              "      <th>hp</th>\n",
              "      <th>drat</th>\n",
              "      <th>wt</th>\n",
              "      <th>qsec</th>\n",
              "      <th>vs</th>\n",
              "      <th>am</th>\n",
              "      <th>gear</th>\n",
              "      <th>carb</th>\n",
              "    </tr>\n",
              "  </thead>\n",
              "  <tbody>\n",
              "    <tr>\n",
              "      <th>27</th>\n",
              "      <td>30.4</td>\n",
              "      <td>4</td>\n",
              "      <td>95.1</td>\n",
              "      <td>113</td>\n",
              "      <td>3.77</td>\n",
              "      <td>1.513</td>\n",
              "      <td>16.9</td>\n",
              "      <td>1</td>\n",
              "      <td>1</td>\n",
              "      <td>5</td>\n",
              "      <td>2</td>\n",
              "    </tr>\n",
              "    <tr>\n",
              "      <th>28</th>\n",
              "      <td>15.8</td>\n",
              "      <td>8</td>\n",
              "      <td>351.0</td>\n",
              "      <td>264</td>\n",
              "      <td>4.22</td>\n",
              "      <td>3.170</td>\n",
              "      <td>14.5</td>\n",
              "      <td>0</td>\n",
              "      <td>1</td>\n",
              "      <td>5</td>\n",
              "      <td>4</td>\n",
              "    </tr>\n",
              "    <tr>\n",
              "      <th>29</th>\n",
              "      <td>19.7</td>\n",
              "      <td>6</td>\n",
              "      <td>145.0</td>\n",
              "      <td>175</td>\n",
              "      <td>3.62</td>\n",
              "      <td>2.770</td>\n",
              "      <td>15.5</td>\n",
              "      <td>0</td>\n",
              "      <td>1</td>\n",
              "      <td>5</td>\n",
              "      <td>6</td>\n",
              "    </tr>\n",
              "    <tr>\n",
              "      <th>30</th>\n",
              "      <td>15.0</td>\n",
              "      <td>8</td>\n",
              "      <td>301.0</td>\n",
              "      <td>335</td>\n",
              "      <td>3.54</td>\n",
              "      <td>3.570</td>\n",
              "      <td>14.6</td>\n",
              "      <td>0</td>\n",
              "      <td>1</td>\n",
              "      <td>5</td>\n",
              "      <td>8</td>\n",
              "    </tr>\n",
              "    <tr>\n",
              "      <th>31</th>\n",
              "      <td>21.4</td>\n",
              "      <td>4</td>\n",
              "      <td>121.0</td>\n",
              "      <td>109</td>\n",
              "      <td>4.11</td>\n",
              "      <td>2.780</td>\n",
              "      <td>18.6</td>\n",
              "      <td>1</td>\n",
              "      <td>1</td>\n",
              "      <td>4</td>\n",
              "      <td>2</td>\n",
              "    </tr>\n",
              "  </tbody>\n",
              "</table>\n",
              "</div>"
            ],
            "text/plain": [
              "     mpg  cyl   disp   hp  drat     wt  qsec  vs  am  gear  carb\n",
              "27  30.4    4   95.1  113  3.77  1.513  16.9   1   1     5     2\n",
              "28  15.8    8  351.0  264  4.22  3.170  14.5   0   1     5     4\n",
              "29  19.7    6  145.0  175  3.62  2.770  15.5   0   1     5     6\n",
              "30  15.0    8  301.0  335  3.54  3.570  14.6   0   1     5     8\n",
              "31  21.4    4  121.0  109  4.11  2.780  18.6   1   1     4     2"
            ]
          },
          "metadata": {
            "tags": []
          },
          "execution_count": 68
        }
      ]
    },
    {
      "metadata": {
        "id": "NWZvDpyoVvPA",
        "colab_type": "code",
        "outputId": "fedcacf4-f08a-4ad7-f1b3-ff93bd0ac769",
        "colab": {
          "base_uri": "https://localhost:8080/",
          "height": 85
        }
      },
      "cell_type": "code",
      "source": [
        "# variaveis = disp (atributo 2)\n",
        "X = base.iloc[:, 2].values\n",
        "# prever = mpg (atributo 0)\n",
        "y = base.iloc[:, 0].values\n",
        "\n",
        "print('X=')\n",
        "print(X[:5])\n",
        "print('y=')\n",
        "print(y[:5])"
      ],
      "execution_count": 69,
      "outputs": [
        {
          "output_type": "stream",
          "text": [
            "X=\n",
            "[160. 160. 108. 258. 360.]\n",
            "y=\n",
            "[21.  21.  22.8 21.4 18.7]\n"
          ],
          "name": "stdout"
        }
      ]
    },
    {
      "metadata": {
        "id": "WwDahrQNW5sQ",
        "colab_type": "code",
        "outputId": "544696d6-76b4-49b1-84c7-ba3d6dadc31a",
        "colab": {
          "base_uri": "https://localhost:8080/",
          "height": 221
        }
      },
      "cell_type": "code",
      "source": [
        "correlacao = np.corrcoef(X, y)\n",
        "print('correlacao de X e Y = {}'.format(correlacao[0,1]))\n",
        "\n",
        "# não modificar as linhas (-1) e adicionar uma coluna (1)\n",
        "X_reshaped = X.reshape(-1, 1)\n",
        "\n",
        "print('X_reshaped=')\n",
        "print(X_reshaped[:5])\n",
        "\n",
        "# modelo\n",
        "modelo = LinearRegression()\n",
        "modelo.fit(X_reshaped, y)\n",
        "\n",
        "# visualizar algumas informacoes da linha\n",
        "b = modelo.intercept_\n",
        "m = modelo.coef_\n",
        "\n",
        "# R^2 quanto as variaveis independentes explicam a variavel dependente\n",
        "r_2 = modelo.score(X_reshaped, y)\n",
        "print('R^2 = {}'.format(r_2))\n",
        "\n",
        "# o R^2 ajustado eh mais confiavel que somente R^2\n",
        "previsoes = modelo.predict(X_reshaped)\n",
        "print('previsoes=')\n",
        "print(previsoes[:5])\n",
        "print('y=')\n",
        "print(y[:5])"
      ],
      "execution_count": 70,
      "outputs": [
        {
          "output_type": "stream",
          "text": [
            "correlacao de X e Y = -0.8475513792624785\n",
            "X_reshaped=\n",
            "[[160.]\n",
            " [160.]\n",
            " [108.]\n",
            " [258.]\n",
            " [360.]]\n",
            "R^2 = 0.7183433404897299\n",
            "previsoes=\n",
            "[23.00543556 23.00543556 25.1486218  18.96635381 14.76241157]\n",
            "y=\n",
            "[21.  21.  22.8 21.4 18.7]\n"
          ],
          "name": "stdout"
        }
      ]
    },
    {
      "metadata": {
        "id": "KA9vnvtHZcA0",
        "colab_type": "text"
      },
      "cell_type": "markdown",
      "source": [
        "# Statsmodel\n",
        "\n",
        "Biblioteca específica com funções para estimativas usando diferentes modelos estatísticos.\n",
        "\n",
        "Já vem instalada no Colab, caso utilize um outro ambiente: `pip install statsmodels`.\n",
        "\n",
        "Mais detalhes: \n",
        "https://www.statsmodels.org/stable/index.html"
      ]
    },
    {
      "metadata": {
        "id": "RMlTGvdcZQ9p",
        "colab_type": "code",
        "outputId": "f0679ed4-d1cd-465e-bcda-37dfc7d3da59",
        "colab": {
          "base_uri": "https://localhost:8080/",
          "height": 393
        }
      },
      "cell_type": "code",
      "source": [
        "import statsmodels.formula.api as sm\n",
        "\n",
        "# ordenary list squares = ols\n",
        "# disp equivalente a cilindradas\n",
        "# mpg milhas por galao\n",
        "modelo_ajustado = sm.ols(formula='mpg ~ disp', data = base)\n",
        "# treina o modelo\n",
        "modelo_treinado = modelo_ajustado.fit()\n",
        "# mostra os valores mais detalhados\n",
        "print('Mostra os Parâmetros do Modelo Treinado')\n",
        "modelo_treinado.summary()"
      ],
      "execution_count": 71,
      "outputs": [
        {
          "output_type": "stream",
          "text": [
            "Mostra os Parâmetros do Modelo Treinado\n"
          ],
          "name": "stdout"
        },
        {
          "output_type": "execute_result",
          "data": {
            "text/html": [
              "<table class=\"simpletable\">\n",
              "<caption>OLS Regression Results</caption>\n",
              "<tr>\n",
              "  <th>Dep. Variable:</th>           <td>mpg</td>       <th>  R-squared:         </th> <td>   0.718</td>\n",
              "</tr>\n",
              "<tr>\n",
              "  <th>Model:</th>                   <td>OLS</td>       <th>  Adj. R-squared:    </th> <td>   0.709</td>\n",
              "</tr>\n",
              "<tr>\n",
              "  <th>Method:</th>             <td>Least Squares</td>  <th>  F-statistic:       </th> <td>   76.51</td>\n",
              "</tr>\n",
              "<tr>\n",
              "  <th>Date:</th>             <td>Fri, 05 Apr 2019</td> <th>  Prob (F-statistic):</th> <td>9.38e-10</td>\n",
              "</tr>\n",
              "<tr>\n",
              "  <th>Time:</th>                 <td>19:03:56</td>     <th>  Log-Likelihood:    </th> <td> -82.105</td>\n",
              "</tr>\n",
              "<tr>\n",
              "  <th>No. Observations:</th>      <td>    32</td>      <th>  AIC:               </th> <td>   168.2</td>\n",
              "</tr>\n",
              "<tr>\n",
              "  <th>Df Residuals:</th>          <td>    30</td>      <th>  BIC:               </th> <td>   171.1</td>\n",
              "</tr>\n",
              "<tr>\n",
              "  <th>Df Model:</th>              <td>     1</td>      <th>                     </th>     <td> </td>   \n",
              "</tr>\n",
              "<tr>\n",
              "  <th>Covariance Type:</th>      <td>nonrobust</td>    <th>                     </th>     <td> </td>   \n",
              "</tr>\n",
              "</table>\n",
              "<table class=\"simpletable\">\n",
              "<tr>\n",
              "      <td></td>         <th>coef</th>     <th>std err</th>      <th>t</th>      <th>P>|t|</th>  <th>[0.025</th>    <th>0.975]</th>  \n",
              "</tr>\n",
              "<tr>\n",
              "  <th>Intercept</th> <td>   29.5999</td> <td>    1.230</td> <td>   24.070</td> <td> 0.000</td> <td>   27.088</td> <td>   32.111</td>\n",
              "</tr>\n",
              "<tr>\n",
              "  <th>disp</th>      <td>   -0.0412</td> <td>    0.005</td> <td>   -8.747</td> <td> 0.000</td> <td>   -0.051</td> <td>   -0.032</td>\n",
              "</tr>\n",
              "</table>\n",
              "<table class=\"simpletable\">\n",
              "<tr>\n",
              "  <th>Omnibus:</th>       <td> 3.368</td> <th>  Durbin-Watson:     </th> <td>   1.250</td>\n",
              "</tr>\n",
              "<tr>\n",
              "  <th>Prob(Omnibus):</th> <td> 0.186</td> <th>  Jarque-Bera (JB):  </th> <td>   3.049</td>\n",
              "</tr>\n",
              "<tr>\n",
              "  <th>Skew:</th>          <td> 0.719</td> <th>  Prob(JB):          </th> <td>   0.218</td>\n",
              "</tr>\n",
              "<tr>\n",
              "  <th>Kurtosis:</th>      <td> 2.532</td> <th>  Cond. No.          </th> <td>    558.</td>\n",
              "</tr>\n",
              "</table>"
            ],
            "text/plain": [
              "<class 'statsmodels.iolib.summary.Summary'>\n",
              "\"\"\"\n",
              "                            OLS Regression Results                            \n",
              "==============================================================================\n",
              "Dep. Variable:                    mpg   R-squared:                       0.718\n",
              "Model:                            OLS   Adj. R-squared:                  0.709\n",
              "Method:                 Least Squares   F-statistic:                     76.51\n",
              "Date:                Fri, 05 Apr 2019   Prob (F-statistic):           9.38e-10\n",
              "Time:                        19:03:56   Log-Likelihood:                -82.105\n",
              "No. Observations:                  32   AIC:                             168.2\n",
              "Df Residuals:                      30   BIC:                             171.1\n",
              "Df Model:                           1                                         \n",
              "Covariance Type:            nonrobust                                         \n",
              "==============================================================================\n",
              "                 coef    std err          t      P>|t|      [0.025      0.975]\n",
              "------------------------------------------------------------------------------\n",
              "Intercept     29.5999      1.230     24.070      0.000      27.088      32.111\n",
              "disp          -0.0412      0.005     -8.747      0.000      -0.051      -0.032\n",
              "==============================================================================\n",
              "Omnibus:                        3.368   Durbin-Watson:                   1.250\n",
              "Prob(Omnibus):                  0.186   Jarque-Bera (JB):                3.049\n",
              "Skew:                           0.719   Prob(JB):                        0.218\n",
              "Kurtosis:                       2.532   Cond. No.                         558.\n",
              "==============================================================================\n",
              "\n",
              "Warnings:\n",
              "[1] Standard Errors assume that the covariance matrix of the errors is correctly specified.\n",
              "\"\"\""
            ]
          },
          "metadata": {
            "tags": []
          },
          "execution_count": 71
        }
      ]
    },
    {
      "metadata": {
        "id": "JYXYnNRcaqtD",
        "colab_type": "code",
        "outputId": "1e1f0766-8b42-46df-f799-8f2f0476e531",
        "colab": {
          "base_uri": "https://localhost:8080/",
          "height": 367
        }
      },
      "cell_type": "code",
      "source": [
        "# visualizacao dos dados\n",
        "\n",
        "plt.scatter(X, y)\n",
        "plt.plot(X, previsoes, color='red')"
      ],
      "execution_count": 72,
      "outputs": [
        {
          "output_type": "execute_result",
          "data": {
            "text/plain": [
              "[<matplotlib.lines.Line2D at 0x7fb337d9fe80>]"
            ]
          },
          "metadata": {
            "tags": []
          },
          "execution_count": 72
        },
        {
          "output_type": "display_data",
          "data": {
            "image/png": "[encoded data removed]",
            "text/plain": [
              "<Figure size 576x396 with 1 Axes>"
            ]
          },
          "metadata": {
            "tags": []
          }
        }
      ]
    },
    {
      "metadata": {
        "id": "6dyrHhnabALc",
        "colab_type": "code",
        "outputId": "09584ca1-b9eb-4f9f-bc4f-1e2e6c2631d3",
        "colab": {
          "base_uri": "https://localhost:8080/",
          "height": 34
        }
      },
      "cell_type": "code",
      "source": [
        "y_para_x_200 = modelo.predict([[200]])\n",
        "print('predicao para x=200, y={}'.format(y_para_x_200[0]))"
      ],
      "execution_count": 73,
      "outputs": [
        {
          "output_type": "stream",
          "text": [
            "predicao para x=200, y=21.356830763606723\n"
          ],
          "name": "stdout"
        }
      ]
    },
    {
      "metadata": {
        "id": "cOnI0EY3cN8B",
        "colab_type": "code",
        "outputId": "1322d6ca-6321-4758-dc90-8230fcda7950",
        "colab": {
          "base_uri": "https://localhost:8080/",
          "height": 238
        }
      },
      "cell_type": "code",
      "source": [
        "# prever=mpg (atributos 0)\n",
        "# variaveis utilizadas=cyl, disp, hp (atributos 1, 2, 3)\n",
        "\n",
        "X1 = base.iloc[:, 1:4].values\n",
        "y1 = base.iloc[:, 0]\n",
        "\n",
        "print('X1=')\n",
        "print(X1[:5])\n",
        "print('y1=')\n",
        "print(y1[:5])"
      ],
      "execution_count": 74,
      "outputs": [
        {
          "output_type": "stream",
          "text": [
            "X1=\n",
            "[[  6. 160. 110.]\n",
            " [  6. 160. 110.]\n",
            " [  4. 108.  93.]\n",
            " [  6. 258. 110.]\n",
            " [  8. 360. 175.]]\n",
            "y1=\n",
            "0    21.0\n",
            "1    21.0\n",
            "2    22.8\n",
            "3    21.4\n",
            "4    18.7\n",
            "Name: mpg, dtype: float64\n"
          ],
          "name": "stdout"
        }
      ]
    },
    {
      "metadata": {
        "id": "nA877x8edG99",
        "colab_type": "code",
        "outputId": "8304a6a1-301f-46e6-e015-8d6ebad96b6f",
        "colab": {
          "base_uri": "https://localhost:8080/",
          "height": 452
        }
      },
      "cell_type": "code",
      "source": [
        "modelo2 = LinearRegression()\n",
        "modelo2.fit(X1, y1)\n",
        "\n",
        "# R^2 quanto as variaveis independentes explicam a variavel dependente\n",
        "r_2 = modelo2.score(X1, y1)\n",
        "print('R^2 = {}'.format(r_2))\n",
        "\n",
        "# variaveis = cyl + disp + hp\n",
        "# prever = mpg\n",
        "modelo_ajustado2 = sm.ols(formula='mpg ~ cyl + disp + hp', data = base)\n",
        "# treina o modelo\n",
        "modelo_treinado2 = modelo_ajustado2.fit()\n",
        "# mostra os valores mais detalhados\n",
        "print('Mostra os Parâmetros do Modelo Treinado')\n",
        "modelo_treinado2.summary()"
      ],
      "execution_count": 75,
      "outputs": [
        {
          "output_type": "stream",
          "text": [
            "R^2 = 0.7678877440928638\n",
            "Mostra os Parâmetros do Modelo Treinado\n"
          ],
          "name": "stdout"
        },
        {
          "output_type": "execute_result",
          "data": {
            "text/html": [
              "<table class=\"simpletable\">\n",
              "<caption>OLS Regression Results</caption>\n",
              "<tr>\n",
              "  <th>Dep. Variable:</th>           <td>mpg</td>       <th>  R-squared:         </th> <td>   0.768</td>\n",
              "</tr>\n",
              "<tr>\n",
              "  <th>Model:</th>                   <td>OLS</td>       <th>  Adj. R-squared:    </th> <td>   0.743</td>\n",
              "</tr>\n",
              "<tr>\n",
              "  <th>Method:</th>             <td>Least Squares</td>  <th>  F-statistic:       </th> <td>   30.88</td>\n",
              "</tr>\n",
              "<tr>\n",
              "  <th>Date:</th>             <td>Fri, 05 Apr 2019</td> <th>  Prob (F-statistic):</th> <td>5.05e-09</td>\n",
              "</tr>\n",
              "<tr>\n",
              "  <th>Time:</th>                 <td>19:03:57</td>     <th>  Log-Likelihood:    </th> <td> -79.009</td>\n",
              "</tr>\n",
              "<tr>\n",
              "  <th>No. Observations:</th>      <td>    32</td>      <th>  AIC:               </th> <td>   166.0</td>\n",
              "</tr>\n",
              "<tr>\n",
              "  <th>Df Residuals:</th>          <td>    28</td>      <th>  BIC:               </th> <td>   171.9</td>\n",
              "</tr>\n",
              "<tr>\n",
              "  <th>Df Model:</th>              <td>     3</td>      <th>                     </th>     <td> </td>   \n",
              "</tr>\n",
              "<tr>\n",
              "  <th>Covariance Type:</th>      <td>nonrobust</td>    <th>                     </th>     <td> </td>   \n",
              "</tr>\n",
              "</table>\n",
              "<table class=\"simpletable\">\n",
              "<tr>\n",
              "      <td></td>         <th>coef</th>     <th>std err</th>      <th>t</th>      <th>P>|t|</th>  <th>[0.025</th>    <th>0.975]</th>  \n",
              "</tr>\n",
              "<tr>\n",
              "  <th>Intercept</th> <td>   34.1849</td> <td>    2.591</td> <td>   13.195</td> <td> 0.000</td> <td>   28.878</td> <td>   39.492</td>\n",
              "</tr>\n",
              "<tr>\n",
              "  <th>cyl</th>       <td>   -1.2274</td> <td>    0.797</td> <td>   -1.540</td> <td> 0.135</td> <td>   -2.861</td> <td>    0.406</td>\n",
              "</tr>\n",
              "<tr>\n",
              "  <th>disp</th>      <td>   -0.0188</td> <td>    0.010</td> <td>   -1.811</td> <td> 0.081</td> <td>   -0.040</td> <td>    0.002</td>\n",
              "</tr>\n",
              "<tr>\n",
              "  <th>hp</th>        <td>   -0.0147</td> <td>    0.015</td> <td>   -1.002</td> <td> 0.325</td> <td>   -0.045</td> <td>    0.015</td>\n",
              "</tr>\n",
              "</table>\n",
              "<table class=\"simpletable\">\n",
              "<tr>\n",
              "  <th>Omnibus:</th>       <td> 2.942</td> <th>  Durbin-Watson:     </th> <td>   1.606</td>\n",
              "</tr>\n",
              "<tr>\n",
              "  <th>Prob(Omnibus):</th> <td> 0.230</td> <th>  Jarque-Bera (JB):  </th> <td>   2.558</td>\n",
              "</tr>\n",
              "<tr>\n",
              "  <th>Skew:</th>          <td> 0.675</td> <th>  Prob(JB):          </th> <td>   0.278</td>\n",
              "</tr>\n",
              "<tr>\n",
              "  <th>Kurtosis:</th>      <td> 2.692</td> <th>  Cond. No.          </th> <td>1.51e+03</td>\n",
              "</tr>\n",
              "</table>"
            ],
            "text/plain": [
              "<class 'statsmodels.iolib.summary.Summary'>\n",
              "\"\"\"\n",
              "                            OLS Regression Results                            \n",
              "==============================================================================\n",
              "Dep. Variable:                    mpg   R-squared:                       0.768\n",
              "Model:                            OLS   Adj. R-squared:                  0.743\n",
              "Method:                 Least Squares   F-statistic:                     30.88\n",
              "Date:                Fri, 05 Apr 2019   Prob (F-statistic):           5.05e-09\n",
              "Time:                        19:03:57   Log-Likelihood:                -79.009\n",
              "No. Observations:                  32   AIC:                             166.0\n",
              "Df Residuals:                      28   BIC:                             171.9\n",
              "Df Model:                           3                                         \n",
              "Covariance Type:            nonrobust                                         \n",
              "==============================================================================\n",
              "                 coef    std err          t      P>|t|      [0.025      0.975]\n",
              "------------------------------------------------------------------------------\n",
              "Intercept     34.1849      2.591     13.195      0.000      28.878      39.492\n",
              "cyl           -1.2274      0.797     -1.540      0.135      -2.861       0.406\n",
              "disp          -0.0188      0.010     -1.811      0.081      -0.040       0.002\n",
              "hp            -0.0147      0.015     -1.002      0.325      -0.045       0.015\n",
              "==============================================================================\n",
              "Omnibus:                        2.942   Durbin-Watson:                   1.606\n",
              "Prob(Omnibus):                  0.230   Jarque-Bera (JB):                2.558\n",
              "Skew:                           0.675   Prob(JB):                        0.278\n",
              "Kurtosis:                       2.692   Cond. No.                     1.51e+03\n",
              "==============================================================================\n",
              "\n",
              "Warnings:\n",
              "[1] Standard Errors assume that the covariance matrix of the errors is correctly specified.\n",
              "[2] The condition number is large, 1.51e+03. This might indicate that there are\n",
              "strong multicollinearity or other numerical problems.\n",
              "\"\"\""
            ]
          },
          "metadata": {
            "tags": []
          },
          "execution_count": 75
        }
      ]
    },
    {
      "metadata": {
        "id": "lAhZzJmTeCWX",
        "colab_type": "code",
        "outputId": "a202d12e-44f1-4265-d0b6-649c08b8c5ee",
        "colab": {
          "base_uri": "https://localhost:8080/",
          "height": 68
        }
      },
      "cell_type": "code",
      "source": [
        "# definir dados de x para uma nova previsao\n",
        "previsao_cyl = 4\n",
        "previsao_disp = 200\n",
        "previsao_hp = 100\n",
        "novo_x_para_previsao_reshaped = {\n",
        "    'cyl': [previsao_cyl],\n",
        "    'disp': [previsao_disp],\n",
        "    'hp': [previsao_hp],\n",
        "}\n",
        "print('novo_x_para_previsao_reshaped=')\n",
        "print(novo_x_para_previsao_reshaped)\n",
        "y_para_novo_x = modelo_treinado2.predict(novo_x_para_previsao_reshaped)\n",
        "print('predicao y={}'.format(y_para_novo_x[0]))"
      ],
      "execution_count": 76,
      "outputs": [
        {
          "output_type": "stream",
          "text": [
            "novo_x_para_previsao_reshaped=\n",
            "{'cyl': [4], 'disp': [200], 'hp': [100]}\n",
            "predicao y=24.039688865827042\n"
          ],
          "name": "stdout"
        }
      ]
    },
    {
      "metadata": {
        "id": "ZBPRhOyFjbon",
        "colab_type": "text"
      },
      "cell_type": "markdown",
      "source": [
        "# Cálculos e Fórmulas\n",
        "\n",
        "Calcular na seguinte ordem:\n",
        "- Correlação\n",
        "- Inclinação\n",
        "- Interceptação\n",
        "- Previsão\n",
        "\n",
        "## Correlação de pearson\n",
        "\n",
        "r = cov(x, y) / raiz de (var(x), var(y))\n",
        "\n",
        "cov = covariação\n",
        "\n",
        "var = variância\n",
        "\n",
        "No exemplo da idade vs cursto, o índice de correlação é r = 0,9879.\n",
        "\n",
        "## Inclinação\n",
        "\n",
        "Para o cálculo da inclinação, usa-se m = r * (Sy/Sx)\n",
        "\n",
        "r = correlação de xy,\n",
        "\n",
        "s = desvio padrão\n",
        "\n",
        "No exemplo da idade vs custo, a inclinação m = 46,45.\n",
        "\n",
        "## Interceptação\n",
        "\n",
        "A interceptação é onde a reta corta o eixo y quando x = 0.\n",
        "\n",
        "b = y barra - m * x barra\n",
        "\n",
        "y barra = média de y\n",
        "\n",
        "x barra = média de x\n",
        "\n",
        "m = inclinação\n",
        "\n",
        "No exemplo, a interceptação b = 149,0577\n",
        "\n",
        "## Previsão\n",
        "\n",
        "Com todos os dados anteriores calculados, é possível fazer previsão com a seguinte fórmula: P = b + (m * v).\n",
        "\n",
        "b = interceptação\n",
        "\n",
        "m = inclinação\n",
        "\n",
        "v = variavel dependente\n",
        "\n",
        "No exemplo, P = 149.0577 + (46,45 * v)\n",
        "\n",
        "Para v = 54 anos, o custo P = 2657,355.\n",
        "\n"
      ]
    },
    {
      "metadata": {
        "id": "nmofV13Mmsmy",
        "colab_type": "text"
      },
      "cell_type": "markdown",
      "source": [
        "# Regressão Logística\n",
        "\n",
        "Regressão com base na lógica:sucesso ou fracasso.\n",
        "\n",
        "Semelhante a regressão linear, porém a variável é binária, sucesso ou fracasso:\n",
        "- 1: sucesso\n",
        "- 0: fracasso\n",
        "\n",
        "O sucesso ou fracasso é representado através de probabilidade.\n",
        "\n",
        "Também pode ser simples ou múltipla.\n",
        "\n"
      ]
    },
    {
      "metadata": {
        "id": "-xQ230UPnvX7",
        "colab_type": "text"
      },
      "cell_type": "markdown",
      "source": [
        "# Python: Regressão Logistica"
      ]
    },
    {
      "metadata": {
        "id": "VW2i1mLEnxLd",
        "colab_type": "code",
        "colab": {
          "base_uri": "https://localhost:8080/",
          "height": 204
        },
        "outputId": "9281362b-784e-4775-9d36-0de2a3f5776c"
      },
      "cell_type": "code",
      "source": [
        "# 65. Python: Regressão Logistica\n",
        "\n",
        "import pandas as pd\n",
        "import matplotlib.pyplot as plt\n",
        "import numpy as np\n",
        "from sklearn.linear_model import LogisticRegression\n",
        "\n",
        "base = pd.read_csv('Eleicao.csv', sep=';')\n",
        "base.head()\n"
      ],
      "execution_count": 77,
      "outputs": [
        {
          "output_type": "execute_result",
          "data": {
            "text/html": [
              "<div>\n",
              "<style scoped>\n",
              "    .dataframe tbody tr th:only-of-type {\n",
              "        vertical-align: middle;\n",
              "    }\n",
              "\n",
              "    .dataframe tbody tr th {\n",
              "        vertical-align: top;\n",
              "    }\n",
              "\n",
              "    .dataframe thead th {\n",
              "        text-align: right;\n",
              "    }\n",
              "</style>\n",
              "<table border=\"1\" class=\"dataframe\">\n",
              "  <thead>\n",
              "    <tr style=\"text-align: right;\">\n",
              "      <th></th>\n",
              "      <th>CANDIDATO</th>\n",
              "      <th>SITUACAO</th>\n",
              "      <th>DESPESAS</th>\n",
              "    </tr>\n",
              "  </thead>\n",
              "  <tbody>\n",
              "    <tr>\n",
              "      <th>0</th>\n",
              "      <td>George Turner</td>\n",
              "      <td>0</td>\n",
              "      <td>10</td>\n",
              "    </tr>\n",
              "    <tr>\n",
              "      <th>1</th>\n",
              "      <td>Victor Johnson</td>\n",
              "      <td>0</td>\n",
              "      <td>100</td>\n",
              "    </tr>\n",
              "    <tr>\n",
              "      <th>2</th>\n",
              "      <td>Jerry Perry</td>\n",
              "      <td>1</td>\n",
              "      <td>1600</td>\n",
              "    </tr>\n",
              "    <tr>\n",
              "      <th>3</th>\n",
              "      <td>Shirley Cook</td>\n",
              "      <td>1</td>\n",
              "      <td>1500</td>\n",
              "    </tr>\n",
              "    <tr>\n",
              "      <th>4</th>\n",
              "      <td>Carolyn Bailey</td>\n",
              "      <td>1</td>\n",
              "      <td>3300</td>\n",
              "    </tr>\n",
              "  </tbody>\n",
              "</table>\n",
              "</div>"
            ],
            "text/plain": [
              "        CANDIDATO  SITUACAO  DESPESAS\n",
              "0   George Turner         0        10\n",
              "1  Victor Johnson         0       100\n",
              "2     Jerry Perry         1      1600\n",
              "3    Shirley Cook         1      1500\n",
              "4  Carolyn Bailey         1      3300"
            ]
          },
          "metadata": {
            "tags": []
          },
          "execution_count": 77
        }
      ]
    },
    {
      "metadata": {
        "id": "Wa9vHOkDoW51",
        "colab_type": "code",
        "colab": {
          "base_uri": "https://localhost:8080/",
          "height": 364
        },
        "outputId": "3c2c0f37-ff04-4457-a2a6-8cece576d825"
      },
      "cell_type": "code",
      "source": [
        "plt.scatter(base.DESPESAS, base.SITUACAO)"
      ],
      "execution_count": 78,
      "outputs": [
        {
          "output_type": "execute_result",
          "data": {
            "text/plain": [
              "<matplotlib.collections.PathCollection at 0x7fb337c4ac50>"
            ]
          },
          "metadata": {
            "tags": []
          },
          "execution_count": 78
        },
        {
          "output_type": "display_data",
          "data": {
            "image/png": "[encoded data removed]",
            "text/plain": [
              "<Figure size 576x396 with 1 Axes>"
            ]
          },
          "metadata": {
            "tags": []
          }
        }
      ]
    },
    {
      "metadata": {
        "id": "CPq-nI2PofP_",
        "colab_type": "code",
        "colab": {
          "base_uri": "https://localhost:8080/",
          "height": 297
        },
        "outputId": "645ed306-96fd-4f4b-8f27-76cac879e078"
      },
      "cell_type": "code",
      "source": [
        "base.describe()"
      ],
      "execution_count": 79,
      "outputs": [
        {
          "output_type": "execute_result",
          "data": {
            "text/html": [
              "<div>\n",
              "<style scoped>\n",
              "    .dataframe tbody tr th:only-of-type {\n",
              "        vertical-align: middle;\n",
              "    }\n",
              "\n",
              "    .dataframe tbody tr th {\n",
              "        vertical-align: top;\n",
              "    }\n",
              "\n",
              "    .dataframe thead th {\n",
              "        text-align: right;\n",
              "    }\n",
              "</style>\n",
              "<table border=\"1\" class=\"dataframe\">\n",
              "  <thead>\n",
              "    <tr style=\"text-align: right;\">\n",
              "      <th></th>\n",
              "      <th>SITUACAO</th>\n",
              "      <th>DESPESAS</th>\n",
              "    </tr>\n",
              "  </thead>\n",
              "  <tbody>\n",
              "    <tr>\n",
              "      <th>count</th>\n",
              "      <td>47.000000</td>\n",
              "      <td>47.000000</td>\n",
              "    </tr>\n",
              "    <tr>\n",
              "      <th>mean</th>\n",
              "      <td>0.510638</td>\n",
              "      <td>1085.744681</td>\n",
              "    </tr>\n",
              "    <tr>\n",
              "      <th>std</th>\n",
              "      <td>0.505291</td>\n",
              "      <td>870.968338</td>\n",
              "    </tr>\n",
              "    <tr>\n",
              "      <th>min</th>\n",
              "      <td>0.000000</td>\n",
              "      <td>10.000000</td>\n",
              "    </tr>\n",
              "    <tr>\n",
              "      <th>25%</th>\n",
              "      <td>0.000000</td>\n",
              "      <td>300.000000</td>\n",
              "    </tr>\n",
              "    <tr>\n",
              "      <th>50%</th>\n",
              "      <td>1.000000</td>\n",
              "      <td>800.000000</td>\n",
              "    </tr>\n",
              "    <tr>\n",
              "      <th>75%</th>\n",
              "      <td>1.000000</td>\n",
              "      <td>1700.000000</td>\n",
              "    </tr>\n",
              "    <tr>\n",
              "      <th>max</th>\n",
              "      <td>1.000000</td>\n",
              "      <td>3300.000000</td>\n",
              "    </tr>\n",
              "  </tbody>\n",
              "</table>\n",
              "</div>"
            ],
            "text/plain": [
              "        SITUACAO     DESPESAS\n",
              "count  47.000000    47.000000\n",
              "mean    0.510638  1085.744681\n",
              "std     0.505291   870.968338\n",
              "min     0.000000    10.000000\n",
              "25%     0.000000   300.000000\n",
              "50%     1.000000   800.000000\n",
              "75%     1.000000  1700.000000\n",
              "max     1.000000  3300.000000"
            ]
          },
          "metadata": {
            "tags": []
          },
          "execution_count": 79
        }
      ]
    },
    {
      "metadata": {
        "id": "avMQD5IIoiUX",
        "colab_type": "code",
        "colab": {
          "base_uri": "https://localhost:8080/",
          "height": 34
        },
        "outputId": "91682e26-ca60-47b3-9fa5-8ecc05d50b34"
      },
      "cell_type": "code",
      "source": [
        "correlacao = np.corrcoef(base.DESPESAS, base.SITUACAO)\n",
        "print('correlacao de despesa e situação={}'.format(correlacao[0,1]))\n",
        "# correlacao = 0.81, quando mais despesa, maior a chance de situacao 1"
      ],
      "execution_count": 80,
      "outputs": [
        {
          "output_type": "stream",
          "text": [
            "correlacao de despesa e situação=0.812187165576407\n"
          ],
          "name": "stdout"
        }
      ]
    },
    {
      "metadata": {
        "id": "vnhasBREpUji",
        "colab_type": "code",
        "colab": {
          "base_uri": "https://localhost:8080/",
          "height": 187
        },
        "outputId": "1a58fcfa-5305-4c52-cacf-c7f836729839"
      },
      "cell_type": "code",
      "source": [
        "X = base.iloc[:, 2].values\n",
        "print('X=')\n",
        "print(X[:5])\n",
        "X_reshaped = X[:, np.newaxis]\n",
        "print('X_reshaped=')\n",
        "print(X_reshaped[:5])\n",
        "\n",
        "y = base.iloc[:, 1].values\n",
        "print('y=')\n",
        "print(y[:5])\n"
      ],
      "execution_count": 81,
      "outputs": [
        {
          "output_type": "stream",
          "text": [
            "X=\n",
            "[  10  100 1600 1500 3300]\n",
            "X_reshaped=\n",
            "[[  10]\n",
            " [ 100]\n",
            " [1600]\n",
            " [1500]\n",
            " [3300]]\n",
            "y=\n",
            "[0 0 1 1 1]\n"
          ],
          "name": "stdout"
        }
      ]
    },
    {
      "metadata": {
        "id": "GeemmbpcqEgr",
        "colab_type": "code",
        "colab": {
          "base_uri": "https://localhost:8080/",
          "height": 71
        },
        "outputId": "343c3053-5daa-4253-efe2-eecc2c53f768"
      },
      "cell_type": "code",
      "source": [
        "# modelo\n",
        "modelo = LogisticRegression()\n",
        "modelo.fit(X_reshaped, y)\n",
        "\n",
        "m = modelo.coef_\n",
        "b = modelo.intercept_"
      ],
      "execution_count": 82,
      "outputs": [
        {
          "output_type": "stream",
          "text": [
            "/usr/local/lib/python3.6/dist-packages/sklearn/linear_model/logistic.py:433: FutureWarning: Default solver will be changed to 'lbfgs' in 0.22. Specify a solver to silence this warning.\n",
            "  FutureWarning)\n"
          ],
          "name": "stderr"
        }
      ]
    },
    {
      "metadata": {
        "id": "q6IIHUOTqpu8",
        "colab_type": "code",
        "colab": {
          "base_uri": "https://localhost:8080/",
          "height": 364
        },
        "outputId": "0764ea98-7bfc-4214-a510-76b16dd85e3d"
      },
      "cell_type": "code",
      "source": [
        "plt.scatter(X, y)\n",
        "# gera numeros aleatorios, a partir de 10, ate 3000, com 100 registros\n",
        "X_teste = np.linspace(10, 3000, 100)\n",
        "\n",
        "# funcao que retorna a sigmoide\n",
        "def model(x):\n",
        "  return 1/(1 + np.exp(-x))\n",
        "\n",
        "# resultado, ravel transforma o numpy.array para vetor\n",
        "r = model(X_teste * m + b).ravel()\n",
        "\n",
        "plt.plot(X_teste, r, color = 'red')"
      ],
      "execution_count": 83,
      "outputs": [
        {
          "output_type": "execute_result",
          "data": {
            "text/plain": [
              "[<matplotlib.lines.Line2D at 0x7fb337e87e48>]"
            ]
          },
          "metadata": {
            "tags": []
          },
          "execution_count": 83
        },
        {
          "output_type": "display_data",
          "data": {
            "image/png": "[encoded data removed]",
            "text/plain": [
              "<Figure size 576x396 with 1 Axes>"
            ]
          },
          "metadata": {
            "tags": []
          }
        }
      ]
    },
    {
      "metadata": {
        "id": "6KJ_IVXQsGcv",
        "colab_type": "code",
        "colab": {
          "base_uri": "https://localhost:8080/",
          "height": 204
        },
        "outputId": "1a12e66e-a9e2-4007-c27a-9bb91c9d0f86"
      },
      "cell_type": "code",
      "source": [
        "# fazer previsoes para novos candidatos\n",
        "\n",
        "base_previsoes = pd.read_csv('NovosCandidatos.csv', sep=';')\n",
        "base_previsoes.head()"
      ],
      "execution_count": 84,
      "outputs": [
        {
          "output_type": "execute_result",
          "data": {
            "text/html": [
              "<div>\n",
              "<style scoped>\n",
              "    .dataframe tbody tr th:only-of-type {\n",
              "        vertical-align: middle;\n",
              "    }\n",
              "\n",
              "    .dataframe tbody tr th {\n",
              "        vertical-align: top;\n",
              "    }\n",
              "\n",
              "    .dataframe thead th {\n",
              "        text-align: right;\n",
              "    }\n",
              "</style>\n",
              "<table border=\"1\" class=\"dataframe\">\n",
              "  <thead>\n",
              "    <tr style=\"text-align: right;\">\n",
              "      <th></th>\n",
              "      <th>CANDIDATO</th>\n",
              "      <th>DESPESAS</th>\n",
              "    </tr>\n",
              "  </thead>\n",
              "  <tbody>\n",
              "    <tr>\n",
              "      <th>0</th>\n",
              "      <td>A</td>\n",
              "      <td>0</td>\n",
              "    </tr>\n",
              "    <tr>\n",
              "      <th>1</th>\n",
              "      <td>B</td>\n",
              "      <td>10</td>\n",
              "    </tr>\n",
              "    <tr>\n",
              "      <th>2</th>\n",
              "      <td>C</td>\n",
              "      <td>200</td>\n",
              "    </tr>\n",
              "    <tr>\n",
              "      <th>3</th>\n",
              "      <td>D</td>\n",
              "      <td>500</td>\n",
              "    </tr>\n",
              "    <tr>\n",
              "      <th>4</th>\n",
              "      <td>E</td>\n",
              "      <td>900</td>\n",
              "    </tr>\n",
              "  </tbody>\n",
              "</table>\n",
              "</div>"
            ],
            "text/plain": [
              "  CANDIDATO  DESPESAS\n",
              "0         A         0\n",
              "1         B        10\n",
              "2         C       200\n",
              "3         D       500\n",
              "4         E       900"
            ]
          },
          "metadata": {
            "tags": []
          },
          "execution_count": 84
        }
      ]
    },
    {
      "metadata": {
        "id": "hSj01kndtYil",
        "colab_type": "code",
        "colab": {
          "base_uri": "https://localhost:8080/",
          "height": 51
        },
        "outputId": "61c58a4b-e8b8-45fa-ea35-da710194064b"
      },
      "cell_type": "code",
      "source": [
        "# despesas\n",
        "despesas = base_previsoes.iloc[:, 1].values\n",
        "despesa_reshaped = despesas.reshape(-1, 1)\n",
        "# previsoes\n",
        "previsoes_teste = modelo.predict(despesa_reshaped)\n",
        "print('previsoes=')\n",
        "print(previsoes_teste[:5])\n",
        "\n"
      ],
      "execution_count": 85,
      "outputs": [
        {
          "output_type": "stream",
          "text": [
            "previsoes=\n",
            "[0 0 0 0 1]\n"
          ],
          "name": "stdout"
        }
      ]
    },
    {
      "metadata": {
        "id": "6MGxOMhzuGOO",
        "colab_type": "code",
        "colab": {
          "base_uri": "https://localhost:8080/",
          "height": 119
        },
        "outputId": "9cd29111-a06a-433d-bc89-a73a4f53c9a6"
      },
      "cell_type": "code",
      "source": [
        "# tabela final com a adicao da previsao\n",
        "base_previsoes_final = np.column_stack((base_previsoes, previsoes_teste))\n",
        "print('base_previsoes_final=')\n",
        "print(base_previsoes_final[:5])"
      ],
      "execution_count": 86,
      "outputs": [
        {
          "output_type": "stream",
          "text": [
            "base_previsoes_final=\n",
            "[['A' 0 0]\n",
            " ['B' 10 0]\n",
            " ['C' 200 0]\n",
            " ['D' 500 0]\n",
            " ['E' 900 1]]\n"
          ],
          "name": "stdout"
        }
      ]
    },
    {
      "metadata": {
        "id": "UX8hj6lkzY7D",
        "colab_type": "text"
      },
      "cell_type": "markdown",
      "source": [
        "# Quiz 2: Estatística II"
      ]
    },
    {
      "metadata": {
        "id": "uVW0TjVMzbmX",
        "colab_type": "code",
        "colab": {
          "base_uri": "https://localhost:8080/",
          "height": 292
        },
        "outputId": "37bfc7ae-95b9-4824-9563-dbbb4e23ebb7"
      },
      "cell_type": "code",
      "source": [
        "\"\"\"\n",
        "Question 1: Uma correlação de -0,75 é: Negativa e forte\n",
        "\"\"\"\n",
        "\n",
        "quest = \"\"\"\n",
        "Sendo a correlação igual a -0,89, qual será o coeficiente de determinação?\n",
        "\"\"\"\n",
        "# Calcula-se com o quadrado do coeficiente de correlação R.\n",
        "\n",
        "r = -0.89\n",
        "r2 = r * r\n",
        "print(quest)\n",
        "print(' coeficiente de determinação R^2 = {}'.format(r2))\n",
        "\n",
        "\"\"\"\n",
        "Question 3:\n",
        "O coeficiente de determinação entre duas variáveis é igual a 0,73.\n",
        "\n",
        "Qual opção abaixo melhor descreve este coeficiente?\n",
        "\n",
        "Quer dizer que, 73% da variável dependente consegue ser explicada pelas variável explanatória presente no modelo.\n",
        "\"\"\"\n",
        "\n",
        "\"\"\"\n",
        "Question 5:\n",
        "Qual opção melhor descreve o conceito de inclinação da reta na regressão linear?\n",
        "\n",
        "A cada unidade de aumento de X, a variável de resposta aumenta (ou diminuí) o valor da inclinação\n",
        "\"\"\"\n",
        "\n",
        "\n",
        "quest = \"\"\"\n",
        "Question 6:\n",
        "Dada as variáveis \n",
        "\n",
        "X = 15,18,20,25,30,44\n",
        "\n",
        "Y = 240,255,270,283,300,310\n",
        "\n",
        "Calcule a coeficiente de correlação.\n",
        "\"\"\"\n",
        "X = [15,18,20,25,30,44]\n",
        "y = [240,255,270,283,300,310]\n",
        "\n",
        "import numpy as np\n",
        "\n",
        "correlacao = np.corrcoef(X, y)\n",
        "print(quest)\n",
        "print('correlacao de X e Y = {}'.format(correlacao[0,1]))\n",
        "\n",
        "\n",
        "\n",
        "quest = \"\"\"\n",
        "Question 10:\n",
        "Em uma temperatura de 2 graus centigrados, uma loja vende em média 10 casacos.\n",
        "\n",
        "Em um modelo de regressão linear, a inclinação da reta é igual a -3.\n",
        "\n",
        "Considerando que neste problema existe uma correlação negativa e consequentemente a linha de regressão esta inclinada para a esquerda, quantos casacos serão vendidos com uma temperatura de 3 grau centigrados?\"\"\"\n",
        "\n"
      ],
      "execution_count": 87,
      "outputs": [
        {
          "output_type": "stream",
          "text": [
            "\n",
            "Sendo a correlação igual a -0,89, qual será o coeficiente de determinação?\n",
            "\n",
            " coeficiente de determinação R^2 = 0.7921\n",
            "\n",
            "Question 6:\n",
            "Dada as variáveis \n",
            "\n",
            "X = 15,18,20,25,30,44\n",
            "\n",
            "Y = 240,255,270,283,300,310\n",
            "\n",
            "Calcule a coeficiente de correlação.\n",
            "\n",
            "correlacao de X e Y = 0.9237805853157813\n"
          ],
          "name": "stdout"
        }
      ]
    }
  ]
}