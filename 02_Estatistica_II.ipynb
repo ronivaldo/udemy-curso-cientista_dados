{
  "nbformat": 4,
  "nbformat_minor": 0,
  "metadata": {
    "colab": {
      "name": "02_Estatistica_II.ipynb",
      "version": "0.3.2",
      "provenance": [],
      "collapsed_sections": []
    },
    "kernelspec": {
      "name": "python3",
      "display_name": "Python 3"
    }
  },
  "cells": [
    {
      "metadata": {
        "id": "SXCZTYhFp4xT",
        "colab_type": "text"
      },
      "cell_type": "markdown",
      "source": [
        "# Estatística II\n",
        "\n",
        "## Introdução a Correlação e Regressão Linear\n",
        "\n",
        "Introdução a Correlação e Regressão Linear\n",
        "\n",
        "## Variáveis\n",
        "\n",
        "Custos de um cliente para um plano de saúde.\n",
        "\n",
        "|Idade|Custo|\n",
        "|--|--|\n",
        "|18|871|\n",
        "|23|1132|\n",
        "|28|1242|\n",
        "|33|1356|\n",
        "\n",
        "Existe uma relação matemática entre estas duas variáveis?\n",
        "\n",
        "Se existe, como posso medir sua força?\n",
        "\n",
        "Poderia usar essa relação para fazer previsões?\n",
        "\n",
        "# Gráfico de Dispersão\n",
        "\n",
        "Gráfico com representação das variáveis no plano cartesiano.\n",
        "\n",
        "Eixo Y - Variável de Resposta ou Dependente\n",
        "- Na regressão é que queremos prever\n",
        "\n",
        "Eixo X - Variável Explanatória ou Independente\n",
        "- Na regressão é o que explica, ou usamos para prever\n",
        "\n",
        "# Regressão Linear\n",
        "\n",
        "Suponha que exista uma certa linearidade na districuição dos dados. Desta forma, matematicamente é possível gerar uma linha de regressão, ou de melhor ajuste, pode ser usada para fazer previsões.\n",
        "\n",
        "![alt text](https://github.com/ronivaldo/udemy-curso-cientista_dados/raw/master/resources/regressao_linear.jpg \"Regressão Linear\")\n",
        "\n",
        "\n",
        "\n",
        "\n"
      ]
    },
    {
      "metadata": {
        "id": "eTjt47Vvv06g",
        "colab_type": "text"
      },
      "cell_type": "markdown",
      "source": [
        " # Correlação - Parte I"
      ]
    }
  ]
}