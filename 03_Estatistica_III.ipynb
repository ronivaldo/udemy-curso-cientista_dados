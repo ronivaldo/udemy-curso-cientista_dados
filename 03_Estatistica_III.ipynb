{
  "nbformat": 4,
  "nbformat_minor": 0,
  "metadata": {
    "colab": {
      "name": "03_Estatistica_III.ipynb",
      "version": "0.3.2",
      "provenance": [],
      "collapsed_sections": []
    },
    "kernelspec": {
      "name": "python3",
      "display_name": "Python 3"
    }
  },
  "cells": [
    {
      "metadata": {
        "id": "zjMT2M6J8Oj8",
        "colab_type": "text"
      },
      "cell_type": "markdown",
      "source": [
        "# Estatistica III"
      ]
    },
    {
      "metadata": {
        "id": "YoTM8AAC7b3F",
        "colab_type": "text"
      },
      "cell_type": "markdown",
      "source": [
        "# Dados\n",
        "\n",
        "Dados localizados na pasta: D:\\_SIA_\\estudo\\udemy\\cientista-de-dados\\02-estatistica-03\n",
        "\n",
        "Arquivos para upload:\n",
        "- 66.Dados.zip\n",
        "- Disponível também através do link https://github.com/ronivaldo/udemy-curso-cientista_dados/raw/master/data/66.Dados.zip\n",
        "\n",
        "Conteúdo do arquivo:\n",
        "- anova.csv               \n",
        "- iris.csv"
      ]
    },
    {
      "metadata": {
        "id": "PELMKe9P7R7R",
        "colab_type": "code",
        "outputId": "37e42d53-f44a-441d-b9ea-a50e86b804aa",
        "colab": {
          "base_uri": "https://localhost:8080/",
          "height": 340
        }
      },
      "cell_type": "code",
      "source": [
        "import os  \n",
        "\n",
        "# verifica se upload ja foi realizado\n",
        "if not os.path.isfile('./66.Dados.zip'):\n",
        "  # obtem o arquivo do Github\n",
        "  !wget https://github.com/ronivaldo/udemy-curso-cientista_dados/raw/master/data/66.Dados.zip\n",
        "\n",
        "# verifica se upload ja foi realizado\n",
        "if not os.path.isfile('./cars.csv'):\n",
        "  # descompacta o arquivo 66.Dados.zip\n",
        "  !unzip -o 66.Dados.zip"
      ],
      "execution_count": 1,
      "outputs": [
        {
          "output_type": "stream",
          "text": [
            "--2019-04-08 17:13:09--  https://github.com/ronivaldo/udemy-curso-cientista_dados/raw/master/data/66.Dados.zip\n",
            "Resolving github.com (github.com)... 192.30.253.112, 192.30.253.113\n",
            "Connecting to github.com (github.com)|192.30.253.112|:443... connected.\n",
            "HTTP request sent, awaiting response... 302 Found\n",
            "Location: https://raw.githubusercontent.com/ronivaldo/udemy-curso-cientista_dados/master/data/66.Dados.zip [following]\n",
            "--2019-04-08 17:13:14--  https://raw.githubusercontent.com/ronivaldo/udemy-curso-cientista_dados/master/data/66.Dados.zip\n",
            "Resolving raw.githubusercontent.com (raw.githubusercontent.com)... 151.101.0.133, 151.101.64.133, 151.101.128.133, ...\n",
            "Connecting to raw.githubusercontent.com (raw.githubusercontent.com)|151.101.0.133|:443... connected.\n",
            "HTTP request sent, awaiting response... 200 OK\n",
            "Length: 1181 (1.2K) [application/zip]\n",
            "Saving to: ‘66.Dados.zip’\n",
            "\n",
            "66.Dados.zip        100%[===================>]   1.15K  --.-KB/s    in 0s      \n",
            "\n",
            "2019-04-08 17:13:14 (162 MB/s) - ‘66.Dados.zip’ saved [1181/1181]\n",
            "\n",
            "Archive:  66.Dados.zip\n",
            "  inflating: anova.csv               \n",
            "  inflating: iris.csv                \n"
          ],
          "name": "stdout"
        }
      ]
    },
    {
      "metadata": {
        "id": "fKD8B-QR_C5z",
        "colab_type": "text"
      },
      "cell_type": "markdown",
      "source": [
        "# Analise Exploratoria de Dados - EDA\n",
        "\n",
        "Livro de John Wilder Turkey - 1977\n",
        "\n",
        "Busca obter informações ocultas sobre os dados, antes mesmo de começar a criar o modelo de Machine Learning\n",
        "\n",
        "Informações:\n",
        "- Variação\n",
        "- Anomalias\n",
        "- Distribuição\n",
        "- Tendências\n",
        "- Padrões\n",
        "- Relações\n",
        "\n",
        "Iniciar uma análise de dados pela EDA, só então buscar a solução para o problema.\n",
        "\n",
        "## DBA vs Gráficos\n",
        "\n",
        "Não são a mesma coisa, porém EDA é altamente baseado na produção de gráficos.\n",
        "\n",
        "Gráficos de Dispersão, box plots, histogramas etc\n",
        "\n",
        "\n",
        "## Aplicação\n",
        "\n",
        "EDA é utilizada em todas as áreas:\n",
        "- Estatística I, II e III\n",
        "- Series Temporais\n",
        "- Machine Learning\n",
        "- AI\n",
        "- Grafos\n",
        "- Mineração\n",
        "- Visualização\n",
        "\n",
        "\n",
        "\n"
      ]
    },
    {
      "metadata": {
        "id": "ucc8Vaf3A5A-",
        "colab_type": "text"
      },
      "cell_type": "markdown",
      "source": [
        "# Distribuição de Poisson - Parte I\n",
        "\n",
        "Mede a probabilidade de ocorrência de eventos em **intervalo de tempo**, em de um certo número de experimentos.\n",
        "\n",
        "Os eventos a cada intervalo devem ser independentes.\n",
        "\n",
        "Existema tabelas de probabilidade.\n",
        "\n",
        "Possibilidade:\n",
        "- P(X=x) - ocorrência exata\n",
        "- P(X<x) - intervalo\n",
        "- P(X>x) - intervalo\n",
        "\n",
        "P(X=x) =e elevado a - lamba * (lambda elevado a x / x fatorial)\n",
        "\n",
        "x = número de eventos que estão sendo calculados\n",
        "\n",
        "lambda = número médio de eventos que ocorre por intervalo\n",
        "\n",
        "e = constante = 2.71828\n",
        "\n"
      ]
    },
    {
      "metadata": {
        "id": "qXR4bjnOB5UP",
        "colab_type": "text"
      },
      "cell_type": "markdown",
      "source": [
        "# Distribuição de Poisson - Parte II\n",
        "\n",
        "## Exemplo 1\n",
        "\n",
        "O número de acidentes de carros que ocorrem por dia é de 2 acidentes. Qual a probabilidade de ocorrerem 3 em um determinado dia?\n",
        "\n",
        "media = 2\n",
        "x = 3\n",
        "\n",
        "p(X=3) = (2.71828 elevadado a -2) * 2 elevado a 3/ 3!\n",
        "\n",
        "P(X=3)= 0.1804\n",
        "\n",
        "\n",
        "## Exemplo 2\n",
        "\n",
        "O número de acidentes de carros que ocorrem por dia é de 2 acidentes. Qual a probabilidade de ocorrerem 3 ou menos em um determinado dia?\n",
        "\n",
        "P(X<=3) = P(X=0) + P(X=1) + P(X=2) + P(X=3)\n",
        "\n",
        "P(X<=3) = 0.13 + 027 + 0.27 + 0.18\n",
        "\n",
        "P(X<=3) = 0.85\n",
        "\n",
        "\n",
        "## Exemplo 3\n",
        "\n",
        "O número de acidentes de carros que ocorrem por dia é de 2 acidentes. Qual a probabilidade de ocorrerem mais de 3 em um determinado dia?\n",
        "\n",
        "P(X>3) = 1 - P(X<=3)\n",
        "\n",
        "P(X<=3) = 0.85\n",
        "\n",
        "P(X>3) = 1 - 0.85 = 0.14\n",
        "\n",
        "\n",
        "\n",
        "\n",
        "\n"
      ]
    },
    {
      "metadata": {
        "id": "OqP32saJ-pGR",
        "colab_type": "text"
      },
      "cell_type": "markdown",
      "source": [
        "# Python: Distribuição de Poisson"
      ]
    },
    {
      "metadata": {
        "id": "a9muAmsh-rPS",
        "colab_type": "code",
        "colab": {
          "base_uri": "https://localhost:8080/",
          "height": 394
        },
        "outputId": "6a39aa02-088f-48ca-934c-b4446225bd11"
      },
      "cell_type": "code",
      "source": [
        "#70. Python: Distribuição de Poisson\n",
        "\n",
        "from scipy.stats import poisson\n",
        "\n",
        "\n",
        "\n",
        "quest = \"\"\"\n",
        "O número de acidentes de carros que ocorrem por dia é de 2 acidentes. Qual a probabilidade de ocorrerem 3 em um determinado dia?\n",
        "\n",
        "media = 2\n",
        "x = 3\n",
        "\"\"\"\n",
        "\n",
        "media = 2\n",
        "x = 3\n",
        "probabilidade = poisson.pmf(x, media)\n",
        "print(quest)\n",
        "print('a probabilidade eh {}'.format(probabilidade))\n",
        "\n",
        "\n",
        "\n",
        "quest = \"\"\"\n",
        "O número de acidentes de carros que ocorrem por dia é de 2 acidentes. Qual a probabilidade de ocorrerem 3 ou menos em um determinado dia?\n",
        "\n",
        "media = 2\n",
        "x = 3\n",
        "\"\"\"\n",
        "\n",
        "media = 2\n",
        "x = 3\n",
        "probabilidade = poisson.cdf(x, media)\n",
        "print(quest)\n",
        "print('a probabilidade eh {}'.format(probabilidade))\n",
        "\n",
        "\n",
        "\n",
        "quest = \"\"\"\n",
        "O número de acidentes de carros que ocorrem por dia é de 2 acidentes. Qual a probabilidade de ocorrerem mais de 3 em um determinado dia?\n",
        "\n",
        "media = 2\n",
        "x = 3\n",
        "\"\"\"\n",
        "\n",
        "media = 2\n",
        "x = 3\n",
        "probabilidade = poisson.sf(x, media)\n",
        "print(quest)\n",
        "print('a probabilidade eh {}'.format(probabilidade))"
      ],
      "execution_count": 8,
      "outputs": [
        {
          "output_type": "stream",
          "text": [
            "\n",
            "O número de acidentes de carros que ocorrem por dia é de 2 acidentes. Qual a probabilidade de ocorrerem 3 em um determinado dia?\n",
            "\n",
            "media = 2\n",
            "x = 3\n",
            "\n",
            "a probabilidade eh 0.18044704431548356\n",
            "\n",
            "O número de acidentes de carros que ocorrem por dia é de 2 acidentes. Qual a probabilidade de ocorrerem 3 ou menos em um determinado dia?\n",
            "\n",
            "media = 2\n",
            "x = 3\n",
            "\n",
            "a probabilidade eh 0.857123460498547\n",
            "\n",
            "O número de acidentes de carros que ocorrem por dia é de 2 acidentes. Qual a probabilidade de ocorrerem mais de 3 em um determinado dia?\n",
            "\n",
            "media = 2\n",
            "x = 3\n",
            "\n",
            "a probabilidade eh 0.14287653950145296\n"
          ],
          "name": "stdout"
        }
      ]
    },
    {
      "metadata": {
        "id": "1Lvn7TCoAPAb",
        "colab_type": "text"
      },
      "cell_type": "markdown",
      "source": [
        "# Qui Quadrado\n",
        "\n",
        "# Pessoas que assistem novelas\n",
        "\n",
        "| |Assiste|Não Assiste||\n",
        "|--|--|--|--|\n",
        "|Masculino|19|6|25\n",
        "|Feminino|43|32|75\n",
        "||62|38|100\n",
        "\n",
        "\n",
        "Duas variáveis nominais, não são contínuas, mostrando quem assiste novelas e não assiste.\n",
        "\n",
        "Existe uma diferença significativa entre homens e mulheres?\n",
        "\n",
        "Essas variáves são independentes? ou seja, não influenciam uma a outra?\n",
        "\n",
        "Hipótese nula: Não existe diferença significativa além do acaso.\n",
        "\n",
        "Achar um teste para verificar a hipótose.\n",
        "\n",
        "| |Assiste|Não Assiste||\n",
        "|--|--|--|--|\n",
        "|Masculino|19|6|25\n",
        "| |15.5|9.5|25%\n",
        "|Feminino|43|32|75\n",
        "| |46.5|28.5|75%\n",
        "||62|38|100\n",
        "\n",
        "\n",
        "O qui-quadrado é uma ótima ferramenta para comparar resultados envolvendo dados\n",
        "\n",
        "O valor p é o que usamos para determinar a significância (ou independência neste caso). Dependendo do teste, geralmente estamos procurando um limite em 0,05 ou 0,01. Nosso teste é significativo (ou seja, rejeitamos a hipótese nula) se obtivermos um valor p abaixo de nosso limite.categóricos. Podemos ver como uma amostra se desvia da distribuição esperada.\n",
        "\n",
        "Para nossos objetivos, usaremos 0,05 como o limite. Neste exemplo em particular, o valor p (o segundo número em nossa saída: 0,15) é maior que 0.05, não podemos rejeitar a hipótese nula."
      ]
    },
    {
      "metadata": {
        "id": "UISAGcFWPT8O",
        "colab_type": "text"
      },
      "cell_type": "markdown",
      "source": [
        "# Python: Qui quadrado"
      ]
    },
    {
      "metadata": {
        "id": "hMiOgMd1PWRq",
        "colab_type": "code",
        "colab": {
          "base_uri": "https://localhost:8080/",
          "height": 190
        },
        "outputId": "06a83e0f-f606-4fe9-f08e-ab78f2af6196"
      },
      "cell_type": "code",
      "source": [
        "# 73. Python: Qui quadrado\n",
        "\n",
        "import numpy as np\n",
        "from scipy.stats import chi2_contingency\n",
        "\n",
        "novela = np.array([[19,6], [43,32]])\n",
        "\n",
        "print('tabela novela=')\n",
        "print(novela)\n",
        "\n",
        "chi2, p, dof, ex = chi2_contingency(novela)\n",
        "\n",
        "print('o valor de p={}'.format(p))\n",
        "\n",
        "print('tabela esperada')\n",
        "\n",
        "print('As frequências esperadas, com base nas somas marginais da tabela.=')\n",
        "print(ex)\n",
        "\n",
        "\"\"\"\n",
        "Para nossos objetivos, usaremos 0,05 como o limite. \n",
        "Neste exemplo em particular, o valor p (o segundo número em nossa saída: 0,15) é maior que 0.05, não podemos rejeitar a hipótese nula.\n",
        "\"\"\"\n"
      ],
      "execution_count": 14,
      "outputs": [
        {
          "output_type": "stream",
          "text": [
            "tabela novela=\n",
            "[[19  6]\n",
            " [43 32]]\n",
            "o valor de p=0.15347667161786666\n",
            "tabela esperada\n",
            "As frequências esperadas, com base nas somas marginais da tabela.=\n",
            "[[15.5  9.5]\n",
            " [46.5 28.5]]\n"
          ],
          "name": "stdout"
        },
        {
          "output_type": "execute_result",
          "data": {
            "text/plain": [
              "'\\nPara nossos objetivos, usaremos 0,05 como o limite. \\nNeste exemplo em particular, o valor p (o segundo número em nossa saída: 0,15) é maior que 0.05, não podemos rejeitar a hipótese nula.\\n'"
            ]
          },
          "metadata": {
            "tags": []
          },
          "execution_count": 14
        }
      ]
    },
    {
      "metadata": {
        "id": "T_pL188UTWu9",
        "colab_type": "text"
      },
      "cell_type": "markdown",
      "source": [
        "# Anova - Parte I\n",
        "\n",
        "Você tem dois remédios e quer usar o remédio que traga a cura mais rápido. O remédia A custa 100 e o B custa 120.\n",
        "\n",
        "Uma tabela com pode ser feita com: quantas horas o remédio leva para fazer efeito?\n",
        "\n",
        "|A|B|\n",
        "|--|--|\n",
        "|10|5|\n",
        "|5|5|\n",
        "|5|5|\n",
        "|9|8|\n",
        "|10|7|\n",
        "|5|8|\n",
        "|9|10|\n",
        "|9|7|\n",
        "\n",
        "\n",
        "média: 7.75 e 6.875.\n",
        "\n",
        "Variável independente: os remédios.\n",
        "\n",
        "Variável dependente: as observações (as pessoas observadas).\n",
        "\n",
        "## Teste t de Student\n",
        "\n",
        "Teste de Hipótese\n",
        "\n",
        "Compara duas médias\n",
        "\n",
        "Pré-requisitos:\n",
        "- Duas populações são independentes\n",
        "- Vairável dependente normalmente distribuída\n",
        "- Variância entre as duas variáveis é aproximada\n",
        "\n",
        "É util par comparar duas populações.\n",
        "\n",
        "E se for preciso comparar, por exemplo, três ou mais medicamentos? Não é possível usar t de Student, precisamos usar **Anova**.\n",
        "\n",
        "## Anova\n",
        "\n",
        "Três remédios, a tabela abaixo mostra quanto tempo o remédio leva para fazer efeito.\n",
        "\n",
        "|A|B|C\n",
        "|--|--|\n",
        "|5|10|5\n",
        "|10|10|5|\n",
        "|7|6|5|\n",
        "|7|6|8|\n",
        "|7|10|7|\n",
        "|6|6|8|\n",
        "|9|10|10\n",
        "|9|5|7|\n",
        "\n",
        "## Análise de variância =  Anova\n",
        "\n",
        "Mais de dois grupos.\n",
        "\n",
        "Teste de Hipótese.\n",
        "\n",
        "Uma variável quantitativa (horas para o remédio fazer efeito) e uma ou mais variáveis categóricas.\n",
        "\n",
        "Em vez de comparações em pares de grupos, olha todo o conjunto.\n",
        "\n",
        "Busca a variação entre os grupos comparado a variação dentro dos grupos.\n",
        "\n",
        "Hipótese:\n",
        "H0: não há diferença significativa no tempo de cura entre as diferentes marcas de remédio.\n",
        "\n",
        "Ha:existe uma diferença significativa no tempo de cura entre as diferentes marcas de remédio.\n",
        "\n",
        "A análise de variância é feita através do teste **F**.\n",
        "\n",
        "## Teste F\n",
        "\n",
        "F(X, Y)\n",
        "\n",
        "X = graus de liberdade: número de grupos - 1\n",
        "\n",
        "Y =graus de liberdade no denominador: número de observações - número de grupos\n",
        "\n",
        "Hipótese nula: não há variação significativa entre os grupos.\n",
        "\n",
        "Valor-p < alfa: há variação significativa entre os grupos.\n",
        "\n",
        "Adicionando uma coluna Sexo, temos agora dois fatores.\n",
        "\n",
        "Se o teste identificar que existe uma variância significaiva, Ha, existe oteste de **Turkey** para saber onde está diferença.\n",
        "\n"
      ]
    },
    {
      "metadata": {
        "id": "MKWfjF5jZAqj",
        "colab_type": "text"
      },
      "cell_type": "markdown",
      "source": [
        "# Python: Anova"
      ]
    },
    {
      "metadata": {
        "id": "0JbpLzQuZGNN",
        "colab_type": "code",
        "colab": {
          "base_uri": "https://localhost:8080/",
          "height": 204
        },
        "outputId": "0d839f11-8eab-4027-f3e4-32586d36fed5"
      },
      "cell_type": "code",
      "source": [
        "# 77. Python: Anova\n",
        "\n",
        "import pandas as pd\n",
        "from scipy import stats\n",
        "import statsmodels.api as sm\n",
        "from statsmodels.formula.api import ols\n",
        "from statsmodels.stats.multicomp import MultiComparison\n",
        "\n",
        "tratamento = pd.read_csv('anova.csv', sep=';')\n",
        "tratamento.head()"
      ],
      "execution_count": 26,
      "outputs": [
        {
          "output_type": "execute_result",
          "data": {
            "text/html": [
              "<div>\n",
              "<style scoped>\n",
              "    .dataframe tbody tr th:only-of-type {\n",
              "        vertical-align: middle;\n",
              "    }\n",
              "\n",
              "    .dataframe tbody tr th {\n",
              "        vertical-align: top;\n",
              "    }\n",
              "\n",
              "    .dataframe thead th {\n",
              "        text-align: right;\n",
              "    }\n",
              "</style>\n",
              "<table border=\"1\" class=\"dataframe\">\n",
              "  <thead>\n",
              "    <tr style=\"text-align: right;\">\n",
              "      <th></th>\n",
              "      <th>Sexo</th>\n",
              "      <th>Remedio</th>\n",
              "      <th>Horas</th>\n",
              "    </tr>\n",
              "  </thead>\n",
              "  <tbody>\n",
              "    <tr>\n",
              "      <th>0</th>\n",
              "      <td>F</td>\n",
              "      <td>A</td>\n",
              "      <td>5</td>\n",
              "    </tr>\n",
              "    <tr>\n",
              "      <th>1</th>\n",
              "      <td>F</td>\n",
              "      <td>A</td>\n",
              "      <td>10</td>\n",
              "    </tr>\n",
              "    <tr>\n",
              "      <th>2</th>\n",
              "      <td>F</td>\n",
              "      <td>A</td>\n",
              "      <td>7</td>\n",
              "    </tr>\n",
              "    <tr>\n",
              "      <th>3</th>\n",
              "      <td>F</td>\n",
              "      <td>A</td>\n",
              "      <td>7</td>\n",
              "    </tr>\n",
              "    <tr>\n",
              "      <th>4</th>\n",
              "      <td>M</td>\n",
              "      <td>A</td>\n",
              "      <td>7</td>\n",
              "    </tr>\n",
              "  </tbody>\n",
              "</table>\n",
              "</div>"
            ],
            "text/plain": [
              "  Sexo Remedio  Horas\n",
              "0    F       A      5\n",
              "1    F       A     10\n",
              "2    F       A      7\n",
              "3    F       A      7\n",
              "4    M       A      7"
            ]
          },
          "metadata": {
            "tags": []
          },
          "execution_count": 26
        }
      ]
    },
    {
      "metadata": {
        "id": "Iup_76ZnZaw2",
        "colab_type": "code",
        "colab": {
          "base_uri": "https://localhost:8080/",
          "height": 408
        },
        "outputId": "57807810-61d5-41f6-89cf-f2b1744c85de"
      },
      "cell_type": "code",
      "source": [
        "tratamento.boxplot(by = \"Remedio\", grid=False)"
      ],
      "execution_count": 17,
      "outputs": [
        {
          "output_type": "execute_result",
          "data": {
            "text/plain": [
              "<matplotlib.axes._subplots.AxesSubplot at 0x7fc8b6d22c88>"
            ]
          },
          "metadata": {
            "tags": []
          },
          "execution_count": 17
        },
        {
          "output_type": "display_data",
          "data": {
            "image/png": "[encoded data removed]",
            "text/plain": [
              "<Figure size 576x396 with 1 Axes>"
            ]
          },
          "metadata": {
            "tags": []
          }
        }
      ]
    },
    {
      "metadata": {
        "id": "dCjo82lGZ4FM",
        "colab_type": "code",
        "colab": {
          "base_uri": "https://localhost:8080/",
          "height": 292
        },
        "outputId": "c55a8e20-ad26-4147-ecb3-6a63642757aa"
      },
      "cell_type": "code",
      "source": [
        "modelo1 = ols('Horas ~ Remedio', data = tratamento).fit()\n",
        "resultados1 = sm.stats.anova_lm(modelo1)\n",
        "\n",
        "modelo2 = ols('Horas ~ Remedio * Sexo', data = tratamento).fit()\n",
        "resultados2 = sm.stats.anova_lm(modelo2)\n",
        "\n",
        "mc = MultiComparison(tratamento['Horas'], tratamento['Remedio'])\n",
        "resultado_teste = mc.tukeyhsd()\n",
        "print('Rejeitar ou não a hipótese nula?')\n",
        "print(resultado_teste)"
      ],
      "execution_count": 28,
      "outputs": [
        {
          "output_type": "stream",
          "text": [
            "Rejeitar ou não a hipótese nula?\n",
            "Multiple Comparison of Means - Tukey HSD,FWER=0.05\n",
            "============================================\n",
            "group1 group2 meandiff  lower  upper  reject\n",
            "--------------------------------------------\n",
            "  A      B     -0.625  -3.0803 1.8303 False \n",
            "  A      C     0.375   -2.0803 2.8303 False \n",
            "  B      C      1.0    -1.4553 3.4553 False \n",
            "--------------------------------------------\n"
          ],
          "name": "stdout"
        },
        {
          "output_type": "stream",
          "text": [
            "/usr/local/lib/python3.6/dist-packages/scipy/stats/_distn_infrastructure.py:879: RuntimeWarning: invalid value encountered in greater\n",
            "  return (self.a < x) & (x < self.b)\n",
            "/usr/local/lib/python3.6/dist-packages/scipy/stats/_distn_infrastructure.py:879: RuntimeWarning: invalid value encountered in less\n",
            "  return (self.a < x) & (x < self.b)\n",
            "/usr/local/lib/python3.6/dist-packages/scipy/stats/_distn_infrastructure.py:1821: RuntimeWarning: invalid value encountered in less_equal\n",
            "  cond2 = cond0 & (x <= self.a)\n"
          ],
          "name": "stderr"
        }
      ]
    },
    {
      "metadata": {
        "id": "VDzqsF2rdsob",
        "colab_type": "code",
        "colab": {
          "base_uri": "https://localhost:8080/",
          "height": 761
        },
        "outputId": "d6766cc1-3672-4c7d-9462-c507b2f2587c"
      },
      "cell_type": "code",
      "source": [
        "resultado_teste.plot_simultaneous()"
      ],
      "execution_count": 30,
      "outputs": [
        {
          "output_type": "execute_result",
          "data": {
            "image/png": "[encoded data removed]",
            "text/plain": [
              "<Figure size 720x432 with 1 Axes>"
            ]
          },
          "metadata": {
            "tags": []
          },
          "execution_count": 30
        },
        {
          "output_type": "display_data",
          "data": {
            "image/png": "[encoded data removed]",
            "text/plain": [
              "<Figure size 720x432 with 1 Axes>"
            ]
          },
          "metadata": {
            "tags": []
          }
        }
      ]
    },
    {
      "metadata": {
        "id": "jJP5_4Pgd_ME",
        "colab_type": "text"
      },
      "cell_type": "markdown",
      "source": [
        "# Outliers\n",
        "\n",
        "Valores fora do padrão: afastado dos demais elementos.\n",
        "\n",
        "Várias formas de encontrá-los.\n",
        "\n",
        "Pode ser:\n",
        "- Natural (Acaso)\n",
        "- Erros\n",
        "- Ruídos\n",
        "- Exceões\n",
        "- Fraudes\n",
        "\n",
        "\n",
        "## Uma única variável\n",
        "\n",
        "Um outilier pode ser uma única variável quantativa.\n",
        "\n",
        "Boxsplot mostram os outliers.\n",
        "\n",
        "![Alt text](https://github.com/ronivaldo/udemy-curso-cientista_dados/raw/master/resources/outlier_boxplot.png \"Outlier Boxplot\")\n",
        "\n",
        "## Duas variáveis quantitativas\n",
        "\n",
        "Um outilier pode ser a combinação de duas ou mais variáveis quantativas.\n",
        "\n",
        "![Alt text](https://github.com/ronivaldo/udemy-curso-cientista_dados/raw/master/resources/outlier_duas_variaveis.png \"Outlier Duas variáveis\")\n",
        "\n",
        "Olhando do ponto de vista de Custos, o valor 2800 não é um outlier. Da mesma forma, a Idade de 38 não é um outlier.\n",
        "\n",
        "Porém, o ponto (Custo, Idade) está fora do padrão das outras variáveis.\n",
        "\n",
        "\n",
        "## N variáveis quantitativas\n",
        "\n",
        "Através da utilização de algorítmos de Clusterização (baseado em distância ou densidade, por exemplo), alguns pontos não estão incluídos em nenhum grupo.\n",
        "\n",
        "![Alt text](https://github.com/ronivaldo/udemy-curso-cientista_dados/raw/master/resources/outlier_n_variaveis.png \"Outlier N variáveis\")\n",
        "\n",
        "## Variáveis Categóricas\n",
        "\n",
        "Um ponto em determinada categoria pode ser aceitável, porém talvez não faça sentido em outra categoria.\n",
        "\n",
        "![Alt text](https://github.com/ronivaldo/udemy-curso-cientista_dados/raw/master/resources/outlier_variavel_categorica.png \"Outlier variável categórica\")\n",
        "\n",
        "## O que fazer?\n",
        "\n",
        "Possíveis acções:\n",
        "- Nada\n",
        "- Substituir\n",
        "  - por um valor comum (?)\n",
        "- Remover\n",
        "  - remover mesmo se for um valor natural (?)\n",
        "  \n",
        "  \n",
        "\n"
      ]
    },
    {
      "metadata": {
        "id": "EY36upft4pIe",
        "colab_type": "text"
      },
      "cell_type": "markdown",
      "source": [
        "# Python: Outliers"
      ]
    },
    {
      "metadata": {
        "id": "MinP923Y4keU",
        "colab_type": "code",
        "colab": {
          "base_uri": "https://localhost:8080/",
          "height": 204
        },
        "outputId": "66f598b6-4185-48a3-f271-0b7bbef8997d"
      },
      "cell_type": "code",
      "source": [
        "# 80. Python: Outliers\n",
        "\n",
        "import matplotlib.pyplot as plt\n",
        "import pandas as pd\n",
        "\n",
        "iris = pd. read_csv('iris.csv')\n",
        "iris.head()"
      ],
      "execution_count": 32,
      "outputs": [
        {
          "output_type": "execute_result",
          "data": {
            "text/html": [
              "<div>\n",
              "<style scoped>\n",
              "    .dataframe tbody tr th:only-of-type {\n",
              "        vertical-align: middle;\n",
              "    }\n",
              "\n",
              "    .dataframe tbody tr th {\n",
              "        vertical-align: top;\n",
              "    }\n",
              "\n",
              "    .dataframe thead th {\n",
              "        text-align: right;\n",
              "    }\n",
              "</style>\n",
              "<table border=\"1\" class=\"dataframe\">\n",
              "  <thead>\n",
              "    <tr style=\"text-align: right;\">\n",
              "      <th></th>\n",
              "      <th>sepal length</th>\n",
              "      <th>sepal width</th>\n",
              "      <th>petal length</th>\n",
              "      <th>petal width</th>\n",
              "      <th>class</th>\n",
              "    </tr>\n",
              "  </thead>\n",
              "  <tbody>\n",
              "    <tr>\n",
              "      <th>0</th>\n",
              "      <td>5.1</td>\n",
              "      <td>3.5</td>\n",
              "      <td>1.4</td>\n",
              "      <td>0.2</td>\n",
              "      <td>Iris-setosa</td>\n",
              "    </tr>\n",
              "    <tr>\n",
              "      <th>1</th>\n",
              "      <td>4.9</td>\n",
              "      <td>3.0</td>\n",
              "      <td>1.4</td>\n",
              "      <td>0.2</td>\n",
              "      <td>Iris-setosa</td>\n",
              "    </tr>\n",
              "    <tr>\n",
              "      <th>2</th>\n",
              "      <td>4.7</td>\n",
              "      <td>3.2</td>\n",
              "      <td>1.3</td>\n",
              "      <td>0.2</td>\n",
              "      <td>Iris-setosa</td>\n",
              "    </tr>\n",
              "    <tr>\n",
              "      <th>3</th>\n",
              "      <td>4.6</td>\n",
              "      <td>3.1</td>\n",
              "      <td>1.5</td>\n",
              "      <td>0.2</td>\n",
              "      <td>Iris-setosa</td>\n",
              "    </tr>\n",
              "    <tr>\n",
              "      <th>4</th>\n",
              "      <td>5.0</td>\n",
              "      <td>3.6</td>\n",
              "      <td>1.4</td>\n",
              "      <td>0.2</td>\n",
              "      <td>Iris-setosa</td>\n",
              "    </tr>\n",
              "  </tbody>\n",
              "</table>\n",
              "</div>"
            ],
            "text/plain": [
              "   sepal length  sepal width  petal length  petal width        class\n",
              "0           5.1          3.5           1.4          0.2  Iris-setosa\n",
              "1           4.9          3.0           1.4          0.2  Iris-setosa\n",
              "2           4.7          3.2           1.3          0.2  Iris-setosa\n",
              "3           4.6          3.1           1.5          0.2  Iris-setosa\n",
              "4           5.0          3.6           1.4          0.2  Iris-setosa"
            ]
          },
          "metadata": {
            "tags": []
          },
          "execution_count": 32
        }
      ]
    },
    {
      "metadata": {
        "id": "_oJFyh7b41lq",
        "colab_type": "code",
        "colab": {
          "base_uri": "https://localhost:8080/",
          "height": 483
        },
        "outputId": "dd946806-1a41-4a54-e5ba-b168e6e7f0fd"
      },
      "cell_type": "code",
      "source": [
        "# nao mostra os outliers, showfliers=False\n",
        "# There is an issue with matplotlib boxplot fliers not showing up when seaborn is imported, even when fliers are explicitly enabled.\n",
        "# https://stackoverflow.com/questions/28908003/matplotlib-box-plot-fliers-not-showing/29535590\n",
        "plt.boxplot(iris.iloc[:, 1], showfliers=False)\n"
      ],
      "execution_count": 35,
      "outputs": [
        {
          "output_type": "execute_result",
          "data": {
            "text/plain": [
              "{'boxes': [<matplotlib.lines.Line2D at 0x7fc8b0c67d68>],\n",
              " 'caps': [<matplotlib.lines.Line2D at 0x7fc8b0c705f8>,\n",
              "  <matplotlib.lines.Line2D at 0x7fc8b0c70978>],\n",
              " 'fliers': [],\n",
              " 'means': [],\n",
              " 'medians': [<matplotlib.lines.Line2D at 0x7fc8b0c70cf8>],\n",
              " 'whiskers': [<matplotlib.lines.Line2D at 0x7fc8b0c67ef0>,\n",
              "  <matplotlib.lines.Line2D at 0x7fc8b0c70278>]}"
            ]
          },
          "metadata": {
            "tags": []
          },
          "execution_count": 35
        },
        {
          "output_type": "display_data",
          "data": {
            "image/png": "[encoded data removed]",
            "text/plain": [
              "<Figure size 576x396 with 1 Axes>"
            ]
          },
          "metadata": {
            "tags": []
          }
        }
      ]
    },
    {
      "metadata": {
        "id": "x-JLJ18y51DD",
        "colab_type": "code",
        "colab": {
          "base_uri": "https://localhost:8080/",
          "height": 432
        },
        "outputId": "f0f033ad-eb20-425e-809e-cd3d672e24f6"
      },
      "cell_type": "code",
      "source": [
        "import seaborn as sns\n",
        "sns.boxplot(iris.iloc[:, 1])"
      ],
      "execution_count": 37,
      "outputs": [
        {
          "output_type": "stream",
          "text": [
            "/usr/local/lib/python3.6/dist-packages/seaborn/categorical.py:454: FutureWarning: remove_na is deprecated and is a private function. Do not use.\n",
            "  box_data = remove_na(group_data)\n"
          ],
          "name": "stderr"
        },
        {
          "output_type": "execute_result",
          "data": {
            "text/plain": [
              "<matplotlib.axes._subplots.AxesSubplot at 0x7fc8b0c2d048>"
            ]
          },
          "metadata": {
            "tags": []
          },
          "execution_count": 37
        },
        {
          "output_type": "display_data",
          "data": {
            "image/png": "[encoded data removed]",
            "text/plain": [
              "<Figure size 576x396 with 1 Axes>"
            ]
          },
          "metadata": {
            "tags": []
          }
        }
      ]
    },
    {
      "metadata": {
        "id": "-pYyambQ6GOU",
        "colab_type": "code",
        "colab": {
          "base_uri": "https://localhost:8080/",
          "height": 190
        },
        "outputId": "740b8c1c-963a-49ef-b044-37c9020ac377"
      },
      "cell_type": "code",
      "source": [
        "# \\ (pipe) joga o conteudo da primeira selecao para o segundo filtro\n",
        "outliers = iris[(iris['sepal width'] > 4) | (iris['sepal width'] < 2.1)]\n",
        "print('outliers')\n",
        "outliers"
      ],
      "execution_count": 45,
      "outputs": [
        {
          "output_type": "stream",
          "text": [
            "outliers\n"
          ],
          "name": "stdout"
        },
        {
          "output_type": "execute_result",
          "data": {
            "text/html": [
              "<div>\n",
              "<style scoped>\n",
              "    .dataframe tbody tr th:only-of-type {\n",
              "        vertical-align: middle;\n",
              "    }\n",
              "\n",
              "    .dataframe tbody tr th {\n",
              "        vertical-align: top;\n",
              "    }\n",
              "\n",
              "    .dataframe thead th {\n",
              "        text-align: right;\n",
              "    }\n",
              "</style>\n",
              "<table border=\"1\" class=\"dataframe\">\n",
              "  <thead>\n",
              "    <tr style=\"text-align: right;\">\n",
              "      <th></th>\n",
              "      <th>sepal length</th>\n",
              "      <th>sepal width</th>\n",
              "      <th>petal length</th>\n",
              "      <th>petal width</th>\n",
              "      <th>class</th>\n",
              "    </tr>\n",
              "  </thead>\n",
              "  <tbody>\n",
              "    <tr>\n",
              "      <th>15</th>\n",
              "      <td>5.7</td>\n",
              "      <td>4.4</td>\n",
              "      <td>1.5</td>\n",
              "      <td>0.4</td>\n",
              "      <td>Iris-setosa</td>\n",
              "    </tr>\n",
              "    <tr>\n",
              "      <th>32</th>\n",
              "      <td>5.2</td>\n",
              "      <td>4.1</td>\n",
              "      <td>1.5</td>\n",
              "      <td>0.1</td>\n",
              "      <td>Iris-setosa</td>\n",
              "    </tr>\n",
              "    <tr>\n",
              "      <th>33</th>\n",
              "      <td>5.5</td>\n",
              "      <td>4.2</td>\n",
              "      <td>1.4</td>\n",
              "      <td>0.2</td>\n",
              "      <td>Iris-setosa</td>\n",
              "    </tr>\n",
              "    <tr>\n",
              "      <th>60</th>\n",
              "      <td>5.0</td>\n",
              "      <td>2.0</td>\n",
              "      <td>3.5</td>\n",
              "      <td>1.0</td>\n",
              "      <td>Iris-versicolor</td>\n",
              "    </tr>\n",
              "  </tbody>\n",
              "</table>\n",
              "</div>"
            ],
            "text/plain": [
              "    sepal length  sepal width  petal length  petal width            class\n",
              "15           5.7          4.4           1.5          0.4      Iris-setosa\n",
              "32           5.2          4.1           1.5          0.1      Iris-setosa\n",
              "33           5.5          4.2           1.4          0.2      Iris-setosa\n",
              "60           5.0          2.0           3.5          1.0  Iris-versicolor"
            ]
          },
          "metadata": {
            "tags": []
          },
          "execution_count": 45
        }
      ]
    },
    {
      "metadata": {
        "id": "tL8iwxWZ7XZa",
        "colab_type": "text"
      },
      "cell_type": "markdown",
      "source": [
        "# Python Outlier Detection\n",
        "\n",
        "A Python Toolbox for Scalable Outlier Detection (Anomaly Detection) \n",
        "\n",
        "http://pyod.readthedocs.io\n",
        "\n",
        "ou\n",
        "\n",
        "https://github.com/yzhao062/pyod\n",
        "\n",
        "![Alt text](https://raw.githubusercontent.com/yzhao062/pyod/master/examples/ALL.png \"Python Outlier Detection Library\")"
      ]
    },
    {
      "metadata": {
        "id": "EA5n-wjK8Ulc",
        "colab_type": "text"
      },
      "cell_type": "markdown",
      "source": [
        "# Install PyOD Python Module"
      ]
    },
    {
      "metadata": {
        "id": "ouW7kFcb78bF",
        "colab_type": "code",
        "colab": {
          "base_uri": "https://localhost:8080/",
          "height": 394
        },
        "outputId": "e2588c58-3920-4c1c-c2ce-628424561970"
      },
      "cell_type": "code",
      "source": [
        "!pip install pyod"
      ],
      "execution_count": 47,
      "outputs": [
        {
          "output_type": "stream",
          "text": [
            "Collecting pyod\n",
            "\u001b[?25l  Downloading https://files.pythonhosted.org/packages/6e/43/58619a5f5e29fc28642fbd381b465b2f48d97da2b1a0aba3052d110b2232/pyod-0.6.8.tar.gz (73kB)\n",
            "\u001b[K    100% |████████████████████████████████| 81kB 3.1MB/s \n",
            "\u001b[?25hRequirement already satisfied: matplotlib in /usr/local/lib/python3.6/dist-packages (from pyod) (3.0.3)\n",
            "Requirement already satisfied: numpy>=1.13 in /usr/local/lib/python3.6/dist-packages (from pyod) (1.14.6)\n",
            "Requirement already satisfied: numba>=0.35 in /usr/local/lib/python3.6/dist-packages (from pyod) (0.40.1)\n",
            "Requirement already satisfied: scipy>=0.19.1 in /usr/local/lib/python3.6/dist-packages (from pyod) (1.1.0)\n",
            "Requirement already satisfied: scikit_learn>=0.19.1 in /usr/local/lib/python3.6/dist-packages (from pyod) (0.20.3)\n",
            "Requirement already satisfied: cycler>=0.10 in /usr/local/lib/python3.6/dist-packages (from matplotlib->pyod) (0.10.0)\n",
            "Requirement already satisfied: pyparsing!=2.0.4,!=2.1.2,!=2.1.6,>=2.0.1 in /usr/local/lib/python3.6/dist-packages (from matplotlib->pyod) (2.3.1)\n",
            "Requirement already satisfied: kiwisolver>=1.0.1 in /usr/local/lib/python3.6/dist-packages (from matplotlib->pyod) (1.0.1)\n",
            "Requirement already satisfied: python-dateutil>=2.1 in /usr/local/lib/python3.6/dist-packages (from matplotlib->pyod) (2.5.3)\n",
            "Requirement already satisfied: llvmlite>=0.25.0dev0 in /usr/local/lib/python3.6/dist-packages (from numba>=0.35->pyod) (0.28.0)\n",
            "Requirement already satisfied: six in /usr/local/lib/python3.6/dist-packages (from cycler>=0.10->matplotlib->pyod) (1.11.0)\n",
            "Requirement already satisfied: setuptools in /usr/local/lib/python3.6/dist-packages (from kiwisolver>=1.0.1->matplotlib->pyod) (40.9.0)\n",
            "Building wheels for collected packages: pyod\n",
            "  Building wheel for pyod (setup.py) ... \u001b[?25ldone\n",
            "\u001b[?25h  Stored in directory: /root/.cache/pip/wheels/af/5b/a8/db41636737f746250b4134e9a12a95aa24feef4ecc3e871b0b\n",
            "Successfully built pyod\n",
            "Installing collected packages: pyod\n",
            "Successfully installed pyod-0.6.8\n"
          ],
          "name": "stdout"
        }
      ]
    },
    {
      "metadata": {
        "id": "MvhuVvgN8bzc",
        "colab_type": "text"
      },
      "cell_type": "markdown",
      "source": [
        "# Python: PyOD Outlier Detection"
      ]
    },
    {
      "metadata": {
        "id": "e9eXP0CI8ixO",
        "colab_type": "code",
        "colab": {
          "base_uri": "https://localhost:8080/",
          "height": 207
        },
        "outputId": "2358e634-d9ec-446c-a7c1-df1705f02e9b"
      },
      "cell_type": "code",
      "source": [
        "from pyod.models.knn import KNN\n",
        "\n",
        "sepal_width = iris.iloc[:, 1]\n",
        "# reshape para adicionar uma coluna\n",
        "sepal_width = sepal_width.reshape(-1, 1)\n",
        "\n",
        "print('sepal_width=')\n",
        "print(sepal_width[:5])\n",
        "\n",
        "detector = KNN()\n",
        "detector.fit(sepal_width)\n",
        "\n",
        "previsoes_outliers = detector.labels_\n",
        "\n",
        "print('outliers com saida = 1')\n",
        "print(previsoes_outliers[:15])"
      ],
      "execution_count": 58,
      "outputs": [
        {
          "output_type": "stream",
          "text": [
            "sepal_width=\n",
            "[[3.5]\n",
            " [3. ]\n",
            " [3.2]\n",
            " [3.1]\n",
            " [3.6]]\n",
            "outliers com saida = 1\n",
            "[0 0 0 0 0 0 0 0 0 0 0 0 0 0 1]\n"
          ],
          "name": "stdout"
        },
        {
          "output_type": "stream",
          "text": [
            "/usr/local/lib/python3.6/dist-packages/ipykernel_launcher.py:5: FutureWarning: reshape is deprecated and will raise in a subsequent release. Please use .values.reshape(...) instead\n",
            "  \"\"\"\n"
          ],
          "name": "stderr"
        }
      ]
    },
    {
      "metadata": {
        "id": "prjB3BQB9wYv",
        "colab_type": "text"
      },
      "cell_type": "markdown",
      "source": [
        "# Quiz: Estatística III\n",
        "\n",
        "## Question 1:\n",
        "\n",
        "Marque a opção que não faz parte dos objetivos da analise de dados exploratória\n",
        "\n",
        "(R) Prever o valor de ações na bolsa de valores\n",
        "\n",
        "\n",
        "## Question 3:\n",
        "\n",
        "Na imagem abaixo, quantas anomalias inferiores foram encontradas?\n",
        "\n",
        "![Alt text](https://github.com/ronivaldo/udemy-curso-cientista_dados/raw/master/resources/outlier_boxplot.png \"Outlier Boxplot\")\n",
        "\n",
        "(R) 1\n",
        "\n",
        "\n",
        "## Question 5:\n",
        "\n",
        "Quando devemos utilizar a analise de variância (Anova) em vez de um Teste T para analisar a variação de médias?\n",
        "\n",
        "(R) Quando temos mais de dois grupos"
      ]
    },
    {
      "metadata": {
        "id": "kl6XDouS9_bj",
        "colab_type": "code",
        "colab": {
          "base_uri": "https://localhost:8080/",
          "height": 289
        },
        "outputId": "3096ed7c-c54c-428c-deb4-00877be174f4"
      },
      "cell_type": "code",
      "source": [
        "quest = \"\"\"\n",
        "Question 2:\n",
        "\n",
        "Em média ocorrem 10 mortes por mês em um hospital.\n",
        "\n",
        "Qual a probabilidade de, em um determinado mês, ocorrerem 12 mortes?\n",
        "\"\"\"\n",
        "\n",
        "media = 10\n",
        "x = 12\n",
        "probabilidade = poisson.pmf(x, media)\n",
        "print(quest)\n",
        "print('a probabilidade eh {}'.format(probabilidade))\n",
        "\n",
        "\n",
        "quest = \"\"\"\n",
        "Question 4:\n",
        "Você precisa estudar o comportamento de homens e mulheres com relação a jogo de azar.\n",
        "\n",
        "Você faz uma pesquisa e tabula os seguintes resultados, para fazer um teste de qui quadrado.\n",
        "\n",
        "Qual o valor de p obtido com a tabulação destes dados?\n",
        "\n",
        "    name       - joga - nao joga\n",
        "1    Masculino    41       34\n",
        "2    Feminino     18       7 \n",
        "\n",
        "\"\"\"\n",
        "\n",
        "dados = np.array([[41, 34], [18, 7]])\n",
        "\n",
        "\n",
        "import numpy as np\n",
        "from scipy.stats import chi2_contingency\n",
        "\n",
        "print('tabela dados=')\n",
        "print(dados)\n",
        "\n",
        "chi2, p, dof, ex = chi2_contingency(dados)\n",
        "\n",
        "print('o valor de p={}'.format(p))\n",
        "\n",
        "print('tabela esperada')\n",
        "\n",
        "print('As frequências esperadas, com base nas somas marginais da tabela.=')\n",
        "print(ex)"
      ],
      "execution_count": 61,
      "outputs": [
        {
          "output_type": "stream",
          "text": [
            "\n",
            "Question 2:\n",
            "\n",
            "Em média ocorrem 10 mortes por mês em um hospital.\n",
            "\n",
            "Qual a probabilidade de, em um determinado mês, ocorrerem 12 mortes?\n",
            "\n",
            "a probabilidade eh 0.09478033009176803\n",
            "tabela dados=\n",
            "[[41 34]\n",
            " [18  7]]\n",
            "o valor de p=0.196613097114222\n",
            "tabela esperada\n",
            "As frequências esperadas, com base nas somas marginais da tabela.=\n",
            "[[44.25 30.75]\n",
            " [14.75 10.25]]\n"
          ],
          "name": "stdout"
        }
      ]
    }
  ]
}