{
  "nbformat": 4,
  "nbformat_minor": 0,
  "metadata": {
    "colab": {
      "name": "03_Estatistica_III.ipynb",
      "version": "0.3.2",
      "provenance": [],
      "collapsed_sections": []
    },
    "kernelspec": {
      "name": "python3",
      "display_name": "Python 3"
    }
  },
  "cells": [
    {
      "metadata": {
        "id": "zjMT2M6J8Oj8",
        "colab_type": "text"
      },
      "cell_type": "markdown",
      "source": [
        "# Estatistica III"
      ]
    },
    {
      "metadata": {
        "id": "YoTM8AAC7b3F",
        "colab_type": "text"
      },
      "cell_type": "markdown",
      "source": [
        "# Dados\n",
        "\n",
        "Dados localizados na pasta: D:\\_SIA_\\estudo\\udemy\\cientista-de-dados\\02-estatistica-03\n",
        "\n",
        "Arquivos para upload:\n",
        "- 66.Dados.zip\n",
        "- Disponível também através do link https://github.com/ronivaldo/udemy-curso-cientista_dados/raw/master/data/66.Dados.zip\n",
        "\n",
        "Conteúdo do arquivo:\n",
        "- anova.csv               \n",
        "- iris.csv"
      ]
    },
    {
      "metadata": {
        "id": "PELMKe9P7R7R",
        "colab_type": "code",
        "outputId": "37e42d53-f44a-441d-b9ea-a50e86b804aa",
        "colab": {
          "base_uri": "https://localhost:8080/",
          "height": 360
        }
      },
      "cell_type": "code",
      "source": [
        "import os  \n",
        "\n",
        "# verifica se upload ja foi realizado\n",
        "if not os.path.isfile('./66.Dados.zip'):\n",
        "  # obtem o arquivo do Github\n",
        "  !wget https://github.com/ronivaldo/udemy-curso-cientista_dados/raw/master/data/66.Dados.zip\n",
        "\n",
        "# verifica se upload ja foi realizado\n",
        "if not os.path.isfile('./cars.csv'):\n",
        "  # descompacta o arquivo 66.Dados.zip\n",
        "  !unzip -o 66.Dados.zip"
      ],
      "execution_count": 1,
      "outputs": [
        {
          "output_type": "stream",
          "text": [
            "--2019-04-08 17:13:09--  https://github.com/ronivaldo/udemy-curso-cientista_dados/raw/master/data/66.Dados.zip\n",
            "Resolving github.com (github.com)... 192.30.253.112, 192.30.253.113\n",
            "Connecting to github.com (github.com)|192.30.253.112|:443... connected.\n",
            "HTTP request sent, awaiting response... 302 Found\n",
            "Location: https://raw.githubusercontent.com/ronivaldo/udemy-curso-cientista_dados/master/data/66.Dados.zip [following]\n",
            "--2019-04-08 17:13:14--  https://raw.githubusercontent.com/ronivaldo/udemy-curso-cientista_dados/master/data/66.Dados.zip\n",
            "Resolving raw.githubusercontent.com (raw.githubusercontent.com)... 151.101.0.133, 151.101.64.133, 151.101.128.133, ...\n",
            "Connecting to raw.githubusercontent.com (raw.githubusercontent.com)|151.101.0.133|:443... connected.\n",
            "HTTP request sent, awaiting response... 200 OK\n",
            "Length: 1181 (1.2K) [application/zip]\n",
            "Saving to: ‘66.Dados.zip’\n",
            "\n",
            "66.Dados.zip        100%[===================>]   1.15K  --.-KB/s    in 0s      \n",
            "\n",
            "2019-04-08 17:13:14 (162 MB/s) - ‘66.Dados.zip’ saved [1181/1181]\n",
            "\n",
            "Archive:  66.Dados.zip\n",
            "  inflating: anova.csv               \n",
            "  inflating: iris.csv                \n"
          ],
          "name": "stdout"
        }
      ]
    },
    {
      "metadata": {
        "id": "fKD8B-QR_C5z",
        "colab_type": "text"
      },
      "cell_type": "markdown",
      "source": [
        "# Analise Exploratoria de Dados - EDA\n",
        "\n",
        "Livro de John Wilder Turkey - 1977\n",
        "\n",
        "Busca obter informações ocultas sobre os dados, antes mesmo de começar a criar o modelo de Machine Learning\n",
        "\n",
        "Informações:\n",
        "- Variação\n",
        "- Anomalias\n",
        "- Distribuição\n",
        "- Tendências\n",
        "- Padrões\n",
        "- Relações\n",
        "\n",
        "Iniciar uma análise de dados pela EDA, só então buscar a solução para o problema.\n",
        "\n",
        "## DBA vs Gráficos\n",
        "\n",
        "Não são a mesma coisa, porém EDA é altamente baseado na produção de gráficos.\n",
        "\n",
        "Gráficos de Dispersão, box plots, histogramas etc\n",
        "\n",
        "\n",
        "## Aplicação\n",
        "\n",
        "EDA é utilizada em todas as áreas:\n",
        "- Estatística I, II e III\n",
        "- Series Temporais\n",
        "- Machine Learning\n",
        "- AI\n",
        "- Grafos\n",
        "- Mineração\n",
        "- Visualização\n",
        "\n",
        "\n",
        "\n"
      ]
    },
    {
      "metadata": {
        "id": "ucc8Vaf3A5A-",
        "colab_type": "text"
      },
      "cell_type": "markdown",
      "source": [
        "# Distribuição de Poisson - Parte I\n",
        "\n",
        "Mede a probabilidade de ocorrência de eventos em **intervalo de tempo**, em de um certo número de experimentos.\n",
        "\n",
        "Os eventos a cada intervalo devem ser independentes.\n",
        "\n",
        "Existema tabelas de probabilidade.\n",
        "\n",
        "Possibilidade:\n",
        "- P(X=x) - ocorrência exata\n",
        "- P(X<x) - intervalo\n",
        "- P(X>x) - intervalo\n",
        "\n",
        "P(X=x) =e elevado a - lamba * (lambda elevado a x / x fatorial)\n",
        "\n",
        "x = número de eventos que estão sendo calculados\n",
        "\n",
        "lambda = número médio de eventos que ocorre por intervalo\n",
        "\n",
        "e = constante = 2.71828\n",
        "\n"
      ]
    },
    {
      "metadata": {
        "id": "qXR4bjnOB5UP",
        "colab_type": "text"
      },
      "cell_type": "markdown",
      "source": [
        "# Distribuição de Poisson - Parte II\n",
        "\n",
        "## Exemplo 1\n",
        "\n",
        "O número de acidentes de carros que ocorrem por dia é de 2 acidentes. Qual a probabilidade de ocorrerem 3 em um determinado dia?\n",
        "\n",
        "media = 2\n",
        "x = 3\n",
        "\n",
        "p(X=3) = (2.71828 elevadado a -2) * 2 elevado a 3/ 3!\n",
        "\n",
        "P(X=3)= 0.1804\n",
        "\n",
        "\n",
        "## Exemplo 2\n",
        "\n",
        "O número de acidentes de carros que ocorrem por dia é de 2 acidentes. Qual a probabilidade de ocorrerem 3 ou menos em um determinado dia?\n",
        "\n",
        "P(X<=3) = P(X=0) + P(X=1) + P(X=2) + P(X=3)\n",
        "\n",
        "P(X<=3) = 0.13 + 027 + 0.27 + 0.18\n",
        "\n",
        "P(X<=3) = 0.85\n",
        "\n",
        "\n",
        "## Exemplo 3\n",
        "\n",
        "O número de acidentes de carros que ocorrem por dia é de 2 acidentes. Qual a probabilidade de ocorrerem mais de 3 em um determinado dia?\n",
        "\n",
        "P(X>3) = 1 - P(X<=3)\n",
        "\n",
        "P(X<=3) = 0.85\n",
        "\n",
        "P(X>3) = 1 - 0.85 = 0.14\n",
        "\n",
        "\n",
        "\n",
        "\n",
        "\n"
      ]
    },
    {
      "metadata": {
        "id": "OqP32saJ-pGR",
        "colab_type": "text"
      },
      "cell_type": "markdown",
      "source": [
        "# Python: Distribuição de Poisson"
      ]
    },
    {
      "metadata": {
        "id": "a9muAmsh-rPS",
        "colab_type": "code",
        "colab": {
          "base_uri": "https://localhost:8080/",
          "height": 394
        },
        "outputId": "6a39aa02-088f-48ca-934c-b4446225bd11"
      },
      "cell_type": "code",
      "source": [
        "#70. Python: Distribuição de Poisson\n",
        "\n",
        "from scipy.stats import poisson\n",
        "\n",
        "\n",
        "\n",
        "quest = \"\"\"\n",
        "O número de acidentes de carros que ocorrem por dia é de 2 acidentes. Qual a probabilidade de ocorrerem 3 em um determinado dia?\n",
        "\n",
        "media = 2\n",
        "x = 3\n",
        "\"\"\"\n",
        "\n",
        "media = 2\n",
        "x = 3\n",
        "probabilidade = poisson.pmf(x, media)\n",
        "print(quest)\n",
        "print('a probabilidade eh {}'.format(probabilidade))\n",
        "\n",
        "\n",
        "\n",
        "quest = \"\"\"\n",
        "O número de acidentes de carros que ocorrem por dia é de 2 acidentes. Qual a probabilidade de ocorrerem 3 ou menos em um determinado dia?\n",
        "\n",
        "media = 2\n",
        "x = 3\n",
        "\"\"\"\n",
        "\n",
        "media = 2\n",
        "x = 3\n",
        "probabilidade = poisson.cdf(x, media)\n",
        "print(quest)\n",
        "print('a probabilidade eh {}'.format(probabilidade))\n",
        "\n",
        "\n",
        "\n",
        "quest = \"\"\"\n",
        "O número de acidentes de carros que ocorrem por dia é de 2 acidentes. Qual a probabilidade de ocorrerem mais de 3 em um determinado dia?\n",
        "\n",
        "media = 2\n",
        "x = 3\n",
        "\"\"\"\n",
        "\n",
        "media = 2\n",
        "x = 3\n",
        "probabilidade = poisson.sf(x, media)\n",
        "print(quest)\n",
        "print('a probabilidade eh {}'.format(probabilidade))"
      ],
      "execution_count": 8,
      "outputs": [
        {
          "output_type": "stream",
          "text": [
            "\n",
            "O número de acidentes de carros que ocorrem por dia é de 2 acidentes. Qual a probabilidade de ocorrerem 3 em um determinado dia?\n",
            "\n",
            "media = 2\n",
            "x = 3\n",
            "\n",
            "a probabilidade eh 0.18044704431548356\n",
            "\n",
            "O número de acidentes de carros que ocorrem por dia é de 2 acidentes. Qual a probabilidade de ocorrerem 3 ou menos em um determinado dia?\n",
            "\n",
            "media = 2\n",
            "x = 3\n",
            "\n",
            "a probabilidade eh 0.857123460498547\n",
            "\n",
            "O número de acidentes de carros que ocorrem por dia é de 2 acidentes. Qual a probabilidade de ocorrerem mais de 3 em um determinado dia?\n",
            "\n",
            "media = 2\n",
            "x = 3\n",
            "\n",
            "a probabilidade eh 0.14287653950145296\n"
          ],
          "name": "stdout"
        }
      ]
    }
  ]
}