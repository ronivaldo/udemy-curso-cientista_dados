{
  "nbformat": 4,
  "nbformat_minor": 0,
  "metadata": {
    "colab": {
      "name": "03_Estatistica_III.ipynb",
      "version": "0.3.2",
      "provenance": [],
      "collapsed_sections": [],
      "toc_visible": true
    },
    "kernelspec": {
      "name": "python3",
      "display_name": "Python 3"
    }
  },
  "cells": [
    {
      "metadata": {
        "id": "zjMT2M6J8Oj8",
        "colab_type": "text"
      },
      "cell_type": "markdown",
      "source": [
        "# Estatistica III"
      ]
    },
    {
      "metadata": {
        "id": "YoTM8AAC7b3F",
        "colab_type": "text"
      },
      "cell_type": "markdown",
      "source": [
        "# Dados\n",
        "\n",
        "Dados localizados na pasta: D:\\_SIA_\\estudo\\udemy\\cientista-de-dados\\02-estatistica-03\n",
        "\n",
        "Arquivos para upload:\n",
        "- 66.Dados.zip\n",
        "- Disponível também através do link https://github.com/ronivaldo/udemy-curso-cientista_dados/raw/master/data/66.Dados.zip\n",
        "\n",
        "Conteúdo do arquivo:\n",
        "- anova.csv               \n",
        "- iris.csv"
      ]
    },
    {
      "metadata": {
        "id": "PELMKe9P7R7R",
        "colab_type": "code",
        "colab": {
          "base_uri": "https://localhost:8080/",
          "height": 360
        },
        "outputId": "17f5b7da-d999-4c90-fabf-df9b6c471c45"
      },
      "cell_type": "code",
      "source": [
        "import os  \n",
        "\n",
        "# verifica se upload ja foi realizado\n",
        "if not os.path.isfile('./66.Dados.zip'):\n",
        "  # obtem o arquivo do Github\n",
        "  !wget https://github.com/ronivaldo/udemy-curso-cientista_dados/raw/master/data/66.Dados.zip\n",
        "\n",
        "# verifica se upload ja foi realizado\n",
        "if not os.path.isfile('./cars.csv'):\n",
        "  # descompacta o arquivo 66.Dados.zip\n",
        "  !unzip -o 66.Dados.zip"
      ],
      "execution_count": 2,
      "outputs": [
        {
          "output_type": "stream",
          "text": [
            "--2019-04-05 19:18:18--  https://github.com/ronivaldo/udemy-curso-cientista_dados/raw/master/data/66.Dados.zip\n",
            "Resolving github.com (github.com)... 192.30.253.112, 192.30.253.113\n",
            "Connecting to github.com (github.com)|192.30.253.112|:443... connected.\n",
            "HTTP request sent, awaiting response... 302 Found\n",
            "Location: https://raw.githubusercontent.com/ronivaldo/udemy-curso-cientista_dados/master/data/66.Dados.zip [following]\n",
            "--2019-04-05 19:18:19--  https://raw.githubusercontent.com/ronivaldo/udemy-curso-cientista_dados/master/data/66.Dados.zip\n",
            "Resolving raw.githubusercontent.com (raw.githubusercontent.com)... 151.101.0.133, 151.101.64.133, 151.101.128.133, ...\n",
            "Connecting to raw.githubusercontent.com (raw.githubusercontent.com)|151.101.0.133|:443... connected.\n",
            "HTTP request sent, awaiting response... 200 OK\n",
            "Length: 1181 (1.2K) [application/zip]\n",
            "Saving to: ‘66.Dados.zip’\n",
            "\n",
            "\r66.Dados.zip          0%[                    ]       0  --.-KB/s               \r66.Dados.zip        100%[===================>]   1.15K  --.-KB/s    in 0s      \n",
            "\n",
            "2019-04-05 19:18:19 (141 MB/s) - ‘66.Dados.zip’ saved [1181/1181]\n",
            "\n",
            "Archive:  66.Dados.zip\n",
            "  inflating: anova.csv               \n",
            "  inflating: iris.csv                \n"
          ],
          "name": "stdout"
        }
      ]
    }
  ]
}