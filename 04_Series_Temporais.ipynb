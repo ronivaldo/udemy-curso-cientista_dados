{
  "nbformat": 4,
  "nbformat_minor": 0,
  "metadata": {
    "colab": {
      "name": "04_Series_Temporais.ipynb",
      "version": "0.3.2",
      "provenance": [],
      "collapsed_sections": [],
      "toc_visible": true
    },
    "kernelspec": {
      "name": "python3",
      "display_name": "Python 3"
    }
  },
  "cells": [
    {
      "metadata": {
        "id": "h0BC9qSqHxjV",
        "colab_type": "text"
      },
      "cell_type": "markdown",
      "source": [
        "# Séries Temporais\n",
        "\n",
        "## Dados\n",
        "Dados localizados na pasta: D:_SIA_\\estudo\\udemy\\cientista-de-dados\\02-estatistica-04\n",
        "\n",
        "Arquivos para upload:\n",
        "- 81.Dados.zip\n",
        "- Disponível também através do link https://github.com/ronivaldo/udemy-curso-cientista_dados/raw/master/data/81.Dados.zip\n",
        "\n",
        "Conteúdo do arquivo:\n",
        "- AirPassengers.csv"
      ]
    },
    {
      "metadata": {
        "id": "PWMoyKA8HxTF",
        "colab_type": "code",
        "outputId": "cbd4b3e4-2684-4dca-86be-11495c13c68a",
        "colab": {
          "base_uri": "https://localhost:8080/",
          "height": 323
        }
      },
      "cell_type": "code",
      "source": [
        "import os  \n",
        "\n",
        "# verifica se upload ja foi realizado\n",
        "if not os.path.isfile('./81.Dados.zip'):\n",
        "  # obtem o arquivo do Github\n",
        "  !wget https://github.com/ronivaldo/udemy-curso-cientista_dados/raw/master/data/81.Dados.zip\n",
        "\n",
        "# verifica se upload ja foi realizado\n",
        "if not os.path.isfile('./AirPassengers.csv'):\n",
        "  # descompacta o arquivo 66.Dados.zip\n",
        "  !unzip -o 81.Dados.zip"
      ],
      "execution_count": 0,
      "outputs": [
        {
          "output_type": "stream",
          "text": [
            "--2019-04-09 12:44:49--  https://github.com/ronivaldo/udemy-curso-cientista_dados/raw/master/data/81.Dados.zip\n",
            "Resolving github.com (github.com)... 192.30.253.113, 192.30.253.112\n",
            "Connecting to github.com (github.com)|192.30.253.113|:443... connected.\n",
            "HTTP request sent, awaiting response... 302 Found\n",
            "Location: https://raw.githubusercontent.com/ronivaldo/udemy-curso-cientista_dados/master/data/81.Dados.zip [following]\n",
            "--2019-04-09 12:44:49--  https://raw.githubusercontent.com/ronivaldo/udemy-curso-cientista_dados/master/data/81.Dados.zip\n",
            "Resolving raw.githubusercontent.com (raw.githubusercontent.com)... 151.101.0.133, 151.101.64.133, 151.101.128.133, ...\n",
            "Connecting to raw.githubusercontent.com (raw.githubusercontent.com)|151.101.0.133|:443... connected.\n",
            "HTTP request sent, awaiting response... 200 OK\n",
            "Length: 724 [application/zip]\n",
            "Saving to: ‘81.Dados.zip’\n",
            "\n",
            "\r81.Dados.zip          0%[                    ]       0  --.-KB/s               \r81.Dados.zip        100%[===================>]     724  --.-KB/s    in 0s      \n",
            "\n",
            "2019-04-09 12:44:49 (59.3 MB/s) - ‘81.Dados.zip’ saved [724/724]\n",
            "\n",
            "Archive:  81.Dados.zip\n",
            "  inflating: AirPassengers.csv       \n"
          ],
          "name": "stdout"
        }
      ]
    },
    {
      "metadata": {
        "id": "PddIGsg-Iaps",
        "colab_type": "text"
      },
      "cell_type": "markdown",
      "source": [
        "# Séries Temporais - Introdução\n",
        "\n",
        "## Análise de Séries Temporais\n",
        "\n",
        "Estudar o comportamento de uma variável contínua ao longo do tempo\n",
        "\n",
        "O Intervalo de coleta é regular\n",
        "\n",
        "O Intervalo deve ser sempre o mesmo.\n",
        "- Único para toda a série\n",
        "- Ex: milissegundos, dias, horas etc\n",
        "\n",
        "## Séries Temporais\n",
        "\n",
        "Uma série temporal é uma mesma mesma variável\n",
        "\n",
        "Deve estar relacionada a um intervalo de tempo\n",
        "\n",
        "Dependência (ordem) no tempo\n",
        "\n",
        "Não é possível coletar mais de uma amostra a cada intervalo\n",
        "\n",
        "Supõe que e"
      ]
    }
  ]
}